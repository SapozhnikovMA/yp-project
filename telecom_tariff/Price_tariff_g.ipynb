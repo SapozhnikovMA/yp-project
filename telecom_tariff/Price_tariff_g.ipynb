{
  "nbformat": 4,
  "nbformat_minor": 0,
  "metadata": {
    "kernelspec": {
      "display_name": "Python 3",
      "language": "python",
      "name": "python3"
    },
    "language_info": {
      "codemirror_mode": {
        "name": "ipython",
        "version": 3
      },
      "file_extension": ".py",
      "mimetype": "text/x-python",
      "name": "python",
      "nbconvert_exporter": "python",
      "pygments_lexer": "ipython3",
      "version": "3.7.8"
    },
    "toc": {
      "base_numbering": 1,
      "nav_menu": {},
      "number_sections": true,
      "sideBar": true,
      "skip_h1_title": true,
      "title_cell": "Table of Contents",
      "title_sidebar": "Contents",
      "toc_cell": false,
      "toc_position": {},
      "toc_section_display": true,
      "toc_window_display": false
    },
    "colab": {
      "name": "Price_tariff.ipynb",
      "provenance": [],
      "collapsed_sections": [
        "RL39CyZVPcIs"
      ],
      "toc_visible": true
    }
  },
  "cells": [
    {
      "cell_type": "markdown",
      "metadata": {
        "id": "BC9HmmmCPcIb"
      },
      "source": [
        "### Описание проекта\n",
        "**Цель:**\n",
        "Необходимо сделать предварительный анализ тарифов на небольшой выборке клиентов(500 пользователей «Мегалайна») Нужно проанализировать поведение клиентов и сделать вывод — какой тариф лучше."
      ]
    },
    {
      "cell_type": "markdown",
      "metadata": {
        "id": "bgeku9SVPcIc"
      },
      "source": [
        "**Описание тарифов**\n",
        "\n",
        "<b>*Тариф «Смарт»:*</b>\n",
        "Ежемесячная плата: 550 рублей</b>\n",
        "Включено 500 минут разговора, 50 сообщений и 15 Гб интернет-трафика\n",
        "Стоимость услуг сверх тарифного пакета:\n",
        "минута разговора: 3 рубля\n",
        "сообщение: 3 рубля\n",
        "1 Гб интернет-трафика: 200 рублей\n",
        "\n",
        "*Тариф «Ультра»*\n",
        "\n",
        "Ежемесячная плата: 1950 рублей\n",
        "\n",
        "Включено 3000 минут разговора, 1000 сообщений и 30 Гб интернет-трафика\n",
        "\n",
        "Стоимость услуг сверх тарифного пакета:\n",
        "минута разговора: 1 рубль\n",
        "сообщение: 1 рубль\n",
        "1 Гб интернет-трафика: 150 рублей\n",
        "\n",
        "«Мегалайн» всегда округляет вверх значения минут и мегабайтов. Если пользователь проговорил всего 1 секунду, в тарифе засчитывается целая минута."
      ]
    },
    {
      "cell_type": "markdown",
      "metadata": {
        "id": "msqZATLEPcId"
      },
      "source": [
        "## Шаг 1.  Изучение и знакомство с данными<a id=\"start\"></a>"
      ]
    },
    {
      "cell_type": "code",
      "metadata": {
        "id": "CnUQP_jyQWpp"
      },
      "source": [
        "# Загрузим библиотеки\n",
        "import pandas as pd\n",
        "import numpy as np\n",
        "import matplotlib.pyplot as plt"
      ],
      "execution_count": 2,
      "outputs": []
    },
    {
      "cell_type": "code",
      "metadata": {
        "colab": {
          "base_uri": "https://localhost:8080/"
        },
        "id": "P61ijsRUPcId",
        "outputId": "50f5956e-2b8a-4184-98b3-a3475ceb2fe8"
      },
      "source": [
        "# Загрузим данные\n",
        "calls = pd.read_csv('/content/calls.csv')\n",
        "internet = pd.read_csv('/content/internet.csv')\n",
        "msg = pd.read_csv('/content/messages.csv')\n",
        "trfs = pd.read_csv('/content/tariffs.csv')\n",
        "users = pd.read_csv('/content/users.csv')\n",
        "calls.info()\n",
        "internet.info()\n",
        "msg.info()\n",
        "trfs.info()\n",
        "users.info()"
      ],
      "execution_count": 4,
      "outputs": [
        {
          "output_type": "stream",
          "text": [
            "<class 'pandas.core.frame.DataFrame'>\n",
            "RangeIndex: 202607 entries, 0 to 202606\n",
            "Data columns (total 4 columns):\n",
            " #   Column     Non-Null Count   Dtype  \n",
            "---  ------     --------------   -----  \n",
            " 0   id         202607 non-null  object \n",
            " 1   call_date  202607 non-null  object \n",
            " 2   duration   202607 non-null  float64\n",
            " 3   user_id    202607 non-null  int64  \n",
            "dtypes: float64(1), int64(1), object(2)\n",
            "memory usage: 6.2+ MB\n",
            "<class 'pandas.core.frame.DataFrame'>\n",
            "RangeIndex: 149396 entries, 0 to 149395\n",
            "Data columns (total 5 columns):\n",
            " #   Column        Non-Null Count   Dtype  \n",
            "---  ------        --------------   -----  \n",
            " 0   Unnamed: 0    149396 non-null  int64  \n",
            " 1   id            149396 non-null  object \n",
            " 2   mb_used       149396 non-null  float64\n",
            " 3   session_date  149396 non-null  object \n",
            " 4   user_id       149396 non-null  int64  \n",
            "dtypes: float64(1), int64(2), object(2)\n",
            "memory usage: 5.7+ MB\n",
            "<class 'pandas.core.frame.DataFrame'>\n",
            "RangeIndex: 123036 entries, 0 to 123035\n",
            "Data columns (total 3 columns):\n",
            " #   Column        Non-Null Count   Dtype \n",
            "---  ------        --------------   ----- \n",
            " 0   id            123036 non-null  object\n",
            " 1   message_date  123036 non-null  object\n",
            " 2   user_id       123036 non-null  int64 \n",
            "dtypes: int64(1), object(2)\n",
            "memory usage: 2.8+ MB\n",
            "<class 'pandas.core.frame.DataFrame'>\n",
            "RangeIndex: 2 entries, 0 to 1\n",
            "Data columns (total 8 columns):\n",
            " #   Column                 Non-Null Count  Dtype \n",
            "---  ------                 --------------  ----- \n",
            " 0   messages_included      2 non-null      int64 \n",
            " 1   mb_per_month_included  2 non-null      int64 \n",
            " 2   minutes_included       2 non-null      int64 \n",
            " 3   rub_monthly_fee        2 non-null      int64 \n",
            " 4   rub_per_gb             2 non-null      int64 \n",
            " 5   rub_per_message        2 non-null      int64 \n",
            " 6   rub_per_minute         2 non-null      int64 \n",
            " 7   tariff_name            2 non-null      object\n",
            "dtypes: int64(7), object(1)\n",
            "memory usage: 256.0+ bytes\n",
            "<class 'pandas.core.frame.DataFrame'>\n",
            "RangeIndex: 500 entries, 0 to 499\n",
            "Data columns (total 8 columns):\n",
            " #   Column      Non-Null Count  Dtype \n",
            "---  ------      --------------  ----- \n",
            " 0   user_id     500 non-null    int64 \n",
            " 1   age         500 non-null    int64 \n",
            " 2   churn_date  38 non-null     object\n",
            " 3   city        500 non-null    object\n",
            " 4   first_name  500 non-null    object\n",
            " 5   last_name   500 non-null    object\n",
            " 6   reg_date    500 non-null    object\n",
            " 7   tariff      500 non-null    object\n",
            "dtypes: int64(2), object(6)\n",
            "memory usage: 31.4+ KB\n"
          ],
          "name": "stdout"
        }
      ]
    },
    {
      "cell_type": "code",
      "metadata": {
        "colab": {
          "base_uri": "https://localhost:8080/",
          "height": 800
        },
        "id": "_y7KyTFhPcIe",
        "outputId": "05e93513-7723-433f-80d2-35f2ab3c745c"
      },
      "source": [
        "display(calls.head())\n",
        "display(internet.head())\n",
        "display(msg.head())\n",
        "display(trfs.head())\n",
        "display(users.head())"
      ],
      "execution_count": 5,
      "outputs": [
        {
          "output_type": "display_data",
          "data": {
            "text/html": [
              "<div>\n",
              "<style scoped>\n",
              "    .dataframe tbody tr th:only-of-type {\n",
              "        vertical-align: middle;\n",
              "    }\n",
              "\n",
              "    .dataframe tbody tr th {\n",
              "        vertical-align: top;\n",
              "    }\n",
              "\n",
              "    .dataframe thead th {\n",
              "        text-align: right;\n",
              "    }\n",
              "</style>\n",
              "<table border=\"1\" class=\"dataframe\">\n",
              "  <thead>\n",
              "    <tr style=\"text-align: right;\">\n",
              "      <th></th>\n",
              "      <th>id</th>\n",
              "      <th>call_date</th>\n",
              "      <th>duration</th>\n",
              "      <th>user_id</th>\n",
              "    </tr>\n",
              "  </thead>\n",
              "  <tbody>\n",
              "    <tr>\n",
              "      <th>0</th>\n",
              "      <td>1000_0</td>\n",
              "      <td>2018-07-25</td>\n",
              "      <td>0.00</td>\n",
              "      <td>1000</td>\n",
              "    </tr>\n",
              "    <tr>\n",
              "      <th>1</th>\n",
              "      <td>1000_1</td>\n",
              "      <td>2018-08-17</td>\n",
              "      <td>0.00</td>\n",
              "      <td>1000</td>\n",
              "    </tr>\n",
              "    <tr>\n",
              "      <th>2</th>\n",
              "      <td>1000_2</td>\n",
              "      <td>2018-06-11</td>\n",
              "      <td>2.85</td>\n",
              "      <td>1000</td>\n",
              "    </tr>\n",
              "    <tr>\n",
              "      <th>3</th>\n",
              "      <td>1000_3</td>\n",
              "      <td>2018-09-21</td>\n",
              "      <td>13.80</td>\n",
              "      <td>1000</td>\n",
              "    </tr>\n",
              "    <tr>\n",
              "      <th>4</th>\n",
              "      <td>1000_4</td>\n",
              "      <td>2018-12-15</td>\n",
              "      <td>5.18</td>\n",
              "      <td>1000</td>\n",
              "    </tr>\n",
              "  </tbody>\n",
              "</table>\n",
              "</div>"
            ],
            "text/plain": [
              "       id   call_date  duration  user_id\n",
              "0  1000_0  2018-07-25      0.00     1000\n",
              "1  1000_1  2018-08-17      0.00     1000\n",
              "2  1000_2  2018-06-11      2.85     1000\n",
              "3  1000_3  2018-09-21     13.80     1000\n",
              "4  1000_4  2018-12-15      5.18     1000"
            ]
          },
          "metadata": {
            "tags": []
          }
        },
        {
          "output_type": "display_data",
          "data": {
            "text/html": [
              "<div>\n",
              "<style scoped>\n",
              "    .dataframe tbody tr th:only-of-type {\n",
              "        vertical-align: middle;\n",
              "    }\n",
              "\n",
              "    .dataframe tbody tr th {\n",
              "        vertical-align: top;\n",
              "    }\n",
              "\n",
              "    .dataframe thead th {\n",
              "        text-align: right;\n",
              "    }\n",
              "</style>\n",
              "<table border=\"1\" class=\"dataframe\">\n",
              "  <thead>\n",
              "    <tr style=\"text-align: right;\">\n",
              "      <th></th>\n",
              "      <th>Unnamed: 0</th>\n",
              "      <th>id</th>\n",
              "      <th>mb_used</th>\n",
              "      <th>session_date</th>\n",
              "      <th>user_id</th>\n",
              "    </tr>\n",
              "  </thead>\n",
              "  <tbody>\n",
              "    <tr>\n",
              "      <th>0</th>\n",
              "      <td>0</td>\n",
              "      <td>1000_0</td>\n",
              "      <td>112.95</td>\n",
              "      <td>2018-11-25</td>\n",
              "      <td>1000</td>\n",
              "    </tr>\n",
              "    <tr>\n",
              "      <th>1</th>\n",
              "      <td>1</td>\n",
              "      <td>1000_1</td>\n",
              "      <td>1052.81</td>\n",
              "      <td>2018-09-07</td>\n",
              "      <td>1000</td>\n",
              "    </tr>\n",
              "    <tr>\n",
              "      <th>2</th>\n",
              "      <td>2</td>\n",
              "      <td>1000_2</td>\n",
              "      <td>1197.26</td>\n",
              "      <td>2018-06-25</td>\n",
              "      <td>1000</td>\n",
              "    </tr>\n",
              "    <tr>\n",
              "      <th>3</th>\n",
              "      <td>3</td>\n",
              "      <td>1000_3</td>\n",
              "      <td>550.27</td>\n",
              "      <td>2018-08-22</td>\n",
              "      <td>1000</td>\n",
              "    </tr>\n",
              "    <tr>\n",
              "      <th>4</th>\n",
              "      <td>4</td>\n",
              "      <td>1000_4</td>\n",
              "      <td>302.56</td>\n",
              "      <td>2018-09-24</td>\n",
              "      <td>1000</td>\n",
              "    </tr>\n",
              "  </tbody>\n",
              "</table>\n",
              "</div>"
            ],
            "text/plain": [
              "   Unnamed: 0      id  mb_used session_date  user_id\n",
              "0           0  1000_0   112.95   2018-11-25     1000\n",
              "1           1  1000_1  1052.81   2018-09-07     1000\n",
              "2           2  1000_2  1197.26   2018-06-25     1000\n",
              "3           3  1000_3   550.27   2018-08-22     1000\n",
              "4           4  1000_4   302.56   2018-09-24     1000"
            ]
          },
          "metadata": {
            "tags": []
          }
        },
        {
          "output_type": "display_data",
          "data": {
            "text/html": [
              "<div>\n",
              "<style scoped>\n",
              "    .dataframe tbody tr th:only-of-type {\n",
              "        vertical-align: middle;\n",
              "    }\n",
              "\n",
              "    .dataframe tbody tr th {\n",
              "        vertical-align: top;\n",
              "    }\n",
              "\n",
              "    .dataframe thead th {\n",
              "        text-align: right;\n",
              "    }\n",
              "</style>\n",
              "<table border=\"1\" class=\"dataframe\">\n",
              "  <thead>\n",
              "    <tr style=\"text-align: right;\">\n",
              "      <th></th>\n",
              "      <th>id</th>\n",
              "      <th>message_date</th>\n",
              "      <th>user_id</th>\n",
              "    </tr>\n",
              "  </thead>\n",
              "  <tbody>\n",
              "    <tr>\n",
              "      <th>0</th>\n",
              "      <td>1000_0</td>\n",
              "      <td>2018-06-27</td>\n",
              "      <td>1000</td>\n",
              "    </tr>\n",
              "    <tr>\n",
              "      <th>1</th>\n",
              "      <td>1000_1</td>\n",
              "      <td>2018-10-08</td>\n",
              "      <td>1000</td>\n",
              "    </tr>\n",
              "    <tr>\n",
              "      <th>2</th>\n",
              "      <td>1000_2</td>\n",
              "      <td>2018-08-04</td>\n",
              "      <td>1000</td>\n",
              "    </tr>\n",
              "    <tr>\n",
              "      <th>3</th>\n",
              "      <td>1000_3</td>\n",
              "      <td>2018-06-16</td>\n",
              "      <td>1000</td>\n",
              "    </tr>\n",
              "    <tr>\n",
              "      <th>4</th>\n",
              "      <td>1000_4</td>\n",
              "      <td>2018-12-05</td>\n",
              "      <td>1000</td>\n",
              "    </tr>\n",
              "  </tbody>\n",
              "</table>\n",
              "</div>"
            ],
            "text/plain": [
              "       id message_date  user_id\n",
              "0  1000_0   2018-06-27     1000\n",
              "1  1000_1   2018-10-08     1000\n",
              "2  1000_2   2018-08-04     1000\n",
              "3  1000_3   2018-06-16     1000\n",
              "4  1000_4   2018-12-05     1000"
            ]
          },
          "metadata": {
            "tags": []
          }
        },
        {
          "output_type": "display_data",
          "data": {
            "text/html": [
              "<div>\n",
              "<style scoped>\n",
              "    .dataframe tbody tr th:only-of-type {\n",
              "        vertical-align: middle;\n",
              "    }\n",
              "\n",
              "    .dataframe tbody tr th {\n",
              "        vertical-align: top;\n",
              "    }\n",
              "\n",
              "    .dataframe thead th {\n",
              "        text-align: right;\n",
              "    }\n",
              "</style>\n",
              "<table border=\"1\" class=\"dataframe\">\n",
              "  <thead>\n",
              "    <tr style=\"text-align: right;\">\n",
              "      <th></th>\n",
              "      <th>messages_included</th>\n",
              "      <th>mb_per_month_included</th>\n",
              "      <th>minutes_included</th>\n",
              "      <th>rub_monthly_fee</th>\n",
              "      <th>rub_per_gb</th>\n",
              "      <th>rub_per_message</th>\n",
              "      <th>rub_per_minute</th>\n",
              "      <th>tariff_name</th>\n",
              "    </tr>\n",
              "  </thead>\n",
              "  <tbody>\n",
              "    <tr>\n",
              "      <th>0</th>\n",
              "      <td>50</td>\n",
              "      <td>15360</td>\n",
              "      <td>500</td>\n",
              "      <td>550</td>\n",
              "      <td>200</td>\n",
              "      <td>3</td>\n",
              "      <td>3</td>\n",
              "      <td>smart</td>\n",
              "    </tr>\n",
              "    <tr>\n",
              "      <th>1</th>\n",
              "      <td>1000</td>\n",
              "      <td>30720</td>\n",
              "      <td>3000</td>\n",
              "      <td>1950</td>\n",
              "      <td>150</td>\n",
              "      <td>1</td>\n",
              "      <td>1</td>\n",
              "      <td>ultra</td>\n",
              "    </tr>\n",
              "  </tbody>\n",
              "</table>\n",
              "</div>"
            ],
            "text/plain": [
              "   messages_included  mb_per_month_included  ...  rub_per_minute  tariff_name\n",
              "0                 50                  15360  ...               3        smart\n",
              "1               1000                  30720  ...               1        ultra\n",
              "\n",
              "[2 rows x 8 columns]"
            ]
          },
          "metadata": {
            "tags": []
          }
        },
        {
          "output_type": "display_data",
          "data": {
            "text/html": [
              "<div>\n",
              "<style scoped>\n",
              "    .dataframe tbody tr th:only-of-type {\n",
              "        vertical-align: middle;\n",
              "    }\n",
              "\n",
              "    .dataframe tbody tr th {\n",
              "        vertical-align: top;\n",
              "    }\n",
              "\n",
              "    .dataframe thead th {\n",
              "        text-align: right;\n",
              "    }\n",
              "</style>\n",
              "<table border=\"1\" class=\"dataframe\">\n",
              "  <thead>\n",
              "    <tr style=\"text-align: right;\">\n",
              "      <th></th>\n",
              "      <th>user_id</th>\n",
              "      <th>age</th>\n",
              "      <th>churn_date</th>\n",
              "      <th>city</th>\n",
              "      <th>first_name</th>\n",
              "      <th>last_name</th>\n",
              "      <th>reg_date</th>\n",
              "      <th>tariff</th>\n",
              "    </tr>\n",
              "  </thead>\n",
              "  <tbody>\n",
              "    <tr>\n",
              "      <th>0</th>\n",
              "      <td>1000</td>\n",
              "      <td>52</td>\n",
              "      <td>NaN</td>\n",
              "      <td>Краснодар</td>\n",
              "      <td>Рафаил</td>\n",
              "      <td>Верещагин</td>\n",
              "      <td>2018-05-25</td>\n",
              "      <td>ultra</td>\n",
              "    </tr>\n",
              "    <tr>\n",
              "      <th>1</th>\n",
              "      <td>1001</td>\n",
              "      <td>41</td>\n",
              "      <td>NaN</td>\n",
              "      <td>Москва</td>\n",
              "      <td>Иван</td>\n",
              "      <td>Ежов</td>\n",
              "      <td>2018-11-01</td>\n",
              "      <td>smart</td>\n",
              "    </tr>\n",
              "    <tr>\n",
              "      <th>2</th>\n",
              "      <td>1002</td>\n",
              "      <td>59</td>\n",
              "      <td>NaN</td>\n",
              "      <td>Стерлитамак</td>\n",
              "      <td>Евгений</td>\n",
              "      <td>Абрамович</td>\n",
              "      <td>2018-06-17</td>\n",
              "      <td>smart</td>\n",
              "    </tr>\n",
              "    <tr>\n",
              "      <th>3</th>\n",
              "      <td>1003</td>\n",
              "      <td>23</td>\n",
              "      <td>NaN</td>\n",
              "      <td>Москва</td>\n",
              "      <td>Белла</td>\n",
              "      <td>Белякова</td>\n",
              "      <td>2018-08-17</td>\n",
              "      <td>ultra</td>\n",
              "    </tr>\n",
              "    <tr>\n",
              "      <th>4</th>\n",
              "      <td>1004</td>\n",
              "      <td>68</td>\n",
              "      <td>NaN</td>\n",
              "      <td>Новокузнецк</td>\n",
              "      <td>Татьяна</td>\n",
              "      <td>Авдеенко</td>\n",
              "      <td>2018-05-14</td>\n",
              "      <td>ultra</td>\n",
              "    </tr>\n",
              "  </tbody>\n",
              "</table>\n",
              "</div>"
            ],
            "text/plain": [
              "   user_id  age churn_date  ...  last_name    reg_date tariff\n",
              "0     1000   52        NaN  ...  Верещагин  2018-05-25  ultra\n",
              "1     1001   41        NaN  ...       Ежов  2018-11-01  smart\n",
              "2     1002   59        NaN  ...  Абрамович  2018-06-17  smart\n",
              "3     1003   23        NaN  ...   Белякова  2018-08-17  ultra\n",
              "4     1004   68        NaN  ...   Авдеенко  2018-05-14  ultra\n",
              "\n",
              "[5 rows x 8 columns]"
            ]
          },
          "metadata": {
            "tags": []
          }
        }
      ]
    },
    {
      "cell_type": "markdown",
      "metadata": {
        "id": "ngP0o22PPcIg"
      },
      "source": [
        "#### Вывод<a id=\"result\"></a>\n",
        "1. Необходимо перевести даты в формат датетайм и выделить категорию месяц;\n",
        "2. Посчитать нулевые значеия и принять решение о их удалении/использовании;\n",
        "3. Округлить `duration` и `mb_used` до верхних значей, даже где значение равно 0,01.\n",
        "4. Создать новые сводные таблицы и соединить их для подсчета общих данных."
      ]
    },
    {
      "cell_type": "markdown",
      "metadata": {
        "id": "wOU2G_iaPcIg"
      },
      "source": [
        "### Шаг 2. Подготовка данных для анализа<a id=\"reserch\"></a>\n",
        "- Приведем данные к нужным типам;\n",
        "- Найдем и исправим ошибки в данных.\n",
        "- Оценим потерю данных при удалении 0 звонков\n",
        "\n",
        "Необходимо посчитать для каждого пользователя:\n",
        "- количество сделанных звонков и израсходованных минут разговора по месяцам;\n",
        "- количество отправленных сообщений по месяцам;\n",
        "- объем израсходованного интернет-трафика по месяцам;\n",
        "- помесячную выручку с каждого пользователя (вычтите бесплатный лимит из суммарного количества звонков, сообщений и интернет-трафика; остаток умножьте на значение из тарифного плана; прибавьте абонентскую плату, соответствующую тарифному плану)."
      ]
    },
    {
      "cell_type": "markdown",
      "metadata": {
        "id": "gmXEd8IwPcIh"
      },
      "source": [
        "1. Проверка датасета **calls**<a id=\"calls\"></a>"
      ]
    },
    {
      "cell_type": "code",
      "metadata": {
        "scrolled": true,
        "colab": {
          "base_uri": "https://localhost:8080/",
          "height": 191
        },
        "id": "1mwUfsDPPcIh",
        "outputId": "f1d84b3c-01a9-443f-bd24-5ddf609a2f44"
      },
      "source": [
        "# Перевод данных в формат datetime\n",
        "# выделение месцев в цифровом формате для сортировки\n",
        "# Округление до целых минут.\n",
        "calls['call_date'] = pd.to_datetime(calls['call_date'], format='%Y-%m-%dT')\n",
        "calls['mounth'] = calls['call_date'].dt.month\n",
        "calls['duration'] = calls['duration'].apply(np.ceil)\n",
        "calls.head()"
      ],
      "execution_count": 6,
      "outputs": [
        {
          "output_type": "execute_result",
          "data": {
            "text/html": [
              "<div>\n",
              "<style scoped>\n",
              "    .dataframe tbody tr th:only-of-type {\n",
              "        vertical-align: middle;\n",
              "    }\n",
              "\n",
              "    .dataframe tbody tr th {\n",
              "        vertical-align: top;\n",
              "    }\n",
              "\n",
              "    .dataframe thead th {\n",
              "        text-align: right;\n",
              "    }\n",
              "</style>\n",
              "<table border=\"1\" class=\"dataframe\">\n",
              "  <thead>\n",
              "    <tr style=\"text-align: right;\">\n",
              "      <th></th>\n",
              "      <th>id</th>\n",
              "      <th>call_date</th>\n",
              "      <th>duration</th>\n",
              "      <th>user_id</th>\n",
              "      <th>mounth</th>\n",
              "    </tr>\n",
              "  </thead>\n",
              "  <tbody>\n",
              "    <tr>\n",
              "      <th>0</th>\n",
              "      <td>1000_0</td>\n",
              "      <td>2018-07-25</td>\n",
              "      <td>0.0</td>\n",
              "      <td>1000</td>\n",
              "      <td>7</td>\n",
              "    </tr>\n",
              "    <tr>\n",
              "      <th>1</th>\n",
              "      <td>1000_1</td>\n",
              "      <td>2018-08-17</td>\n",
              "      <td>0.0</td>\n",
              "      <td>1000</td>\n",
              "      <td>8</td>\n",
              "    </tr>\n",
              "    <tr>\n",
              "      <th>2</th>\n",
              "      <td>1000_2</td>\n",
              "      <td>2018-06-11</td>\n",
              "      <td>3.0</td>\n",
              "      <td>1000</td>\n",
              "      <td>6</td>\n",
              "    </tr>\n",
              "    <tr>\n",
              "      <th>3</th>\n",
              "      <td>1000_3</td>\n",
              "      <td>2018-09-21</td>\n",
              "      <td>14.0</td>\n",
              "      <td>1000</td>\n",
              "      <td>9</td>\n",
              "    </tr>\n",
              "    <tr>\n",
              "      <th>4</th>\n",
              "      <td>1000_4</td>\n",
              "      <td>2018-12-15</td>\n",
              "      <td>6.0</td>\n",
              "      <td>1000</td>\n",
              "      <td>12</td>\n",
              "    </tr>\n",
              "  </tbody>\n",
              "</table>\n",
              "</div>"
            ],
            "text/plain": [
              "       id  call_date  duration  user_id  mounth\n",
              "0  1000_0 2018-07-25       0.0     1000       7\n",
              "1  1000_1 2018-08-17       0.0     1000       8\n",
              "2  1000_2 2018-06-11       3.0     1000       6\n",
              "3  1000_3 2018-09-21      14.0     1000       9\n",
              "4  1000_4 2018-12-15       6.0     1000      12"
            ]
          },
          "metadata": {
            "tags": []
          },
          "execution_count": 6
        }
      ]
    },
    {
      "cell_type": "code",
      "metadata": {
        "colab": {
          "base_uri": "https://localhost:8080/",
          "height": 683
        },
        "id": "Z6E4NGGAPcIh",
        "outputId": "2b404463-8c8b-4e99-9dd4-d51489de35be"
      },
      "source": [
        "# Оценим странные зачения, частотность, наличие пропусков, распределение\n",
        "calls['user_id'].hist(bins=500,figsize=(10,5))\n",
        "plt.xlabel('user_id')\n",
        "plt.ylabel('frequency')\n",
        "plt.title('Активность клиентов по звонкам')\n",
        "plt.show()\n",
        "calls['duration'].hist(bins=25,figsize=(10,5), range=(0, 25))\n",
        "plt.xlabel('duration')\n",
        "plt.ylabel('frequency')\n",
        "plt.title('Частота продолжительности звонков')\n",
        "plt.show()"
      ],
      "execution_count": 7,
      "outputs": [
        {
          "output_type": "display_data",
          "data": {
            "image/png": "[encoded data removed]",
            "text/plain": [
              "<Figure size 720x360 with 1 Axes>"
            ]
          },
          "metadata": {
            "tags": [],
            "needs_background": "light"
          }
        },
        {
          "output_type": "display_data",
          "data": {
            "image/png": "[encoded data removed]",
            "text/plain": [
              "<Figure size 720x360 with 1 Axes>"
            ]
          },
          "metadata": {
            "tags": [],
            "needs_background": "light"
          }
        }
      ]
    },
    {
      "cell_type": "markdown",
      "metadata": {
        "id": "tK2Z_VK8PcIi"
      },
      "source": [
        "1. Исходя из первого графика видно, что не все клиенты используют звонки, скорее всего они используют сим-карты в планшете, ноутбуке. Стоит учесть это при соединении таблиц;\n",
        "2. Второй график нам показывает нормальное распределение, если закрыть глаза на быстрые звонки - 0 секунд. Основная часть клиентов тратить на разговор от 4 до 8 минут."
      ]
    },
    {
      "cell_type": "code",
      "metadata": {
        "scrolled": true,
        "colab": {
          "base_uri": "https://localhost:8080/"
        },
        "id": "pkFePAloPcIi",
        "outputId": "44498389-4283-495e-f053-ee877c2ef78e"
      },
      "source": [
        "calls['duration'].describe()"
      ],
      "execution_count": 8,
      "outputs": [
        {
          "output_type": "execute_result",
          "data": {
            "text/plain": [
              "count    202607.000000\n",
              "mean          7.158198\n",
              "std           5.959173\n",
              "min           0.000000\n",
              "25%           2.000000\n",
              "50%           6.000000\n",
              "75%          11.000000\n",
              "max          38.000000\n",
              "Name: duration, dtype: float64"
            ]
          },
          "metadata": {
            "tags": []
          },
          "execution_count": 8
        }
      ]
    },
    {
      "cell_type": "markdown",
      "metadata": {
        "id": "SMqDfuuoPcIj"
      },
      "source": [
        "- разница между средним и медианой 1,158;\n",
        "- сркв.отклонение - 5,95;\n",
        "- данные смещены в права\n",
        "\n",
        "Удалим нулевые значения и посмотрим еще раз на график:"
      ]
    },
    {
      "cell_type": "code",
      "metadata": {
        "colab": {
          "base_uri": "https://localhost:8080/",
          "height": 350
        },
        "id": "hNunRuHSPcIj",
        "outputId": "499f1a3a-6298-4bf0-c089-9eb0a8cd21da"
      },
      "source": [
        "calls['duration'] = calls['duration'].replace(0,np.nan)\n",
        "calls['duration'] = calls['duration'].dropna()\n",
        "calls['duration'].hist(bins=25,figsize=(10,5), range=(0, 25))\n",
        "plt.xlabel('duration')\n",
        "plt.ylabel('frequency')\n",
        "plt.title('Частота продолжительности звонков')\n",
        "plt.show()"
      ],
      "execution_count": 9,
      "outputs": [
        {
          "output_type": "display_data",
          "data": {
            "image/png": "[encoded data removed]",
            "text/plain": [
              "<Figure size 720x360 with 1 Axes>"
            ]
          },
          "metadata": {
            "tags": [],
            "needs_background": "light"
          }
        }
      ]
    },
    {
      "cell_type": "code",
      "metadata": {
        "colab": {
          "base_uri": "https://localhost:8080/"
        },
        "id": "hGVkULiGPcIj",
        "outputId": "68345c9a-8e4d-454d-c6a8-11b2c4e7b256"
      },
      "source": [
        "calls['duration'].describe()"
      ],
      "execution_count": 10,
      "outputs": [
        {
          "output_type": "execute_result",
          "data": {
            "text/plain": [
              "count    162994.000000\n",
              "mean          8.897880\n",
              "std           5.353761\n",
              "min           1.000000\n",
              "25%           5.000000\n",
              "50%           8.000000\n",
              "75%          12.000000\n",
              "max          38.000000\n",
              "Name: duration, dtype: float64"
            ]
          },
          "metadata": {
            "tags": []
          },
          "execution_count": 10
        }
      ]
    },
    {
      "cell_type": "markdown",
      "metadata": {
        "id": "1LB4qH9QPcIk"
      },
      "source": [
        "- Распределение сместилось вправо, разница между средним и медианой 0,89;\n",
        "- Отклонение уменьшилось до 5.35;\n",
        "- Нулевые значения составляют 20% выборки, но это скорее всего дозвоны по тарифу \"Чайка\", либо пропущенные. Они влиют на кол-во звонков, но не влияют на тариф, т.к. считаются, только звонки с 1 сек. Предлагаю их удалить, т.к. их удаление уменьшает разницу между средней и медианой, и среднеквадратическое отклонение.\n",
        "\n",
        "*Создадим сводную таблицу по сумме минут и кол-ву звоноков:*"
      ]
    },
    {
      "cell_type": "code",
      "metadata": {
        "scrolled": true,
        "colab": {
          "base_uri": "https://localhost:8080/",
          "height": 191
        },
        "id": "MgBzfCsLPcIk",
        "outputId": "bdec95fa-08b9-4d89-d675-26f725850c30"
      },
      "source": [
        "df_c = calls.pivot_table(index=['user_id','mounth'], values = 'duration', aggfunc = ['count','sum']).reset_index()\n",
        "df_c.columns=['user_id','mounth','dur_count','dur_sum']\n",
        "df_c.head()"
      ],
      "execution_count": 11,
      "outputs": [
        {
          "output_type": "execute_result",
          "data": {
            "text/html": [
              "<div>\n",
              "<style scoped>\n",
              "    .dataframe tbody tr th:only-of-type {\n",
              "        vertical-align: middle;\n",
              "    }\n",
              "\n",
              "    .dataframe tbody tr th {\n",
              "        vertical-align: top;\n",
              "    }\n",
              "\n",
              "    .dataframe thead th {\n",
              "        text-align: right;\n",
              "    }\n",
              "</style>\n",
              "<table border=\"1\" class=\"dataframe\">\n",
              "  <thead>\n",
              "    <tr style=\"text-align: right;\">\n",
              "      <th></th>\n",
              "      <th>user_id</th>\n",
              "      <th>mounth</th>\n",
              "      <th>dur_count</th>\n",
              "      <th>dur_sum</th>\n",
              "    </tr>\n",
              "  </thead>\n",
              "  <tbody>\n",
              "    <tr>\n",
              "      <th>0</th>\n",
              "      <td>1000</td>\n",
              "      <td>5</td>\n",
              "      <td>17</td>\n",
              "      <td>159.0</td>\n",
              "    </tr>\n",
              "    <tr>\n",
              "      <th>1</th>\n",
              "      <td>1000</td>\n",
              "      <td>6</td>\n",
              "      <td>28</td>\n",
              "      <td>172.0</td>\n",
              "    </tr>\n",
              "    <tr>\n",
              "      <th>2</th>\n",
              "      <td>1000</td>\n",
              "      <td>7</td>\n",
              "      <td>41</td>\n",
              "      <td>340.0</td>\n",
              "    </tr>\n",
              "    <tr>\n",
              "      <th>3</th>\n",
              "      <td>1000</td>\n",
              "      <td>8</td>\n",
              "      <td>42</td>\n",
              "      <td>408.0</td>\n",
              "    </tr>\n",
              "    <tr>\n",
              "      <th>4</th>\n",
              "      <td>1000</td>\n",
              "      <td>9</td>\n",
              "      <td>46</td>\n",
              "      <td>466.0</td>\n",
              "    </tr>\n",
              "  </tbody>\n",
              "</table>\n",
              "</div>"
            ],
            "text/plain": [
              "   user_id  mounth  dur_count  dur_sum\n",
              "0     1000       5         17    159.0\n",
              "1     1000       6         28    172.0\n",
              "2     1000       7         41    340.0\n",
              "3     1000       8         42    408.0\n",
              "4     1000       9         46    466.0"
            ]
          },
          "metadata": {
            "tags": []
          },
          "execution_count": 11
        }
      ]
    },
    {
      "cell_type": "markdown",
      "metadata": {
        "id": "0MP5VFP6PcIk"
      },
      "source": [
        "2. Проверка датасета **internet.**<a id=\"internet\"></a>"
      ]
    },
    {
      "cell_type": "code",
      "metadata": {
        "id": "gCN6-sc9PcIl"
      },
      "source": [
        "# удалим странный столбец, округлим использованные 'mb', выделим месяцы из даты\n",
        "internet.drop(['Unnamed: 0'],axis ='columns', inplace=True)\n",
        "internet['mb_used'] = internet['mb_used'].apply(np.ceil)\n",
        "internet['session_date'] = pd.to_datetime(internet['session_date'], format='%Y-%m-%dT')\n",
        "internet['mounth'] = internet['session_date'].dt.month\n",
        "#internet.head()"
      ],
      "execution_count": 12,
      "outputs": []
    },
    {
      "cell_type": "code",
      "metadata": {
        "scrolled": true,
        "colab": {
          "base_uri": "https://localhost:8080/",
          "height": 685
        },
        "id": "N-aDyx06PcIl",
        "outputId": "6feb68ac-d125-4550-d4ea-ade9861044d0"
      },
      "source": [
        "internet['user_id'].hist(bins=500, figsize=(10,5))\n",
        "plt.xlabel('user_id')\n",
        "plt.ylabel('frequency')\n",
        "plt.title('Активность клиентов в интернете')\n",
        "plt.show()\n",
        "internet['mb_used'].hist(bins=50, figsize=(10,5), range=(0,1250))\n",
        "plt.xlabel('mb_used')\n",
        "plt.ylabel('frequency')\n",
        "plt.title('Трафик в интернете')\n",
        "plt.show()"
      ],
      "execution_count": 13,
      "outputs": [
        {
          "output_type": "display_data",
          "data": {
            "image/png": "[encoded data removed]",
            "text/plain": [
              "<Figure size 720x360 with 1 Axes>"
            ]
          },
          "metadata": {
            "tags": [],
            "needs_background": "light"
          }
        },
        {
          "output_type": "display_data",
          "data": {
            "image/png": "[encoded data removed]",
            "text/plain": [
              "<Figure size 720x360 with 1 Axes>"
            ]
          },
          "metadata": {
            "tags": [],
            "needs_background": "light"
          }
        }
      ]
    },
    {
      "cell_type": "markdown",
      "metadata": {
        "id": "q3hogX4FPcIl"
      },
      "source": [
        "1. Из первого графика видно, что интернет используют большее кол-во клиентов, только 3 клиента не используют интернет, либо они ходят с Nokia 3310 до сих пор, либо им его заблокировали (разные ситуации бывают)\n",
        "2. Второй график показывает нам нормальное распределение, основная часть трафика от 300 до 450 мб за сессию. Нулевые значения не трогаем, т.к. они не влияют на тариф. Хотя у некоторых операторов, если не безлимит по интернету, даже случайных заход в интернет считается за 1 мб.\n",
        "\n"
      ]
    },
    {
      "cell_type": "code",
      "metadata": {
        "colab": {
          "base_uri": "https://localhost:8080/"
        },
        "id": "h0JR5JPVPcIm",
        "outputId": "5ead364e-6c4d-4b01-854e-6a4526194f31"
      },
      "source": [
        "internet['mb_used'].describe()"
      ],
      "execution_count": 14,
      "outputs": [
        {
          "output_type": "execute_result",
          "data": {
            "text/plain": [
              "count    149396.000000\n",
              "mean        370.622098\n",
              "std         278.387019\n",
              "min           0.000000\n",
              "25%         139.000000\n",
              "50%         349.000000\n",
              "75%         560.000000\n",
              "max        1725.000000\n",
              "Name: mb_used, dtype: float64"
            ]
          },
          "metadata": {
            "tags": []
          },
          "execution_count": 14
        }
      ]
    },
    {
      "cell_type": "markdown",
      "metadata": {
        "id": "FfZWZ2shPcIm"
      },
      "source": [
        "*Построим сравнительну таблицу суммарного использования интернета:*"
      ]
    },
    {
      "cell_type": "code",
      "metadata": {
        "colab": {
          "base_uri": "https://localhost:8080/",
          "height": 191
        },
        "id": "PlWaKTWePcIm",
        "outputId": "9e249265-a1bc-4ca5-c8b0-28d1be67cac6"
      },
      "source": [
        "# Поработаем с датой, округлим \"МБ\" до \"ГБ\".\n",
        "df_int = internet.pivot_table(index=['user_id','mounth'], values = 'mb_used', aggfunc = ['sum']).reset_index()\n",
        "df_int.columns=['user_id','mounth','gb_sum']\n",
        "df_int['gb_sum'] = np.ceil(df_int['gb_sum'] / 1024)\n",
        "df_int.head()"
      ],
      "execution_count": 15,
      "outputs": [
        {
          "output_type": "execute_result",
          "data": {
            "text/html": [
              "<div>\n",
              "<style scoped>\n",
              "    .dataframe tbody tr th:only-of-type {\n",
              "        vertical-align: middle;\n",
              "    }\n",
              "\n",
              "    .dataframe tbody tr th {\n",
              "        vertical-align: top;\n",
              "    }\n",
              "\n",
              "    .dataframe thead th {\n",
              "        text-align: right;\n",
              "    }\n",
              "</style>\n",
              "<table border=\"1\" class=\"dataframe\">\n",
              "  <thead>\n",
              "    <tr style=\"text-align: right;\">\n",
              "      <th></th>\n",
              "      <th>user_id</th>\n",
              "      <th>mounth</th>\n",
              "      <th>gb_sum</th>\n",
              "    </tr>\n",
              "  </thead>\n",
              "  <tbody>\n",
              "    <tr>\n",
              "      <th>0</th>\n",
              "      <td>1000</td>\n",
              "      <td>5</td>\n",
              "      <td>3.0</td>\n",
              "    </tr>\n",
              "    <tr>\n",
              "      <th>1</th>\n",
              "      <td>1000</td>\n",
              "      <td>6</td>\n",
              "      <td>23.0</td>\n",
              "    </tr>\n",
              "    <tr>\n",
              "      <th>2</th>\n",
              "      <td>1000</td>\n",
              "      <td>7</td>\n",
              "      <td>14.0</td>\n",
              "    </tr>\n",
              "    <tr>\n",
              "      <th>3</th>\n",
              "      <td>1000</td>\n",
              "      <td>8</td>\n",
              "      <td>14.0</td>\n",
              "    </tr>\n",
              "    <tr>\n",
              "      <th>4</th>\n",
              "      <td>1000</td>\n",
              "      <td>9</td>\n",
              "      <td>15.0</td>\n",
              "    </tr>\n",
              "  </tbody>\n",
              "</table>\n",
              "</div>"
            ],
            "text/plain": [
              "   user_id  mounth  gb_sum\n",
              "0     1000       5     3.0\n",
              "1     1000       6    23.0\n",
              "2     1000       7    14.0\n",
              "3     1000       8    14.0\n",
              "4     1000       9    15.0"
            ]
          },
          "metadata": {
            "tags": []
          },
          "execution_count": 15
        }
      ]
    },
    {
      "cell_type": "markdown",
      "metadata": {
        "id": "5Wi9gR47PcIn"
      },
      "source": [
        "3. Проверка датасета **msg.**<a id=\"msg\"></a>"
      ]
    },
    {
      "cell_type": "code",
      "metadata": {
        "colab": {
          "base_uri": "https://localhost:8080/",
          "height": 351
        },
        "id": "HONm15vSPcIn",
        "outputId": "6455a424-3fe8-4434-9e40-d3e281fc708c"
      },
      "source": [
        "# Выделим месяц, посмотрим на данные с помощью гистограмм. \n",
        "msg['message_date'] = pd.to_datetime(msg['message_date'], format='%Y-%m-%dT')\n",
        "msg['mounth'] = msg['message_date'].dt.month\n",
        "msg['user_id'].hist(bins=500, figsize=(10,5))\n",
        "plt.xlabel('user_id')\n",
        "plt.ylabel('frequency')\n",
        "plt.title('Активность СМС')\n",
        "plt.show()"
      ],
      "execution_count": 16,
      "outputs": [
        {
          "output_type": "display_data",
          "data": {
            "image/png": "[encoded data removed]",
            "text/plain": [
              "<Figure size 720x360 with 1 Axes>"
            ]
          },
          "metadata": {
            "tags": [],
            "needs_background": "light"
          }
        }
      ]
    },
    {
      "cell_type": "markdown",
      "metadata": {
        "id": "o9OMi7D6PcIo"
      },
      "source": [
        "Из графика видно, что с приходом мессенджеров, актуальность СМС теряет.\n",
        "\n",
        "\"Хотя в лесу может и жизь спасти\"\n",
        "\n",
        "*Создадим сравнительную таблицу*"
      ]
    },
    {
      "cell_type": "code",
      "metadata": {
        "id": "qKgdSPY4PcIo"
      },
      "source": [
        "df_msg = msg.pivot_table(index=['user_id','mounth'], values = 'message_date', aggfunc = ['count']).reset_index()\n",
        "df_msg.columns=['user_id','mounth','count_msg']\n",
        "# df_msg.head()"
      ],
      "execution_count": 17,
      "outputs": []
    },
    {
      "cell_type": "markdown",
      "metadata": {
        "id": "JUJC2MZNPcIo"
      },
      "source": [
        "4. Объединение всех вышепровереные таблицы:<a id=\"merge\"></a>"
      ]
    },
    {
      "cell_type": "code",
      "metadata": {
        "colab": {
          "base_uri": "https://localhost:8080/",
          "height": 367
        },
        "id": "3YyAQbZbPcIo",
        "outputId": "40f82866-9d4c-4ac0-eb8f-5621278c01c5"
      },
      "source": [
        "df = df_c.merge(df_int, on=['user_id', 'mounth'], how = 'outer')\n",
        "df = df.merge(df_msg, on=['user_id', 'mounth'], how = 'outer')\n",
        "df['user_id'].hist(bins=500, figsize=(10,5))\n",
        "plt.xlabel('user_id')\n",
        "plt.ylabel('frequency')\n",
        "plt.title('Активность клиентов')"
      ],
      "execution_count": 18,
      "outputs": [
        {
          "output_type": "execute_result",
          "data": {
            "text/plain": [
              "Text(0.5, 1.0, 'Активность клиентов')"
            ]
          },
          "metadata": {
            "tags": []
          },
          "execution_count": 18
        },
        {
          "output_type": "display_data",
          "data": {
            "image/png": "[encoded data removed]",
            "text/plain": [
              "<Figure size 720x360 with 1 Axes>"
            ]
          },
          "metadata": {
            "tags": [],
            "needs_background": "light"
          }
        }
      ]
    },
    {
      "cell_type": "code",
      "metadata": {
        "colab": {
          "base_uri": "https://localhost:8080/",
          "height": 47
        },
        "id": "GOoh5vgLPcIp",
        "outputId": "4f022831-39ed-48a8-e91b-a603fcbd009e"
      },
      "source": [
        "df.loc[(df['user_id'] == 1128) | (df['user_id'] == 1371)].head()"
      ],
      "execution_count": 19,
      "outputs": [
        {
          "output_type": "execute_result",
          "data": {
            "text/html": [
              "<div>\n",
              "<style scoped>\n",
              "    .dataframe tbody tr th:only-of-type {\n",
              "        vertical-align: middle;\n",
              "    }\n",
              "\n",
              "    .dataframe tbody tr th {\n",
              "        vertical-align: top;\n",
              "    }\n",
              "\n",
              "    .dataframe thead th {\n",
              "        text-align: right;\n",
              "    }\n",
              "</style>\n",
              "<table border=\"1\" class=\"dataframe\">\n",
              "  <thead>\n",
              "    <tr style=\"text-align: right;\">\n",
              "      <th></th>\n",
              "      <th>user_id</th>\n",
              "      <th>mounth</th>\n",
              "      <th>dur_count</th>\n",
              "      <th>dur_sum</th>\n",
              "      <th>gb_sum</th>\n",
              "      <th>count_msg</th>\n",
              "    </tr>\n",
              "  </thead>\n",
              "  <tbody>\n",
              "  </tbody>\n",
              "</table>\n",
              "</div>"
            ],
            "text/plain": [
              "Empty DataFrame\n",
              "Columns: [user_id, mounth, dur_count, dur_sum, gb_sum, count_msg]\n",
              "Index: []"
            ]
          },
          "metadata": {
            "tags": []
          },
          "execution_count": 19
        }
      ]
    },
    {
      "cell_type": "code",
      "metadata": {
        "scrolled": true,
        "colab": {
          "base_uri": "https://localhost:8080/",
          "height": 105
        },
        "id": "mYUAC3AkPcIp",
        "outputId": "71da676d-21bd-4b80-feac-54782c6fab24"
      },
      "source": [
        "users.loc[(users['user_id'] == 1128) | (users['user_id'] == 1371)]"
      ],
      "execution_count": 20,
      "outputs": [
        {
          "output_type": "execute_result",
          "data": {
            "text/html": [
              "<div>\n",
              "<style scoped>\n",
              "    .dataframe tbody tr th:only-of-type {\n",
              "        vertical-align: middle;\n",
              "    }\n",
              "\n",
              "    .dataframe tbody tr th {\n",
              "        vertical-align: top;\n",
              "    }\n",
              "\n",
              "    .dataframe thead th {\n",
              "        text-align: right;\n",
              "    }\n",
              "</style>\n",
              "<table border=\"1\" class=\"dataframe\">\n",
              "  <thead>\n",
              "    <tr style=\"text-align: right;\">\n",
              "      <th></th>\n",
              "      <th>user_id</th>\n",
              "      <th>age</th>\n",
              "      <th>churn_date</th>\n",
              "      <th>city</th>\n",
              "      <th>first_name</th>\n",
              "      <th>last_name</th>\n",
              "      <th>reg_date</th>\n",
              "      <th>tariff</th>\n",
              "    </tr>\n",
              "  </thead>\n",
              "  <tbody>\n",
              "    <tr>\n",
              "      <th>128</th>\n",
              "      <td>1128</td>\n",
              "      <td>51</td>\n",
              "      <td>2018-12-23</td>\n",
              "      <td>Волжский</td>\n",
              "      <td>Ксения</td>\n",
              "      <td>Агаева</td>\n",
              "      <td>2018-12-15</td>\n",
              "      <td>ultra</td>\n",
              "    </tr>\n",
              "    <tr>\n",
              "      <th>371</th>\n",
              "      <td>1371</td>\n",
              "      <td>50</td>\n",
              "      <td>2018-12-30</td>\n",
              "      <td>Омск</td>\n",
              "      <td>Ириней</td>\n",
              "      <td>Трофимов</td>\n",
              "      <td>2018-12-25</td>\n",
              "      <td>smart</td>\n",
              "    </tr>\n",
              "  </tbody>\n",
              "</table>\n",
              "</div>"
            ],
            "text/plain": [
              "     user_id  age  churn_date      city first_name last_name    reg_date tariff\n",
              "128     1128   51  2018-12-23  Волжский     Ксения    Агаева  2018-12-15  ultra\n",
              "371     1371   50  2018-12-30      Омск     Ириней  Трофимов  2018-12-25  smart"
            ]
          },
          "metadata": {
            "tags": []
          },
          "execution_count": 20
        }
      ]
    },
    {
      "cell_type": "markdown",
      "metadata": {
        "id": "hPfExKQ3PcIp"
      },
      "source": [
        "- Путем увеличения графика были выявлены 2 клиента 1128 и 1371, которые не пользовались услугами;\n",
        "- Ксения Агеева и Ириней Трофимов заключили и рассторгли контракт в декабре, не пользовались услугой;\n",
        "- Предположим, что с этих клиентов мы не взяли ничего, они заплатили, не воспользовались тарифом, мы им вернули деньги, как добропорядочный оператор;\n",
        "- ***Хотя, скорее всего, у нас есть в договоре мелкий шрифт, где оговорено, что в случае рассторжения договора сумма внесенной платы за месяц не возвращается***."
      ]
    },
    {
      "cell_type": "code",
      "metadata": {
        "id": "_7gopvJFPcIp"
      },
      "source": [
        "# Обработаем даты в таблице 'users'\n",
        "users['reg_date'] = pd.to_datetime(users['reg_date'], format='%Y-%m-%dT')\n",
        "users['churn_date'] = pd.to_datetime(users['churn_date'], format='%Y-%m-%dT')"
      ],
      "execution_count": 21,
      "outputs": []
    },
    {
      "cell_type": "code",
      "metadata": {
        "colab": {
          "base_uri": "https://localhost:8080/",
          "height": 191
        },
        "id": "M2s_ZuSVPcIq",
        "outputId": "cb0235cc-c9e8-45a6-fbe5-05bea81a6f46"
      },
      "source": [
        "df = df.merge(users, on='user_id', how='left')\n",
        "df.tail()"
      ],
      "execution_count": 22,
      "outputs": [
        {
          "output_type": "execute_result",
          "data": {
            "text/html": [
              "<div>\n",
              "<style scoped>\n",
              "    .dataframe tbody tr th:only-of-type {\n",
              "        vertical-align: middle;\n",
              "    }\n",
              "\n",
              "    .dataframe tbody tr th {\n",
              "        vertical-align: top;\n",
              "    }\n",
              "\n",
              "    .dataframe thead th {\n",
              "        text-align: right;\n",
              "    }\n",
              "</style>\n",
              "<table border=\"1\" class=\"dataframe\">\n",
              "  <thead>\n",
              "    <tr style=\"text-align: right;\">\n",
              "      <th></th>\n",
              "      <th>user_id</th>\n",
              "      <th>mounth</th>\n",
              "      <th>dur_count</th>\n",
              "      <th>dur_sum</th>\n",
              "      <th>gb_sum</th>\n",
              "      <th>count_msg</th>\n",
              "      <th>age</th>\n",
              "      <th>churn_date</th>\n",
              "      <th>city</th>\n",
              "      <th>first_name</th>\n",
              "      <th>last_name</th>\n",
              "      <th>reg_date</th>\n",
              "      <th>tariff</th>\n",
              "    </tr>\n",
              "  </thead>\n",
              "  <tbody>\n",
              "    <tr>\n",
              "      <th>3209</th>\n",
              "      <td>1489</td>\n",
              "      <td>8</td>\n",
              "      <td>NaN</td>\n",
              "      <td>NaN</td>\n",
              "      <td>11.0</td>\n",
              "      <td>17.0</td>\n",
              "      <td>35</td>\n",
              "      <td>NaT</td>\n",
              "      <td>Санкт-Петербург</td>\n",
              "      <td>Павел</td>\n",
              "      <td>Гончаров</td>\n",
              "      <td>2018-08-15</td>\n",
              "      <td>smart</td>\n",
              "    </tr>\n",
              "    <tr>\n",
              "      <th>3210</th>\n",
              "      <td>1489</td>\n",
              "      <td>9</td>\n",
              "      <td>NaN</td>\n",
              "      <td>NaN</td>\n",
              "      <td>17.0</td>\n",
              "      <td>32.0</td>\n",
              "      <td>35</td>\n",
              "      <td>NaT</td>\n",
              "      <td>Санкт-Петербург</td>\n",
              "      <td>Павел</td>\n",
              "      <td>Гончаров</td>\n",
              "      <td>2018-08-15</td>\n",
              "      <td>smart</td>\n",
              "    </tr>\n",
              "    <tr>\n",
              "      <th>3211</th>\n",
              "      <td>1489</td>\n",
              "      <td>10</td>\n",
              "      <td>NaN</td>\n",
              "      <td>NaN</td>\n",
              "      <td>20.0</td>\n",
              "      <td>21.0</td>\n",
              "      <td>35</td>\n",
              "      <td>NaT</td>\n",
              "      <td>Санкт-Петербург</td>\n",
              "      <td>Павел</td>\n",
              "      <td>Гончаров</td>\n",
              "      <td>2018-08-15</td>\n",
              "      <td>smart</td>\n",
              "    </tr>\n",
              "    <tr>\n",
              "      <th>3212</th>\n",
              "      <td>1489</td>\n",
              "      <td>11</td>\n",
              "      <td>NaN</td>\n",
              "      <td>NaN</td>\n",
              "      <td>18.0</td>\n",
              "      <td>20.0</td>\n",
              "      <td>35</td>\n",
              "      <td>NaT</td>\n",
              "      <td>Санкт-Петербург</td>\n",
              "      <td>Павел</td>\n",
              "      <td>Гончаров</td>\n",
              "      <td>2018-08-15</td>\n",
              "      <td>smart</td>\n",
              "    </tr>\n",
              "    <tr>\n",
              "      <th>3213</th>\n",
              "      <td>1489</td>\n",
              "      <td>12</td>\n",
              "      <td>NaN</td>\n",
              "      <td>NaN</td>\n",
              "      <td>17.0</td>\n",
              "      <td>35.0</td>\n",
              "      <td>35</td>\n",
              "      <td>NaT</td>\n",
              "      <td>Санкт-Петербург</td>\n",
              "      <td>Павел</td>\n",
              "      <td>Гончаров</td>\n",
              "      <td>2018-08-15</td>\n",
              "      <td>smart</td>\n",
              "    </tr>\n",
              "  </tbody>\n",
              "</table>\n",
              "</div>"
            ],
            "text/plain": [
              "      user_id  mounth  dur_count  ...  last_name   reg_date  tariff\n",
              "3209     1489       8        NaN  ...   Гончаров 2018-08-15   smart\n",
              "3210     1489       9        NaN  ...   Гончаров 2018-08-15   smart\n",
              "3211     1489      10        NaN  ...   Гончаров 2018-08-15   smart\n",
              "3212     1489      11        NaN  ...   Гончаров 2018-08-15   smart\n",
              "3213     1489      12        NaN  ...   Гончаров 2018-08-15   smart\n",
              "\n",
              "[5 rows x 13 columns]"
            ]
          },
          "metadata": {
            "tags": []
          },
          "execution_count": 22
        }
      ]
    },
    {
      "cell_type": "code",
      "metadata": {
        "id": "gNJfxgVgPcIq"
      },
      "source": [
        "# Таблицы были с пропусками по минутам, мб и сообщениям,\n",
        "# нужно заменить NaN на 0, чтобы дальнейшие расчеты не споткнулись об них.\n",
        "df['dur_count'] = df['dur_count'].fillna(0)\n",
        "df['dur_sum'] = df['dur_sum'].fillna(0)\n",
        "df['gb_sum'] = df['gb_sum'].fillna(0)\n",
        "df['count_msg'] = df['count_msg'].fillna(0)"
      ],
      "execution_count": 23,
      "outputs": []
    },
    {
      "cell_type": "markdown",
      "metadata": {
        "id": "PCWxLmfAPcIq"
      },
      "source": [
        "5. Подсчет выручки по каждому клиенту<a id=\"def\"></a>"
      ]
    },
    {
      "cell_type": "code",
      "metadata": {
        "id": "hm_4rwduPcIr"
      },
      "source": [
        "def dur_profit(row):\n",
        "    profit=0\n",
        "    if row['tariff'] == 'smart' and row['dur_sum'] <= 500:\n",
        "        return 550\n",
        "    if row['tariff'] == 'smart' and row['dur_sum'] > 500:\n",
        "        profit = ((row['dur_sum'] - 500) * 3) + 550\n",
        "        return profit\n",
        "    if row['tariff'] == 'ultra' and row['dur_sum'] <= 3000:\n",
        "        return 1950\n",
        "    if row['tariff'] == 'ultra' and row['dur_sum'] > 3000:\n",
        "        profit = ((row['dur_sum'] - 3000) * 1) + 1950\n",
        "        return profit\n",
        "    \n",
        "df['dur_profit'] = df.apply(dur_profit, axis=1)"
      ],
      "execution_count": 24,
      "outputs": []
    },
    {
      "cell_type": "code",
      "metadata": {
        "id": "XM0A7d1lPcIr"
      },
      "source": [
        "def int_profit(row):\n",
        "    profit=0\n",
        "    if row['tariff'] == 'smart' and row['gb_sum'] <= 15:\n",
        "        return 0\n",
        "    if row['tariff'] == 'smart' and row['gb_sum'] > 15:\n",
        "        profit = ((row['gb_sum'] - 15) * 200)\n",
        "        return profit\n",
        "    if row['tariff'] == 'ultra' and row['gb_sum'] <= 30:\n",
        "        return 0\n",
        "    if row['tariff'] == 'ultra' and row['gb_sum'] > 30:\n",
        "        profit = ((row['gb_sum'] - 30) * 150)\n",
        "        return profit\n",
        "    \n",
        "df['int_profit'] = df.apply(int_profit, axis=1)"
      ],
      "execution_count": 25,
      "outputs": []
    },
    {
      "cell_type": "code",
      "metadata": {
        "id": "hzkD3bItPcIr"
      },
      "source": [
        "def msg_profit(row):\n",
        "    profit=0\n",
        "    if row['tariff'] == 'smart' and row['count_msg'] <= 50:\n",
        "        return 0\n",
        "    if row['tariff'] == 'smart' and row['count_msg'] > 50:\n",
        "        profit = ((row['count_msg'] - 50) * 3)\n",
        "        return profit\n",
        "    if row['tariff'] == 'ultra' and row['count_msg'] <= 1000:\n",
        "        return 0\n",
        "    if row['tariff'] == 'ultra' and row['count_msg'] > 1000:\n",
        "        profit = ((row['count_msg'] - 1000) * 1)\n",
        "        return profit\n",
        "    \n",
        "df['msg_profit'] = df.apply(msg_profit, axis=1)"
      ],
      "execution_count": 26,
      "outputs": []
    },
    {
      "cell_type": "code",
      "metadata": {
        "id": "gTbWemPUPcIr"
      },
      "source": [
        "df['all_profit'] = df['dur_profit'] + df['int_profit'] + df['msg_profit']"
      ],
      "execution_count": 27,
      "outputs": []
    },
    {
      "cell_type": "code",
      "metadata": {
        "scrolled": true,
        "colab": {
          "base_uri": "https://localhost:8080/",
          "height": 67
        },
        "id": "CSxGByFSPcIs",
        "outputId": "eebcb681-96b2-4c3b-b158-4e269281c8b0"
      },
      "source": [
        "df[df['all_profit'].isna()].head() # все корректно обрабтано"
      ],
      "execution_count": 28,
      "outputs": [
        {
          "output_type": "execute_result",
          "data": {
            "text/html": [
              "<div>\n",
              "<style scoped>\n",
              "    .dataframe tbody tr th:only-of-type {\n",
              "        vertical-align: middle;\n",
              "    }\n",
              "\n",
              "    .dataframe tbody tr th {\n",
              "        vertical-align: top;\n",
              "    }\n",
              "\n",
              "    .dataframe thead th {\n",
              "        text-align: right;\n",
              "    }\n",
              "</style>\n",
              "<table border=\"1\" class=\"dataframe\">\n",
              "  <thead>\n",
              "    <tr style=\"text-align: right;\">\n",
              "      <th></th>\n",
              "      <th>user_id</th>\n",
              "      <th>mounth</th>\n",
              "      <th>dur_count</th>\n",
              "      <th>dur_sum</th>\n",
              "      <th>gb_sum</th>\n",
              "      <th>count_msg</th>\n",
              "      <th>age</th>\n",
              "      <th>churn_date</th>\n",
              "      <th>city</th>\n",
              "      <th>first_name</th>\n",
              "      <th>last_name</th>\n",
              "      <th>reg_date</th>\n",
              "      <th>tariff</th>\n",
              "      <th>dur_profit</th>\n",
              "      <th>int_profit</th>\n",
              "      <th>msg_profit</th>\n",
              "      <th>all_profit</th>\n",
              "    </tr>\n",
              "  </thead>\n",
              "  <tbody>\n",
              "  </tbody>\n",
              "</table>\n",
              "</div>"
            ],
            "text/plain": [
              "Empty DataFrame\n",
              "Columns: [user_id, mounth, dur_count, dur_sum, gb_sum, count_msg, age, churn_date, city, first_name, last_name, reg_date, tariff, dur_profit, int_profit, msg_profit, all_profit]\n",
              "Index: []"
            ]
          },
          "metadata": {
            "tags": []
          },
          "execution_count": 28
        }
      ]
    },
    {
      "cell_type": "code",
      "metadata": {
        "colab": {
          "base_uri": "https://localhost:8080/",
          "height": 67
        },
        "id": "R_Xa_wIRPcIs",
        "outputId": "2b637296-d1f1-463f-c304-20910940ee96"
      },
      "source": [
        "df[df['all_profit'] == 0].head() # все корректно обрабтано"
      ],
      "execution_count": 29,
      "outputs": [
        {
          "output_type": "execute_result",
          "data": {
            "text/html": [
              "<div>\n",
              "<style scoped>\n",
              "    .dataframe tbody tr th:only-of-type {\n",
              "        vertical-align: middle;\n",
              "    }\n",
              "\n",
              "    .dataframe tbody tr th {\n",
              "        vertical-align: top;\n",
              "    }\n",
              "\n",
              "    .dataframe thead th {\n",
              "        text-align: right;\n",
              "    }\n",
              "</style>\n",
              "<table border=\"1\" class=\"dataframe\">\n",
              "  <thead>\n",
              "    <tr style=\"text-align: right;\">\n",
              "      <th></th>\n",
              "      <th>user_id</th>\n",
              "      <th>mounth</th>\n",
              "      <th>dur_count</th>\n",
              "      <th>dur_sum</th>\n",
              "      <th>gb_sum</th>\n",
              "      <th>count_msg</th>\n",
              "      <th>age</th>\n",
              "      <th>churn_date</th>\n",
              "      <th>city</th>\n",
              "      <th>first_name</th>\n",
              "      <th>last_name</th>\n",
              "      <th>reg_date</th>\n",
              "      <th>tariff</th>\n",
              "      <th>dur_profit</th>\n",
              "      <th>int_profit</th>\n",
              "      <th>msg_profit</th>\n",
              "      <th>all_profit</th>\n",
              "    </tr>\n",
              "  </thead>\n",
              "  <tbody>\n",
              "  </tbody>\n",
              "</table>\n",
              "</div>"
            ],
            "text/plain": [
              "Empty DataFrame\n",
              "Columns: [user_id, mounth, dur_count, dur_sum, gb_sum, count_msg, age, churn_date, city, first_name, last_name, reg_date, tariff, dur_profit, int_profit, msg_profit, all_profit]\n",
              "Index: []"
            ]
          },
          "metadata": {
            "tags": []
          },
          "execution_count": 29
        }
      ]
    },
    {
      "cell_type": "code",
      "metadata": {
        "colab": {
          "base_uri": "https://localhost:8080/",
          "height": 292
        },
        "id": "-UKipCxZPcIs",
        "outputId": "756b2a62-fc68-409d-c9c6-1582da767b87"
      },
      "source": [
        "df.head()"
      ],
      "execution_count": 30,
      "outputs": [
        {
          "output_type": "execute_result",
          "data": {
            "text/html": [
              "<div>\n",
              "<style scoped>\n",
              "    .dataframe tbody tr th:only-of-type {\n",
              "        vertical-align: middle;\n",
              "    }\n",
              "\n",
              "    .dataframe tbody tr th {\n",
              "        vertical-align: top;\n",
              "    }\n",
              "\n",
              "    .dataframe thead th {\n",
              "        text-align: right;\n",
              "    }\n",
              "</style>\n",
              "<table border=\"1\" class=\"dataframe\">\n",
              "  <thead>\n",
              "    <tr style=\"text-align: right;\">\n",
              "      <th></th>\n",
              "      <th>user_id</th>\n",
              "      <th>mounth</th>\n",
              "      <th>dur_count</th>\n",
              "      <th>dur_sum</th>\n",
              "      <th>gb_sum</th>\n",
              "      <th>count_msg</th>\n",
              "      <th>age</th>\n",
              "      <th>churn_date</th>\n",
              "      <th>city</th>\n",
              "      <th>first_name</th>\n",
              "      <th>last_name</th>\n",
              "      <th>reg_date</th>\n",
              "      <th>tariff</th>\n",
              "      <th>dur_profit</th>\n",
              "      <th>int_profit</th>\n",
              "      <th>msg_profit</th>\n",
              "      <th>all_profit</th>\n",
              "    </tr>\n",
              "  </thead>\n",
              "  <tbody>\n",
              "    <tr>\n",
              "      <th>0</th>\n",
              "      <td>1000</td>\n",
              "      <td>5</td>\n",
              "      <td>17.0</td>\n",
              "      <td>159.0</td>\n",
              "      <td>3.0</td>\n",
              "      <td>22.0</td>\n",
              "      <td>52</td>\n",
              "      <td>NaT</td>\n",
              "      <td>Краснодар</td>\n",
              "      <td>Рафаил</td>\n",
              "      <td>Верещагин</td>\n",
              "      <td>2018-05-25</td>\n",
              "      <td>ultra</td>\n",
              "      <td>1950.0</td>\n",
              "      <td>0.0</td>\n",
              "      <td>0.0</td>\n",
              "      <td>1950.0</td>\n",
              "    </tr>\n",
              "    <tr>\n",
              "      <th>1</th>\n",
              "      <td>1000</td>\n",
              "      <td>6</td>\n",
              "      <td>28.0</td>\n",
              "      <td>172.0</td>\n",
              "      <td>23.0</td>\n",
              "      <td>60.0</td>\n",
              "      <td>52</td>\n",
              "      <td>NaT</td>\n",
              "      <td>Краснодар</td>\n",
              "      <td>Рафаил</td>\n",
              "      <td>Верещагин</td>\n",
              "      <td>2018-05-25</td>\n",
              "      <td>ultra</td>\n",
              "      <td>1950.0</td>\n",
              "      <td>0.0</td>\n",
              "      <td>0.0</td>\n",
              "      <td>1950.0</td>\n",
              "    </tr>\n",
              "    <tr>\n",
              "      <th>2</th>\n",
              "      <td>1000</td>\n",
              "      <td>7</td>\n",
              "      <td>41.0</td>\n",
              "      <td>340.0</td>\n",
              "      <td>14.0</td>\n",
              "      <td>75.0</td>\n",
              "      <td>52</td>\n",
              "      <td>NaT</td>\n",
              "      <td>Краснодар</td>\n",
              "      <td>Рафаил</td>\n",
              "      <td>Верещагин</td>\n",
              "      <td>2018-05-25</td>\n",
              "      <td>ultra</td>\n",
              "      <td>1950.0</td>\n",
              "      <td>0.0</td>\n",
              "      <td>0.0</td>\n",
              "      <td>1950.0</td>\n",
              "    </tr>\n",
              "    <tr>\n",
              "      <th>3</th>\n",
              "      <td>1000</td>\n",
              "      <td>8</td>\n",
              "      <td>42.0</td>\n",
              "      <td>408.0</td>\n",
              "      <td>14.0</td>\n",
              "      <td>81.0</td>\n",
              "      <td>52</td>\n",
              "      <td>NaT</td>\n",
              "      <td>Краснодар</td>\n",
              "      <td>Рафаил</td>\n",
              "      <td>Верещагин</td>\n",
              "      <td>2018-05-25</td>\n",
              "      <td>ultra</td>\n",
              "      <td>1950.0</td>\n",
              "      <td>0.0</td>\n",
              "      <td>0.0</td>\n",
              "      <td>1950.0</td>\n",
              "    </tr>\n",
              "    <tr>\n",
              "      <th>4</th>\n",
              "      <td>1000</td>\n",
              "      <td>9</td>\n",
              "      <td>46.0</td>\n",
              "      <td>466.0</td>\n",
              "      <td>15.0</td>\n",
              "      <td>57.0</td>\n",
              "      <td>52</td>\n",
              "      <td>NaT</td>\n",
              "      <td>Краснодар</td>\n",
              "      <td>Рафаил</td>\n",
              "      <td>Верещагин</td>\n",
              "      <td>2018-05-25</td>\n",
              "      <td>ultra</td>\n",
              "      <td>1950.0</td>\n",
              "      <td>0.0</td>\n",
              "      <td>0.0</td>\n",
              "      <td>1950.0</td>\n",
              "    </tr>\n",
              "  </tbody>\n",
              "</table>\n",
              "</div>"
            ],
            "text/plain": [
              "   user_id  mounth  dur_count  ...  int_profit  msg_profit  all_profit\n",
              "0     1000       5       17.0  ...         0.0         0.0      1950.0\n",
              "1     1000       6       28.0  ...         0.0         0.0      1950.0\n",
              "2     1000       7       41.0  ...         0.0         0.0      1950.0\n",
              "3     1000       8       42.0  ...         0.0         0.0      1950.0\n",
              "4     1000       9       46.0  ...         0.0         0.0      1950.0\n",
              "\n",
              "[5 rows x 17 columns]"
            ]
          },
          "metadata": {
            "tags": []
          },
          "execution_count": 30
        }
      ]
    },
    {
      "cell_type": "markdown",
      "metadata": {
        "id": "RL39CyZVPcIs"
      },
      "source": [
        "#### Вывод<a id=\"result2\"></a>\n",
        "- Обработали данные и сформировали общую таблицу:\n",
        "    - с количеством сделанных звонков и израсходованных минут по месяцам;\n",
        "    - с количеством отправленных сообщений по месяцам;\n",
        "    - с объемом израсходованного интернет-трафика по месяцам;\n",
        "    - с помесячной выручкой по каждому пользователю;"
      ]
    },
    {
      "cell_type": "markdown",
      "metadata": {
        "id": "cqll6WrdPcIt"
      },
      "source": [
        "### Шаг 3. Анализ данных<a id=\"reserch2\"></a>\n",
        "\n",
        "Необходимо описать:\n",
        "- сколько минут разговора, сколько сообщений и какой объём интернет-трафика требуется пользователям каждого тарифа в месяц;\n",
        "- посчитать среднее количество, дисперсию и стандартное отклонение;\n",
        "- построить гистограммы. Описать распределения."
      ]
    },
    {
      "cell_type": "code",
      "metadata": {
        "scrolled": true,
        "colab": {
          "base_uri": "https://localhost:8080/",
          "height": 421
        },
        "id": "k4kp4tTUPcIt",
        "outputId": "08d74878-d18e-434d-fa72-39728f6397de"
      },
      "source": [
        "# Найдем значения тарифа smart по месяцам\n",
        "pd.set_option('display.float_format', '{:.0f}'.format)\n",
        "(df\n",
        " .query('tariff == \"smart\"')\n",
        " .pivot_table(index=['tariff', 'mounth'], values = ['dur_sum','gb_sum','count_msg'], aggfunc = ['sum', 'mean']).reset_index()\n",
        ")"
      ],
      "execution_count": 31,
      "outputs": [
        {
          "output_type": "execute_result",
          "data": {
            "text/html": [
              "<div>\n",
              "<style scoped>\n",
              "    .dataframe tbody tr th:only-of-type {\n",
              "        vertical-align: middle;\n",
              "    }\n",
              "\n",
              "    .dataframe tbody tr th {\n",
              "        vertical-align: top;\n",
              "    }\n",
              "\n",
              "    .dataframe thead tr th {\n",
              "        text-align: left;\n",
              "    }\n",
              "</style>\n",
              "<table border=\"1\" class=\"dataframe\">\n",
              "  <thead>\n",
              "    <tr>\n",
              "      <th></th>\n",
              "      <th>tariff</th>\n",
              "      <th>mounth</th>\n",
              "      <th colspan=\"3\" halign=\"left\">sum</th>\n",
              "      <th colspan=\"3\" halign=\"left\">mean</th>\n",
              "    </tr>\n",
              "    <tr>\n",
              "      <th></th>\n",
              "      <th></th>\n",
              "      <th></th>\n",
              "      <th>count_msg</th>\n",
              "      <th>dur_sum</th>\n",
              "      <th>gb_sum</th>\n",
              "      <th>count_msg</th>\n",
              "      <th>dur_sum</th>\n",
              "      <th>gb_sum</th>\n",
              "    </tr>\n",
              "  </thead>\n",
              "  <tbody>\n",
              "    <tr>\n",
              "      <th>0</th>\n",
              "      <td>smart</td>\n",
              "      <td>1</td>\n",
              "      <td>620</td>\n",
              "      <td>6931</td>\n",
              "      <td>297</td>\n",
              "      <td>18</td>\n",
              "      <td>204</td>\n",
              "      <td>9</td>\n",
              "    </tr>\n",
              "    <tr>\n",
              "      <th>1</th>\n",
              "      <td>smart</td>\n",
              "      <td>2</td>\n",
              "      <td>1397</td>\n",
              "      <td>17324</td>\n",
              "      <td>687</td>\n",
              "      <td>24</td>\n",
              "      <td>299</td>\n",
              "      <td>12</td>\n",
              "    </tr>\n",
              "    <tr>\n",
              "      <th>2</th>\n",
              "      <td>smart</td>\n",
              "      <td>3</td>\n",
              "      <td>2453</td>\n",
              "      <td>30034</td>\n",
              "      <td>1174</td>\n",
              "      <td>32</td>\n",
              "      <td>390</td>\n",
              "      <td>15</td>\n",
              "    </tr>\n",
              "    <tr>\n",
              "      <th>3</th>\n",
              "      <td>smart</td>\n",
              "      <td>4</td>\n",
              "      <td>3443</td>\n",
              "      <td>41119</td>\n",
              "      <td>1528</td>\n",
              "      <td>31</td>\n",
              "      <td>367</td>\n",
              "      <td>14</td>\n",
              "    </tr>\n",
              "    <tr>\n",
              "      <th>4</th>\n",
              "      <td>smart</td>\n",
              "      <td>5</td>\n",
              "      <td>4762</td>\n",
              "      <td>54618</td>\n",
              "      <td>2248</td>\n",
              "      <td>34</td>\n",
              "      <td>387</td>\n",
              "      <td>16</td>\n",
              "    </tr>\n",
              "    <tr>\n",
              "      <th>5</th>\n",
              "      <td>smart</td>\n",
              "      <td>6</td>\n",
              "      <td>5478</td>\n",
              "      <td>64885</td>\n",
              "      <td>2621</td>\n",
              "      <td>33</td>\n",
              "      <td>396</td>\n",
              "      <td>16</td>\n",
              "    </tr>\n",
              "    <tr>\n",
              "      <th>6</th>\n",
              "      <td>smart</td>\n",
              "      <td>7</td>\n",
              "      <td>6784</td>\n",
              "      <td>82079</td>\n",
              "      <td>3198</td>\n",
              "      <td>34</td>\n",
              "      <td>408</td>\n",
              "      <td>16</td>\n",
              "    </tr>\n",
              "    <tr>\n",
              "      <th>7</th>\n",
              "      <td>smart</td>\n",
              "      <td>8</td>\n",
              "      <td>7905</td>\n",
              "      <td>99045</td>\n",
              "      <td>3944</td>\n",
              "      <td>34</td>\n",
              "      <td>421</td>\n",
              "      <td>17</td>\n",
              "    </tr>\n",
              "    <tr>\n",
              "      <th>8</th>\n",
              "      <td>smart</td>\n",
              "      <td>9</td>\n",
              "      <td>8746</td>\n",
              "      <td>111439</td>\n",
              "      <td>4270</td>\n",
              "      <td>34</td>\n",
              "      <td>429</td>\n",
              "      <td>16</td>\n",
              "    </tr>\n",
              "    <tr>\n",
              "      <th>9</th>\n",
              "      <td>smart</td>\n",
              "      <td>10</td>\n",
              "      <td>9927</td>\n",
              "      <td>125284</td>\n",
              "      <td>4972</td>\n",
              "      <td>34</td>\n",
              "      <td>426</td>\n",
              "      <td>17</td>\n",
              "    </tr>\n",
              "    <tr>\n",
              "      <th>10</th>\n",
              "      <td>smart</td>\n",
              "      <td>11</td>\n",
              "      <td>10768</td>\n",
              "      <td>137544</td>\n",
              "      <td>5381</td>\n",
              "      <td>34</td>\n",
              "      <td>435</td>\n",
              "      <td>17</td>\n",
              "    </tr>\n",
              "    <tr>\n",
              "      <th>11</th>\n",
              "      <td>smart</td>\n",
              "      <td>12</td>\n",
              "      <td>12130</td>\n",
              "      <td>161275</td>\n",
              "      <td>6145</td>\n",
              "      <td>36</td>\n",
              "      <td>479</td>\n",
              "      <td>18</td>\n",
              "    </tr>\n",
              "  </tbody>\n",
              "</table>\n",
              "</div>"
            ],
            "text/plain": [
              "   tariff mounth       sum                     mean               \n",
              "                 count_msg dur_sum gb_sum count_msg dur_sum gb_sum\n",
              "0   smart      1       620    6931    297        18     204      9\n",
              "1   smart      2      1397   17324    687        24     299     12\n",
              "2   smart      3      2453   30034   1174        32     390     15\n",
              "3   smart      4      3443   41119   1528        31     367     14\n",
              "4   smart      5      4762   54618   2248        34     387     16\n",
              "5   smart      6      5478   64885   2621        33     396     16\n",
              "6   smart      7      6784   82079   3198        34     408     16\n",
              "7   smart      8      7905   99045   3944        34     421     17\n",
              "8   smart      9      8746  111439   4270        34     429     16\n",
              "9   smart     10      9927  125284   4972        34     426     17\n",
              "10  smart     11     10768  137544   5381        34     435     17\n",
              "11  smart     12     12130  161275   6145        36     479     18"
            ]
          },
          "metadata": {
            "tags": []
          },
          "execution_count": 31
        }
      ]
    },
    {
      "cell_type": "code",
      "metadata": {
        "colab": {
          "base_uri": "https://localhost:8080/",
          "height": 421
        },
        "id": "g-650GsFPcIt",
        "outputId": "3d09b7a5-2fa1-45e2-bd20-897a96785caf"
      },
      "source": [
        "# Найдем значения тарифа ultra по месяцам\n",
        "(df\n",
        " .query('tariff == \"ultra\"')\n",
        " .pivot_table(index=['tariff', 'mounth'], values = ['dur_sum','gb_sum','count_msg'], aggfunc = ['sum', 'mean']).reset_index()\n",
        ")"
      ],
      "execution_count": 32,
      "outputs": [
        {
          "output_type": "execute_result",
          "data": {
            "text/html": [
              "<div>\n",
              "<style scoped>\n",
              "    .dataframe tbody tr th:only-of-type {\n",
              "        vertical-align: middle;\n",
              "    }\n",
              "\n",
              "    .dataframe tbody tr th {\n",
              "        vertical-align: top;\n",
              "    }\n",
              "\n",
              "    .dataframe thead tr th {\n",
              "        text-align: left;\n",
              "    }\n",
              "</style>\n",
              "<table border=\"1\" class=\"dataframe\">\n",
              "  <thead>\n",
              "    <tr>\n",
              "      <th></th>\n",
              "      <th>tariff</th>\n",
              "      <th>mounth</th>\n",
              "      <th colspan=\"3\" halign=\"left\">sum</th>\n",
              "      <th colspan=\"3\" halign=\"left\">mean</th>\n",
              "    </tr>\n",
              "    <tr>\n",
              "      <th></th>\n",
              "      <th></th>\n",
              "      <th></th>\n",
              "      <th>count_msg</th>\n",
              "      <th>dur_sum</th>\n",
              "      <th>gb_sum</th>\n",
              "      <th>count_msg</th>\n",
              "      <th>dur_sum</th>\n",
              "      <th>gb_sum</th>\n",
              "    </tr>\n",
              "  </thead>\n",
              "  <tbody>\n",
              "    <tr>\n",
              "      <th>0</th>\n",
              "      <td>ultra</td>\n",
              "      <td>1</td>\n",
              "      <td>304</td>\n",
              "      <td>3853</td>\n",
              "      <td>120</td>\n",
              "      <td>34</td>\n",
              "      <td>428</td>\n",
              "      <td>13</td>\n",
              "    </tr>\n",
              "    <tr>\n",
              "      <th>1</th>\n",
              "      <td>ultra</td>\n",
              "      <td>2</td>\n",
              "      <td>527</td>\n",
              "      <td>7131</td>\n",
              "      <td>288</td>\n",
              "      <td>22</td>\n",
              "      <td>297</td>\n",
              "      <td>12</td>\n",
              "    </tr>\n",
              "    <tr>\n",
              "      <th>2</th>\n",
              "      <td>ultra</td>\n",
              "      <td>3</td>\n",
              "      <td>1195</td>\n",
              "      <td>18117</td>\n",
              "      <td>655</td>\n",
              "      <td>32</td>\n",
              "      <td>490</td>\n",
              "      <td>18</td>\n",
              "    </tr>\n",
              "    <tr>\n",
              "      <th>3</th>\n",
              "      <td>ultra</td>\n",
              "      <td>4</td>\n",
              "      <td>1736</td>\n",
              "      <td>25191</td>\n",
              "      <td>935</td>\n",
              "      <td>32</td>\n",
              "      <td>458</td>\n",
              "      <td>17</td>\n",
              "    </tr>\n",
              "    <tr>\n",
              "      <th>4</th>\n",
              "      <td>ultra</td>\n",
              "      <td>5</td>\n",
              "      <td>2536</td>\n",
              "      <td>34192</td>\n",
              "      <td>1302</td>\n",
              "      <td>38</td>\n",
              "      <td>510</td>\n",
              "      <td>19</td>\n",
              "    </tr>\n",
              "    <tr>\n",
              "      <th>5</th>\n",
              "      <td>ultra</td>\n",
              "      <td>6</td>\n",
              "      <td>3505</td>\n",
              "      <td>40295</td>\n",
              "      <td>1593</td>\n",
              "      <td>42</td>\n",
              "      <td>480</td>\n",
              "      <td>19</td>\n",
              "    </tr>\n",
              "    <tr>\n",
              "      <th>6</th>\n",
              "      <td>ultra</td>\n",
              "      <td>7</td>\n",
              "      <td>4536</td>\n",
              "      <td>49667</td>\n",
              "      <td>1869</td>\n",
              "      <td>50</td>\n",
              "      <td>546</td>\n",
              "      <td>21</td>\n",
              "    </tr>\n",
              "    <tr>\n",
              "      <th>7</th>\n",
              "      <td>ultra</td>\n",
              "      <td>8</td>\n",
              "      <td>5183</td>\n",
              "      <td>54653</td>\n",
              "      <td>2101</td>\n",
              "      <td>48</td>\n",
              "      <td>511</td>\n",
              "      <td>20</td>\n",
              "    </tr>\n",
              "    <tr>\n",
              "      <th>8</th>\n",
              "      <td>ultra</td>\n",
              "      <td>9</td>\n",
              "      <td>6013</td>\n",
              "      <td>62036</td>\n",
              "      <td>2214</td>\n",
              "      <td>52</td>\n",
              "      <td>539</td>\n",
              "      <td>19</td>\n",
              "    </tr>\n",
              "    <tr>\n",
              "      <th>9</th>\n",
              "      <td>ultra</td>\n",
              "      <td>10</td>\n",
              "      <td>7187</td>\n",
              "      <td>68644</td>\n",
              "      <td>2471</td>\n",
              "      <td>58</td>\n",
              "      <td>558</td>\n",
              "      <td>20</td>\n",
              "    </tr>\n",
              "    <tr>\n",
              "      <th>10</th>\n",
              "      <td>ultra</td>\n",
              "      <td>11</td>\n",
              "      <td>7476</td>\n",
              "      <td>72545</td>\n",
              "      <td>2657</td>\n",
              "      <td>56</td>\n",
              "      <td>541</td>\n",
              "      <td>20</td>\n",
              "    </tr>\n",
              "    <tr>\n",
              "      <th>11</th>\n",
              "      <td>ultra</td>\n",
              "      <td>12</td>\n",
              "      <td>8425</td>\n",
              "      <td>82400</td>\n",
              "      <td>3028</td>\n",
              "      <td>61</td>\n",
              "      <td>593</td>\n",
              "      <td>22</td>\n",
              "    </tr>\n",
              "  </tbody>\n",
              "</table>\n",
              "</div>"
            ],
            "text/plain": [
              "   tariff mounth       sum                     mean               \n",
              "                 count_msg dur_sum gb_sum count_msg dur_sum gb_sum\n",
              "0   ultra      1       304    3853    120        34     428     13\n",
              "1   ultra      2       527    7131    288        22     297     12\n",
              "2   ultra      3      1195   18117    655        32     490     18\n",
              "3   ultra      4      1736   25191    935        32     458     17\n",
              "4   ultra      5      2536   34192   1302        38     510     19\n",
              "5   ultra      6      3505   40295   1593        42     480     19\n",
              "6   ultra      7      4536   49667   1869        50     546     21\n",
              "7   ultra      8      5183   54653   2101        48     511     20\n",
              "8   ultra      9      6013   62036   2214        52     539     19\n",
              "9   ultra     10      7187   68644   2471        58     558     20\n",
              "10  ultra     11      7476   72545   2657        56     541     20\n",
              "11  ultra     12      8425   82400   3028        61     593     22"
            ]
          },
          "metadata": {
            "tags": []
          },
          "execution_count": 32
        }
      ]
    },
    {
      "cell_type": "markdown",
      "metadata": {
        "id": "bTJjrwA8PcIt"
      },
      "source": [
        "**Вывод**\n",
        "- Клиенты тарифа \"smart\" в 2 раза больше наговорили минут и просидели в интернете, чем клиенты \"ultra\". \n",
        "- От месяца к месяцу видно как значения увеличиваются - это говорит о том, что к тарифам подключаются новые клиенты, к дешевому тарифу подключаются чаще, поэтому динамика увеличения общих показателей имеет большую прогрессию;\n",
        "- Хотя средние значения показателей выше у тарифа \"ultra\", прогрессия выше. "
      ]
    },
    {
      "cell_type": "markdown",
      "metadata": {
        "id": "pi4i-q3mPcIu"
      },
      "source": [
        "***Деление датасета по тарифам***<a id=\"del_tariff\"></a>"
      ]
    },
    {
      "cell_type": "code",
      "metadata": {
        "colab": {
          "base_uri": "https://localhost:8080/",
          "height": 115
        },
        "id": "KUthnDYvPcIu",
        "outputId": "dea0e054-9ab1-42da-f271-d08c4dff1e1f"
      },
      "source": [
        "# Разделим датасет по тарифам\n",
        "df_smart = df.query('tariff == \"smart\"')\n",
        "df_1=df_smart.loc[:, ['dur_sum', 'gb_sum', 'count_msg', 'all_profit']]\n",
        "# Определим средние значения для тарифа \"smart\"\n",
        "display(df_1.mean())\n",
        "display(len(df_1))"
      ],
      "execution_count": 33,
      "outputs": [
        {
          "output_type": "display_data",
          "data": {
            "text/plain": [
              "dur_sum       418\n",
              "gb_sum         16\n",
              "count_msg      33\n",
              "all_profit   1295\n",
              "dtype: float64"
            ]
          },
          "metadata": {
            "tags": []
          }
        },
        {
          "output_type": "display_data",
          "data": {
            "text/plain": [
              "2229"
            ]
          },
          "metadata": {
            "tags": []
          }
        }
      ]
    },
    {
      "cell_type": "code",
      "metadata": {
        "colab": {
          "base_uri": "https://localhost:8080/",
          "height": 115
        },
        "id": "-5UVdqUrPcIu",
        "outputId": "b75593c5-d319-4e2b-e91c-96f4098d039b"
      },
      "source": [
        "df_ultra = df.query('tariff == \"ultra\"')\n",
        "df_2=df_ultra.loc[:, ['dur_sum', 'gb_sum', 'count_msg', 'all_profit']]\n",
        "# Определим средние значения для тарифа \"ultra\"\n",
        "display(df_2.mean())\n",
        "display(len(df_2))"
      ],
      "execution_count": 34,
      "outputs": [
        {
          "output_type": "display_data",
          "data": {
            "text/plain": [
              "dur_sum       527\n",
              "gb_sum         20\n",
              "count_msg      49\n",
              "all_profit   2071\n",
              "dtype: float64"
            ]
          },
          "metadata": {
            "tags": []
          }
        },
        {
          "output_type": "display_data",
          "data": {
            "text/plain": [
              "985"
            ]
          },
          "metadata": {
            "tags": []
          }
        }
      ]
    },
    {
      "cell_type": "markdown",
      "metadata": {
        "id": "2cP3r5JXPcIu"
      },
      "source": [
        "**Вывод**\n",
        "- Среднее значение суммарных минут, gb, сообщений, выручки у тарифа \"ultra' выше;\n",
        "- Выборка у тарифа смарт в 2 раза больше, чем выборка тарифа ультра (не каждый готов заплатить 1950 в месяц)."
      ]
    },
    {
      "cell_type": "markdown",
      "metadata": {
        "id": "6psc2qyXPcIu"
      },
      "source": [
        "***Определение дисперсии***<a id=\"var\"></a>"
      ]
    },
    {
      "cell_type": "code",
      "metadata": {
        "colab": {
          "base_uri": "https://localhost:8080/",
          "height": 98
        },
        "id": "Us-b4tb8PcIv",
        "outputId": "36313bd5-0733-4d43-faee-2cb12ec9541c"
      },
      "source": [
        "variance_smart = np.var(df_1, ddof=1)\n",
        "display(variance_smart)"
      ],
      "execution_count": 35,
      "outputs": [
        {
          "output_type": "display_data",
          "data": {
            "text/plain": [
              "dur_sum       36219\n",
              "gb_sum           33\n",
              "count_msg       797\n",
              "all_profit   673931\n",
              "dtype: float64"
            ]
          },
          "metadata": {
            "tags": []
          }
        }
      ]
    },
    {
      "cell_type": "code",
      "metadata": {
        "colab": {
          "base_uri": "https://localhost:8080/",
          "height": 98
        },
        "id": "pE3GQyVVPcIv",
        "outputId": "5dde803e-9939-46b8-ae4f-77fba8a53fd9"
      },
      "source": [
        "variance_ultra = np.var(df_2, ddof=1)\n",
        "display(variance_ultra)"
      ],
      "execution_count": 36,
      "outputs": [
        {
          "output_type": "display_data",
          "data": {
            "text/plain": [
              "dur_sum      100874\n",
              "gb_sum           97\n",
              "count_msg      2285\n",
              "all_profit   143491\n",
              "dtype: float64"
            ]
          },
          "metadata": {
            "tags": []
          }
        }
      ]
    },
    {
      "cell_type": "markdown",
      "metadata": {
        "id": "YCpK0-2BPcIv"
      },
      "source": [
        "**Вывод**\n",
        "- большой разброс имеют значения минут, гб, сообщений в тарифе \"ultra\", а также большой разброс имеет выручка у тарифа \"smart\""
      ]
    },
    {
      "cell_type": "markdown",
      "metadata": {
        "id": "IOHRNn6wPcIv"
      },
      "source": [
        "***Определение стандартного отклонение***<a id=\"std\"></a>"
      ]
    },
    {
      "cell_type": "code",
      "metadata": {
        "colab": {
          "base_uri": "https://localhost:8080/",
          "height": 98
        },
        "id": "a3utgN2-PcIw",
        "outputId": "22843357-2f93-426a-b703-437f26b3a938"
      },
      "source": [
        "std_smart = np.std(df_1, ddof=1)\n",
        "display(std_smart)"
      ],
      "execution_count": 37,
      "outputs": [
        {
          "output_type": "display_data",
          "data": {
            "text/plain": [
              "dur_sum      190\n",
              "gb_sum         6\n",
              "count_msg     28\n",
              "all_profit   821\n",
              "dtype: float64"
            ]
          },
          "metadata": {
            "tags": []
          }
        }
      ]
    },
    {
      "cell_type": "code",
      "metadata": {
        "colab": {
          "base_uri": "https://localhost:8080/",
          "height": 98
        },
        "id": "berl5guFPcIw",
        "outputId": "4e1c5237-dc2b-416e-fa0e-36e87c5c4a4f"
      },
      "source": [
        "std_ultra = np.std(df_2, ddof=1)\n",
        "display(std_ultra)"
      ],
      "execution_count": 38,
      "outputs": [
        {
          "output_type": "display_data",
          "data": {
            "text/plain": [
              "dur_sum      318\n",
              "gb_sum        10\n",
              "count_msg     48\n",
              "all_profit   379\n",
              "dtype: float64"
            ]
          },
          "metadata": {
            "tags": []
          }
        }
      ]
    },
    {
      "cell_type": "markdown",
      "metadata": {
        "id": "D4KZXPfDPcIw"
      },
      "source": [
        "***Вывод***\n",
        "- Отклонения как и дисперсия выше у тарифа \"ultra\", а вот выручка у тарифа \"smart\" выходит в лидеры. Кто-то не оценил своих способностей поболтать и посидеть в интернете и выбился из тарифа, тем самым увеличив выручку оператору.\n",
        "- Правило 3 сигм, определение выбросов: \n",
        "    1. Тариф смарт: минуты = 418+3*190 = 988; гб=16+18 = 34; смс=33+3*28=117; выручка=1295+3*821=3758;\n",
        "    2. Тариф ультра: минуты = 527+3*318 = 1481; гб=20+30 = 50; смс=49+3*48=193; выручка=2071+3*379=3208(меньше 1950 не может быть);"
      ]
    },
    {
      "cell_type": "markdown",
      "metadata": {
        "id": "tKkJlWVDPcIw"
      },
      "source": [
        "***Построение гистограмм и оценка распределения***<a id=\"hist\"></a>"
      ]
    },
    {
      "cell_type": "code",
      "metadata": {
        "scrolled": false,
        "colab": {
          "base_uri": "https://localhost:8080/",
          "height": 1000
        },
        "id": "vAX24MTsPcIx",
        "outputId": "1824985d-4bb8-4ac4-ea38-f8b58aa9a4cf"
      },
      "source": [
        "def show_me_hist(df, i):\n",
        "    df[df.columns.values[i]].hist(bins=50)\n",
        "    plt.xlabel('sum')\n",
        "    plt.ylabel('frequency')\n",
        "    plt.title(df.columns.values[i])\n",
        "    plt.show()\n",
        "\n",
        "for i in range(4):\n",
        "    show_me_hist(df_1, i)\n",
        "# тариф смарт"
      ],
      "execution_count": 39,
      "outputs": [
        {
          "output_type": "display_data",
          "data": {
            "image/png": "[encoded data removed]",
            "text/plain": [
              "<Figure size 432x288 with 1 Axes>"
            ]
          },
          "metadata": {
            "tags": [],
            "needs_background": "light"
          }
        },
        {
          "output_type": "display_data",
          "data": {
            "image/png": "[encoded data removed]",
            "text/plain": [
              "<Figure size 432x288 with 1 Axes>"
            ]
          },
          "metadata": {
            "tags": [],
            "needs_background": "light"
          }
        },
        {
          "output_type": "display_data",
          "data": {
            "image/png": "[encoded data removed]",
            "text/plain": [
              "<Figure size 432x288 with 1 Axes>"
            ]
          },
          "metadata": {
            "tags": [],
            "needs_background": "light"
          }
        },
        {
          "output_type": "display_data",
          "data": {
            "image/png": "[encoded data removed]",
            "text/plain": [
              "<Figure size 432x288 with 1 Axes>"
            ]
          },
          "metadata": {
            "tags": [],
            "needs_background": "light"
          }
        }
      ]
    },
    {
      "cell_type": "markdown",
      "metadata": {
        "id": "9qP7fZ1dPcIx"
      },
      "source": [
        "***Вывод***\n",
        "- Основная масса использует тариф по назначению, есть небольшое кол-во использующих сим-карту в планшете или модеме(нет расхода минут), также есть выбросы в виде отдельных личностей, отличающихся особой болтливостью, либо они забыли какой тариф подключили - нормальное распределение, скошен вправо;\n",
        "- вот с интернетом дела плохи, всем нужно больше \"гигабайт\" в среднем 20! Но зато оператор получает значительно больше денег за счет гигабайт вне тарифа - нормальное распределение, скошен вправо;\n",
        "- СМС - большинство либо вовсе ими не пользуется, либо укладывается в тариф, но есть и адепты СМС, но тариф менять не хотят - большое 0 значение, но нормальное распределение, скошен вправо;\n",
        "- Выручка - треть выборки платит абонентскую плату не выходя за рамки, остальным тарифа не хватает, и они вынуждены платить даже больше, чем в тарифе \"ультра\". Дальше 3758 - уже выбросы, есть даже больше 5500(наверно ребенок нашел папин телефон и ни в чем себе не отказывал), максимум тарифа ультра - не доходит до 4000."
      ]
    },
    {
      "cell_type": "code",
      "metadata": {
        "colab": {
          "base_uri": "https://localhost:8080/",
          "height": 1000
        },
        "id": "SglZj6O5PcIx",
        "outputId": "6d9f1b91-7f11-49ac-9e2d-e891e1ec8e48"
      },
      "source": [
        "for i in range(4):\n",
        "    show_me_hist(df_2, i)\n",
        "# тариф ультра"
      ],
      "execution_count": 40,
      "outputs": [
        {
          "output_type": "display_data",
          "data": {
            "image/png": "[encoded data removed]",
            "text/plain": [
              "<Figure size 432x288 with 1 Axes>"
            ]
          },
          "metadata": {
            "tags": [],
            "needs_background": "light"
          }
        },
        {
          "output_type": "display_data",
          "data": {
            "image/png": "[encoded data removed]",
            "text/plain": [
              "<Figure size 432x288 with 1 Axes>"
            ]
          },
          "metadata": {
            "tags": [],
            "needs_background": "light"
          }
        },
        {
          "output_type": "display_data",
          "data": {
            "image/png": "[encoded data removed]",
            "text/plain": [
              "<Figure size 432x288 with 1 Axes>"
            ]
          },
          "metadata": {
            "tags": [],
            "needs_background": "light"
          }
        },
        {
          "output_type": "display_data",
          "data": {
            "image/png": "[encoded data removed]",
            "text/plain": [
              "<Figure size 432x288 with 1 Axes>"
            ]
          },
          "metadata": {
            "tags": [],
            "needs_background": "light"
          }
        }
      ]
    },
    {
      "cell_type": "markdown",
      "metadata": {
        "id": "vBkaWpe8PcIx"
      },
      "source": [
        "***Выводы***\n",
        "- Тариф \"ультра\" многие приобретают для серфинга в интернете, т.к. если на тарифе смарт превысить лимит, то можно попась еще на +3000 рублей за ГБ;\n",
        "- Данный тариф, хоть и имеет 3000 бесплатных минут, многие их вообще не используют, т.к. симка в планшете, а большая часть разговаривает до 800 минут, никто из клиентов не выходил за рамки дозволенного;\n",
        "- Предельный объем трафика большую часть клиентов устраивает, т.к. основная часть выборки до 30 гб;\n",
        "- СМС - как и в тарифе \"смарт\" теряет актуальность, но клиенты этого тарифа пользуются СМС чаще практически в 2 раза;\n",
        "- Выручка - практически вся выборка входит в рамки тарифа за 1950, но есть минимальное кол-во клиентов, которые выходят за рамки по трафику в интернете."
      ]
    },
    {
      "cell_type": "markdown",
      "metadata": {
        "id": "HFakMyYfPcIy"
      },
      "source": [
        "### Шаг 4. Проверка гипотезы<a id=\"reserch3\"></a>"
      ]
    },
    {
      "cell_type": "markdown",
      "metadata": {
        "id": "waulHeCiPcIy"
      },
      "source": [
        "***Первая гипотеза***, которую нужно проверить:\n",
        "\n",
        "Формулировка двухсторонних гипотез заключается в том, что нулевая гипотеза должна иметь знак равенства:\n",
        "- H₀: Cредние выручки пользователей тарифов «Ультра» и «Смарт» равны.\n",
        "- H₁: Cредняя выручка пользователей тарифов «Ультра» и «Смарт» различается;\n",
        "\n",
        "Чтобы проверить гипотезу о равенстве/неравенстве среднего двух выборок применим метод scipy.stats.ttest_ind (array1, array2, equal_var) ."
      ]
    },
    {
      "cell_type": "code",
      "metadata": {
        "colab": {
          "base_uri": "https://localhost:8080/"
        },
        "id": "OaK5TRlTPcIz",
        "outputId": "09ec119f-0d18-4315-e2a5-741e231ba11d"
      },
      "source": [
        "# Подготоовим выборки по тарифной выручке со всех клиентов\n",
        "df_s_prof=df_smart.loc[:, ['all_profit']]\n",
        "df_u_prof=df_ultra.loc[:, ['all_profit']]\n",
        "# сравним дисперсии методом Левене, чтобы понять какой параметр equal_var указывать\n",
        "from scipy.stats import levene\n",
        "sample1=df_s_prof['all_profit'].tolist()\n",
        "sample2=df_u_prof['all_profit'].tolist()\n",
        "stat, p = levene(sample1, sample2)\n",
        "p"
      ],
      "execution_count": 41,
      "outputs": [
        {
          "output_type": "execute_result",
          "data": {
            "text/plain": [
              "1.6855369377883898e-124"
            ]
          },
          "metadata": {
            "tags": []
          },
          "execution_count": 41
        }
      ]
    },
    {
      "cell_type": "markdown",
      "metadata": {
        "id": "50Bf-hMEPcIz"
      },
      "source": [
        "- Можно сделать вывод, что дисперсии выборок не равны и поэтому нужно использовать параметр equal_var=False."
      ]
    },
    {
      "cell_type": "code",
      "metadata": {
        "colab": {
          "base_uri": "https://localhost:8080/"
        },
        "id": "EMiYvNYdPcIz",
        "outputId": "9b164d6a-ee19-4e05-ff00-3cc9f0ae4c42"
      },
      "source": [
        "# Дополнительно сравним дисперсии\n",
        "[np.var(x, ddof=1) for x in [df_s_prof['all_profit'], df_u_prof['all_profit']]]"
      ],
      "execution_count": 42,
      "outputs": [
        {
          "output_type": "execute_result",
          "data": {
            "text/plain": [
              "[673931.3213632498, 143491.2405596106]"
            ]
          },
          "metadata": {
            "tags": []
          },
          "execution_count": 42
        }
      ]
    },
    {
      "cell_type": "code",
      "metadata": {
        "colab": {
          "base_uri": "https://localhost:8080/"
        },
        "id": "LT9YsELLPcIz",
        "outputId": "e46667ec-281c-4cba-8ebe-a82986c33c5d"
      },
      "source": [
        "from scipy import stats as st\n",
        "alpha = .05 # критический уровень статистической значимости\n",
        "            # если p-value окажется меньше него - отвергнем нулевую гипотезу\n",
        "results = st.ttest_ind(\n",
        "    sample1, \n",
        "    sample2, equal_var=False)\n",
        "\n",
        "print('p-значение:', results.pvalue)\n",
        "\n",
        "if (results.pvalue < alpha):\n",
        "    print(\"Отвергаем нулевую гипотезу\")\n",
        "else:\n",
        "    print(\"Не получилось отвергнуть нулевую гипотезу\")"
      ],
      "execution_count": 43,
      "outputs": [
        {
          "output_type": "stream",
          "text": [
            "p-значение: 2.7240946993530856e-246\n",
            "Отвергаем нулевую гипотезу\n"
          ],
          "name": "stdout"
        }
      ]
    },
    {
      "cell_type": "markdown",
      "metadata": {
        "id": "anxVTmh1PcI0"
      },
      "source": [
        "***Вывод***\n",
        "1. Полученное значение p-value отвергает нулевую гипотезу H₀. Это говорит о том, что средние выручки тарифов с большой вероятностью различны и нельзя сказать о их равенстве."
      ]
    },
    {
      "cell_type": "markdown",
      "metadata": {
        "id": "sfgMz29WPcI0"
      },
      "source": [
        "***Вторая гипотеза***, которую нужно проверить:\n",
        "- H₀: Cредние выручки пользователей из Москвы и других регионов равны; \n",
        "- H₁: Cредняя выручка пользователей из Москвы отличается от выручки пользователей из других регионов."
      ]
    },
    {
      "cell_type": "code",
      "metadata": {
        "colab": {
          "base_uri": "https://localhost:8080/",
          "height": 277
        },
        "id": "Zd0xsZQrPcI0",
        "outputId": "4f9702b7-af9d-4665-f799-915e99a4fbc2"
      },
      "source": [
        "# Подготовим выборки клиентов из Москвы\n",
        "df_m = df.query('city == \"Москва\"')\n",
        "df_m_p = df_m.loc[:,['all_profit']]\n",
        "df_m_p.describe()"
      ],
      "execution_count": 44,
      "outputs": [
        {
          "output_type": "execute_result",
          "data": {
            "text/html": [
              "<div>\n",
              "<style scoped>\n",
              "    .dataframe tbody tr th:only-of-type {\n",
              "        vertical-align: middle;\n",
              "    }\n",
              "\n",
              "    .dataframe tbody tr th {\n",
              "        vertical-align: top;\n",
              "    }\n",
              "\n",
              "    .dataframe thead th {\n",
              "        text-align: right;\n",
              "    }\n",
              "</style>\n",
              "<table border=\"1\" class=\"dataframe\">\n",
              "  <thead>\n",
              "    <tr style=\"text-align: right;\">\n",
              "      <th></th>\n",
              "      <th>all_profit</th>\n",
              "    </tr>\n",
              "  </thead>\n",
              "  <tbody>\n",
              "    <tr>\n",
              "      <th>count</th>\n",
              "      <td>611</td>\n",
              "    </tr>\n",
              "    <tr>\n",
              "      <th>mean</th>\n",
              "      <td>1551</td>\n",
              "    </tr>\n",
              "    <tr>\n",
              "      <th>std</th>\n",
              "      <td>752</td>\n",
              "    </tr>\n",
              "    <tr>\n",
              "      <th>min</th>\n",
              "      <td>550</td>\n",
              "    </tr>\n",
              "    <tr>\n",
              "      <th>25%</th>\n",
              "      <td>798</td>\n",
              "    </tr>\n",
              "    <tr>\n",
              "      <th>50%</th>\n",
              "      <td>1750</td>\n",
              "    </tr>\n",
              "    <tr>\n",
              "      <th>75%</th>\n",
              "      <td>1950</td>\n",
              "    </tr>\n",
              "    <tr>\n",
              "      <th>max</th>\n",
              "      <td>5321</td>\n",
              "    </tr>\n",
              "  </tbody>\n",
              "</table>\n",
              "</div>"
            ],
            "text/plain": [
              "       all_profit\n",
              "count         611\n",
              "mean         1551\n",
              "std           752\n",
              "min           550\n",
              "25%           798\n",
              "50%          1750\n",
              "75%          1950\n",
              "max          5321"
            ]
          },
          "metadata": {
            "tags": []
          },
          "execution_count": 44
        }
      ]
    },
    {
      "cell_type": "code",
      "metadata": {
        "colab": {
          "base_uri": "https://localhost:8080/",
          "height": 277
        },
        "id": "dcdIn1GXPcI1",
        "outputId": "2c83b85f-16c0-408a-f39d-e3e0afbff84d"
      },
      "source": [
        "# Из других городов\n",
        "df_other = df.query('city not in \"Москва\"')\n",
        "df_other_p = df_other.loc[:,['all_profit']]\n",
        "df_other_p.describe()"
      ],
      "execution_count": 45,
      "outputs": [
        {
          "output_type": "execute_result",
          "data": {
            "text/html": [
              "<div>\n",
              "<style scoped>\n",
              "    .dataframe tbody tr th:only-of-type {\n",
              "        vertical-align: middle;\n",
              "    }\n",
              "\n",
              "    .dataframe tbody tr th {\n",
              "        vertical-align: top;\n",
              "    }\n",
              "\n",
              "    .dataframe thead th {\n",
              "        text-align: right;\n",
              "    }\n",
              "</style>\n",
              "<table border=\"1\" class=\"dataframe\">\n",
              "  <thead>\n",
              "    <tr style=\"text-align: right;\">\n",
              "      <th></th>\n",
              "      <th>all_profit</th>\n",
              "    </tr>\n",
              "  </thead>\n",
              "  <tbody>\n",
              "    <tr>\n",
              "      <th>count</th>\n",
              "      <td>2603</td>\n",
              "    </tr>\n",
              "    <tr>\n",
              "      <th>mean</th>\n",
              "      <td>1528</td>\n",
              "    </tr>\n",
              "    <tr>\n",
              "      <th>std</th>\n",
              "      <td>810</td>\n",
              "    </tr>\n",
              "    <tr>\n",
              "      <th>min</th>\n",
              "      <td>550</td>\n",
              "    </tr>\n",
              "    <tr>\n",
              "      <th>25%</th>\n",
              "      <td>750</td>\n",
              "    </tr>\n",
              "    <tr>\n",
              "      <th>50%</th>\n",
              "      <td>1587</td>\n",
              "    </tr>\n",
              "    <tr>\n",
              "      <th>75%</th>\n",
              "      <td>1950</td>\n",
              "    </tr>\n",
              "    <tr>\n",
              "      <th>max</th>\n",
              "      <td>6770</td>\n",
              "    </tr>\n",
              "  </tbody>\n",
              "</table>\n",
              "</div>"
            ],
            "text/plain": [
              "       all_profit\n",
              "count        2603\n",
              "mean         1528\n",
              "std           810\n",
              "min           550\n",
              "25%           750\n",
              "50%          1587\n",
              "75%          1950\n",
              "max          6770"
            ]
          },
          "metadata": {
            "tags": []
          },
          "execution_count": 45
        }
      ]
    },
    {
      "cell_type": "markdown",
      "metadata": {
        "id": "UR2--fzbPcI1"
      },
      "source": [
        "Если посмотреть на две выборки, мы увидим, что выборка других городов больше в 4,3 раза выборки из Москвы. Но среднее и отклонение выручки примерно равны. Есть предположение, что наша нулевая гипотеза с большей вероятностью не будет отвергнута. "
      ]
    },
    {
      "cell_type": "code",
      "metadata": {
        "colab": {
          "base_uri": "https://localhost:8080/"
        },
        "id": "zV_Q1SphPcI1",
        "outputId": "78b5e7af-4d90-4302-951c-b389f06b0124"
      },
      "source": [
        "# сравним дисперсии методом Левене, чтобы понять какой параметр equal_var указывать\n",
        "sample_1=df_m_p['all_profit'].tolist()\n",
        "sample_2=df_other_p['all_profit'].tolist()\n",
        "stat, p = levene(sample_1, sample_2)\n",
        "p"
      ],
      "execution_count": 46,
      "outputs": [
        {
          "output_type": "execute_result",
          "data": {
            "text/plain": [
              "0.009373921759468934"
            ]
          },
          "metadata": {
            "tags": []
          },
          "execution_count": 46
        }
      ]
    },
    {
      "cell_type": "markdown",
      "metadata": {
        "id": "Bmetj26APcI1"
      },
      "source": [
        "- Дисперсии близки, но не равны, применим параметр equal_var = False"
      ]
    },
    {
      "cell_type": "code",
      "metadata": {
        "colab": {
          "base_uri": "https://localhost:8080/"
        },
        "id": "p--QP5ZxPcI2",
        "outputId": "05fc4d7a-a18c-457b-e65f-7407b9e7ddb2"
      },
      "source": [
        "# Дополнительно сравним дисперсии\n",
        "[np.var(x, ddof=1) for x in [sample_1, sample_2]]"
      ],
      "execution_count": 47,
      "outputs": [
        {
          "output_type": "execute_result",
          "data": {
            "text/plain": [
              "[566183.0292184273, 656766.5955122437]"
            ]
          },
          "metadata": {
            "tags": []
          },
          "execution_count": 47
        }
      ]
    },
    {
      "cell_type": "code",
      "metadata": {
        "colab": {
          "base_uri": "https://localhost:8080/"
        },
        "id": "aGlqZzGtPcI2",
        "outputId": "0df2924d-fd98-42f5-a0c2-6f28628f1850"
      },
      "source": [
        "alpha = .05 # критический уровень статистической значимости\n",
        "            # если p-value окажется меньше него - отвергнем нулевую гипотезу\n",
        "results = st.ttest_ind(sample_1, sample_2, equal_var=False)\n",
        "\n",
        "print('p-значение:', results.pvalue)\n",
        "\n",
        "if (results.pvalue < alpha):\n",
        "    print(\"Отвергаем нулевую гипотезу\")\n",
        "else:\n",
        "    print(\"Не получилось отвергнуть нулевую гипотезу\")"
      ],
      "execution_count": 48,
      "outputs": [
        {
          "output_type": "stream",
          "text": [
            "p-значение: 0.5126564657748214\n",
            "Не получилось отвергнуть нулевую гипотезу\n"
          ],
          "name": "stdout"
        }
      ]
    },
    {
      "cell_type": "markdown",
      "metadata": {
        "id": "rF45eSFIPcI2"
      },
      "source": [
        "***Вывод***\n",
        "- Полученное значение p-value не отвергает нулевую гипотезу и говорит о том, что хотя средняя выручка от клиентов из Москвы и других регионов неодинаковы, с вероятностью в почти 51% такое или большее различие можно получить случайно. Это явно слишком большая вероятность, чтобы делать вывод о значимом различии между средними."
      ]
    },
    {
      "cell_type": "markdown",
      "metadata": {
        "id": "M3wMlo9kPcI2"
      },
      "source": [
        "### Шаг 5. Общий вывод<a id=\"total_result\"></a>"
      ]
    },
    {
      "cell_type": "markdown",
      "metadata": {
        "id": "LpH3FidRPcI3"
      },
      "source": [
        "**Была проведена подготовка данных к анализу:**\n",
        "- удалены быстрые звонки 0 сек. - это привело к улучшению столбца суммарных минут, снизилось отклонение от среднего;\n",
        "- удалены пользователи, не пользующиеся услугой и расторгнувшие договор в течение 5 дней после заключения;\n",
        "- определена общая выручка по тарифам за месяц на каждого клиента.\n",
        "\n",
        "**В ходе анализа было выявлено:**\n",
        "- Выборка у тарифа \"Смарт\" в 2 раза больше, чем выборка тарифа \"Ультра\" (не каждый готов заплатить 1950 в месяц);\n",
        "- От месяца к месяцу видно как значения увеличиваются - это говорит о том, что к тарифам подключаются новые клиенты, к дешевому тарифу подключаются чаще, поэтому динамика увеличения общих показателей имеет большую прогрессию;\n",
        "- Хотя средние значения показателей выше у тарифа \"ultra\";\n",
        "- Отклонение как и дисперсия основных показателей выше у тарифа \"ultra\", а вот отклонение выручки у тарифа \"smart\". Кто-то не оценил своих способностей поболтать и посидеть в интернете и выбился из тарифа, тем самым увеличив выручку оператору;\n",
        "- По правилу 3 сигм, определены выбросы:\n",
        "    - Тариф смарт: дальше значений - минуты=988; гб=34; смс=117; выручка=3758;\n",
        "    - Тариф ультра: минуты=1481; гб=50; смс=193; выручка=3208(меньше 1950 не может быть);\n",
        "    \n",
        "**Описание поведения клиентов:**\n",
        "\n",
        "Тариф \"Смарт\":\n",
        "- Основная масса использует тариф по назначению, есть небольшое кол-во использующих сим-карту в планшете или модеме(нет расхода минут), также есть выбросы в виде отдельных личностей, отличающихся особой болтливостью, либо они забыли какой тариф подключили.\n",
        "- вот с интернетом дела плохи, всем нужно больше \"гигабайт\" в среднем 20!\n",
        "- СМС - большинство либо вовсе ими не пользуется, либо укладывается в тариф, но есть и адепты СМС, но тариф менять не хотят.\n",
        "- выручка - треть выборки платит абонентскую плату не выходя за рамки, остальным тарифа не хватает, и они вынуждены платить даже больше, чем в тарифе \"ультра\". Дальше 3758 - уже выбросы, есть даже больше 5500.\n",
        "\n",
        "Тариф \"Ультра\":\n",
        "- Тариф \"ультра\" многие приобретают для серфинга в интернете, т.к. если на тарифе смарт превысить лимит, то можно попась еще на +3000 рублей за ГБ;\n",
        "- Данный тариф, хоть и имеет 3000 бесплатных минут, многие их вообще не используют, т.к. симка в планшете, а большая часть разговаривает до 800 минут, никто из клиентов не выходил за рамки дозволенного;\n",
        "- Предельный объем трафика большую часть клиентов устраивает, т.к. основная часть выборки до 30 гб;\n",
        "- СМС - как и в тарифе \"смарт\" теряет актуальность, но клиенты этого тарифа пользуются СМС чаще практически в 2 раза;\n",
        "- Выручка - практически вся выборка входит в рамки тарифа за 1950, но есть минимальное кол-во клиентов, которые выходят за рамки по трафику в интернете.\n",
        "\n",
        "**Гипотезы:**\n",
        "1. Первая гипотеза \"Cредние выручки пользователей тарифов «Ультра» и «Смарт» равны\": Полученное значение p-value отвергает нулевую гипотезу H₀. Это говорит о том, что средние выручки тарифов с большой вероятностью различны и нельзя сказать о их равенстве.\n",
        "2. Вторая гипотеза \"Cредние выручки пользователей из Москвы и других регионов равны\": Полученное значение p-value не отвергает нулевую гипотезу и говорит о том, что хотя средняя выручка от клиентов из Москвы и других регионов неодинаковы, с вероятностью в почти 51% такое или большее различие можно получить случайно. Это явно слишком большая вероятность, чтобы делать вывод о значимом различии между средними."
      ]
    }
  ]
}