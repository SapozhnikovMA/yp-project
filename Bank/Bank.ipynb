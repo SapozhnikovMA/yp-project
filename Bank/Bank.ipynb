{
  "nbformat": 4,
  "nbformat_minor": 0,
  "metadata": {
    "kernelspec": {
      "display_name": "Python 3",
      "language": "python",
      "name": "python3"
    },
    "language_info": {
      "codemirror_mode": {
        "name": "ipython",
        "version": 3
      },
      "file_extension": ".py",
      "mimetype": "text/x-python",
      "name": "python",
      "nbconvert_exporter": "python",
      "pygments_lexer": "ipython3",
      "version": "3.7.8"
    },
    "toc": {
      "base_numbering": 1,
      "nav_menu": {},
      "number_sections": true,
      "sideBar": true,
      "skip_h1_title": false,
      "title_cell": "Table of Contents",
      "title_sidebar": "Contents",
      "toc_cell": false,
      "toc_position": {},
      "toc_section_display": true,
      "toc_window_display": false
    },
    "colab": {
      "name": "e9362a5d-de9d-4641-9755-20edf63bfe54.ipynb",
      "provenance": [],
      "collapsed_sections": [],
      "toc_visible": true
    }
  },
  "cells": [
    {
      "cell_type": "markdown",
      "metadata": {
        "id": "0zfbhmlenYJm"
      },
      "source": [
        "# Отток клиентов"
      ]
    },
    {
      "cell_type": "markdown",
      "metadata": {
        "id": "K2XbbIlxnYJm"
      },
      "source": [
        "Нужно спрогнозировать, уйдёт клиент из банка в ближайшее время или нет. Вам предоставлены исторические данные о поведении клиентов и расторжении договоров с банком. \n",
        "\n",
        "Постройте модель с предельно большим значением *F1*-меры. Чтобы сдать проект успешно, нужно довести метрику до 0.59. Проверьте *F1*-меру на тестовой выборке самостоятельно.\n",
        "\n",
        "Дополнительно измеряйте *AUC-ROC*, сравнивайте её значение с *F1*-мерой.\n",
        "\n",
        "Источник данных: [https://www.kaggle.com/barelydedicated/bank-customer-churn-modeling](https://www.kaggle.com/barelydedicated/bank-customer-churn-modeling)"
      ]
    },
    {
      "cell_type": "markdown",
      "metadata": {
        "id": "xO2f2hVAnYJn"
      },
      "source": [
        "### Цель:\n",
        "- Cпрогнозировать, уйдёт клиент из банка в ближайшее время или нет.\n",
        "- Построить модель с предельно большим значением F1-меры"
      ]
    },
    {
      "cell_type": "markdown",
      "metadata": {
        "id": "VQJDSEA6nYJo"
      },
      "source": [
        "# Ознакомление и подготовка данных"
      ]
    },
    {
      "cell_type": "code",
      "metadata": {
        "id": "Zx6jmvSKnYJo"
      },
      "source": [
        "# Загрузили библиотеки\n",
        "import pandas as pd\n",
        "import numpy as np\n",
        "import matplotlib.pyplot as plt\n",
        "from sklearn.impute import SimpleImputer\n",
        "from sklearn.preprocessing import OrdinalEncoder\n",
        "from sklearn.preprocessing import StandardScaler\n",
        "from sklearn.compose import ColumnTransformer\n",
        "from sklearn.pipeline import Pipeline\n",
        "from sklearn.model_selection import train_test_split\n",
        "from sklearn.linear_model import LogisticRegression\n",
        "from sklearn.tree import DecisionTreeClassifier\n",
        "from sklearn.ensemble import RandomForestClassifier\n",
        "from sklearn.ensemble import GradientBoostingClassifier\n",
        "from sklearn.metrics import accuracy_score\n",
        "from sklearn.metrics import roc_curve\n",
        "from sklearn.metrics import roc_auc_score\n",
        "from sklearn.metrics import f1_score\n",
        "from sklearn.metrics import precision_score\n",
        "from sklearn.metrics import recall_score\n",
        "from sklearn.metrics import confusion_matrix\n",
        "from sklearn.metrics import precision_recall_curve\n",
        "from sklearn.model_selection import RandomizedSearchCV\n",
        "from sklearn.metrics import classification_report\n",
        "from sklearn.utils import shuffle\n",
        "import warnings\n",
        "warnings.filterwarnings('ignore')"
      ],
      "execution_count": null,
      "outputs": []
    },
    {
      "cell_type": "markdown",
      "metadata": {
        "id": "qmXoBaD_nYJp"
      },
      "source": [
        "### Знакомство с данными"
      ]
    },
    {
      "cell_type": "code",
      "metadata": {
        "id": "ZdgLEZ7YnYJr",
        "outputId": "a7f531f1-1a41-45fd-b207-fb1d44426c8b"
      },
      "source": [
        "df = pd.read_csv('/datasets/Churn.csv')\n",
        "display(df.info())\n",
        "df.columns = df.columns.str.lower() # привели к нижнему регистру\n",
        "df.head() # проверили и еще раз ознакомились"
      ],
      "execution_count": null,
      "outputs": [
        {
          "output_type": "stream",
          "text": [
            "<class 'pandas.core.frame.DataFrame'>\n",
            "RangeIndex: 10000 entries, 0 to 9999\n",
            "Data columns (total 14 columns):\n",
            "RowNumber          10000 non-null int64\n",
            "CustomerId         10000 non-null int64\n",
            "Surname            10000 non-null object\n",
            "CreditScore        10000 non-null int64\n",
            "Geography          10000 non-null object\n",
            "Gender             10000 non-null object\n",
            "Age                10000 non-null int64\n",
            "Tenure             9091 non-null float64\n",
            "Balance            10000 non-null float64\n",
            "NumOfProducts      10000 non-null int64\n",
            "HasCrCard          10000 non-null int64\n",
            "IsActiveMember     10000 non-null int64\n",
            "EstimatedSalary    10000 non-null float64\n",
            "Exited             10000 non-null int64\n",
            "dtypes: float64(3), int64(8), object(3)\n",
            "memory usage: 1.1+ MB\n"
          ],
          "name": "stdout"
        },
        {
          "output_type": "display_data",
          "data": {
            "text/plain": [
              "None"
            ]
          },
          "metadata": {
            "tags": []
          }
        },
        {
          "output_type": "execute_result",
          "data": {
            "text/html": [
              "<div>\n",
              "<style scoped>\n",
              "    .dataframe tbody tr th:only-of-type {\n",
              "        vertical-align: middle;\n",
              "    }\n",
              "\n",
              "    .dataframe tbody tr th {\n",
              "        vertical-align: top;\n",
              "    }\n",
              "\n",
              "    .dataframe thead th {\n",
              "        text-align: right;\n",
              "    }\n",
              "</style>\n",
              "<table border=\"1\" class=\"dataframe\">\n",
              "  <thead>\n",
              "    <tr style=\"text-align: right;\">\n",
              "      <th></th>\n",
              "      <th>rownumber</th>\n",
              "      <th>customerid</th>\n",
              "      <th>surname</th>\n",
              "      <th>creditscore</th>\n",
              "      <th>geography</th>\n",
              "      <th>gender</th>\n",
              "      <th>age</th>\n",
              "      <th>tenure</th>\n",
              "      <th>balance</th>\n",
              "      <th>numofproducts</th>\n",
              "      <th>hascrcard</th>\n",
              "      <th>isactivemember</th>\n",
              "      <th>estimatedsalary</th>\n",
              "      <th>exited</th>\n",
              "    </tr>\n",
              "  </thead>\n",
              "  <tbody>\n",
              "    <tr>\n",
              "      <td>0</td>\n",
              "      <td>1</td>\n",
              "      <td>15634602</td>\n",
              "      <td>Hargrave</td>\n",
              "      <td>619</td>\n",
              "      <td>France</td>\n",
              "      <td>Female</td>\n",
              "      <td>42</td>\n",
              "      <td>2.0</td>\n",
              "      <td>0.00</td>\n",
              "      <td>1</td>\n",
              "      <td>1</td>\n",
              "      <td>1</td>\n",
              "      <td>101348.88</td>\n",
              "      <td>1</td>\n",
              "    </tr>\n",
              "    <tr>\n",
              "      <td>1</td>\n",
              "      <td>2</td>\n",
              "      <td>15647311</td>\n",
              "      <td>Hill</td>\n",
              "      <td>608</td>\n",
              "      <td>Spain</td>\n",
              "      <td>Female</td>\n",
              "      <td>41</td>\n",
              "      <td>1.0</td>\n",
              "      <td>83807.86</td>\n",
              "      <td>1</td>\n",
              "      <td>0</td>\n",
              "      <td>1</td>\n",
              "      <td>112542.58</td>\n",
              "      <td>0</td>\n",
              "    </tr>\n",
              "    <tr>\n",
              "      <td>2</td>\n",
              "      <td>3</td>\n",
              "      <td>15619304</td>\n",
              "      <td>Onio</td>\n",
              "      <td>502</td>\n",
              "      <td>France</td>\n",
              "      <td>Female</td>\n",
              "      <td>42</td>\n",
              "      <td>8.0</td>\n",
              "      <td>159660.80</td>\n",
              "      <td>3</td>\n",
              "      <td>1</td>\n",
              "      <td>0</td>\n",
              "      <td>113931.57</td>\n",
              "      <td>1</td>\n",
              "    </tr>\n",
              "    <tr>\n",
              "      <td>3</td>\n",
              "      <td>4</td>\n",
              "      <td>15701354</td>\n",
              "      <td>Boni</td>\n",
              "      <td>699</td>\n",
              "      <td>France</td>\n",
              "      <td>Female</td>\n",
              "      <td>39</td>\n",
              "      <td>1.0</td>\n",
              "      <td>0.00</td>\n",
              "      <td>2</td>\n",
              "      <td>0</td>\n",
              "      <td>0</td>\n",
              "      <td>93826.63</td>\n",
              "      <td>0</td>\n",
              "    </tr>\n",
              "    <tr>\n",
              "      <td>4</td>\n",
              "      <td>5</td>\n",
              "      <td>15737888</td>\n",
              "      <td>Mitchell</td>\n",
              "      <td>850</td>\n",
              "      <td>Spain</td>\n",
              "      <td>Female</td>\n",
              "      <td>43</td>\n",
              "      <td>2.0</td>\n",
              "      <td>125510.82</td>\n",
              "      <td>1</td>\n",
              "      <td>1</td>\n",
              "      <td>1</td>\n",
              "      <td>79084.10</td>\n",
              "      <td>0</td>\n",
              "    </tr>\n",
              "  </tbody>\n",
              "</table>\n",
              "</div>"
            ],
            "text/plain": [
              "   rownumber  customerid   surname  creditscore geography  gender  age  \\\n",
              "0          1    15634602  Hargrave          619    France  Female   42   \n",
              "1          2    15647311      Hill          608     Spain  Female   41   \n",
              "2          3    15619304      Onio          502    France  Female   42   \n",
              "3          4    15701354      Boni          699    France  Female   39   \n",
              "4          5    15737888  Mitchell          850     Spain  Female   43   \n",
              "\n",
              "   tenure    balance  numofproducts  hascrcard  isactivemember  \\\n",
              "0     2.0       0.00              1          1               1   \n",
              "1     1.0   83807.86              1          0               1   \n",
              "2     8.0  159660.80              3          1               0   \n",
              "3     1.0       0.00              2          0               0   \n",
              "4     2.0  125510.82              1          1               1   \n",
              "\n",
              "   estimatedsalary  exited  \n",
              "0        101348.88       1  \n",
              "1        112542.58       0  \n",
              "2        113931.57       1  \n",
              "3         93826.63       0  \n",
              "4         79084.10       0  "
            ]
          },
          "metadata": {
            "tags": []
          },
          "execution_count": 2
        }
      ]
    },
    {
      "cell_type": "code",
      "metadata": {
        "scrolled": false,
        "id": "5afre479nYJs",
        "outputId": "423a2971-d5a8-4cb7-e97c-a738fbcf32b0"
      },
      "source": [
        "# Выделим признаки для последующего использования\n",
        "feature_names = df.columns.to_list() \n",
        "print (feature_names)"
      ],
      "execution_count": null,
      "outputs": [
        {
          "output_type": "stream",
          "text": [
            "['rownumber', 'customerid', 'surname', 'creditscore', 'geography', 'gender', 'age', 'tenure', 'balance', 'numofproducts', 'hascrcard', 'isactivemember', 'estimatedsalary', 'exited']\n"
          ],
          "name": "stdout"
        }
      ]
    },
    {
      "cell_type": "code",
      "metadata": {
        "id": "sOU-sLM-nYJs",
        "outputId": "ae214c60-bcac-42fc-f35b-0ce65d959823"
      },
      "source": [
        "# Посмотрим на уникальные значения\n",
        "df.nunique()"
      ],
      "execution_count": null,
      "outputs": [
        {
          "output_type": "execute_result",
          "data": {
            "text/plain": [
              "rownumber          10000\n",
              "customerid         10000\n",
              "surname             2932\n",
              "creditscore          460\n",
              "geography              3\n",
              "gender                 2\n",
              "age                   70\n",
              "tenure                11\n",
              "balance             6382\n",
              "numofproducts          4\n",
              "hascrcard              2\n",
              "isactivemember         2\n",
              "estimatedsalary     9999\n",
              "exited                 2\n",
              "dtype: int64"
            ]
          },
          "metadata": {
            "tags": []
          },
          "execution_count": 4
        }
      ]
    },
    {
      "cell_type": "code",
      "metadata": {
        "id": "AWShmEtFnYJs"
      },
      "source": [
        "# Округлим несколько столбцов\n",
        "df['tenure'] = df['tenure'].astype('Int64')\n",
        "df['balance'] = df['balance'].round(0).astype('Int64')\n",
        "df['estimatedsalary'] = df['estimatedsalary'].round(0).astype('Int64')"
      ],
      "execution_count": null,
      "outputs": []
    },
    {
      "cell_type": "code",
      "metadata": {
        "scrolled": false,
        "id": "WysLVo1snYJt",
        "outputId": "f6f692c5-ce08-4f6d-964c-1e60fc3af437"
      },
      "source": [
        "# Найдены Nan - скорее клиент не заполнял данные, либо недвижимости у него нет.\n",
        "df[df['tenure'].isna()].head()"
      ],
      "execution_count": null,
      "outputs": [
        {
          "output_type": "execute_result",
          "data": {
            "text/html": [
              "<div>\n",
              "<style scoped>\n",
              "    .dataframe tbody tr th:only-of-type {\n",
              "        vertical-align: middle;\n",
              "    }\n",
              "\n",
              "    .dataframe tbody tr th {\n",
              "        vertical-align: top;\n",
              "    }\n",
              "\n",
              "    .dataframe thead th {\n",
              "        text-align: right;\n",
              "    }\n",
              "</style>\n",
              "<table border=\"1\" class=\"dataframe\">\n",
              "  <thead>\n",
              "    <tr style=\"text-align: right;\">\n",
              "      <th></th>\n",
              "      <th>rownumber</th>\n",
              "      <th>customerid</th>\n",
              "      <th>surname</th>\n",
              "      <th>creditscore</th>\n",
              "      <th>geography</th>\n",
              "      <th>gender</th>\n",
              "      <th>age</th>\n",
              "      <th>tenure</th>\n",
              "      <th>balance</th>\n",
              "      <th>numofproducts</th>\n",
              "      <th>hascrcard</th>\n",
              "      <th>isactivemember</th>\n",
              "      <th>estimatedsalary</th>\n",
              "      <th>exited</th>\n",
              "    </tr>\n",
              "  </thead>\n",
              "  <tbody>\n",
              "    <tr>\n",
              "      <td>30</td>\n",
              "      <td>31</td>\n",
              "      <td>15589475</td>\n",
              "      <td>Azikiwe</td>\n",
              "      <td>591</td>\n",
              "      <td>Spain</td>\n",
              "      <td>Female</td>\n",
              "      <td>39</td>\n",
              "      <td>NaN</td>\n",
              "      <td>0</td>\n",
              "      <td>3</td>\n",
              "      <td>1</td>\n",
              "      <td>0</td>\n",
              "      <td>140469</td>\n",
              "      <td>1</td>\n",
              "    </tr>\n",
              "    <tr>\n",
              "      <td>48</td>\n",
              "      <td>49</td>\n",
              "      <td>15766205</td>\n",
              "      <td>Yin</td>\n",
              "      <td>550</td>\n",
              "      <td>Germany</td>\n",
              "      <td>Male</td>\n",
              "      <td>38</td>\n",
              "      <td>NaN</td>\n",
              "      <td>103391</td>\n",
              "      <td>1</td>\n",
              "      <td>0</td>\n",
              "      <td>1</td>\n",
              "      <td>90878</td>\n",
              "      <td>0</td>\n",
              "    </tr>\n",
              "    <tr>\n",
              "      <td>51</td>\n",
              "      <td>52</td>\n",
              "      <td>15768193</td>\n",
              "      <td>Trevisani</td>\n",
              "      <td>585</td>\n",
              "      <td>Germany</td>\n",
              "      <td>Male</td>\n",
              "      <td>36</td>\n",
              "      <td>NaN</td>\n",
              "      <td>146051</td>\n",
              "      <td>2</td>\n",
              "      <td>0</td>\n",
              "      <td>0</td>\n",
              "      <td>86425</td>\n",
              "      <td>0</td>\n",
              "    </tr>\n",
              "    <tr>\n",
              "      <td>53</td>\n",
              "      <td>54</td>\n",
              "      <td>15702298</td>\n",
              "      <td>Parkhill</td>\n",
              "      <td>655</td>\n",
              "      <td>Germany</td>\n",
              "      <td>Male</td>\n",
              "      <td>41</td>\n",
              "      <td>NaN</td>\n",
              "      <td>125562</td>\n",
              "      <td>1</td>\n",
              "      <td>0</td>\n",
              "      <td>0</td>\n",
              "      <td>164041</td>\n",
              "      <td>1</td>\n",
              "    </tr>\n",
              "    <tr>\n",
              "      <td>60</td>\n",
              "      <td>61</td>\n",
              "      <td>15651280</td>\n",
              "      <td>Hunter</td>\n",
              "      <td>742</td>\n",
              "      <td>Germany</td>\n",
              "      <td>Male</td>\n",
              "      <td>35</td>\n",
              "      <td>NaN</td>\n",
              "      <td>136857</td>\n",
              "      <td>1</td>\n",
              "      <td>0</td>\n",
              "      <td>0</td>\n",
              "      <td>84510</td>\n",
              "      <td>0</td>\n",
              "    </tr>\n",
              "  </tbody>\n",
              "</table>\n",
              "</div>"
            ],
            "text/plain": [
              "    rownumber  customerid    surname  creditscore geography  gender  age  \\\n",
              "30         31    15589475    Azikiwe          591     Spain  Female   39   \n",
              "48         49    15766205        Yin          550   Germany    Male   38   \n",
              "51         52    15768193  Trevisani          585   Germany    Male   36   \n",
              "53         54    15702298   Parkhill          655   Germany    Male   41   \n",
              "60         61    15651280     Hunter          742   Germany    Male   35   \n",
              "\n",
              "    tenure  balance  numofproducts  hascrcard  isactivemember  \\\n",
              "30     NaN        0              3          1               0   \n",
              "48     NaN   103391              1          0               1   \n",
              "51     NaN   146051              2          0               0   \n",
              "53     NaN   125562              1          0               0   \n",
              "60     NaN   136857              1          0               0   \n",
              "\n",
              "    estimatedsalary  exited  \n",
              "30           140469       1  \n",
              "48            90878       0  \n",
              "51            86425       0  \n",
              "53           164041       1  \n",
              "60            84510       0  "
            ]
          },
          "metadata": {
            "tags": []
          },
          "execution_count": 6
        }
      ]
    },
    {
      "cell_type": "code",
      "metadata": {
        "scrolled": false,
        "id": "x9-eJGAnnYJt",
        "outputId": "14cc5e87-d888-4713-95e3-962d26d0bf19"
      },
      "source": [
        "# Обратимся к статистике\n",
        "df.describe()"
      ],
      "execution_count": null,
      "outputs": [
        {
          "output_type": "execute_result",
          "data": {
            "text/html": [
              "<div>\n",
              "<style scoped>\n",
              "    .dataframe tbody tr th:only-of-type {\n",
              "        vertical-align: middle;\n",
              "    }\n",
              "\n",
              "    .dataframe tbody tr th {\n",
              "        vertical-align: top;\n",
              "    }\n",
              "\n",
              "    .dataframe thead th {\n",
              "        text-align: right;\n",
              "    }\n",
              "</style>\n",
              "<table border=\"1\" class=\"dataframe\">\n",
              "  <thead>\n",
              "    <tr style=\"text-align: right;\">\n",
              "      <th></th>\n",
              "      <th>rownumber</th>\n",
              "      <th>customerid</th>\n",
              "      <th>creditscore</th>\n",
              "      <th>age</th>\n",
              "      <th>tenure</th>\n",
              "      <th>balance</th>\n",
              "      <th>numofproducts</th>\n",
              "      <th>hascrcard</th>\n",
              "      <th>isactivemember</th>\n",
              "      <th>estimatedsalary</th>\n",
              "      <th>exited</th>\n",
              "    </tr>\n",
              "  </thead>\n",
              "  <tbody>\n",
              "    <tr>\n",
              "      <td>count</td>\n",
              "      <td>10000.00000</td>\n",
              "      <td>1.000000e+04</td>\n",
              "      <td>10000.000000</td>\n",
              "      <td>10000.000000</td>\n",
              "      <td>9091.000000</td>\n",
              "      <td>10000.000000</td>\n",
              "      <td>10000.000000</td>\n",
              "      <td>10000.00000</td>\n",
              "      <td>10000.000000</td>\n",
              "      <td>10000.000000</td>\n",
              "      <td>10000.000000</td>\n",
              "    </tr>\n",
              "    <tr>\n",
              "      <td>mean</td>\n",
              "      <td>5000.50000</td>\n",
              "      <td>1.569094e+07</td>\n",
              "      <td>650.528800</td>\n",
              "      <td>38.921800</td>\n",
              "      <td>4.997690</td>\n",
              "      <td>76485.893100</td>\n",
              "      <td>1.530200</td>\n",
              "      <td>0.70550</td>\n",
              "      <td>0.515100</td>\n",
              "      <td>100090.236400</td>\n",
              "      <td>0.203700</td>\n",
              "    </tr>\n",
              "    <tr>\n",
              "      <td>std</td>\n",
              "      <td>2886.89568</td>\n",
              "      <td>7.193619e+04</td>\n",
              "      <td>96.653299</td>\n",
              "      <td>10.487806</td>\n",
              "      <td>2.894723</td>\n",
              "      <td>62397.409041</td>\n",
              "      <td>0.581654</td>\n",
              "      <td>0.45584</td>\n",
              "      <td>0.499797</td>\n",
              "      <td>57510.492127</td>\n",
              "      <td>0.402769</td>\n",
              "    </tr>\n",
              "    <tr>\n",
              "      <td>min</td>\n",
              "      <td>1.00000</td>\n",
              "      <td>1.556570e+07</td>\n",
              "      <td>350.000000</td>\n",
              "      <td>18.000000</td>\n",
              "      <td>0.000000</td>\n",
              "      <td>0.000000</td>\n",
              "      <td>1.000000</td>\n",
              "      <td>0.00000</td>\n",
              "      <td>0.000000</td>\n",
              "      <td>12.000000</td>\n",
              "      <td>0.000000</td>\n",
              "    </tr>\n",
              "    <tr>\n",
              "      <td>25%</td>\n",
              "      <td>2500.75000</td>\n",
              "      <td>1.562853e+07</td>\n",
              "      <td>584.000000</td>\n",
              "      <td>32.000000</td>\n",
              "      <td>2.000000</td>\n",
              "      <td>0.000000</td>\n",
              "      <td>1.000000</td>\n",
              "      <td>0.00000</td>\n",
              "      <td>0.000000</td>\n",
              "      <td>51002.000000</td>\n",
              "      <td>0.000000</td>\n",
              "    </tr>\n",
              "    <tr>\n",
              "      <td>50%</td>\n",
              "      <td>5000.50000</td>\n",
              "      <td>1.569074e+07</td>\n",
              "      <td>652.000000</td>\n",
              "      <td>37.000000</td>\n",
              "      <td>5.000000</td>\n",
              "      <td>97198.500000</td>\n",
              "      <td>1.000000</td>\n",
              "      <td>1.00000</td>\n",
              "      <td>1.000000</td>\n",
              "      <td>100193.500000</td>\n",
              "      <td>0.000000</td>\n",
              "    </tr>\n",
              "    <tr>\n",
              "      <td>75%</td>\n",
              "      <td>7500.25000</td>\n",
              "      <td>1.575323e+07</td>\n",
              "      <td>718.000000</td>\n",
              "      <td>44.000000</td>\n",
              "      <td>7.000000</td>\n",
              "      <td>127644.000000</td>\n",
              "      <td>2.000000</td>\n",
              "      <td>1.00000</td>\n",
              "      <td>1.000000</td>\n",
              "      <td>149388.000000</td>\n",
              "      <td>0.000000</td>\n",
              "    </tr>\n",
              "    <tr>\n",
              "      <td>max</td>\n",
              "      <td>10000.00000</td>\n",
              "      <td>1.581569e+07</td>\n",
              "      <td>850.000000</td>\n",
              "      <td>92.000000</td>\n",
              "      <td>10.000000</td>\n",
              "      <td>250898.000000</td>\n",
              "      <td>4.000000</td>\n",
              "      <td>1.00000</td>\n",
              "      <td>1.000000</td>\n",
              "      <td>199992.000000</td>\n",
              "      <td>1.000000</td>\n",
              "    </tr>\n",
              "  </tbody>\n",
              "</table>\n",
              "</div>"
            ],
            "text/plain": [
              "         rownumber    customerid   creditscore           age       tenure  \\\n",
              "count  10000.00000  1.000000e+04  10000.000000  10000.000000  9091.000000   \n",
              "mean    5000.50000  1.569094e+07    650.528800     38.921800     4.997690   \n",
              "std     2886.89568  7.193619e+04     96.653299     10.487806     2.894723   \n",
              "min        1.00000  1.556570e+07    350.000000     18.000000     0.000000   \n",
              "25%     2500.75000  1.562853e+07    584.000000     32.000000     2.000000   \n",
              "50%     5000.50000  1.569074e+07    652.000000     37.000000     5.000000   \n",
              "75%     7500.25000  1.575323e+07    718.000000     44.000000     7.000000   \n",
              "max    10000.00000  1.581569e+07    850.000000     92.000000    10.000000   \n",
              "\n",
              "             balance  numofproducts    hascrcard  isactivemember  \\\n",
              "count   10000.000000   10000.000000  10000.00000    10000.000000   \n",
              "mean    76485.893100       1.530200      0.70550        0.515100   \n",
              "std     62397.409041       0.581654      0.45584        0.499797   \n",
              "min         0.000000       1.000000      0.00000        0.000000   \n",
              "25%         0.000000       1.000000      0.00000        0.000000   \n",
              "50%     97198.500000       1.000000      1.00000        1.000000   \n",
              "75%    127644.000000       2.000000      1.00000        1.000000   \n",
              "max    250898.000000       4.000000      1.00000        1.000000   \n",
              "\n",
              "       estimatedsalary        exited  \n",
              "count     10000.000000  10000.000000  \n",
              "mean     100090.236400      0.203700  \n",
              "std       57510.492127      0.402769  \n",
              "min          12.000000      0.000000  \n",
              "25%       51002.000000      0.000000  \n",
              "50%      100193.500000      0.000000  \n",
              "75%      149388.000000      0.000000  \n",
              "max      199992.000000      1.000000  "
            ]
          },
          "metadata": {
            "tags": []
          },
          "execution_count": 7
        }
      ]
    },
    {
      "cell_type": "markdown",
      "metadata": {
        "id": "CQ2CMyyGnYJt"
      },
      "source": [
        "**Вывод:**"
      ]
    },
    {
      "cell_type": "markdown",
      "metadata": {
        "id": "V3gsUFn5nYJt"
      },
      "source": [
        "1. `rownumber`, `customerid` - признаки идентификаторы, их нужно обработать, либо удалить, т.к. курпные цифры могут привести к дисбалансу;\n",
        "2. `creditscore` - признак имеет нормальное распределение, min - 350, мах - 850, mean примерно равно median, выбросов нет.\n",
        "3. `age` - от 18 до 92, нормальное распределение, mean примерно равно median, выброс - 92 года;\n",
        "4. `balance` - 25% не имеют баланса на карте, большое отклонение, разброс велик;\n",
        "5. `estimatedsalary` - нормальное распределение, mean примерно равно median.\n",
        "6. `exited` - из выборки видим, что ушло 20% клиентов. Нужна модель с результативностью более 80%."
      ]
    },
    {
      "cell_type": "markdown",
      "metadata": {
        "id": "UupyfjCOnYJu"
      },
      "source": [
        "### Подготовка данных"
      ]
    },
    {
      "cell_type": "code",
      "metadata": {
        "id": "1KxhLhf2nYJu",
        "outputId": "03748e1c-4083-44e4-bc88-c9b8f24c6737"
      },
      "source": [
        "# Обработаем NaN, пропусков не много \n",
        "imputer = SimpleImputer(strategy='median') \n",
        "df[['rownumber', 'customerid', 'creditscore', 'age', 'tenure', 'balance', 'numofproducts', 'hascrcard', 'isactivemember', 'estimatedsalary', 'exited']] = imputer.fit_transform(df[['rownumber', 'customerid', 'creditscore', 'age', 'tenure', 'balance', 'numofproducts', 'hascrcard', 'isactivemember', 'estimatedsalary', 'exited']])\n",
        "display(df[df['tenure'].isna()].head()) # проверка пропусков\n",
        "# 'rownumber','customerid','surname'- нужно удалить, т.к. они не несут смысла для модели\n",
        "df = df.drop(['rownumber', 'customerid', 'surname'], axis=1)\n",
        "numeric_features = ['creditscore', 'age', 'tenure', 'balance', 'numofproducts', 'estimatedsalary']\n",
        "categorical_features = ['geography', 'gender']"
      ],
      "execution_count": null,
      "outputs": [
        {
          "output_type": "display_data",
          "data": {
            "text/html": [
              "<div>\n",
              "<style scoped>\n",
              "    .dataframe tbody tr th:only-of-type {\n",
              "        vertical-align: middle;\n",
              "    }\n",
              "\n",
              "    .dataframe tbody tr th {\n",
              "        vertical-align: top;\n",
              "    }\n",
              "\n",
              "    .dataframe thead th {\n",
              "        text-align: right;\n",
              "    }\n",
              "</style>\n",
              "<table border=\"1\" class=\"dataframe\">\n",
              "  <thead>\n",
              "    <tr style=\"text-align: right;\">\n",
              "      <th></th>\n",
              "      <th>rownumber</th>\n",
              "      <th>customerid</th>\n",
              "      <th>surname</th>\n",
              "      <th>creditscore</th>\n",
              "      <th>geography</th>\n",
              "      <th>gender</th>\n",
              "      <th>age</th>\n",
              "      <th>tenure</th>\n",
              "      <th>balance</th>\n",
              "      <th>numofproducts</th>\n",
              "      <th>hascrcard</th>\n",
              "      <th>isactivemember</th>\n",
              "      <th>estimatedsalary</th>\n",
              "      <th>exited</th>\n",
              "    </tr>\n",
              "  </thead>\n",
              "  <tbody>\n",
              "  </tbody>\n",
              "</table>\n",
              "</div>"
            ],
            "text/plain": [
              "Empty DataFrame\n",
              "Columns: [rownumber, customerid, surname, creditscore, geography, gender, age, tenure, balance, numofproducts, hascrcard, isactivemember, estimatedsalary, exited]\n",
              "Index: []"
            ]
          },
          "metadata": {
            "tags": []
          }
        }
      ]
    },
    {
      "cell_type": "markdown",
      "metadata": {
        "id": "lfIwG8eEnYJv"
      },
      "source": [
        "### Проведем категоризацию, масштабирование, разделим выборки: тренировочная, валиадцияонная и тестовая"
      ]
    },
    {
      "cell_type": "code",
      "metadata": {
        "id": "It3bqswxnYJv",
        "outputId": "c6a908b3-5c02-4892-b4ba-cbb3f80a17d3"
      },
      "source": [
        "# Препроцессинг\n",
        "# OHE\n",
        "df = pd.get_dummies(df, drop_first=True)\n",
        "X = df.drop(['exited'], axis = 1)\n",
        "y = df['exited']\n",
        "X_tr, X_test, y_tr, y_test = train_test_split(X, y, test_size=0.2, stratify = y, random_state=42)\n",
        "# display(X_tr.shape, X_test.shape, y_tr.shape, y_test.shape)\n",
        "# Проведем масштабирование признаков\n",
        "scaler = StandardScaler()\n",
        "scaler.fit(X_tr[numeric_features])\n",
        "X_tr[numeric_features] = scaler.transform(X_tr[numeric_features])\n",
        "X_test[numeric_features] = scaler.transform(X_test[numeric_features])\n",
        "# display(X_tr.head()) # проверим\n",
        "# Выделим из X_tr, y_tr валидационную выборку\n",
        "X_tr, X_val, y_tr, y_val = train_test_split(X_tr, y_tr, test_size=0.2, stratify = y_tr, random_state=42)\n",
        "display(X_tr.head()) # проверим\n",
        "#display(X_tr.shape, X_val.shape, y_tr.shape, y_val.shape)"
      ],
      "execution_count": null,
      "outputs": [
        {
          "output_type": "display_data",
          "data": {
            "text/html": [
              "<div>\n",
              "<style scoped>\n",
              "    .dataframe tbody tr th:only-of-type {\n",
              "        vertical-align: middle;\n",
              "    }\n",
              "\n",
              "    .dataframe tbody tr th {\n",
              "        vertical-align: top;\n",
              "    }\n",
              "\n",
              "    .dataframe thead th {\n",
              "        text-align: right;\n",
              "    }\n",
              "</style>\n",
              "<table border=\"1\" class=\"dataframe\">\n",
              "  <thead>\n",
              "    <tr style=\"text-align: right;\">\n",
              "      <th></th>\n",
              "      <th>creditscore</th>\n",
              "      <th>age</th>\n",
              "      <th>tenure</th>\n",
              "      <th>balance</th>\n",
              "      <th>numofproducts</th>\n",
              "      <th>hascrcard</th>\n",
              "      <th>isactivemember</th>\n",
              "      <th>estimatedsalary</th>\n",
              "      <th>geography_Germany</th>\n",
              "      <th>geography_Spain</th>\n",
              "      <th>gender_Male</th>\n",
              "    </tr>\n",
              "  </thead>\n",
              "  <tbody>\n",
              "    <tr>\n",
              "      <td>3006</td>\n",
              "      <td>0.996450</td>\n",
              "      <td>0.575076</td>\n",
              "      <td>-1.446064</td>\n",
              "      <td>0.619244</td>\n",
              "      <td>-0.910256</td>\n",
              "      <td>1.0</td>\n",
              "      <td>0.0</td>\n",
              "      <td>1.563384</td>\n",
              "      <td>0</td>\n",
              "      <td>0</td>\n",
              "      <td>0</td>\n",
              "    </tr>\n",
              "    <tr>\n",
              "      <td>5735</td>\n",
              "      <td>-0.680735</td>\n",
              "      <td>0.480075</td>\n",
              "      <td>-0.360532</td>\n",
              "      <td>-1.226059</td>\n",
              "      <td>0.808830</td>\n",
              "      <td>0.0</td>\n",
              "      <td>1.0</td>\n",
              "      <td>0.034836</td>\n",
              "      <td>0</td>\n",
              "      <td>1</td>\n",
              "      <td>0</td>\n",
              "    </tr>\n",
              "    <tr>\n",
              "      <td>5652</td>\n",
              "      <td>0.416682</td>\n",
              "      <td>-0.944938</td>\n",
              "      <td>1.448687</td>\n",
              "      <td>-1.226059</td>\n",
              "      <td>0.808830</td>\n",
              "      <td>0.0</td>\n",
              "      <td>0.0</td>\n",
              "      <td>1.742587</td>\n",
              "      <td>0</td>\n",
              "      <td>0</td>\n",
              "      <td>0</td>\n",
              "    </tr>\n",
              "    <tr>\n",
              "      <td>26</td>\n",
              "      <td>1.089627</td>\n",
              "      <td>-0.279932</td>\n",
              "      <td>-1.084220</td>\n",
              "      <td>0.970089</td>\n",
              "      <td>-0.910256</td>\n",
              "      <td>1.0</td>\n",
              "      <td>1.0</td>\n",
              "      <td>1.226397</td>\n",
              "      <td>1</td>\n",
              "      <td>0</td>\n",
              "      <td>1</td>\n",
              "    </tr>\n",
              "    <tr>\n",
              "      <td>3596</td>\n",
              "      <td>-0.080262</td>\n",
              "      <td>-0.279932</td>\n",
              "      <td>-1.807908</td>\n",
              "      <td>1.152181</td>\n",
              "      <td>-0.910256</td>\n",
              "      <td>0.0</td>\n",
              "      <td>0.0</td>\n",
              "      <td>-0.765631</td>\n",
              "      <td>0</td>\n",
              "      <td>0</td>\n",
              "      <td>1</td>\n",
              "    </tr>\n",
              "  </tbody>\n",
              "</table>\n",
              "</div>"
            ],
            "text/plain": [
              "      creditscore       age    tenure   balance  numofproducts  hascrcard  \\\n",
              "3006     0.996450  0.575076 -1.446064  0.619244      -0.910256        1.0   \n",
              "5735    -0.680735  0.480075 -0.360532 -1.226059       0.808830        0.0   \n",
              "5652     0.416682 -0.944938  1.448687 -1.226059       0.808830        0.0   \n",
              "26       1.089627 -0.279932 -1.084220  0.970089      -0.910256        1.0   \n",
              "3596    -0.080262 -0.279932 -1.807908  1.152181      -0.910256        0.0   \n",
              "\n",
              "      isactivemember  estimatedsalary  geography_Germany  geography_Spain  \\\n",
              "3006             0.0         1.563384                  0                0   \n",
              "5735             1.0         0.034836                  0                1   \n",
              "5652             0.0         1.742587                  0                0   \n",
              "26               1.0         1.226397                  1                0   \n",
              "3596             0.0        -0.765631                  0                0   \n",
              "\n",
              "      gender_Male  \n",
              "3006            0  \n",
              "5735            0  \n",
              "5652            0  \n",
              "26              1  \n",
              "3596            1  "
            ]
          },
          "metadata": {
            "tags": []
          }
        }
      ]
    },
    {
      "cell_type": "markdown",
      "metadata": {
        "id": "mbbASGF1nYJw"
      },
      "source": [
        "#### Выводы\n",
        "1. Проведен препроцессиг: заполнены NaN, удалены признаки не несущие смысл;\n",
        "2. Разделены выборки, категориальные признаки обработаны методом OHE."
      ]
    },
    {
      "cell_type": "markdown",
      "metadata": {
        "id": "vwb-grVsnYJw"
      },
      "source": [
        "# Исследование задачи"
      ]
    },
    {
      "cell_type": "code",
      "metadata": {
        "scrolled": true,
        "id": "v8CKnsPynYJx",
        "outputId": "0f1c29e1-d409-401e-9d3f-8b7a4345f201"
      },
      "source": [
        "# Создадим константную модель\n",
        "target_pred_constant = pd.Series(0, index=y_val.index)\n",
        "print('Результат константной модели:', accuracy_score(y_val, target_pred_constant))"
      ],
      "execution_count": null,
      "outputs": [
        {
          "output_type": "stream",
          "text": [
            "Результат константной модели: 0.79625\n"
          ],
          "name": "stdout"
        }
      ]
    },
    {
      "cell_type": "markdown",
      "metadata": {
        "id": "ULv4AdQunYJx"
      },
      "source": [
        "1. Перед нами несбалансированная выборка, распеределение 0 и 1 - 80:20 - как закон Парето;\n",
        "2. Варианты решения проблемы:\n",
        "    - Поискать еще данные, запросить у банка больше случаев с уходом клиентов;\n",
        "    - Синтетически увеличить редкий класс;\n",
        "    - Синтетически уменьшить частый класс;\n",
        "    - Использовать другие метрики вместо accuracy для детальной фиксации;\n",
        "    - Использовать гиперпараметр class_weigth = 'balanced';\n",
        "    - Использовать матрицу ошибок для визуального контроля."
      ]
    },
    {
      "cell_type": "markdown",
      "metadata": {
        "id": "9WlIqbApnYJy"
      },
      "source": [
        "- Начнем проверку моделей без и с балансом классов"
      ]
    },
    {
      "cell_type": "code",
      "metadata": {
        "id": "3w-QMyFbnYJy"
      },
      "source": [
        "# Создадим функцю для логистической регрессии\n",
        "def lr(features_tr, target_tr, features_val, target_val, class_weight):\n",
        "    lr = LogisticRegression(class_weight=class_weight, random_state=42, solver='liblinear')\n",
        "    lr.fit(features_tr, target_tr)\n",
        "    predictions = lr.predict(features_val)\n",
        "    precision = precision_score(target_val, predictions)\n",
        "    recall = recall_score(target_val, predictions)\n",
        "    f1 = f1_score(target_val, predictions)\n",
        "    \n",
        "    probabilities_valid = lr.predict_proba(features_val)\n",
        "    probabilities_one_valid = probabilities_valid[:, 1]\n",
        "    roc = roc_auc_score(target_val, probabilities_one_valid)\n",
        "    result = accuracy_score(target_val, predictions)\n",
        "    print(\"F1 = {:.2f} | Точность = {:.3f}, Полнота = {:.3f} | ROC-AUC = {:.2f} | Accuracy = {:.2f}\".format(\n",
        "        f1, precision, recall, roc, result))\n",
        "    print(confusion_matrix(target_val, predictions))"
      ],
      "execution_count": null,
      "outputs": []
    },
    {
      "cell_type": "code",
      "metadata": {
        "scrolled": false,
        "id": "-Bho0x7-nYJy",
        "outputId": "d3488933-586a-4c31-965b-5d586745e59e"
      },
      "source": [
        "# без баланса классов\n",
        "lr(X_tr, y_tr, X_val, y_val, None)"
      ],
      "execution_count": null,
      "outputs": [
        {
          "output_type": "stream",
          "text": [
            "F1 = 0.32 | Точность = 0.619, Полнота = 0.215 | ROC-AUC = 0.76 | Accuracy = 0.81\n",
            "[[1231   43]\n",
            " [ 256   70]]\n"
          ],
          "name": "stdout"
        }
      ]
    },
    {
      "cell_type": "markdown",
      "metadata": {
        "id": "MeqORniknYJz"
      },
      "source": [
        "- accuracy примерно равна константной модели;\n",
        "- очень много ошибок FN."
      ]
    },
    {
      "cell_type": "code",
      "metadata": {
        "scrolled": true,
        "id": "XKVQVEaxnYJz",
        "outputId": "f52f3252-3b7a-4c4a-cdcf-734f5c48c33c"
      },
      "source": [
        "# с балансом\n",
        "lr(X_tr, y_tr, X_val, y_val, 'balanced')"
      ],
      "execution_count": null,
      "outputs": [
        {
          "output_type": "stream",
          "text": [
            "F1 = 0.48 | Точность = 0.373, Полнота = 0.669 | ROC-AUC = 0.76 | Accuracy = 0.70\n",
            "[[907 367]\n",
            " [108 218]]\n"
          ],
          "name": "stdout"
        }
      ]
    },
    {
      "cell_type": "markdown",
      "metadata": {
        "id": "exlpCJHQnYJz"
      },
      "source": [
        "- accuracy резко снизилась, но зато возросла метрика F1;\n",
        "- модель из выборки 1600 строк 585 раз посоветовала 1, TP - 218, а вот FP - 367;\n",
        "- очень маниакально-депрессивная модель, полный конец света! По ее мнению 1/3 клиентов должна уйти. Такой модели нам не нужно."
      ]
    },
    {
      "cell_type": "code",
      "metadata": {
        "id": "J4HYzG6mnYJz",
        "outputId": "a98061a3-e0e5-47b9-f078-366eed2eed16"
      },
      "source": [
        "Random_tree = DecisionTreeClassifier()\n",
        "grid = {'max_depth': range (1, 10)}\n",
        "tree_rs = RandomizedSearchCV(Random_tree, n_jobs=None, n_iter=10,\n",
        "                                 param_distributions=grid, random_state=42, scoring='f1')\n",
        "tree_rs.fit(X_tr, y_tr)\n",
        "print('Best Params: \\n', tree_rs.best_params_ )"
      ],
      "execution_count": null,
      "outputs": [
        {
          "output_type": "stream",
          "text": [
            "Best Params: \n",
            " {'max_depth': 6}\n"
          ],
          "name": "stdout"
        }
      ]
    },
    {
      "cell_type": "code",
      "metadata": {
        "id": "nRF9tME4nYJ0"
      },
      "source": [
        "# Создадим функцию - модель Tree\n",
        "def tree(features_tr, target_tr, features_val, target_val, cl_w, depth):\n",
        "    tree = DecisionTreeClassifier(class_weight=cl_w, random_state=42, max_depth = depth)\n",
        "    tree.fit(features_tr, target_tr)\n",
        "    predictions = tree.predict(features_val)\n",
        "    precision = precision_score(target_val, predictions)\n",
        "    recall = recall_score(target_val, predictions)\n",
        "    f1 = f1_score(target_val, predictions)\n",
        "    \n",
        "    probabilities_valid = tree.predict_proba(features_val)\n",
        "    probabilities_one_valid = probabilities_valid[:, 1]\n",
        "    roc = roc_auc_score(target_val, probabilities_one_valid)\n",
        "    result = accuracy_score(target_val, predictions)\n",
        "    print(\"F1 = {:.2f} | Точность = {:.3f}, Полнота = {:.3f} | ROC-AUC = {:.2f} | Accuracy = {:.2f}\".format(\n",
        "        f1, precision, recall, roc, result))\n",
        "    print(confusion_matrix(target_val, predictions))"
      ],
      "execution_count": null,
      "outputs": []
    },
    {
      "cell_type": "code",
      "metadata": {
        "scrolled": true,
        "id": "6fg6D2ZonYJ0",
        "outputId": "7dcc0b7f-4039-44d7-c1f8-3a51b96ed764"
      },
      "source": [
        "tree(X_tr, y_tr, X_val, y_val, None, 6)"
      ],
      "execution_count": null,
      "outputs": [
        {
          "output_type": "stream",
          "text": [
            "F1 = 0.57 | Точность = 0.781, Полнота = 0.448 | ROC-AUC = 0.83 | Accuracy = 0.86\n",
            "[[1233   41]\n",
            " [ 180  146]]\n"
          ],
          "name": "stdout"
        }
      ]
    },
    {
      "cell_type": "markdown",
      "metadata": {
        "scrolled": true,
        "id": "h26BPGwFnYJ0"
      },
      "source": [
        "- Уже лучше константной модели;\n",
        "- FP - не много, но TP - мало, зато Точность на высоте.\n",
        "- F1 - 0.57"
      ]
    },
    {
      "cell_type": "code",
      "metadata": {
        "id": "9IQkMGNmnYJ1",
        "outputId": "ac2c378e-8aa8-4f48-ee8a-b26bcf9dc744"
      },
      "source": [
        "Random_tree = DecisionTreeClassifier(class_weight='balanced')\n",
        "grid = {'max_depth': range (1, 10)}\n",
        "tree_rs = RandomizedSearchCV(Random_tree, n_jobs=None, n_iter=10,\n",
        "                                 param_distributions=grid, random_state=42, scoring='f1')\n",
        "tree_rs.fit(X_tr, y_tr)\n",
        "print('Best Params: \\n', tree_rs.best_params_ )"
      ],
      "execution_count": null,
      "outputs": [
        {
          "output_type": "stream",
          "text": [
            "Best Params: \n",
            " {'max_depth': 5}\n"
          ],
          "name": "stdout"
        }
      ]
    },
    {
      "cell_type": "code",
      "metadata": {
        "id": "WLYs7uwonYJ1",
        "outputId": "1dc30139-fea2-4243-f2e4-41c24edf02cc"
      },
      "source": [
        "# проверили модель Tree -'balanced'\n",
        "tree(X_tr, y_tr, X_val, y_val, 'balanced', 5)"
      ],
      "execution_count": null,
      "outputs": [
        {
          "output_type": "stream",
          "text": [
            "F1 = 0.58 | Точность = 0.482, Полнота = 0.742 | ROC-AUC = 0.83 | Accuracy = 0.79\n",
            "[[1014  260]\n",
            " [  84  242]]\n"
          ],
          "name": "stdout"
        }
      ]
    },
    {
      "cell_type": "markdown",
      "metadata": {
        "id": "rBSGm5mGnYJ1"
      },
      "source": [
        "- как и с ЛогРегр, при балансировке с помощью гиперпараметра accuracy упала до константной модели, очень много FP ошибок;\n",
        "- Полнота выросла до 0,72;\n",
        "- f1 понизилась из-за падения точности."
      ]
    },
    {
      "cell_type": "code",
      "metadata": {
        "id": "8MRqYB97nYJ1",
        "outputId": "0468e66a-7534-4819-82ec-4f82d9c3359b"
      },
      "source": [
        "# Подберем гиперпараметры для случайного леса\n",
        "Random_forest = RandomForestClassifier(min_samples_leaf=4)\n",
        "grid = { 'n_estimators': range (20, 90, 10),\n",
        "        'max_depth': range (1, 11, 1) }\n",
        "forest_rs = RandomizedSearchCV(Random_forest, n_jobs=4, n_iter=20,\n",
        "                                 param_distributions=grid, random_state=42, scoring='f1')\n",
        "forest_rs.fit(X_tr, y_tr)\n",
        "print('Best Params: \\n', forest_rs.best_params_ )"
      ],
      "execution_count": null,
      "outputs": [
        {
          "output_type": "stream",
          "text": [
            "Best Params: \n",
            " {'n_estimators': 60, 'max_depth': 10}\n"
          ],
          "name": "stdout"
        }
      ]
    },
    {
      "cell_type": "code",
      "metadata": {
        "id": "L3IBWAfVnYJ2"
      },
      "source": [
        "# Создадим функцию - модель Случайного леса\n",
        "def forest(features_tr, target_tr, features_val, target_val, cl_w, depth, est, msl):\n",
        "    forest = RandomForestClassifier(bootstrap=True, class_weight=cl_w, criterion='gini',\n",
        "                       max_depth=depth, min_samples_leaf=msl, n_estimators=est, random_state=42)\n",
        "    forest.fit(features_tr, target_tr,)\n",
        "    predictions = forest.predict(features_val)\n",
        "    precision = precision_score(target_val, predictions)\n",
        "    recall = recall_score(target_val, predictions)\n",
        "    f1 = f1_score(target_val, predictions)\n",
        "    \n",
        "    probabilities_valid = forest.predict_proba(features_val)\n",
        "    probabilities_one_valid = probabilities_valid[:, 1]\n",
        "    roc = roc_auc_score(target_val, probabilities_one_valid)\n",
        "    result = accuracy_score(target_val, predictions)\n",
        "    print(\"F1 = {:.2f} | Точность = {:.3f}, Полнота = {:.3f} | ROC-AUC = {:.2f} | Accuracy = {:.2f}\".format(\n",
        "        f1, precision, recall, roc, result))\n",
        "    print(confusion_matrix(target_val, predictions))    "
      ],
      "execution_count": null,
      "outputs": []
    },
    {
      "cell_type": "code",
      "metadata": {
        "scrolled": true,
        "id": "EC1NE3RLnYJ2",
        "outputId": "df7bf746-aae8-4cab-e4d8-27715d5ffcf9"
      },
      "source": [
        "# Подставим параметры в функцию, без баланса\n",
        "forest(X_tr, y_tr, X_val, y_val, None, 10, 60, 4)"
      ],
      "execution_count": null,
      "outputs": [
        {
          "output_type": "stream",
          "text": [
            "F1 = 0.55 | Точность = 0.815, Полнота = 0.420 | ROC-AUC = 0.86 | Accuracy = 0.86\n",
            "[[1243   31]\n",
            " [ 189  137]]\n"
          ],
          "name": "stdout"
        }
      ]
    },
    {
      "cell_type": "markdown",
      "metadata": {
        "id": "ZxRFf8GTnYJ2"
      },
      "source": [
        "- accuracy выше конст.модели на 6%;\n",
        "- F1 - небольшая из-за низкой метрики Полнота;\n",
        "- Зато высокая точность - 0,815;"
      ]
    },
    {
      "cell_type": "code",
      "metadata": {
        "id": "OdgMi3l1nYJ3",
        "outputId": "6e006140-39eb-47ca-9fda-75446943f616"
      },
      "source": [
        "# Подберем гиперпараметры для случайного леса - 'balanced'\n",
        "Random_forest = RandomForestClassifier(class_weight='balanced')\n",
        "grid = { 'n_estimators': range (20, 90, 10),\n",
        "        'max_depth': range (1, 11, 1),\n",
        "       'min_samples_leaf': range (2,5,1) }\n",
        "forest_rs = RandomizedSearchCV(Random_forest, n_jobs=4, n_iter=30,\n",
        "                                 param_distributions=grid, random_state=42, scoring='f1')\n",
        "forest_rs.fit(X_tr, y_tr)\n",
        "print('Best Params: \\n', forest_rs.best_params_ )"
      ],
      "execution_count": null,
      "outputs": [
        {
          "output_type": "stream",
          "text": [
            "Best Params: \n",
            " {'n_estimators': 70, 'min_samples_leaf': 4, 'max_depth': 9}\n"
          ],
          "name": "stdout"
        }
      ]
    },
    {
      "cell_type": "code",
      "metadata": {
        "id": "dbHmzeLonYJ3",
        "outputId": "70e7853a-4402-4b9f-8ae5-733c49b56ecb"
      },
      "source": [
        "# Проверим модель Случайного леса - 'balanced'\n",
        "forest(X_tr, y_tr, X_val, y_val, 'balanced', 9, 70, 4)"
      ],
      "execution_count": null,
      "outputs": [
        {
          "output_type": "stream",
          "text": [
            "F1 = 0.63 | Точность = 0.593, Полнота = 0.666 | ROC-AUC = 0.86 | Accuracy = 0.84\n",
            "[[1125  149]\n",
            " [ 109  217]]\n"
          ],
          "name": "stdout"
        }
      ]
    },
    {
      "cell_type": "markdown",
      "metadata": {
        "id": "EG2heOp6nYJ3"
      },
      "source": [
        "- accuracy уменьшилось на 2%, т.к. резко возросли FP ошибки;\n",
        "- f1 одна из лучших;"
      ]
    },
    {
      "cell_type": "code",
      "metadata": {
        "id": "3njTi-VhnYJ3",
        "outputId": "0ad7496a-7d50-4011-d675-3cdedd0afb4f"
      },
      "source": [
        "# Подберем гиперпараметры для GBClass\n",
        "Random_gbc = GradientBoostingClassifier(min_samples_leaf=3)\n",
        "grid = { 'learning_rate': np.arange (0.1, 0.3, 0.1),\n",
        "        'n_estimators': range (100, 150, 10), \n",
        "        'max_depth': range (1,11, 1) }\n",
        "gbc_rs = RandomizedSearchCV(Random_gbc, n_jobs=2, n_iter=20,\n",
        "                                 param_distributions=grid, random_state=42, scoring='f1')\n",
        "gbc_rs.fit(X_tr, y_tr)\n",
        "print('Best Params: \\n', gbc_rs.best_params_ )"
      ],
      "execution_count": null,
      "outputs": [
        {
          "output_type": "stream",
          "text": [
            "Best Params: \n",
            " {'n_estimators': 120, 'max_depth': 3, 'learning_rate': 0.1}\n"
          ],
          "name": "stdout"
        }
      ]
    },
    {
      "cell_type": "code",
      "metadata": {
        "id": "fx_J0HGjnYJ4"
      },
      "source": [
        "# Создадим функцию - модель градиентный бустинг\n",
        "def gradboost(features_tr, target_tr, features_val, target_val, l_r, depth, est, msl):\n",
        "    gradboost = GradientBoostingClassifier(learning_rate=l_r, max_depth=depth, \n",
        "                            min_samples_leaf=msl, n_estimators=est, random_state=42)\n",
        "    gradboost.fit(features_tr, target_tr,)\n",
        "    predictions = gradboost.predict(features_val)\n",
        "    precision = precision_score(target_val, predictions)\n",
        "    recall = recall_score(target_val, predictions)\n",
        "    f1 = f1_score(target_val, predictions)\n",
        "    \n",
        "    probabilities_valid = gradboost.predict_proba(features_val)\n",
        "    probabilities_one_valid = probabilities_valid[:, 1]\n",
        "    roc = roc_auc_score(target_val, probabilities_one_valid)\n",
        "    result = accuracy_score(target_val, predictions)\n",
        "    print(\"F1 = {:.2f} | Точность = {:.3f}, Полнота = {:.3f} | ROC-AUC = {:.2f} | Accuracy = {:.2f}\".format(\n",
        "        f1, precision, recall, roc, result))\n",
        "    print(confusion_matrix(target_val, predictions)) "
      ],
      "execution_count": null,
      "outputs": []
    },
    {
      "cell_type": "code",
      "metadata": {
        "scrolled": true,
        "id": "saPcHZUInYJ4",
        "outputId": "e10a986a-d610-4f2a-ba1e-fb0972a77e6f"
      },
      "source": [
        "gradboost(X_tr, y_tr, X_val, y_val, 0.1, 3, 120, 3)"
      ],
      "execution_count": null,
      "outputs": [
        {
          "output_type": "stream",
          "text": [
            "F1 = 0.57 | Точность = 0.774, Полнота = 0.451 | ROC-AUC = 0.85 | Accuracy = 0.86\n",
            "[[1231   43]\n",
            " [ 179  147]]\n"
          ],
          "name": "stdout"
        }
      ]
    },
    {
      "cell_type": "markdown",
      "metadata": {
        "id": "7heB-qgpnYJ4"
      },
      "source": [
        "- Значения метрик немного хуже, чем у случайного леса;\n",
        "- 'balanced' - гиперпараметра нет."
      ]
    },
    {
      "cell_type": "markdown",
      "metadata": {
        "id": "HhcqQrWxnYJ4"
      },
      "source": [
        "# 3. Борьба с дисбалансом<a id=\"research2\"></a>"
      ]
    },
    {
      "cell_type": "markdown",
      "metadata": {
        "id": "dF4HLKSdnYJ6"
      },
      "source": [
        "**Upsampling**<a id=\"upsample\"></a>"
      ]
    },
    {
      "cell_type": "code",
      "metadata": {
        "id": "pI3ipwTCnYJ6"
      },
      "source": [
        "# Upsampling - синтетичкски увеличим редкий класс.\n",
        "def upsample(features, target, repeat):\n",
        "    features_zeros = features[target == 0]\n",
        "    features_ones = features[target == 1]\n",
        "    target_zeros = target[target == 0]\n",
        "    target_ones = target[target == 1]\n",
        "\n",
        "    features_upsampled = pd.concat([features_zeros] + [features_ones] * repeat)\n",
        "    target_upsampled = pd.concat([target_zeros] + [target_ones] * repeat)\n",
        "    \n",
        "    features_upsampled, target_upsampled = shuffle(\n",
        "        features_upsampled, target_upsampled, random_state=12345)\n",
        "    \n",
        "    return features_upsampled, target_upsampled"
      ],
      "execution_count": null,
      "outputs": []
    },
    {
      "cell_type": "markdown",
      "metadata": {
        "id": "JgdLv3-onYJ6"
      },
      "source": [
        "**Проведем проверку на всех моделях**"
      ]
    },
    {
      "cell_type": "code",
      "metadata": {
        "scrolled": true,
        "id": "ej3SAR7inYJ6",
        "outputId": "2fc497ac-643f-4a82-c3a3-fdb0ee48ce69"
      },
      "source": [
        "# ЛР\n",
        "features_upsampled, target_upsampled = upsample(X_tr, y_tr, 4)\n",
        "lr(features_upsampled, target_upsampled, X_val, y_val, None)"
      ],
      "execution_count": null,
      "outputs": [
        {
          "output_type": "stream",
          "text": [
            "F1 = 0.48 | Точность = 0.371, Полнота = 0.681 | ROC-AUC = 0.76 | Accuracy = 0.70\n",
            "[[897 377]\n",
            " [104 222]]\n"
          ],
          "name": "stdout"
        }
      ]
    },
    {
      "cell_type": "markdown",
      "metadata": {
        "id": "8u-bL3qmnYJ7"
      },
      "source": [
        "- Опять маниакально-депрессивная модель, все уйдут!"
      ]
    },
    {
      "cell_type": "code",
      "metadata": {
        "id": "tIW2Cg9ynYJ7"
      },
      "source": [
        "# проверим модель Tree\n",
        "features_upsampled_1, target_upsampled_1 = upsample(X_tr, y_tr, 4)"
      ],
      "execution_count": null,
      "outputs": []
    },
    {
      "cell_type": "code",
      "metadata": {
        "id": "bgRiffpInYJ7",
        "outputId": "e0a0d13c-59b9-4f4a-a2f7-a8c31a73f1a7"
      },
      "source": [
        "Random_tree = DecisionTreeClassifier()\n",
        "grid = {'max_depth': range (1, 10)}\n",
        "tree_rs = RandomizedSearchCV(Random_tree, n_jobs=None, n_iter=10,\n",
        "                                 param_distributions=grid, random_state=42)\n",
        "tree_rs.fit(features_upsampled_1, target_upsampled_1)\n",
        "print('Best Params: \\n', tree_rs.best_params_ )"
      ],
      "execution_count": null,
      "outputs": [
        {
          "output_type": "stream",
          "text": [
            "Best Params: \n",
            " {'max_depth': 9}\n"
          ],
          "name": "stdout"
        }
      ]
    },
    {
      "cell_type": "code",
      "metadata": {
        "scrolled": true,
        "id": "8T50b2PwnYJ8",
        "outputId": "b84717c7-9447-4e87-a987-6510631692eb"
      },
      "source": [
        "tree(features_upsampled_1, target_upsampled_1, X_val, y_val, None, 9)"
      ],
      "execution_count": null,
      "outputs": [
        {
          "output_type": "stream",
          "text": [
            "F1 = 0.56 | Точность = 0.459, Полнота = 0.724 | ROC-AUC = 0.79 | Accuracy = 0.77\n",
            "[[996 278]\n",
            " [ 90 236]]\n"
          ],
          "name": "stdout"
        }
      ]
    },
    {
      "cell_type": "markdown",
      "metadata": {
        "id": "uAtenn61nYJ8"
      },
      "source": [
        "- Увеличение выборки привело к увеличению качества, если применить еще балансировку, то будет как ЛогРегр."
      ]
    },
    {
      "cell_type": "code",
      "metadata": {
        "id": "jzAjFpHPnYJ8"
      },
      "source": [
        "# Проверим модель Случайного леса\n",
        "features_upsampled_2, target_upsampled_2 = upsample(X_tr, y_tr, 4)"
      ],
      "execution_count": null,
      "outputs": []
    },
    {
      "cell_type": "code",
      "metadata": {
        "id": "U7VBLavknYJ8",
        "outputId": "466ed58b-dd8e-493f-b117-eef134247f5d"
      },
      "source": [
        "# Подберем гиперпараметры для случайного леса\n",
        "Random_forest = RandomForestClassifier()\n",
        "grid = { 'n_estimators': range (20, 90, 10),\n",
        "        'max_depth': range (1, 11, 1),\n",
        "       'min_samples_leaf': range(2, 5, 1) }\n",
        "forest_rs = RandomizedSearchCV(Random_forest, n_jobs=4, n_iter=50,\n",
        "                                 param_distributions=grid, random_state=42)\n",
        "forest_rs.fit(features_upsampled_2, target_upsampled_2)\n",
        "print('Best Params: \\n', forest_rs.best_params_ )"
      ],
      "execution_count": null,
      "outputs": [
        {
          "output_type": "stream",
          "text": [
            "Best Params: \n",
            " {'n_estimators': 50, 'min_samples_leaf': 2, 'max_depth': 10}\n"
          ],
          "name": "stdout"
        }
      ]
    },
    {
      "cell_type": "code",
      "metadata": {
        "scrolled": false,
        "id": "meJ9OaQ9nYJ9",
        "outputId": "371e72fa-bf99-4f24-b877-01ab20028c6b"
      },
      "source": [
        "forest(features_upsampled_2, target_upsampled_2, X_val, y_val, None, 10, 50, 2)"
      ],
      "execution_count": null,
      "outputs": [
        {
          "output_type": "stream",
          "text": [
            "F1 = 0.62 | Точность = 0.559, Полнота = 0.699 | ROC-AUC = 0.86 | Accuracy = 0.83\n",
            "[[1094  180]\n",
            " [  98  228]]\n"
          ],
          "name": "stdout"
        }
      ]
    },
    {
      "cell_type": "markdown",
      "metadata": {
        "id": "MhaJgyuBnYJ9"
      },
      "source": [
        "<font color='purple'>\n",
        "    \n",
        "- При Repeat = 4 - f1 - 0,62;\n",
        "    \n",
        "- При Repeat = 3 - f1 - 0,64;\n",
        "    \n",
        "- При Repeat = 3 на тесте f1 падает до 0,61</font>"
      ]
    },
    {
      "cell_type": "code",
      "metadata": {
        "id": "cdmiIO5AnYJ9"
      },
      "source": [
        "# Проверим градиентный бустинг\n",
        "features_upsampled_4, target_upsampled_4 = upsample(X_tr, y_tr, 4)"
      ],
      "execution_count": null,
      "outputs": []
    },
    {
      "cell_type": "code",
      "metadata": {
        "id": "lJwGQcXanYJ9",
        "outputId": "da2ea730-551d-423e-dd52-2f4e708a9cb1"
      },
      "source": [
        "# Подберем гиперпараметры для GBClass\n",
        "Random_gbc = GradientBoostingClassifier(min_samples_leaf=4)\n",
        "grid = { 'learning_rate': np.arange (0.1, 0.3, 0.1),\n",
        "        'n_estimators': range (100, 150, 10), \n",
        "        'max_depth': range (1,11, 1) }\n",
        "gbc_rs = RandomizedSearchCV(Random_gbc, n_jobs=4, n_iter=20,\n",
        "                                 param_distributions=grid, random_state=42, scoring='f1')\n",
        "gbc_rs.fit(features_upsampled_4, target_upsampled_4)\n",
        "print('Best Params: \\n', gbc_rs.best_params_ )"
      ],
      "execution_count": null,
      "outputs": [
        {
          "output_type": "stream",
          "text": [
            "Best Params: \n",
            " {'n_estimators': 100, 'max_depth': 9, 'learning_rate': 0.2}\n"
          ],
          "name": "stdout"
        }
      ]
    },
    {
      "cell_type": "code",
      "metadata": {
        "scrolled": false,
        "id": "XACfIH9znYJ-",
        "outputId": "0a7af62c-2279-46a1-d96f-d9e839834d45"
      },
      "source": [
        "gradboost(features_upsampled_4, target_upsampled_4, X_val, y_val, 0.2, 9, 100, 4)"
      ],
      "execution_count": null,
      "outputs": [
        {
          "output_type": "stream",
          "text": [
            "F1 = 0.60 | Точность = 0.678, Полнота = 0.543 | ROC-AUC = 0.85 | Accuracy = 0.85\n",
            "[[1190   84]\n",
            " [ 149  177]]\n"
          ],
          "name": "stdout"
        }
      ]
    },
    {
      "cell_type": "markdown",
      "metadata": {
        "id": "vC14LWvjnYJ-"
      },
      "source": [
        "- Модели Случайного леса и градиентного бустинг увеличили качество с помощью увеличения редкого класса."
      ]
    },
    {
      "cell_type": "markdown",
      "metadata": {
        "id": "-85utYHmnYJ-"
      },
      "source": [
        "**Downsampling**<a id=\"downsample\"></a>"
      ]
    },
    {
      "cell_type": "code",
      "metadata": {
        "id": "VpLkcYDBnYJ-"
      },
      "source": [
        "def downsample(features, target, fraction):\n",
        "    features_zeros = features[target == 0]\n",
        "    features_ones = features[target == 1]\n",
        "    target_zeros = target[target == 0]\n",
        "    target_ones = target[target == 1]\n",
        "\n",
        "    features_downsampled = pd.concat(\n",
        "        [features_zeros.sample(frac=fraction, random_state=12345)] + [features_ones])\n",
        "    target_downsampled = pd.concat(\n",
        "        [target_zeros.sample(frac=fraction, random_state=12345)] + [target_ones])\n",
        "    features_downsampled, target_downsampled = shuffle(\n",
        "        features_downsampled, target_downsampled, random_state=12345)\n",
        "    \n",
        "    return features_downsampled, target_downsampled"
      ],
      "execution_count": null,
      "outputs": []
    },
    {
      "cell_type": "markdown",
      "metadata": {
        "id": "Oxko9mpNnYJ_"
      },
      "source": [
        "- Проверка всех моделей при понижении выборки с классом - 0."
      ]
    },
    {
      "cell_type": "code",
      "metadata": {
        "scrolled": true,
        "id": "1TCXApv2nYJ_",
        "outputId": "f2f523cc-b6f6-4f46-9cd0-47a8f7a6a094"
      },
      "source": [
        "# проверим модель ЛР\n",
        "features_downsampled, target_downsampled = downsample(X_tr, y_tr, 0.5)\n",
        "lr(features_downsampled, target_downsampled, X_val, y_val, None)"
      ],
      "execution_count": null,
      "outputs": [
        {
          "output_type": "stream",
          "text": [
            "F1 = 0.47 | Точность = 0.503, Полнота = 0.448 | ROC-AUC = 0.76 | Accuracy = 0.80\n",
            "[[1130  144]\n",
            " [ 180  146]]\n"
          ],
          "name": "stdout"
        }
      ]
    },
    {
      "cell_type": "code",
      "metadata": {
        "id": "P3VFcWlQnYJ_"
      },
      "source": [
        "# проверим модель Tree\n",
        "features_downsampled_1, target_downsampled_1 = downsample(X_tr, y_tr, 0.5)"
      ],
      "execution_count": null,
      "outputs": []
    },
    {
      "cell_type": "code",
      "metadata": {
        "id": "h8WZDUCBnYJ_",
        "outputId": "ad5b236d-4d00-4807-ad43-e7bd10a2d7cc"
      },
      "source": [
        "Random_tree = DecisionTreeClassifier()\n",
        "grid = {'max_depth': range (1, 10)}\n",
        "tree_rs = RandomizedSearchCV(Random_tree, n_jobs=None, n_iter=10,\n",
        "                                 param_distributions=grid, random_state=42, scoring='f1')\n",
        "tree_rs.fit(features_downsampled_1, target_downsampled_1)\n",
        "print('Best Params: \\n', tree_rs.best_params_ )"
      ],
      "execution_count": null,
      "outputs": [
        {
          "output_type": "stream",
          "text": [
            "Best Params: \n",
            " {'max_depth': 6}\n"
          ],
          "name": "stdout"
        }
      ]
    },
    {
      "cell_type": "code",
      "metadata": {
        "id": "Ce6UxvCenYKA",
        "outputId": "5a7e3c50-fda7-4e04-ef47-d341152a4543"
      },
      "source": [
        "tree(features_downsampled_1, target_downsampled_1, X_val, y_val, None, 6)"
      ],
      "execution_count": null,
      "outputs": [
        {
          "output_type": "stream",
          "text": [
            "F1 = 0.58 | Точность = 0.691, Полнота = 0.494 | ROC-AUC = 0.85 | Accuracy = 0.85\n",
            "[[1202   72]\n",
            " [ 165  161]]\n"
          ],
          "name": "stdout"
        }
      ]
    },
    {
      "cell_type": "code",
      "metadata": {
        "id": "vanwEQMjnYKA"
      },
      "source": [
        "# Проверим модель Случайного леса\n",
        "features_downsampled_2, target_downsampled_2 = downsample(X_tr, y_tr, 0.5)"
      ],
      "execution_count": null,
      "outputs": []
    },
    {
      "cell_type": "code",
      "metadata": {
        "id": "T7HMlDsYnYKA",
        "outputId": "8f260420-49b1-40a6-83eb-f4cc972b0c38"
      },
      "source": [
        "# Подберем гиперпараметры для случайного леса\n",
        "Random_forest = RandomForestClassifier()\n",
        "grid = { 'n_estimators': range (20, 90, 10),\n",
        "        'max_depth': range (1, 11, 1),\n",
        "       'min_samples_leaf': range(2, 5, 1) }\n",
        "forest_rs = RandomizedSearchCV(Random_forest, n_jobs=4, n_iter=50,\n",
        "                                 param_distributions=grid, random_state=42, scoring='f1')\n",
        "forest_rs.fit(features_downsampled_2, target_downsampled_2)\n",
        "print('Best Params: \\n', forest_rs.best_params_ )"
      ],
      "execution_count": null,
      "outputs": [
        {
          "output_type": "stream",
          "text": [
            "Best Params: \n",
            " {'n_estimators': 70, 'min_samples_leaf': 4, 'max_depth': 9}\n"
          ],
          "name": "stdout"
        }
      ]
    },
    {
      "cell_type": "code",
      "metadata": {
        "id": "WYhxJCg6nYKA",
        "outputId": "f4538706-3b6b-4ff1-a994-b3561ab1e987"
      },
      "source": [
        "forest(features_downsampled_2, target_downsampled_2, X_val, y_val, None, 10, 60, 3)"
      ],
      "execution_count": null,
      "outputs": [
        {
          "output_type": "stream",
          "text": [
            "F1 = 0.62 | Точность = 0.673, Полнота = 0.574 | ROC-AUC = 0.86 | Accuracy = 0.86\n",
            "[[1183   91]\n",
            " [ 139  187]]\n"
          ],
          "name": "stdout"
        }
      ]
    },
    {
      "cell_type": "code",
      "metadata": {
        "id": "WC9zPV_mnYKB"
      },
      "source": [
        "# Проверим градиентный бустинг\n",
        "features_downsampled_4, target_downsampled_4 = downsample(X_tr, y_tr, 0.5)"
      ],
      "execution_count": null,
      "outputs": []
    },
    {
      "cell_type": "code",
      "metadata": {
        "id": "qls3UYkinYKB",
        "outputId": "a7ed637c-2959-47c2-d2a4-7c65a44012b6"
      },
      "source": [
        "# Подберем гиперпараметры для GBClass\n",
        "Random_gbc = GradientBoostingClassifier(min_samples_leaf=4)\n",
        "grid = { 'learning_rate': np.arange (0.1, 0.3, 0.1),\n",
        "        'n_estimators': range (100, 150, 10), \n",
        "        'max_depth': range (1,11, 1) }\n",
        "gbc_rs = RandomizedSearchCV(Random_gbc, n_jobs=4, n_iter=30,\n",
        "                                 param_distributions=grid, random_state=42, scoring='f1')\n",
        "gbc_rs.fit(features_downsampled_4, target_downsampled_4)\n",
        "print('Best Params: \\n', gbc_rs.best_params_ )"
      ],
      "execution_count": null,
      "outputs": [
        {
          "output_type": "stream",
          "text": [
            "Best Params: \n",
            " {'n_estimators': 120, 'max_depth': 3, 'learning_rate': 0.1}\n"
          ],
          "name": "stdout"
        }
      ]
    },
    {
      "cell_type": "code",
      "metadata": {
        "id": "FDeF-p8enYKB",
        "outputId": "68a52eec-3bc0-4fd0-97fa-e6f67e50e823"
      },
      "source": [
        "gradboost(features_downsampled_4, target_downsampled_4, X_val, y_val, 0.1, 3, 120, 4)"
      ],
      "execution_count": null,
      "outputs": [
        {
          "output_type": "stream",
          "text": [
            "F1 = 0.61 | Точность = 0.643, Полнота = 0.580 | ROC-AUC = 0.86 | Accuracy = 0.85\n",
            "[[1169  105]\n",
            " [ 137  189]]\n"
          ],
          "name": "stdout"
        }
      ]
    },
    {
      "cell_type": "markdown",
      "metadata": {
        "id": "a3iXknKonYKC"
      },
      "source": [
        "**Вывод**\n",
        "- Искусственно изменяю выборки классов можно как улучшить качество, так и сделать модель невменяемой."
      ]
    },
    {
      "cell_type": "markdown",
      "metadata": {
        "id": "Z45MUmO8nYKC"
      },
      "source": [
        "**Изменение порога, PR и ROC-кривые на лучшей моделе**<a id=\"roc\"></a>"
      ]
    },
    {
      "cell_type": "code",
      "metadata": {
        "scrolled": false,
        "id": "uG6rCEQinYKD",
        "outputId": "3a9ddd4d-2e0f-4638-9258-495c9f512213"
      },
      "source": [
        "# Проверим модель Случайного леса\n",
        "forest_best = RandomForestClassifier(bootstrap=True, class_weight='balanced', criterion='gini',\n",
        "                       max_depth=9, min_samples_leaf=4, n_estimators=70, random_state=42)\n",
        "forest_best.fit(X_tr, y_tr)\n",
        "probabilities_valid = forest_best.predict_proba(X_val)\n",
        "probabilities_one_valid = probabilities_valid[:, 1]\n",
        "for threshold in np.arange(0.3, 0.8, 0.02):\n",
        "    predicted_valid = probabilities_one_valid > threshold\n",
        "    precision = precision_score(y_val, predicted_valid)\n",
        "    recall = recall_score(y_val, predicted_valid)\n",
        "    f1 = f1_score(y_val, predicted_valid)\n",
        "    roc = roc_auc_score(y_val, predicted_valid)\n",
        "    print(\"Порог = {:.2f} | Точность = {:.3f}, Полнота = {:.3f} | f1 = {:.2f} | ROC-AUC = {:.2f} \".format(threshold, precision, recall, f1, roc))"
      ],
      "execution_count": null,
      "outputs": [
        {
          "output_type": "stream",
          "text": [
            "Порог = 0.30 | Точность = 0.365, Полнота = 0.883 | f1 = 0.52 | ROC-AUC = 0.75 \n",
            "Порог = 0.32 | Точность = 0.390, Полнота = 0.868 | f1 = 0.54 | ROC-AUC = 0.76 \n",
            "Порог = 0.34 | Точность = 0.415, Полнота = 0.856 | f1 = 0.56 | ROC-AUC = 0.77 \n",
            "Порог = 0.36 | Точность = 0.435, Полнота = 0.834 | f1 = 0.57 | ROC-AUC = 0.78 \n",
            "Порог = 0.38 | Точность = 0.461, Полнота = 0.822 | f1 = 0.59 | ROC-AUC = 0.79 \n",
            "Порог = 0.40 | Точность = 0.477, Полнота = 0.791 | f1 = 0.60 | ROC-AUC = 0.78 \n",
            "Порог = 0.42 | Точность = 0.504, Полнота = 0.773 | f1 = 0.61 | ROC-AUC = 0.79 \n",
            "Порог = 0.44 | Точность = 0.523, Полнота = 0.742 | f1 = 0.61 | ROC-AUC = 0.78 \n",
            "Порог = 0.46 | Точность = 0.540, Полнота = 0.712 | f1 = 0.61 | ROC-AUC = 0.78 \n",
            "Порог = 0.48 | Точность = 0.563, Полнота = 0.684 | f1 = 0.62 | ROC-AUC = 0.77 \n",
            "Порог = 0.50 | Точность = 0.593, Полнота = 0.666 | f1 = 0.63 | ROC-AUC = 0.77 \n",
            "Порог = 0.52 | Точность = 0.610, Полнота = 0.638 | f1 = 0.62 | ROC-AUC = 0.77 \n",
            "Порог = 0.54 | Точность = 0.637, Полнота = 0.626 | f1 = 0.63 | ROC-AUC = 0.77 \n",
            "Порог = 0.56 | Точность = 0.659, Полнота = 0.592 | f1 = 0.62 | ROC-AUC = 0.76 \n",
            "Порог = 0.58 | Точность = 0.683, Полнота = 0.567 | f1 = 0.62 | ROC-AUC = 0.75 \n",
            "Порог = 0.60 | Точность = 0.699, Полнота = 0.549 | f1 = 0.62 | ROC-AUC = 0.74 \n",
            "Порог = 0.62 | Точность = 0.722, Полнота = 0.534 | f1 = 0.61 | ROC-AUC = 0.74 \n",
            "Порог = 0.64 | Точность = 0.732, Полнота = 0.512 | f1 = 0.60 | ROC-AUC = 0.73 \n",
            "Порог = 0.66 | Точность = 0.738, Полнота = 0.485 | f1 = 0.59 | ROC-AUC = 0.72 \n",
            "Порог = 0.68 | Точность = 0.768, Полнота = 0.448 | f1 = 0.57 | ROC-AUC = 0.71 \n",
            "Порог = 0.70 | Точность = 0.782, Полнота = 0.417 | f1 = 0.54 | ROC-AUC = 0.69 \n",
            "Порог = 0.72 | Точность = 0.800, Полнота = 0.393 | f1 = 0.53 | ROC-AUC = 0.68 \n",
            "Порог = 0.74 | Точность = 0.808, Полнота = 0.362 | f1 = 0.50 | ROC-AUC = 0.67 \n",
            "Порог = 0.76 | Точность = 0.820, Полнота = 0.334 | f1 = 0.47 | ROC-AUC = 0.66 \n",
            "Порог = 0.78 | Точность = 0.857, Полнота = 0.294 | f1 = 0.44 | ROC-AUC = 0.64 \n"
          ],
          "name": "stdout"
        }
      ]
    },
    {
      "cell_type": "markdown",
      "metadata": {
        "id": "xwOE-lj8nYKD"
      },
      "source": [
        "**Вывод**\n",
        "- Использование данной модели очень разнооборазное, мы имеем интервал порогов с высокими метриками f1 и ROC-AUC, они могут сделать модель строгой к отбору класса - 1, либо наоборот увеличивать предсказания класса 1 жертвую точностью, но не сильно, как это было в логистической регрессии;\n",
        "- Максимальное значение f1 достигнуто при пороге 0.5-0.54;\n",
        "- А ROC_AUC - 0.79 говорить нам, что соотношение класса TPR больше FPR при пороге 0.42 и значении Полноты - 0.773. Данное значение достигнуто при f1 - 0.61."
      ]
    },
    {
      "cell_type": "code",
      "metadata": {
        "scrolled": true,
        "id": "DDhtQlgDnYKD",
        "outputId": "9a758c2b-509f-45aa-a8fc-cc93a4264ec8"
      },
      "source": [
        "# Отобразим полученные цифры в виде графика\n",
        "precision, recall, thresholds = precision_recall_curve(y_val, probabilities_valid[:, 1])\n",
        "plt.figure(figsize=(6, 6))\n",
        "plt.step(recall, precision, where='post')\n",
        "plt.xlabel('Recall')\n",
        "plt.ylabel('Precision')\n",
        "plt.ylim([0.0, 1.05])\n",
        "plt.xlim([0.0, 1.0])\n",
        "plt.title('Кривая Precision-Recall_forest_best')\n",
        "plt.show()\n",
        "fpr, tpr, thresholds = roc_curve(y_val, probabilities_valid[:, 1])\n",
        "plt.figure()\n",
        "plt.plot(fpr, tpr)\n",
        "plt.plot([0, 1], [0, 1], linestyle='--')\n",
        "plt.xlim([0.0, 1.0])\n",
        "plt.ylim([0.0, 1.0])\n",
        "plt.xlabel('False Positive Rate')\n",
        "plt.ylabel('True Positive Rate')\n",
        "plt.title('ROC-кривая_forest_best')\n",
        "plt.show()"
      ],
      "execution_count": null,
      "outputs": [
        {
          "output_type": "display_data",
          "data": {
            "image/png": "[encoded data removed]",
            "text/plain": [
              "<Figure size 432x432 with 1 Axes>"
            ]
          },
          "metadata": {
            "tags": [],
            "needs_background": "light"
          }
        },
        {
          "output_type": "display_data",
          "data": {
            "image/png": "[encoded data removed]",
            "text/plain": [
              "<Figure size 432x288 with 1 Axes>"
            ]
          },
          "metadata": {
            "tags": [],
            "needs_background": "light"
          }
        }
      ]
    },
    {
      "cell_type": "markdown",
      "metadata": {
        "id": "YlI2neHFnYKE"
      },
      "source": [
        "# 4. Тестирование модели<a id=\"test\"></a>"
      ]
    },
    {
      "cell_type": "markdown",
      "metadata": {
        "id": "cMPZ4jzXnYKE"
      },
      "source": [
        "1. **Тестирование Случайного леса - 'balanced' and downsampling (frac=0.5)** "
      ]
    },
    {
      "cell_type": "code",
      "metadata": {
        "scrolled": true,
        "id": "Sl26Y_YWnYKE",
        "outputId": "c4d89ca4-9bbd-4b2c-ef96-89bd1f56c9b8"
      },
      "source": [
        "forest(X_tr, y_tr, X_test, y_test, 'balanced', 9, 70, 4)"
      ],
      "execution_count": null,
      "outputs": [
        {
          "output_type": "stream",
          "text": [
            "F1 = 0.63 | Точность = 0.586, Полнота = 0.688 | ROC-AUC = 0.86 | Accuracy = 0.84\n",
            "[[1395  198]\n",
            " [ 127  280]]\n"
          ],
          "name": "stdout"
        }
      ]
    },
    {
      "cell_type": "code",
      "metadata": {
        "scrolled": true,
        "id": "JL1e5KZfnYKF",
        "outputId": "113b2cf6-d719-449e-cb05-db26b3d11867"
      },
      "source": [
        "forest(features_downsampled_2, target_downsampled_2, X_test, y_test, None, 10, 60, 3)"
      ],
      "execution_count": null,
      "outputs": [
        {
          "output_type": "stream",
          "text": [
            "F1 = 0.62 | Точность = 0.648, Полнота = 0.587 | ROC-AUC = 0.86 | Accuracy = 0.85\n",
            "[[1463  130]\n",
            " [ 168  239]]\n"
          ],
          "name": "stdout"
        }
      ]
    },
    {
      "cell_type": "code",
      "metadata": {
        "scrolled": true,
        "id": "Mt_IW-IAnYKF",
        "outputId": "d534b15b-4d76-4a20-e1d1-c16953b6f4c3"
      },
      "source": [
        "# Соединим Train and Valid и обучим на этих данных лучшую модель\n",
        "X_tr_v = pd.concat([X_tr, X_val], axis=0)\n",
        "X_tr_v"
      ],
      "execution_count": null,
      "outputs": [
        {
          "output_type": "execute_result",
          "data": {
            "text/html": [
              "<div>\n",
              "<style scoped>\n",
              "    .dataframe tbody tr th:only-of-type {\n",
              "        vertical-align: middle;\n",
              "    }\n",
              "\n",
              "    .dataframe tbody tr th {\n",
              "        vertical-align: top;\n",
              "    }\n",
              "\n",
              "    .dataframe thead th {\n",
              "        text-align: right;\n",
              "    }\n",
              "</style>\n",
              "<table border=\"1\" class=\"dataframe\">\n",
              "  <thead>\n",
              "    <tr style=\"text-align: right;\">\n",
              "      <th></th>\n",
              "      <th>creditscore</th>\n",
              "      <th>age</th>\n",
              "      <th>tenure</th>\n",
              "      <th>balance</th>\n",
              "      <th>numofproducts</th>\n",
              "      <th>hascrcard</th>\n",
              "      <th>isactivemember</th>\n",
              "      <th>estimatedsalary</th>\n",
              "      <th>geography_Germany</th>\n",
              "      <th>geography_Spain</th>\n",
              "      <th>gender_Male</th>\n",
              "    </tr>\n",
              "  </thead>\n",
              "  <tbody>\n",
              "    <tr>\n",
              "      <td>3006</td>\n",
              "      <td>0.996450</td>\n",
              "      <td>0.575076</td>\n",
              "      <td>-1.446064</td>\n",
              "      <td>0.619244</td>\n",
              "      <td>-0.910256</td>\n",
              "      <td>1.0</td>\n",
              "      <td>0.0</td>\n",
              "      <td>1.563384</td>\n",
              "      <td>0</td>\n",
              "      <td>0</td>\n",
              "      <td>0</td>\n",
              "    </tr>\n",
              "    <tr>\n",
              "      <td>5735</td>\n",
              "      <td>-0.680735</td>\n",
              "      <td>0.480075</td>\n",
              "      <td>-0.360532</td>\n",
              "      <td>-1.226059</td>\n",
              "      <td>0.808830</td>\n",
              "      <td>0.0</td>\n",
              "      <td>1.0</td>\n",
              "      <td>0.034836</td>\n",
              "      <td>0</td>\n",
              "      <td>1</td>\n",
              "      <td>0</td>\n",
              "    </tr>\n",
              "    <tr>\n",
              "      <td>5652</td>\n",
              "      <td>0.416682</td>\n",
              "      <td>-0.944938</td>\n",
              "      <td>1.448687</td>\n",
              "      <td>-1.226059</td>\n",
              "      <td>0.808830</td>\n",
              "      <td>0.0</td>\n",
              "      <td>0.0</td>\n",
              "      <td>1.742587</td>\n",
              "      <td>0</td>\n",
              "      <td>0</td>\n",
              "      <td>0</td>\n",
              "    </tr>\n",
              "    <tr>\n",
              "      <td>26</td>\n",
              "      <td>1.089627</td>\n",
              "      <td>-0.279932</td>\n",
              "      <td>-1.084220</td>\n",
              "      <td>0.970089</td>\n",
              "      <td>-0.910256</td>\n",
              "      <td>1.0</td>\n",
              "      <td>1.0</td>\n",
              "      <td>1.226397</td>\n",
              "      <td>1</td>\n",
              "      <td>0</td>\n",
              "      <td>1</td>\n",
              "    </tr>\n",
              "    <tr>\n",
              "      <td>3596</td>\n",
              "      <td>-0.080262</td>\n",
              "      <td>-0.279932</td>\n",
              "      <td>-1.807908</td>\n",
              "      <td>1.152181</td>\n",
              "      <td>-0.910256</td>\n",
              "      <td>0.0</td>\n",
              "      <td>0.0</td>\n",
              "      <td>-0.765631</td>\n",
              "      <td>0</td>\n",
              "      <td>0</td>\n",
              "      <td>1</td>\n",
              "    </tr>\n",
              "    <tr>\n",
              "      <td>...</td>\n",
              "      <td>...</td>\n",
              "      <td>...</td>\n",
              "      <td>...</td>\n",
              "      <td>...</td>\n",
              "      <td>...</td>\n",
              "      <td>...</td>\n",
              "      <td>...</td>\n",
              "      <td>...</td>\n",
              "      <td>...</td>\n",
              "      <td>...</td>\n",
              "      <td>...</td>\n",
              "    </tr>\n",
              "    <tr>\n",
              "      <td>6760</td>\n",
              "      <td>0.106092</td>\n",
              "      <td>0.195072</td>\n",
              "      <td>0.001312</td>\n",
              "      <td>-1.226059</td>\n",
              "      <td>-0.910256</td>\n",
              "      <td>0.0</td>\n",
              "      <td>1.0</td>\n",
              "      <td>-0.199730</td>\n",
              "      <td>0</td>\n",
              "      <td>0</td>\n",
              "      <td>1</td>\n",
              "    </tr>\n",
              "    <tr>\n",
              "      <td>2105</td>\n",
              "      <td>-1.643564</td>\n",
              "      <td>-0.754936</td>\n",
              "      <td>0.724999</td>\n",
              "      <td>-1.226059</td>\n",
              "      <td>0.808830</td>\n",
              "      <td>1.0</td>\n",
              "      <td>1.0</td>\n",
              "      <td>-0.876792</td>\n",
              "      <td>0</td>\n",
              "      <td>0</td>\n",
              "      <td>0</td>\n",
              "    </tr>\n",
              "    <tr>\n",
              "      <td>2311</td>\n",
              "      <td>-0.059556</td>\n",
              "      <td>-1.894947</td>\n",
              "      <td>1.448687</td>\n",
              "      <td>0.836843</td>\n",
              "      <td>-0.910256</td>\n",
              "      <td>0.0</td>\n",
              "      <td>0.0</td>\n",
              "      <td>1.329778</td>\n",
              "      <td>0</td>\n",
              "      <td>0</td>\n",
              "      <td>1</td>\n",
              "    </tr>\n",
              "    <tr>\n",
              "      <td>4728</td>\n",
              "      <td>-1.550387</td>\n",
              "      <td>0.100072</td>\n",
              "      <td>0.001312</td>\n",
              "      <td>0.614381</td>\n",
              "      <td>-0.910256</td>\n",
              "      <td>0.0</td>\n",
              "      <td>0.0</td>\n",
              "      <td>0.467547</td>\n",
              "      <td>1</td>\n",
              "      <td>0</td>\n",
              "      <td>1</td>\n",
              "    </tr>\n",
              "    <tr>\n",
              "      <td>5566</td>\n",
              "      <td>-0.183792</td>\n",
              "      <td>0.290073</td>\n",
              "      <td>-0.722376</td>\n",
              "      <td>0.797131</td>\n",
              "      <td>-0.910256</td>\n",
              "      <td>0.0</td>\n",
              "      <td>1.0</td>\n",
              "      <td>-1.533777</td>\n",
              "      <td>1</td>\n",
              "      <td>0</td>\n",
              "      <td>1</td>\n",
              "    </tr>\n",
              "  </tbody>\n",
              "</table>\n",
              "<p>8000 rows × 11 columns</p>\n",
              "</div>"
            ],
            "text/plain": [
              "      creditscore       age    tenure   balance  numofproducts  hascrcard  \\\n",
              "3006     0.996450  0.575076 -1.446064  0.619244      -0.910256        1.0   \n",
              "5735    -0.680735  0.480075 -0.360532 -1.226059       0.808830        0.0   \n",
              "5652     0.416682 -0.944938  1.448687 -1.226059       0.808830        0.0   \n",
              "26       1.089627 -0.279932 -1.084220  0.970089      -0.910256        1.0   \n",
              "3596    -0.080262 -0.279932 -1.807908  1.152181      -0.910256        0.0   \n",
              "...           ...       ...       ...       ...            ...        ...   \n",
              "6760     0.106092  0.195072  0.001312 -1.226059      -0.910256        0.0   \n",
              "2105    -1.643564 -0.754936  0.724999 -1.226059       0.808830        1.0   \n",
              "2311    -0.059556 -1.894947  1.448687  0.836843      -0.910256        0.0   \n",
              "4728    -1.550387  0.100072  0.001312  0.614381      -0.910256        0.0   \n",
              "5566    -0.183792  0.290073 -0.722376  0.797131      -0.910256        0.0   \n",
              "\n",
              "      isactivemember  estimatedsalary  geography_Germany  geography_Spain  \\\n",
              "3006             0.0         1.563384                  0                0   \n",
              "5735             1.0         0.034836                  0                1   \n",
              "5652             0.0         1.742587                  0                0   \n",
              "26               1.0         1.226397                  1                0   \n",
              "3596             0.0        -0.765631                  0                0   \n",
              "...              ...              ...                ...              ...   \n",
              "6760             1.0        -0.199730                  0                0   \n",
              "2105             1.0        -0.876792                  0                0   \n",
              "2311             0.0         1.329778                  0                0   \n",
              "4728             0.0         0.467547                  1                0   \n",
              "5566             1.0        -1.533777                  1                0   \n",
              "\n",
              "      gender_Male  \n",
              "3006            0  \n",
              "5735            0  \n",
              "5652            0  \n",
              "26              1  \n",
              "3596            1  \n",
              "...           ...  \n",
              "6760            1  \n",
              "2105            0  \n",
              "2311            1  \n",
              "4728            1  \n",
              "5566            1  \n",
              "\n",
              "[8000 rows x 11 columns]"
            ]
          },
          "metadata": {
            "tags": []
          },
          "execution_count": 53
        }
      ]
    },
    {
      "cell_type": "code",
      "metadata": {
        "scrolled": true,
        "id": "OekxUBhtnYKF",
        "outputId": "3dabcac3-341c-4399-976f-ea9a3c4cf3ab"
      },
      "source": [
        "y_tr_v = pd.concat([y_tr] + [y_val])\n",
        "y_tr_v"
      ],
      "execution_count": null,
      "outputs": [
        {
          "output_type": "execute_result",
          "data": {
            "text/plain": [
              "3006    1.0\n",
              "5735    0.0\n",
              "5652    0.0\n",
              "26      0.0\n",
              "3596    0.0\n",
              "       ... \n",
              "6760    0.0\n",
              "2105    0.0\n",
              "2311    0.0\n",
              "4728    0.0\n",
              "5566    0.0\n",
              "Name: exited, Length: 8000, dtype: float64"
            ]
          },
          "metadata": {
            "tags": []
          },
          "execution_count": 54
        }
      ]
    },
    {
      "cell_type": "code",
      "metadata": {
        "scrolled": true,
        "id": "ldRFuRLynYKG",
        "outputId": "f7d6705b-e551-44fb-9549-c70282645598"
      },
      "source": [
        "forest(X_tr_v, y_tr_v, X_test, y_test, 'balanced', 9, 70, 4)"
      ],
      "execution_count": null,
      "outputs": [
        {
          "output_type": "stream",
          "text": [
            "F1 = 0.62 | Точность = 0.557, Полнота = 0.705 | ROC-AUC = 0.86 | Accuracy = 0.83\n",
            "[[1365  228]\n",
            " [ 120  287]]\n"
          ],
          "name": "stdout"
        }
      ]
    },
    {
      "cell_type": "code",
      "metadata": {
        "scrolled": true,
        "id": "HX1ZsrejnYKG",
        "outputId": "1e25230f-ce5b-4be1-d8f5-2d7c241f42d9"
      },
      "source": [
        "features_downsampled_new, target_downsampled_new = downsample(X_tr_v, y_tr_v, 0.5)\n",
        "forest(features_downsampled_new, target_downsampled_new, X_test, y_test, None, 10, 60, 3)"
      ],
      "execution_count": null,
      "outputs": [
        {
          "output_type": "stream",
          "text": [
            "F1 = 0.61 | Точность = 0.644, Полнота = 0.582 | ROC-AUC = 0.86 | Accuracy = 0.85\n",
            "[[1462  131]\n",
            " [ 170  237]]\n"
          ],
          "name": "stdout"
        }
      ]
    },
    {
      "cell_type": "markdown",
      "metadata": {
        "id": "YpxmY14bnYKG"
      },
      "source": [
        "#### Общий вывод<a id=\"result\"></a>\n",
        "- Созданы и проверены 4 модели из них выявлены лучшие модели, которые более точно определили признаки, влияющие на уход клиентов;\n",
        "- Результат на тесте упал на 1 деление, но он выше 0.59;\n",
        "- Модели не помогут удержать клиентов, но помогут руководству банка принять правильное решение;\n",
        "- С помощью графиков и пороговых значений мы можем регулировать строгость модели, если мы боимся ухода клиентов, либо скорость ухода повышается - мы понижаем порог, увеличивая работу сотрудников банка (обзвон клиентов, разработка новых продуктов для удержания, сокращение комиссий по брокерскому обслуживанию, повышение ставок по вкладам), т.к. потенциальных клиентов с классом 1 стало больше (увеличились TP and FP). Если же ситуация выравнивается, либо нужно сократить ресурсы - мы повышаем порог - увеличивая точность модели и уменьшая и TP, и FP."
      ]
    }
  ]
}