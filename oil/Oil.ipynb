{
  "nbformat": 4,
  "nbformat_minor": 0,
  "metadata": {
    "kernelspec": {
      "display_name": "Python 3",
      "language": "python",
      "name": "python3"
    },
    "language_info": {
      "codemirror_mode": {
        "name": "ipython",
        "version": 3
      },
      "file_extension": ".py",
      "mimetype": "text/x-python",
      "name": "python",
      "nbconvert_exporter": "python",
      "pygments_lexer": "ipython3",
      "version": "3.7.8"
    },
    "toc": {
      "base_numbering": 1,
      "nav_menu": {},
      "number_sections": true,
      "sideBar": true,
      "skip_h1_title": true,
      "title_cell": "Table of Contents",
      "title_sidebar": "Contents",
      "toc_cell": false,
      "toc_position": {},
      "toc_section_display": true,
      "toc_window_display": false
    },
    "colab": {
      "name": "Oil.ipynb",
      "provenance": [],
      "collapsed_sections": []
    }
  },
  "cells": [
    {
      "cell_type": "markdown",
      "metadata": {
        "id": "JDxA5KruterT"
      },
      "source": [
        "# Описание проекта"
      ]
    },
    {
      "cell_type": "markdown",
      "metadata": {
        "id": "63-ULuIwterT"
      },
      "source": [
        "Нужно решить, где бурить новую скважину.\n",
        "\n",
        "Вам предоставлены пробы нефти в трёх регионах: в каждом 10 000 месторождений, где измерили качество нефти и объём её запасов. Постройте модель машинного обучения, которая поможет определить регион, где добыча принесёт наибольшую прибыль. Проанализируйте возможную прибыль и риски техникой *Bootstrap.*"
      ]
    },
    {
      "cell_type": "markdown",
      "metadata": {
        "id": "5LO5mn5oterU"
      },
      "source": [
        "# Загрузка и подготовка данных"
      ]
    },
    {
      "cell_type": "code",
      "metadata": {
        "id": "R8-hxn6dterV",
        "outputId": "afda6127-b62c-4308-fdde-339cdcf7f263"
      },
      "source": [
        "# Загрузим библиотеки\n",
        "import pandas as pd\n",
        "import numpy as np\n",
        "import matplotlib.pyplot as plt\n",
        "from sklearn.model_selection import train_test_split\n",
        "from sklearn.linear_model import LinearRegression\n",
        "from sklearn.metrics import mean_squared_error\n",
        "from sklearn.metrics import r2_score\n",
        "from sklearn.metrics import mean_absolute_error\n",
        "# Загрузили и ознакомились с датасетами по регионам бурения\n",
        "df_1 = pd.read_csv('/datasets/geo_data_0.csv') # регион № 1\n",
        "df_2 = pd.read_csv('/datasets/geo_data_1.csv') # регион № 2\n",
        "df_3 = pd.read_csv('/datasets/geo_data_2.csv') # регион № 3\n",
        "display(df_1.head())\n",
        "display(df_2.head())\n",
        "display(df_3.head())"
      ],
      "execution_count": null,
      "outputs": [
        {
          "output_type": "display_data",
          "data": {
            "text/html": [
              "<div>\n",
              "<style scoped>\n",
              "    .dataframe tbody tr th:only-of-type {\n",
              "        vertical-align: middle;\n",
              "    }\n",
              "\n",
              "    .dataframe tbody tr th {\n",
              "        vertical-align: top;\n",
              "    }\n",
              "\n",
              "    .dataframe thead th {\n",
              "        text-align: right;\n",
              "    }\n",
              "</style>\n",
              "<table border=\"1\" class=\"dataframe\">\n",
              "  <thead>\n",
              "    <tr style=\"text-align: right;\">\n",
              "      <th></th>\n",
              "      <th>id</th>\n",
              "      <th>f0</th>\n",
              "      <th>f1</th>\n",
              "      <th>f2</th>\n",
              "      <th>product</th>\n",
              "    </tr>\n",
              "  </thead>\n",
              "  <tbody>\n",
              "    <tr>\n",
              "      <td>0</td>\n",
              "      <td>txEyH</td>\n",
              "      <td>0.705745</td>\n",
              "      <td>-0.497823</td>\n",
              "      <td>1.221170</td>\n",
              "      <td>105.280062</td>\n",
              "    </tr>\n",
              "    <tr>\n",
              "      <td>1</td>\n",
              "      <td>2acmU</td>\n",
              "      <td>1.334711</td>\n",
              "      <td>-0.340164</td>\n",
              "      <td>4.365080</td>\n",
              "      <td>73.037750</td>\n",
              "    </tr>\n",
              "    <tr>\n",
              "      <td>2</td>\n",
              "      <td>409Wp</td>\n",
              "      <td>1.022732</td>\n",
              "      <td>0.151990</td>\n",
              "      <td>1.419926</td>\n",
              "      <td>85.265647</td>\n",
              "    </tr>\n",
              "    <tr>\n",
              "      <td>3</td>\n",
              "      <td>iJLyR</td>\n",
              "      <td>-0.032172</td>\n",
              "      <td>0.139033</td>\n",
              "      <td>2.978566</td>\n",
              "      <td>168.620776</td>\n",
              "    </tr>\n",
              "    <tr>\n",
              "      <td>4</td>\n",
              "      <td>Xdl7t</td>\n",
              "      <td>1.988431</td>\n",
              "      <td>0.155413</td>\n",
              "      <td>4.751769</td>\n",
              "      <td>154.036647</td>\n",
              "    </tr>\n",
              "  </tbody>\n",
              "</table>\n",
              "</div>"
            ],
            "text/plain": [
              "      id        f0        f1        f2     product\n",
              "0  txEyH  0.705745 -0.497823  1.221170  105.280062\n",
              "1  2acmU  1.334711 -0.340164  4.365080   73.037750\n",
              "2  409Wp  1.022732  0.151990  1.419926   85.265647\n",
              "3  iJLyR -0.032172  0.139033  2.978566  168.620776\n",
              "4  Xdl7t  1.988431  0.155413  4.751769  154.036647"
            ]
          },
          "metadata": {
            "tags": []
          }
        },
        {
          "output_type": "display_data",
          "data": {
            "text/html": [
              "<div>\n",
              "<style scoped>\n",
              "    .dataframe tbody tr th:only-of-type {\n",
              "        vertical-align: middle;\n",
              "    }\n",
              "\n",
              "    .dataframe tbody tr th {\n",
              "        vertical-align: top;\n",
              "    }\n",
              "\n",
              "    .dataframe thead th {\n",
              "        text-align: right;\n",
              "    }\n",
              "</style>\n",
              "<table border=\"1\" class=\"dataframe\">\n",
              "  <thead>\n",
              "    <tr style=\"text-align: right;\">\n",
              "      <th></th>\n",
              "      <th>id</th>\n",
              "      <th>f0</th>\n",
              "      <th>f1</th>\n",
              "      <th>f2</th>\n",
              "      <th>product</th>\n",
              "    </tr>\n",
              "  </thead>\n",
              "  <tbody>\n",
              "    <tr>\n",
              "      <td>0</td>\n",
              "      <td>kBEdx</td>\n",
              "      <td>-15.001348</td>\n",
              "      <td>-8.276000</td>\n",
              "      <td>-0.005876</td>\n",
              "      <td>3.179103</td>\n",
              "    </tr>\n",
              "    <tr>\n",
              "      <td>1</td>\n",
              "      <td>62mP7</td>\n",
              "      <td>14.272088</td>\n",
              "      <td>-3.475083</td>\n",
              "      <td>0.999183</td>\n",
              "      <td>26.953261</td>\n",
              "    </tr>\n",
              "    <tr>\n",
              "      <td>2</td>\n",
              "      <td>vyE1P</td>\n",
              "      <td>6.263187</td>\n",
              "      <td>-5.948386</td>\n",
              "      <td>5.001160</td>\n",
              "      <td>134.766305</td>\n",
              "    </tr>\n",
              "    <tr>\n",
              "      <td>3</td>\n",
              "      <td>KcrkZ</td>\n",
              "      <td>-13.081196</td>\n",
              "      <td>-11.506057</td>\n",
              "      <td>4.999415</td>\n",
              "      <td>137.945408</td>\n",
              "    </tr>\n",
              "    <tr>\n",
              "      <td>4</td>\n",
              "      <td>AHL4O</td>\n",
              "      <td>12.702195</td>\n",
              "      <td>-8.147433</td>\n",
              "      <td>5.004363</td>\n",
              "      <td>134.766305</td>\n",
              "    </tr>\n",
              "  </tbody>\n",
              "</table>\n",
              "</div>"
            ],
            "text/plain": [
              "      id         f0         f1        f2     product\n",
              "0  kBEdx -15.001348  -8.276000 -0.005876    3.179103\n",
              "1  62mP7  14.272088  -3.475083  0.999183   26.953261\n",
              "2  vyE1P   6.263187  -5.948386  5.001160  134.766305\n",
              "3  KcrkZ -13.081196 -11.506057  4.999415  137.945408\n",
              "4  AHL4O  12.702195  -8.147433  5.004363  134.766305"
            ]
          },
          "metadata": {
            "tags": []
          }
        },
        {
          "output_type": "display_data",
          "data": {
            "text/html": [
              "<div>\n",
              "<style scoped>\n",
              "    .dataframe tbody tr th:only-of-type {\n",
              "        vertical-align: middle;\n",
              "    }\n",
              "\n",
              "    .dataframe tbody tr th {\n",
              "        vertical-align: top;\n",
              "    }\n",
              "\n",
              "    .dataframe thead th {\n",
              "        text-align: right;\n",
              "    }\n",
              "</style>\n",
              "<table border=\"1\" class=\"dataframe\">\n",
              "  <thead>\n",
              "    <tr style=\"text-align: right;\">\n",
              "      <th></th>\n",
              "      <th>id</th>\n",
              "      <th>f0</th>\n",
              "      <th>f1</th>\n",
              "      <th>f2</th>\n",
              "      <th>product</th>\n",
              "    </tr>\n",
              "  </thead>\n",
              "  <tbody>\n",
              "    <tr>\n",
              "      <td>0</td>\n",
              "      <td>fwXo0</td>\n",
              "      <td>-1.146987</td>\n",
              "      <td>0.963328</td>\n",
              "      <td>-0.828965</td>\n",
              "      <td>27.758673</td>\n",
              "    </tr>\n",
              "    <tr>\n",
              "      <td>1</td>\n",
              "      <td>WJtFt</td>\n",
              "      <td>0.262778</td>\n",
              "      <td>0.269839</td>\n",
              "      <td>-2.530187</td>\n",
              "      <td>56.069697</td>\n",
              "    </tr>\n",
              "    <tr>\n",
              "      <td>2</td>\n",
              "      <td>ovLUW</td>\n",
              "      <td>0.194587</td>\n",
              "      <td>0.289035</td>\n",
              "      <td>-5.586433</td>\n",
              "      <td>62.871910</td>\n",
              "    </tr>\n",
              "    <tr>\n",
              "      <td>3</td>\n",
              "      <td>q6cA6</td>\n",
              "      <td>2.236060</td>\n",
              "      <td>-0.553760</td>\n",
              "      <td>0.930038</td>\n",
              "      <td>114.572842</td>\n",
              "    </tr>\n",
              "    <tr>\n",
              "      <td>4</td>\n",
              "      <td>WPMUX</td>\n",
              "      <td>-0.515993</td>\n",
              "      <td>1.716266</td>\n",
              "      <td>5.899011</td>\n",
              "      <td>149.600746</td>\n",
              "    </tr>\n",
              "  </tbody>\n",
              "</table>\n",
              "</div>"
            ],
            "text/plain": [
              "      id        f0        f1        f2     product\n",
              "0  fwXo0 -1.146987  0.963328 -0.828965   27.758673\n",
              "1  WJtFt  0.262778  0.269839 -2.530187   56.069697\n",
              "2  ovLUW  0.194587  0.289035 -5.586433   62.871910\n",
              "3  q6cA6  2.236060 -0.553760  0.930038  114.572842\n",
              "4  WPMUX -0.515993  1.716266  5.899011  149.600746"
            ]
          },
          "metadata": {
            "tags": []
          }
        }
      ]
    },
    {
      "cell_type": "code",
      "metadata": {
        "id": "6vqy9rCJterX",
        "outputId": "a70e5519-d413-400f-c689-5fd8e6ad5aca"
      },
      "source": [
        "# Посмотрели на отсутствие пропусков и типы данных\n",
        "display(df_1.info())\n",
        "display(df_2.info())\n",
        "display(df_3.info())"
      ],
      "execution_count": null,
      "outputs": [
        {
          "output_type": "stream",
          "text": [
            "<class 'pandas.core.frame.DataFrame'>\n",
            "RangeIndex: 100000 entries, 0 to 99999\n",
            "Data columns (total 5 columns):\n",
            "id         100000 non-null object\n",
            "f0         100000 non-null float64\n",
            "f1         100000 non-null float64\n",
            "f2         100000 non-null float64\n",
            "product    100000 non-null float64\n",
            "dtypes: float64(4), object(1)\n",
            "memory usage: 3.8+ MB\n"
          ],
          "name": "stdout"
        },
        {
          "output_type": "display_data",
          "data": {
            "text/plain": [
              "None"
            ]
          },
          "metadata": {
            "tags": []
          }
        },
        {
          "output_type": "stream",
          "text": [
            "<class 'pandas.core.frame.DataFrame'>\n",
            "RangeIndex: 100000 entries, 0 to 99999\n",
            "Data columns (total 5 columns):\n",
            "id         100000 non-null object\n",
            "f0         100000 non-null float64\n",
            "f1         100000 non-null float64\n",
            "f2         100000 non-null float64\n",
            "product    100000 non-null float64\n",
            "dtypes: float64(4), object(1)\n",
            "memory usage: 3.8+ MB\n"
          ],
          "name": "stdout"
        },
        {
          "output_type": "display_data",
          "data": {
            "text/plain": [
              "None"
            ]
          },
          "metadata": {
            "tags": []
          }
        },
        {
          "output_type": "stream",
          "text": [
            "<class 'pandas.core.frame.DataFrame'>\n",
            "RangeIndex: 100000 entries, 0 to 99999\n",
            "Data columns (total 5 columns):\n",
            "id         100000 non-null object\n",
            "f0         100000 non-null float64\n",
            "f1         100000 non-null float64\n",
            "f2         100000 non-null float64\n",
            "product    100000 non-null float64\n",
            "dtypes: float64(4), object(1)\n",
            "memory usage: 3.8+ MB\n"
          ],
          "name": "stdout"
        },
        {
          "output_type": "display_data",
          "data": {
            "text/plain": [
              "None"
            ]
          },
          "metadata": {
            "tags": []
          }
        }
      ]
    },
    {
      "cell_type": "code",
      "metadata": {
        "scrolled": true,
        "id": "pBtAlrzoterY",
        "outputId": "1585648c-0dd3-44e3-cd66-6e5ca3997409"
      },
      "source": [
        "# Посмотрели на уникальные значения\n",
        "display(df_1.nunique())\n",
        "display(df_2.nunique())\n",
        "display(df_3.nunique())\n",
        "# Странные значения в id, дубли скважин\n",
        "# Странные значения в product - 2 регион."
      ],
      "execution_count": null,
      "outputs": [
        {
          "output_type": "display_data",
          "data": {
            "text/plain": [
              "id          99990\n",
              "f0         100000\n",
              "f1         100000\n",
              "f2         100000\n",
              "product    100000\n",
              "dtype: int64"
            ]
          },
          "metadata": {
            "tags": []
          }
        },
        {
          "output_type": "display_data",
          "data": {
            "text/plain": [
              "id          99996\n",
              "f0         100000\n",
              "f1         100000\n",
              "f2         100000\n",
              "product        12\n",
              "dtype: int64"
            ]
          },
          "metadata": {
            "tags": []
          }
        },
        {
          "output_type": "display_data",
          "data": {
            "text/plain": [
              "id          99996\n",
              "f0         100000\n",
              "f1         100000\n",
              "f2         100000\n",
              "product    100000\n",
              "dtype: int64"
            ]
          },
          "metadata": {
            "tags": []
          }
        }
      ]
    },
    {
      "cell_type": "code",
      "metadata": {
        "id": "0eFcVQPVterY",
        "outputId": "81a7f6d3-1154-4b7e-f83c-616c0837337c"
      },
      "source": [
        "# Проверили уникальные значения в 'id'\n",
        "df_1['id'].value_counts()"
      ],
      "execution_count": null,
      "outputs": [
        {
          "output_type": "execute_result",
          "data": {
            "text/plain": [
              "HZww2    2\n",
              "QcMuo    2\n",
              "A5aEY    2\n",
              "AGS9W    2\n",
              "Tdehs    2\n",
              "        ..\n",
              "RrtLx    1\n",
              "FU7TF    1\n",
              "cvlck    1\n",
              "WB9LI    1\n",
              "Vh9fS    1\n",
              "Name: id, Length: 99990, dtype: int64"
            ]
          },
          "metadata": {
            "tags": []
          },
          "execution_count": 4
        }
      ]
    },
    {
      "cell_type": "code",
      "metadata": {
        "scrolled": true,
        "id": "0HX8cGM4terZ",
        "outputId": "271efe41-40ff-4dc6-ca49-5b613bb1984c"
      },
      "source": [
        "df_1[df_1['id'] == 'bsk9y'].head()\n",
        "# Наименование одно, а данные другие."
      ],
      "execution_count": null,
      "outputs": [
        {
          "output_type": "execute_result",
          "data": {
            "text/html": [
              "<div>\n",
              "<style scoped>\n",
              "    .dataframe tbody tr th:only-of-type {\n",
              "        vertical-align: middle;\n",
              "    }\n",
              "\n",
              "    .dataframe tbody tr th {\n",
              "        vertical-align: top;\n",
              "    }\n",
              "\n",
              "    .dataframe thead th {\n",
              "        text-align: right;\n",
              "    }\n",
              "</style>\n",
              "<table border=\"1\" class=\"dataframe\">\n",
              "  <thead>\n",
              "    <tr style=\"text-align: right;\">\n",
              "      <th></th>\n",
              "      <th>id</th>\n",
              "      <th>f0</th>\n",
              "      <th>f1</th>\n",
              "      <th>f2</th>\n",
              "      <th>product</th>\n",
              "    </tr>\n",
              "  </thead>\n",
              "  <tbody>\n",
              "    <tr>\n",
              "      <td>89582</td>\n",
              "      <td>bsk9y</td>\n",
              "      <td>0.398908</td>\n",
              "      <td>-0.400253</td>\n",
              "      <td>10.122376</td>\n",
              "      <td>163.433078</td>\n",
              "    </tr>\n",
              "    <tr>\n",
              "      <td>97785</td>\n",
              "      <td>bsk9y</td>\n",
              "      <td>0.378429</td>\n",
              "      <td>0.005837</td>\n",
              "      <td>0.160827</td>\n",
              "      <td>160.637302</td>\n",
              "    </tr>\n",
              "  </tbody>\n",
              "</table>\n",
              "</div>"
            ],
            "text/plain": [
              "          id        f0        f1         f2     product\n",
              "89582  bsk9y  0.398908 -0.400253  10.122376  163.433078\n",
              "97785  bsk9y  0.378429  0.005837   0.160827  160.637302"
            ]
          },
          "metadata": {
            "tags": []
          },
          "execution_count": 5
        }
      ]
    },
    {
      "cell_type": "code",
      "metadata": {
        "id": "DZ8X37vKterZ"
      },
      "source": [
        "# id скважин лучше дропнуть, т.к. смысла в них нет, да еще и некорректно дублируются\n",
        "df_1 = df_1.drop('id', axis=1)\n",
        "df_2 = df_2.drop('id', axis=1)\n",
        "df_3 = df_3.drop('id', axis=1)"
      ],
      "execution_count": null,
      "outputs": []
    },
    {
      "cell_type": "code",
      "metadata": {
        "id": "UWNvaf1Wtera",
        "outputId": "f6697cc4-4d6f-4ca4-8674-82c62c112370"
      },
      "source": [
        "# Представим себя нефтянником, и обрубим все после запятой, \n",
        "# мы же меряем в 1000 барелях, и нам нужны сразу большие и понятные цифры:)\n",
        "df_1['product'] = df_1['product'].round(0).astype('Int64')\n",
        "df_2['product'] = df_2['product'].round(0).astype('Int64')\n",
        "df_3['product'] = df_3['product'].round(0).astype('Int64')\n",
        "# Проверили, что за 12 уникальных значений\n",
        "# Выборки как будто разбили на 12 столбиков до нас по объемам\n",
        "df_2['product'].value_counts() "
      ],
      "execution_count": null,
      "outputs": [
        {
          "output_type": "execute_result",
          "data": {
            "text/plain": [
              "54     8472\n",
              "27     8468\n",
              "84     8431\n",
              "57     8390\n",
              "3      8337\n",
              "81     8320\n",
              "30     8306\n",
              "135    8304\n",
              "111    8303\n",
              "0      8235\n",
              "138    8233\n",
              "108    8201\n",
              "Name: product, dtype: int64"
            ]
          },
          "metadata": {
            "tags": []
          },
          "execution_count": 7
        }
      ]
    },
    {
      "cell_type": "code",
      "metadata": {
        "id": "bLg_mTYYterb",
        "outputId": "9831e306-5ae9-44a3-c20c-2d105c8b9678"
      },
      "source": [
        "# Обратимся к статистике и сделаем выводы\n",
        "display(df_1.describe())\n",
        "display(df_2.describe())\n",
        "display(df_3.describe())"
      ],
      "execution_count": null,
      "outputs": [
        {
          "output_type": "display_data",
          "data": {
            "text/html": [
              "<div>\n",
              "<style scoped>\n",
              "    .dataframe tbody tr th:only-of-type {\n",
              "        vertical-align: middle;\n",
              "    }\n",
              "\n",
              "    .dataframe tbody tr th {\n",
              "        vertical-align: top;\n",
              "    }\n",
              "\n",
              "    .dataframe thead th {\n",
              "        text-align: right;\n",
              "    }\n",
              "</style>\n",
              "<table border=\"1\" class=\"dataframe\">\n",
              "  <thead>\n",
              "    <tr style=\"text-align: right;\">\n",
              "      <th></th>\n",
              "      <th>f0</th>\n",
              "      <th>f1</th>\n",
              "      <th>f2</th>\n",
              "      <th>product</th>\n",
              "    </tr>\n",
              "  </thead>\n",
              "  <tbody>\n",
              "    <tr>\n",
              "      <td>count</td>\n",
              "      <td>100000.000000</td>\n",
              "      <td>100000.000000</td>\n",
              "      <td>100000.000000</td>\n",
              "      <td>100000.000000</td>\n",
              "    </tr>\n",
              "    <tr>\n",
              "      <td>mean</td>\n",
              "      <td>0.500419</td>\n",
              "      <td>0.250143</td>\n",
              "      <td>2.502647</td>\n",
              "      <td>92.500620</td>\n",
              "    </tr>\n",
              "    <tr>\n",
              "      <td>std</td>\n",
              "      <td>0.871832</td>\n",
              "      <td>0.504433</td>\n",
              "      <td>3.248248</td>\n",
              "      <td>44.289494</td>\n",
              "    </tr>\n",
              "    <tr>\n",
              "      <td>min</td>\n",
              "      <td>-1.408605</td>\n",
              "      <td>-0.848218</td>\n",
              "      <td>-12.088328</td>\n",
              "      <td>0.000000</td>\n",
              "    </tr>\n",
              "    <tr>\n",
              "      <td>25%</td>\n",
              "      <td>-0.072580</td>\n",
              "      <td>-0.200881</td>\n",
              "      <td>0.287748</td>\n",
              "      <td>56.000000</td>\n",
              "    </tr>\n",
              "    <tr>\n",
              "      <td>50%</td>\n",
              "      <td>0.502360</td>\n",
              "      <td>0.250252</td>\n",
              "      <td>2.515969</td>\n",
              "      <td>92.000000</td>\n",
              "    </tr>\n",
              "    <tr>\n",
              "      <td>75%</td>\n",
              "      <td>1.073581</td>\n",
              "      <td>0.700646</td>\n",
              "      <td>4.715088</td>\n",
              "      <td>129.000000</td>\n",
              "    </tr>\n",
              "    <tr>\n",
              "      <td>max</td>\n",
              "      <td>2.362331</td>\n",
              "      <td>1.343769</td>\n",
              "      <td>16.003790</td>\n",
              "      <td>185.000000</td>\n",
              "    </tr>\n",
              "  </tbody>\n",
              "</table>\n",
              "</div>"
            ],
            "text/plain": [
              "                  f0             f1             f2        product\n",
              "count  100000.000000  100000.000000  100000.000000  100000.000000\n",
              "mean        0.500419       0.250143       2.502647      92.500620\n",
              "std         0.871832       0.504433       3.248248      44.289494\n",
              "min        -1.408605      -0.848218     -12.088328       0.000000\n",
              "25%        -0.072580      -0.200881       0.287748      56.000000\n",
              "50%         0.502360       0.250252       2.515969      92.000000\n",
              "75%         1.073581       0.700646       4.715088     129.000000\n",
              "max         2.362331       1.343769      16.003790     185.000000"
            ]
          },
          "metadata": {
            "tags": []
          }
        },
        {
          "output_type": "display_data",
          "data": {
            "text/html": [
              "<div>\n",
              "<style scoped>\n",
              "    .dataframe tbody tr th:only-of-type {\n",
              "        vertical-align: middle;\n",
              "    }\n",
              "\n",
              "    .dataframe tbody tr th {\n",
              "        vertical-align: top;\n",
              "    }\n",
              "\n",
              "    .dataframe thead th {\n",
              "        text-align: right;\n",
              "    }\n",
              "</style>\n",
              "<table border=\"1\" class=\"dataframe\">\n",
              "  <thead>\n",
              "    <tr style=\"text-align: right;\">\n",
              "      <th></th>\n",
              "      <th>f0</th>\n",
              "      <th>f1</th>\n",
              "      <th>f2</th>\n",
              "      <th>product</th>\n",
              "    </tr>\n",
              "  </thead>\n",
              "  <tbody>\n",
              "    <tr>\n",
              "      <td>count</td>\n",
              "      <td>100000.000000</td>\n",
              "      <td>100000.000000</td>\n",
              "      <td>100000.000000</td>\n",
              "      <td>100000.00000</td>\n",
              "    </tr>\n",
              "    <tr>\n",
              "      <td>mean</td>\n",
              "      <td>1.141296</td>\n",
              "      <td>-4.796579</td>\n",
              "      <td>2.494541</td>\n",
              "      <td>68.85204</td>\n",
              "    </tr>\n",
              "    <tr>\n",
              "      <td>std</td>\n",
              "      <td>8.965932</td>\n",
              "      <td>5.119872</td>\n",
              "      <td>1.703572</td>\n",
              "      <td>46.02096</td>\n",
              "    </tr>\n",
              "    <tr>\n",
              "      <td>min</td>\n",
              "      <td>-31.609576</td>\n",
              "      <td>-26.358598</td>\n",
              "      <td>-0.018144</td>\n",
              "      <td>0.00000</td>\n",
              "    </tr>\n",
              "    <tr>\n",
              "      <td>25%</td>\n",
              "      <td>-6.298551</td>\n",
              "      <td>-8.267985</td>\n",
              "      <td>1.000021</td>\n",
              "      <td>27.00000</td>\n",
              "    </tr>\n",
              "    <tr>\n",
              "      <td>50%</td>\n",
              "      <td>1.153055</td>\n",
              "      <td>-4.813172</td>\n",
              "      <td>2.011479</td>\n",
              "      <td>57.00000</td>\n",
              "    </tr>\n",
              "    <tr>\n",
              "      <td>75%</td>\n",
              "      <td>8.621015</td>\n",
              "      <td>-1.332816</td>\n",
              "      <td>3.999904</td>\n",
              "      <td>108.00000</td>\n",
              "    </tr>\n",
              "    <tr>\n",
              "      <td>max</td>\n",
              "      <td>29.421755</td>\n",
              "      <td>18.734063</td>\n",
              "      <td>5.019721</td>\n",
              "      <td>138.00000</td>\n",
              "    </tr>\n",
              "  </tbody>\n",
              "</table>\n",
              "</div>"
            ],
            "text/plain": [
              "                  f0             f1             f2       product\n",
              "count  100000.000000  100000.000000  100000.000000  100000.00000\n",
              "mean        1.141296      -4.796579       2.494541      68.85204\n",
              "std         8.965932       5.119872       1.703572      46.02096\n",
              "min       -31.609576     -26.358598      -0.018144       0.00000\n",
              "25%        -6.298551      -8.267985       1.000021      27.00000\n",
              "50%         1.153055      -4.813172       2.011479      57.00000\n",
              "75%         8.621015      -1.332816       3.999904     108.00000\n",
              "max        29.421755      18.734063       5.019721     138.00000"
            ]
          },
          "metadata": {
            "tags": []
          }
        },
        {
          "output_type": "display_data",
          "data": {
            "text/html": [
              "<div>\n",
              "<style scoped>\n",
              "    .dataframe tbody tr th:only-of-type {\n",
              "        vertical-align: middle;\n",
              "    }\n",
              "\n",
              "    .dataframe tbody tr th {\n",
              "        vertical-align: top;\n",
              "    }\n",
              "\n",
              "    .dataframe thead th {\n",
              "        text-align: right;\n",
              "    }\n",
              "</style>\n",
              "<table border=\"1\" class=\"dataframe\">\n",
              "  <thead>\n",
              "    <tr style=\"text-align: right;\">\n",
              "      <th></th>\n",
              "      <th>f0</th>\n",
              "      <th>f1</th>\n",
              "      <th>f2</th>\n",
              "      <th>product</th>\n",
              "    </tr>\n",
              "  </thead>\n",
              "  <tbody>\n",
              "    <tr>\n",
              "      <td>count</td>\n",
              "      <td>100000.000000</td>\n",
              "      <td>100000.000000</td>\n",
              "      <td>100000.000000</td>\n",
              "      <td>100000.000000</td>\n",
              "    </tr>\n",
              "    <tr>\n",
              "      <td>mean</td>\n",
              "      <td>0.002023</td>\n",
              "      <td>-0.002081</td>\n",
              "      <td>2.495128</td>\n",
              "      <td>94.998580</td>\n",
              "    </tr>\n",
              "    <tr>\n",
              "      <td>std</td>\n",
              "      <td>1.732045</td>\n",
              "      <td>1.730417</td>\n",
              "      <td>3.473445</td>\n",
              "      <td>44.751123</td>\n",
              "    </tr>\n",
              "    <tr>\n",
              "      <td>min</td>\n",
              "      <td>-8.760004</td>\n",
              "      <td>-7.084020</td>\n",
              "      <td>-11.970335</td>\n",
              "      <td>0.000000</td>\n",
              "    </tr>\n",
              "    <tr>\n",
              "      <td>25%</td>\n",
              "      <td>-1.162288</td>\n",
              "      <td>-1.174820</td>\n",
              "      <td>0.130359</td>\n",
              "      <td>59.000000</td>\n",
              "    </tr>\n",
              "    <tr>\n",
              "      <td>50%</td>\n",
              "      <td>0.009424</td>\n",
              "      <td>-0.009482</td>\n",
              "      <td>2.484236</td>\n",
              "      <td>95.000000</td>\n",
              "    </tr>\n",
              "    <tr>\n",
              "      <td>75%</td>\n",
              "      <td>1.158535</td>\n",
              "      <td>1.163678</td>\n",
              "      <td>4.858794</td>\n",
              "      <td>131.000000</td>\n",
              "    </tr>\n",
              "    <tr>\n",
              "      <td>max</td>\n",
              "      <td>7.238262</td>\n",
              "      <td>7.844801</td>\n",
              "      <td>16.739402</td>\n",
              "      <td>190.000000</td>\n",
              "    </tr>\n",
              "  </tbody>\n",
              "</table>\n",
              "</div>"
            ],
            "text/plain": [
              "                  f0             f1             f2        product\n",
              "count  100000.000000  100000.000000  100000.000000  100000.000000\n",
              "mean        0.002023      -0.002081       2.495128      94.998580\n",
              "std         1.732045       1.730417       3.473445      44.751123\n",
              "min        -8.760004      -7.084020     -11.970335       0.000000\n",
              "25%        -1.162288      -1.174820       0.130359      59.000000\n",
              "50%         0.009424      -0.009482       2.484236      95.000000\n",
              "75%         1.158535       1.163678       4.858794     131.000000\n",
              "max         7.238262       7.844801      16.739402     190.000000"
            ]
          },
          "metadata": {
            "tags": []
          }
        }
      ]
    },
    {
      "cell_type": "code",
      "metadata": {
        "scrolled": true,
        "id": "cWFgchomterb",
        "outputId": "9c6e0015-304e-4974-a50b-70de69ae256e"
      },
      "source": [
        "def show_me_hist(df, i):\n",
        "    df[df.columns.values[i]].hist(bins=50)\n",
        "    plt.xlabel('count')\n",
        "    plt.ylabel('frequency')\n",
        "    plt.title(df.columns.values[i])\n",
        "    plt.show()\n",
        "show_me_hist(df_1, 3)\n",
        "show_me_hist(df_2, 3)\n",
        "show_me_hist(df_3, 3)"
      ],
      "execution_count": null,
      "outputs": [
        {
          "output_type": "display_data",
          "data": {
            "image/png": "[encoded data removed]",
            "text/plain": [
              "<Figure size 432x288 with 1 Axes>"
            ]
          },
          "metadata": {
            "tags": [],
            "needs_background": "light"
          }
        },
        {
          "output_type": "display_data",
          "data": {
            "image/png": "[encoded data removed]",
            "text/plain": [
              "<Figure size 432x288 with 1 Axes>"
            ]
          },
          "metadata": {
            "tags": [],
            "needs_background": "light"
          }
        },
        {
          "output_type": "display_data",
          "data": {
            "image/png": "[encoded data removed]",
            "text/plain": [
              "<Figure size 432x288 with 1 Axes>"
            ]
          },
          "metadata": {
            "tags": [],
            "needs_background": "light"
          }
        }
      ]
    },
    {
      "cell_type": "markdown",
      "metadata": {
        "id": "3wSX7dTMterc"
      },
      "source": [
        "**Вывод**\n",
        "- Регион 1 - среднее и медианы равны, ср.кв.отклонение 44, нормальное распределение;\n",
        "- Регион 2 - среднее выше, чем медиана, значит больше скважин с большими значениями, данные завалены в право, но если посмотреть на график, то мы увидим Нью-Йорк. Можно сказать идеальные данные, но значения запасов меньше, чем в регионе 1 и 3;\n",
        "- Регион 3 - данные такие же как в регионе 1, но чуток выше по запасам.\n",
        "- Перейдем к обучению моделей"
      ]
    },
    {
      "cell_type": "markdown",
      "metadata": {
        "id": "buIxXH_aterd"
      },
      "source": [
        "# Обучение и проверка модели<a id=\"learn\"></a>"
      ]
    },
    {
      "cell_type": "code",
      "metadata": {
        "id": "Yi8fwcqEterd",
        "outputId": "3133f921-2742-4efa-c3e7-949c721fb9e5"
      },
      "source": [
        "# Выделим целевой признак\n",
        "X_1 = df_1.drop('product', axis=1)\n",
        "y_1 = df_1['product']\n",
        "X_2 = df_2.drop('product', axis=1)\n",
        "y_2 = df_2['product']\n",
        "X_3 = df_3.drop('product', axis=1)\n",
        "y_3 = df_3['product']\n",
        "# Разобьем выборки на тренировочную и валидационную (стратифицированные)\n",
        "X_tr_1, X_v_1, y_tr_1, y_v_1 = train_test_split(X_1, y_1, test_size=0.25, stratify = y_1, random_state=42)\n",
        "X_tr_2, X_v_2, y_tr_2, y_v_2 = train_test_split(X_2, y_2, test_size=0.25, stratify = y_2, random_state=42)\n",
        "X_tr_3, X_v_3, y_tr_3, y_v_3 = train_test_split(X_3, y_3, test_size=0.25, stratify = y_3, random_state=42)\n",
        "print(X_tr_1.shape, X_v_1.shape, y_tr_1.shape, y_v_1.shape) # проверка"
      ],
      "execution_count": null,
      "outputs": [
        {
          "output_type": "stream",
          "text": [
            "(75000, 3) (25000, 3) (75000,) (25000,)\n"
          ],
          "name": "stdout"
        }
      ]
    },
    {
      "cell_type": "code",
      "metadata": {
        "id": "YQzm5Tu0tere"
      },
      "source": [
        "# Обучили линейную регрессию на данных 3-х регионов\n",
        "lr_1 = LinearRegression()\n",
        "lr_2 = LinearRegression()\n",
        "lr_3 = LinearRegression()\n",
        "lr_1.fit(X_tr_1, y_tr_1)\n",
        "lr_2.fit(X_tr_2, y_tr_2)\n",
        "lr_3.fit(X_tr_3, y_tr_3)\n",
        "# Получим предсказания и занесем их в переменные\n",
        "pred_1 = lr_1.predict(X_v_1)\n",
        "pred_2 = lr_2.predict(X_v_2)\n",
        "pred_3 = lr_3.predict(X_v_3)\n",
        "# Верные ответы, сбросим индексы для дальнейших расчетов\n",
        "target_1 = y_v_1.reset_index(drop=True)\n",
        "target_2 = y_v_2.reset_index(drop=True)\n",
        "target_3 = y_v_3.reset_index(drop=True)"
      ],
      "execution_count": null,
      "outputs": []
    },
    {
      "cell_type": "code",
      "metadata": {
        "scrolled": true,
        "id": "Eo-bIEXxtere",
        "outputId": "ec419549-a1f5-4667-def3-db2b0abd48d7"
      },
      "source": [
        "# Cредний запас предсказанного сырья и RMSE модели_1\n",
        "print('Средний запас предсказанного сырья_1: {:.2f}'.format(pred_1.mean()))\n",
        "print('RMSE модели_1: {:.2f}'.format(mean_squared_error(target_1, pred_1)**0.5))\n",
        "# Cредний запас предсказанного сырья и RMSE модели_2\n",
        "print('Средний запас предсказанного сырья_2: {:.2f}'.format(pred_2.mean()))\n",
        "print('RMSE модели_2: {:.2f}'.format(mean_squared_error(target_2, pred_2)**0.5))\n",
        "# Cредний запас предсказанного сырья и RMSE модели_3\n",
        "print('Средний запас предсказанного сырья_3: {:.2f}'.format(pred_3.mean()))\n",
        "print('RMSE модели_3: {:.2f}'.format(mean_squared_error(target_3, pred_3)**0.5))"
      ],
      "execution_count": null,
      "outputs": [
        {
          "output_type": "stream",
          "text": [
            "Средний запас предсказанного сырья_1: 92.48\n",
            "RMSE модели_1: 37.81\n",
            "Средний запас предсказанного сырья_2: 68.85\n",
            "RMSE модели_2: 0.84\n",
            "Средний запас предсказанного сырья_3: 94.94\n",
            "RMSE модели_3: 39.88\n"
          ],
          "name": "stdout"
        }
      ]
    },
    {
      "cell_type": "markdown",
      "metadata": {
        "id": "m4AjcHjiterf"
      },
      "source": [
        "**Вывод**\n",
        "- Средний запас предсказанного сырья практически соответствует средним значениям запасов первоначальных данных;\n",
        "- Минимальная метрика RMSE достигнута в регионе № 2, хуже всего предсказывает модель региона № 3, RMSE = 39,88;\n",
        "- Модель № 2, скорее всего, так справилась из-за идеально сгруппированных данных по запасам."
      ]
    },
    {
      "cell_type": "markdown",
      "metadata": {
        "id": "EsHTrIdwterg"
      },
      "source": [
        "# Подготовка к расчёту прибыли<a id=\"profit\"></a>"
      ]
    },
    {
      "cell_type": "code",
      "metadata": {
        "id": "5Pd7cb-Yterg",
        "outputId": "a300ff31-e4c6-4a13-c939-cebcb1bb35cc"
      },
      "source": [
        "# Создадим константы и рассчитаем минимальный запас в скважине\n",
        "# для безубыточной разработки месторождения\n",
        "BUDGET = 10000000000\n",
        "PRICE_BAR = 450000\n",
        "profit_0 = BUDGET / 200 / PRICE_BAR \n",
        "print('Объем сырья для безубыточной разработки одной скважины: {:.2f} тыс. баррелей'.format(profit_0))"
      ],
      "execution_count": null,
      "outputs": [
        {
          "output_type": "stream",
          "text": [
            "Объем сырья для безубыточной разработки одной скважины: 111.11 тыс. баррелей\n"
          ],
          "name": "stdout"
        }
      ]
    },
    {
      "cell_type": "markdown",
      "metadata": {
        "id": "uQUVLqCZterg"
      },
      "source": [
        "**Вывод**\n",
        "- Чтобы получать прибыль, необходимо отбирать скважины с запасами выше 111.11 тыс.баррелей;\n",
        "- Средние запасы каждого из регионов меньше необходимого запаса для безубыточной разработки, но ср.кв.ошибка говорить нам, что верные ответы целевого признака имеют большие запасы."
      ]
    },
    {
      "cell_type": "code",
      "metadata": {
        "id": "tbiGUPU4terh"
      },
      "source": [
        "# Переведем предсказания в Series\n",
        "pred_1 = pd.Series(pred_1)\n",
        "pred_2 = pd.Series(pred_2)\n",
        "pred_3 = pd.Series(pred_3)"
      ],
      "execution_count": null,
      "outputs": []
    },
    {
      "cell_type": "markdown",
      "metadata": {
        "id": "OUj3Lzwnterh"
      },
      "source": [
        "# Расчёт прибыли и рисков<a id=\"risk\"></a>"
      ]
    },
    {
      "cell_type": "code",
      "metadata": {
        "scrolled": true,
        "id": "3m2itViBterh",
        "outputId": "83c359cc-441a-4256-d186-51f1e8259d70"
      },
      "source": [
        "# Создали функцию по расчету прибыли при разработки n-лучших скважин\n",
        "def revenue(target, predict, count):\n",
        "    predict_sorted = predict.sort_values(ascending=False)\n",
        "    selected = target[predict_sorted.index][:count]\n",
        "    return PRICE_BAR * selected.sum() - BUDGET\n",
        "# Определим максимальную прибыль с региона, при выборе 200 лучших скважин\n",
        "print('Прибыль региона № 1 (200 лучших скважин): {} млрд.рублей'.format(revenue(target_1, pred_1, 200) / 1000000000))\n",
        "print('Прибыль региона № 2 (200 лучших скважин): {} млрд.рублей'.format(revenue(target_2, pred_2, 200) / 1000000000))\n",
        "print('Прибыль региона № 3 (200 лучших скважин): {} млрд.рублей'.format(revenue(target_3, pred_3, 200) / 1000000000))"
      ],
      "execution_count": null,
      "outputs": [
        {
          "output_type": "stream",
          "text": [
            "Прибыль региона № 1 (200 лучших скважин): 3.41675 млрд.рублей\n",
            "Прибыль региона № 2 (200 лучших скважин): 2.42 млрд.рублей\n",
            "Прибыль региона № 3 (200 лучших скважин): 2.56175 млрд.рублей\n"
          ],
          "name": "stdout"
        }
      ]
    },
    {
      "cell_type": "markdown",
      "metadata": {
        "id": "DawIlLKcteri"
      },
      "source": [
        "- С явным преимуществом победу одерживает регион № 1."
      ]
    },
    {
      "cell_type": "markdown",
      "metadata": {
        "id": "FzDGkbYkteri"
      },
      "source": [
        "### Bootstrap, нахождение средней прибыли по регионам, 95% доверительный интервал, риски убытков."
      ]
    },
    {
      "cell_type": "code",
      "metadata": {
        "scrolled": true,
        "id": "nt6E5hMKterj",
        "outputId": "1a4aa6bd-d105-4375-81ee-c4ebd2c9dfef"
      },
      "source": [
        "# Исходя из условий задачи мы исследуем 500 точек, а выбираем 200 лучших.\n",
        "# Находим случайые 500 скважин из всей выборки (1000 раз), из них выбираем 200 лучших,\n",
        "# складываем в коробочку и считаем среднюю прибыль по всей выборке и по регионам\n",
        "state = np.random.RandomState(42)\n",
        "values = []\n",
        "for i in range(1000):\n",
        "    target_subsample = target_1.sample(n=500, replace=True, random_state=state)\n",
        "    pred_subsample = pred_1[target_subsample.index]\n",
        "    values.append(revenue(target_subsample, pred_subsample, 200))\n",
        "\n",
        "values = pd.Series(values)\n",
        "lower = values.quantile(0.025)\n",
        "high = values.quantile(0.975)\n",
        "mean = values.mean()\n",
        "print(\"Средняя прибыль региона № 1: {:.2f} млрд.рублей\".format(mean/1000000000))\n",
        "print(\"2,5%-квантиль: {:.2f} млрд.рублей\".format(lower/1000000000))\n",
        "print(\"97,5%-квантиль: {:.2f} млрд.рублей\".format(high/1000000000))\n",
        "print('Риск убытков региона № 1: {:.2%}'.format(values[values < 0].count()/len(values)))"
      ],
      "execution_count": null,
      "outputs": [
        {
          "output_type": "stream",
          "text": [
            "Средняя прибыль региона № 1: 0.46 млрд.рублей\n",
            "2,5%-квантиль: -0.08 млрд.рублей\n",
            "97,5%-квантиль: 0.99 млрд.рублей\n",
            "Риск убытков региона № 1: 4.50%\n"
          ],
          "name": "stdout"
        }
      ]
    },
    {
      "cell_type": "code",
      "metadata": {
        "id": "QQgT9e0Oterk",
        "outputId": "4df1226d-a8ad-432b-c21b-a524b21c2275"
      },
      "source": [
        "values = []\n",
        "for i in range(1000):\n",
        "    target_subsample = target_2.sample(n=500, replace=True, random_state=state)\n",
        "    pred_subsample = pred_2[target_subsample.index]\n",
        "    values.append(revenue(target_subsample, pred_subsample, 200))\n",
        "\n",
        "values = pd.Series(values)\n",
        "lower = values.quantile(0.025)\n",
        "high = values.quantile(0.975)\n",
        "mean = values.mean()\n",
        "print(\"Средняя прибыль региона № 2: {:.2f} млрд.рублей\".format(mean/1000000000))\n",
        "print(\"2,5%-квантиль: {:.2f} млрд.рублей\".format(lower/1000000000))\n",
        "print(\"97,5%-квантиль: {:.2f} млрд.рублей\".format(high/1000000000))\n",
        "print('Риск убытков региона № 2: {:.2%}'.format(values[values < 0].count()/len(values)))"
      ],
      "execution_count": null,
      "outputs": [
        {
          "output_type": "stream",
          "text": [
            "Средняя прибыль региона № 2: 0.52 млрд.рублей\n",
            "2,5%-квантиль: 0.10 млрд.рублей\n",
            "97,5%-квантиль: 0.95 млрд.рублей\n",
            "Риск убытков региона № 2: 0.60%\n"
          ],
          "name": "stdout"
        }
      ]
    },
    {
      "cell_type": "code",
      "metadata": {
        "id": "MZNygRehterl",
        "outputId": "c7280eba-7f25-4089-ba46-02180a8722d9"
      },
      "source": [
        "values = []\n",
        "for i in range(1000):\n",
        "    target_subsample = target_3.sample(n=500, replace=True, random_state=state)\n",
        "    pred_subsample = pred_3[target_subsample.index]\n",
        "    values.append(revenue(target_subsample, pred_subsample, 200))\n",
        "\n",
        "values = pd.Series(values)\n",
        "lower = values.quantile(0.025)\n",
        "high = values.quantile(0.975)\n",
        "mean = values.mean()\n",
        "print(\"Средняя прибыль региона № 3: {:.2f} млрд.рублей\".format(mean/1000000000))\n",
        "print(\"2,5%-квантиль: {:.2f} млрд.рублей\".format(lower/1000000000))\n",
        "print(\"97,5%-квантиль: {:.2f} млрд.рублей\".format(high/1000000000))\n",
        "print('Риск убытков региона № 3: {:.2%}'.format(values[values < 0].count()/len(values)))"
      ],
      "execution_count": null,
      "outputs": [
        {
          "output_type": "stream",
          "text": [
            "Средняя прибыль региона № 3: 0.41 млрд.рублей\n",
            "2,5%-квантиль: -0.14 млрд.рублей\n",
            "97,5%-квантиль: 0.91 млрд.рублей\n",
            "Риск убытков региона № 3: 7.00%\n"
          ],
          "name": "stdout"
        }
      ]
    },
    {
      "cell_type": "code",
      "metadata": {
        "scrolled": false,
        "id": "G68qwkdpterl",
        "outputId": "919306ae-f15c-4af1-dac5-4317341658ad"
      },
      "source": [
        "data = {'Параметры':['Ср.прибыль, млр.руб', '2.5%-q', '97,5%-q', 'risk, %'],\n",
        "        'region_1':[0.46, -0.08, 0.99, 4.5],\n",
        "       'region_2':[0.52, 0.1, 0.95, 0.6],\n",
        "       'region_3':[0.41, -0.14, 0.91, 7],}\n",
        "print(pd.DataFrame(data))"
      ],
      "execution_count": null,
      "outputs": [
        {
          "output_type": "stream",
          "text": [
            "             Параметры  region_1  region_2  region_3\n",
            "0  Ср.прибыль, млр.руб      0.46      0.52      0.41\n",
            "1               2.5%-q     -0.08      0.10     -0.14\n",
            "2              97,5%-q      0.99      0.95      0.91\n",
            "3              risk, %      4.50      0.60      7.00\n"
          ],
          "name": "stdout"
        }
      ]
    },
    {
      "cell_type": "markdown",
      "metadata": {
        "id": "yiONVzY3terl"
      },
      "source": [
        "**По совокупности критериев - для разработки выбираем регион № 2**. Обоснование в выводе:"
      ]
    },
    {
      "cell_type": "markdown",
      "metadata": {
        "id": "jxBXU_n-term"
      },
      "source": [
        "#### Вывод<a id=\"total\"></a>\n",
        "- Большое кол-во скважин с лучшими запасами имеет регион № 1, который показал нам прибыль 3.4 млрд. рублей на лучших предсказанных данных;\n",
        "- Но выбирать регион только по лучшей прибыли опасно и черевато убытками, особенно, когда на разработку нужно потратить 10 млр.рублей;\n",
        "- Основной критерий - вероятность убытков - 2.5 %. Регион № 2 имеет самую низкую вероятность убытков, всего 0.6%. И более узкий доверительный интервал, и соответственно более высокую ср.прибыль;\n",
        "- Остальные регионы имеют риск превышающий основной критерий, поэтому рассмотрены быть не могут, хотя регион № 1 имеет более высокие значения верхней границы доверительного интервала."
      ]
    }
  ]
}