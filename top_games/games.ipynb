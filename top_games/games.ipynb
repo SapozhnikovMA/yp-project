{
  "nbformat": 4,
  "nbformat_minor": 0,
  "metadata": {
    "kernelspec": {
      "display_name": "Python 3",
      "language": "python",
      "name": "python3"
    },
    "language_info": {
      "codemirror_mode": {
        "name": "ipython",
        "version": 3
      },
      "file_extension": ".py",
      "mimetype": "text/x-python",
      "name": "python",
      "nbconvert_exporter": "python",
      "pygments_lexer": "ipython3",
      "version": "3.7.8"
    },
    "toc": {
      "base_numbering": 1,
      "nav_menu": {},
      "number_sections": true,
      "sideBar": true,
      "skip_h1_title": true,
      "title_cell": "Table of Contents",
      "title_sidebar": "Contents",
      "toc_cell": true,
      "toc_position": {},
      "toc_section_display": true,
      "toc_window_display": true
    },
    "colab": {
      "name": "games.ipynb",
      "provenance": [],
      "collapsed_sections": []
    }
  },
  "cells": [
    {
      "cell_type": "markdown",
      "metadata": {
        "id": "J7qPMn5AkVI0"
      },
      "source": [
        "**Описание проекта**\n",
        "1. Интернет-магазину (продажа компьютерных игр по всему миру) необходимо выявить определяющие успешность игры закономерности. Это позволит сделать ставку на потенциально популярный продукт и спланировать рекламные кампании.\n",
        "2. Из открытых источников доступны исторические данные о продажах игр, оценки пользователей и экспертов, жанры и платформы (например, Xbox или PlayStation)."
      ]
    },
    {
      "cell_type": "markdown",
      "metadata": {
        "id": "p1k7B3v4kVI1"
      },
      "source": [
        "## Изучение и знакомство с данными"
      ]
    },
    {
      "cell_type": "code",
      "metadata": {
        "id": "IEZTVvaSkVI1"
      },
      "source": [
        "import pandas as pd\n",
        "import numpy as np\n",
        "import matplotlib.pyplot as plt\n",
        "import seaborn as sns\n",
        "from scipy import stats as st\n",
        "from scipy.stats import levene"
      ],
      "execution_count": null,
      "outputs": []
    },
    {
      "cell_type": "code",
      "metadata": {
        "id": "ZMPoA7wRkVI2",
        "outputId": "a6a56d5c-c401-4f26-8496-688a8c29b8d0"
      },
      "source": [
        "pd.set_option('display.float_format', '{:.2f}'.format)\n",
        "df=pd.read_csv('/datasets/games.csv')\n",
        "df.info()\n",
        "display(df.head())"
      ],
      "execution_count": null,
      "outputs": [
        {
          "output_type": "stream",
          "text": [
            "<class 'pandas.core.frame.DataFrame'>\n",
            "RangeIndex: 16715 entries, 0 to 16714\n",
            "Data columns (total 11 columns):\n",
            "Name               16713 non-null object\n",
            "Platform           16715 non-null object\n",
            "Year_of_Release    16446 non-null float64\n",
            "Genre              16713 non-null object\n",
            "NA_sales           16715 non-null float64\n",
            "EU_sales           16715 non-null float64\n",
            "JP_sales           16715 non-null float64\n",
            "Other_sales        16715 non-null float64\n",
            "Critic_Score       8137 non-null float64\n",
            "User_Score         10014 non-null object\n",
            "Rating             9949 non-null object\n",
            "dtypes: float64(6), object(5)\n",
            "memory usage: 1.4+ MB\n"
          ],
          "name": "stdout"
        },
        {
          "output_type": "display_data",
          "data": {
            "text/html": [
              "<div>\n",
              "<style scoped>\n",
              "    .dataframe tbody tr th:only-of-type {\n",
              "        vertical-align: middle;\n",
              "    }\n",
              "\n",
              "    .dataframe tbody tr th {\n",
              "        vertical-align: top;\n",
              "    }\n",
              "\n",
              "    .dataframe thead th {\n",
              "        text-align: right;\n",
              "    }\n",
              "</style>\n",
              "<table border=\"1\" class=\"dataframe\">\n",
              "  <thead>\n",
              "    <tr style=\"text-align: right;\">\n",
              "      <th></th>\n",
              "      <th>Name</th>\n",
              "      <th>Platform</th>\n",
              "      <th>Year_of_Release</th>\n",
              "      <th>Genre</th>\n",
              "      <th>NA_sales</th>\n",
              "      <th>EU_sales</th>\n",
              "      <th>JP_sales</th>\n",
              "      <th>Other_sales</th>\n",
              "      <th>Critic_Score</th>\n",
              "      <th>User_Score</th>\n",
              "      <th>Rating</th>\n",
              "    </tr>\n",
              "  </thead>\n",
              "  <tbody>\n",
              "    <tr>\n",
              "      <td>0</td>\n",
              "      <td>Wii Sports</td>\n",
              "      <td>Wii</td>\n",
              "      <td>2006.00</td>\n",
              "      <td>Sports</td>\n",
              "      <td>41.36</td>\n",
              "      <td>28.96</td>\n",
              "      <td>3.77</td>\n",
              "      <td>8.45</td>\n",
              "      <td>76.00</td>\n",
              "      <td>8</td>\n",
              "      <td>E</td>\n",
              "    </tr>\n",
              "    <tr>\n",
              "      <td>1</td>\n",
              "      <td>Super Mario Bros.</td>\n",
              "      <td>NES</td>\n",
              "      <td>1985.00</td>\n",
              "      <td>Platform</td>\n",
              "      <td>29.08</td>\n",
              "      <td>3.58</td>\n",
              "      <td>6.81</td>\n",
              "      <td>0.77</td>\n",
              "      <td>nan</td>\n",
              "      <td>NaN</td>\n",
              "      <td>NaN</td>\n",
              "    </tr>\n",
              "    <tr>\n",
              "      <td>2</td>\n",
              "      <td>Mario Kart Wii</td>\n",
              "      <td>Wii</td>\n",
              "      <td>2008.00</td>\n",
              "      <td>Racing</td>\n",
              "      <td>15.68</td>\n",
              "      <td>12.76</td>\n",
              "      <td>3.79</td>\n",
              "      <td>3.29</td>\n",
              "      <td>82.00</td>\n",
              "      <td>8.3</td>\n",
              "      <td>E</td>\n",
              "    </tr>\n",
              "    <tr>\n",
              "      <td>3</td>\n",
              "      <td>Wii Sports Resort</td>\n",
              "      <td>Wii</td>\n",
              "      <td>2009.00</td>\n",
              "      <td>Sports</td>\n",
              "      <td>15.61</td>\n",
              "      <td>10.93</td>\n",
              "      <td>3.28</td>\n",
              "      <td>2.95</td>\n",
              "      <td>80.00</td>\n",
              "      <td>8</td>\n",
              "      <td>E</td>\n",
              "    </tr>\n",
              "    <tr>\n",
              "      <td>4</td>\n",
              "      <td>Pokemon Red/Pokemon Blue</td>\n",
              "      <td>GB</td>\n",
              "      <td>1996.00</td>\n",
              "      <td>Role-Playing</td>\n",
              "      <td>11.27</td>\n",
              "      <td>8.89</td>\n",
              "      <td>10.22</td>\n",
              "      <td>1.00</td>\n",
              "      <td>nan</td>\n",
              "      <td>NaN</td>\n",
              "      <td>NaN</td>\n",
              "    </tr>\n",
              "  </tbody>\n",
              "</table>\n",
              "</div>"
            ],
            "text/plain": [
              "                       Name Platform  Year_of_Release         Genre  NA_sales  \\\n",
              "0                Wii Sports      Wii          2006.00        Sports     41.36   \n",
              "1         Super Mario Bros.      NES          1985.00      Platform     29.08   \n",
              "2            Mario Kart Wii      Wii          2008.00        Racing     15.68   \n",
              "3         Wii Sports Resort      Wii          2009.00        Sports     15.61   \n",
              "4  Pokemon Red/Pokemon Blue       GB          1996.00  Role-Playing     11.27   \n",
              "\n",
              "   EU_sales  JP_sales  Other_sales  Critic_Score User_Score Rating  \n",
              "0     28.96      3.77         8.45         76.00          8      E  \n",
              "1      3.58      6.81         0.77           nan        NaN    NaN  \n",
              "2     12.76      3.79         3.29         82.00        8.3      E  \n",
              "3     10.93      3.28         2.95         80.00          8      E  \n",
              "4      8.89     10.22         1.00           nan        NaN    NaN  "
            ]
          },
          "metadata": {
            "tags": []
          }
        }
      ]
    },
    {
      "cell_type": "markdown",
      "metadata": {
        "id": "xFgXc_v_kVI3"
      },
      "source": [
        "- Сразу бросается в глаза не полные данные по оценкам критиков, пользователей и рейтингу;\n",
        "- Для года релиза необходим тип данных int, а оценка пользователей явно в цифровом формате, а не в объектном;\n",
        "- Названия столбцов приведем к нижнему регистру."
      ]
    },
    {
      "cell_type": "markdown",
      "metadata": {
        "id": "fdeOS2fQkVI3"
      },
      "source": [
        "### Вывод<a id=\"result1\"></a>\n",
        "1. Проверим каждый столбец на наличие пропусков и артефактов;\n",
        "2. Проверим дубликаты;\n",
        "3. Поменяем тип данных."
      ]
    },
    {
      "cell_type": "markdown",
      "metadata": {
        "id": "dA8XbsGckVI4"
      },
      "source": [
        "## Подготовка данных для анализа"
      ]
    },
    {
      "cell_type": "code",
      "metadata": {
        "id": "X_Cn6ddmkVI4"
      },
      "source": [
        "# Поменяем названия столбцов\n",
        "df.columns = df.columns.str.lower()\n",
        "# df.head() "
      ],
      "execution_count": null,
      "outputs": []
    },
    {
      "cell_type": "markdown",
      "metadata": {
        "id": "TU7QkjDjkVI4"
      },
      "source": [
        "1. Предобработка `name`"
      ]
    },
    {
      "cell_type": "code",
      "metadata": {
        "id": "wbArqt-WkVI4",
        "outputId": "bf6e659d-74a0-4221-eb37-7ed3084816c0"
      },
      "source": [
        "df[df['name'].isna()].head()"
      ],
      "execution_count": null,
      "outputs": [
        {
          "output_type": "execute_result",
          "data": {
            "text/html": [
              "<div>\n",
              "<style scoped>\n",
              "    .dataframe tbody tr th:only-of-type {\n",
              "        vertical-align: middle;\n",
              "    }\n",
              "\n",
              "    .dataframe tbody tr th {\n",
              "        vertical-align: top;\n",
              "    }\n",
              "\n",
              "    .dataframe thead th {\n",
              "        text-align: right;\n",
              "    }\n",
              "</style>\n",
              "<table border=\"1\" class=\"dataframe\">\n",
              "  <thead>\n",
              "    <tr style=\"text-align: right;\">\n",
              "      <th></th>\n",
              "      <th>name</th>\n",
              "      <th>platform</th>\n",
              "      <th>year_of_release</th>\n",
              "      <th>genre</th>\n",
              "      <th>na_sales</th>\n",
              "      <th>eu_sales</th>\n",
              "      <th>jp_sales</th>\n",
              "      <th>other_sales</th>\n",
              "      <th>critic_score</th>\n",
              "      <th>user_score</th>\n",
              "      <th>rating</th>\n",
              "    </tr>\n",
              "  </thead>\n",
              "  <tbody>\n",
              "    <tr>\n",
              "      <td>659</td>\n",
              "      <td>NaN</td>\n",
              "      <td>GEN</td>\n",
              "      <td>1993.00</td>\n",
              "      <td>NaN</td>\n",
              "      <td>1.78</td>\n",
              "      <td>0.53</td>\n",
              "      <td>0.00</td>\n",
              "      <td>0.08</td>\n",
              "      <td>nan</td>\n",
              "      <td>NaN</td>\n",
              "      <td>NaN</td>\n",
              "    </tr>\n",
              "    <tr>\n",
              "      <td>14244</td>\n",
              "      <td>NaN</td>\n",
              "      <td>GEN</td>\n",
              "      <td>1993.00</td>\n",
              "      <td>NaN</td>\n",
              "      <td>0.00</td>\n",
              "      <td>0.00</td>\n",
              "      <td>0.03</td>\n",
              "      <td>0.00</td>\n",
              "      <td>nan</td>\n",
              "      <td>NaN</td>\n",
              "      <td>NaN</td>\n",
              "    </tr>\n",
              "  </tbody>\n",
              "</table>\n",
              "</div>"
            ],
            "text/plain": [
              "      name platform  year_of_release genre  na_sales  eu_sales  jp_sales  \\\n",
              "659    NaN      GEN          1993.00   NaN      1.78      0.53      0.00   \n",
              "14244  NaN      GEN          1993.00   NaN      0.00      0.00      0.03   \n",
              "\n",
              "       other_sales  critic_score user_score rating  \n",
              "659           0.08           nan        NaN    NaN  \n",
              "14244         0.00           nan        NaN    NaN  "
            ]
          },
          "metadata": {
            "tags": []
          },
          "execution_count": 4
        }
      ]
    },
    {
      "cell_type": "code",
      "metadata": {
        "id": "O0fPEmPHkVI5"
      },
      "source": [
        "df.dropna(subset=['name'], inplace=True)\n",
        "# проверка df[df['name'].isna()].head()"
      ],
      "execution_count": null,
      "outputs": []
    },
    {
      "cell_type": "markdown",
      "metadata": {
        "id": "ETzpHXzckVI5"
      },
      "source": [
        "2. Предобработка `year_of_release`"
      ]
    },
    {
      "cell_type": "code",
      "metadata": {
        "id": "J1UvnVr4kVI5",
        "outputId": "c2f8e33a-e409-4e11-d3c0-35867b3a2e78"
      },
      "source": [
        "# Поменяем тип данных\n",
        "df['year_of_release'] = df['year_of_release'].round(0).astype('Int64')\n",
        "# Проверим пропуски\n",
        "df[df['year_of_release'].isna()].head()"
      ],
      "execution_count": null,
      "outputs": [
        {
          "output_type": "execute_result",
          "data": {
            "text/html": [
              "<div>\n",
              "<style scoped>\n",
              "    .dataframe tbody tr th:only-of-type {\n",
              "        vertical-align: middle;\n",
              "    }\n",
              "\n",
              "    .dataframe tbody tr th {\n",
              "        vertical-align: top;\n",
              "    }\n",
              "\n",
              "    .dataframe thead th {\n",
              "        text-align: right;\n",
              "    }\n",
              "</style>\n",
              "<table border=\"1\" class=\"dataframe\">\n",
              "  <thead>\n",
              "    <tr style=\"text-align: right;\">\n",
              "      <th></th>\n",
              "      <th>name</th>\n",
              "      <th>platform</th>\n",
              "      <th>year_of_release</th>\n",
              "      <th>genre</th>\n",
              "      <th>na_sales</th>\n",
              "      <th>eu_sales</th>\n",
              "      <th>jp_sales</th>\n",
              "      <th>other_sales</th>\n",
              "      <th>critic_score</th>\n",
              "      <th>user_score</th>\n",
              "      <th>rating</th>\n",
              "    </tr>\n",
              "  </thead>\n",
              "  <tbody>\n",
              "    <tr>\n",
              "      <td>183</td>\n",
              "      <td>Madden NFL 2004</td>\n",
              "      <td>PS2</td>\n",
              "      <td>NaN</td>\n",
              "      <td>Sports</td>\n",
              "      <td>4.26</td>\n",
              "      <td>0.26</td>\n",
              "      <td>0.01</td>\n",
              "      <td>0.71</td>\n",
              "      <td>94.00</td>\n",
              "      <td>8.5</td>\n",
              "      <td>E</td>\n",
              "    </tr>\n",
              "    <tr>\n",
              "      <td>377</td>\n",
              "      <td>FIFA Soccer 2004</td>\n",
              "      <td>PS2</td>\n",
              "      <td>NaN</td>\n",
              "      <td>Sports</td>\n",
              "      <td>0.59</td>\n",
              "      <td>2.36</td>\n",
              "      <td>0.04</td>\n",
              "      <td>0.51</td>\n",
              "      <td>84.00</td>\n",
              "      <td>6.4</td>\n",
              "      <td>E</td>\n",
              "    </tr>\n",
              "    <tr>\n",
              "      <td>456</td>\n",
              "      <td>LEGO Batman: The Videogame</td>\n",
              "      <td>Wii</td>\n",
              "      <td>NaN</td>\n",
              "      <td>Action</td>\n",
              "      <td>1.80</td>\n",
              "      <td>0.97</td>\n",
              "      <td>0.00</td>\n",
              "      <td>0.29</td>\n",
              "      <td>74.00</td>\n",
              "      <td>7.9</td>\n",
              "      <td>E10+</td>\n",
              "    </tr>\n",
              "    <tr>\n",
              "      <td>475</td>\n",
              "      <td>wwe Smackdown vs. Raw 2006</td>\n",
              "      <td>PS2</td>\n",
              "      <td>NaN</td>\n",
              "      <td>Fighting</td>\n",
              "      <td>1.57</td>\n",
              "      <td>1.02</td>\n",
              "      <td>0.00</td>\n",
              "      <td>0.41</td>\n",
              "      <td>nan</td>\n",
              "      <td>NaN</td>\n",
              "      <td>NaN</td>\n",
              "    </tr>\n",
              "    <tr>\n",
              "      <td>609</td>\n",
              "      <td>Space Invaders</td>\n",
              "      <td>2600</td>\n",
              "      <td>NaN</td>\n",
              "      <td>Shooter</td>\n",
              "      <td>2.36</td>\n",
              "      <td>0.14</td>\n",
              "      <td>0.00</td>\n",
              "      <td>0.03</td>\n",
              "      <td>nan</td>\n",
              "      <td>NaN</td>\n",
              "      <td>NaN</td>\n",
              "    </tr>\n",
              "  </tbody>\n",
              "</table>\n",
              "</div>"
            ],
            "text/plain": [
              "                           name platform  year_of_release     genre  na_sales  \\\n",
              "183             Madden NFL 2004      PS2              NaN    Sports      4.26   \n",
              "377            FIFA Soccer 2004      PS2              NaN    Sports      0.59   \n",
              "456  LEGO Batman: The Videogame      Wii              NaN    Action      1.80   \n",
              "475  wwe Smackdown vs. Raw 2006      PS2              NaN  Fighting      1.57   \n",
              "609              Space Invaders     2600              NaN   Shooter      2.36   \n",
              "\n",
              "     eu_sales  jp_sales  other_sales  critic_score user_score rating  \n",
              "183      0.26      0.01         0.71         94.00        8.5      E  \n",
              "377      2.36      0.04         0.51         84.00        6.4      E  \n",
              "456      0.97      0.00         0.29         74.00        7.9   E10+  \n",
              "475      1.02      0.00         0.41           nan        NaN    NaN  \n",
              "609      0.14      0.00         0.03           nan        NaN    NaN  "
            ]
          },
          "metadata": {
            "tags": []
          },
          "execution_count": 6
        }
      ]
    },
    {
      "cell_type": "code",
      "metadata": {
        "id": "vc81IoVTkVI6"
      },
      "source": [
        "# Предположим, что игры вышли на разных платформах в один год (используем first())\n",
        "mapper = df.groupby(\"name\")['year_of_release'].first().to_dict()\n",
        " \n",
        "def year_release(row):\n",
        "    if np.isnan(row['year_of_release']):\n",
        "        return mapper.get((row[\"name\"]))\n",
        "    return row['year_of_release']\n",
        " \n",
        "df['year_of_release'] = df.apply(year_release, axis=1)\n",
        "# проверка df['year_of_release'].isna().sum()"
      ],
      "execution_count": null,
      "outputs": []
    },
    {
      "cell_type": "code",
      "metadata": {
        "id": "Cu15uUeNkVI6",
        "outputId": "53d6a52f-d85b-443d-8761-7ad7220afcb2"
      },
      "source": [
        "# Попробуем вычленить года в названии игры и заменим ими NaN\n",
        "def year_rel(row):\n",
        "    for word in row.split():\n",
        "        if word.isnumeric():\n",
        "            return int(word)\n",
        "def year_release2(row):\n",
        "    if np.isnan(row['year_of_release']):\n",
        "        return year_rel(row['name'])\n",
        "    return row['year_of_release']\n",
        "df['year_of_release'] = df.apply(year_release2, axis=1)\n",
        "df['year_of_release'].isna().sum()"
      ],
      "execution_count": null,
      "outputs": [
        {
          "output_type": "execute_result",
          "data": {
            "text/plain": [
              "124"
            ]
          },
          "metadata": {
            "tags": []
          },
          "execution_count": 8
        }
      ]
    },
    {
      "cell_type": "code",
      "metadata": {
        "scrolled": true,
        "id": "A1zdseQ8kVI6",
        "outputId": "367d4c27-53ea-40e4-c2fb-d377e0b0d29a"
      },
      "source": [
        "# проверим, нет ли у нас нестандартных годов,\n",
        "# вдруг в выборке был GTA 4, и тогда год будет 4\n",
        "df['year_of_release'].value_counts()"
      ],
      "execution_count": null,
      "outputs": [
        {
          "output_type": "execute_result",
          "data": {
            "text/plain": [
              "2008.00    1441\n",
              "2009.00    1430\n",
              "2010.00    1269\n",
              "2007.00    1203\n",
              "2011.00    1154\n",
              "2006.00    1021\n",
              "2005.00     949\n",
              "2002.00     845\n",
              "2003.00     784\n",
              "2004.00     764\n",
              "2012.00     662\n",
              "2015.00     606\n",
              "2014.00     581\n",
              "2013.00     548\n",
              "2016.00     502\n",
              "2001.00     486\n",
              "1998.00     380\n",
              "2000.00     351\n",
              "1999.00     339\n",
              "1997.00     289\n",
              "1996.00     263\n",
              "1995.00     219\n",
              "1994.00     122\n",
              "1993.00      60\n",
              "1981.00      46\n",
              "1992.00      43\n",
              "1991.00      42\n",
              "1982.00      36\n",
              "1986.00      21\n",
              "1989.00      17\n",
              "1983.00      17\n",
              "1990.00      16\n",
              "1987.00      16\n",
              "1988.00      15\n",
              "1985.00      14\n",
              "1984.00      14\n",
              "1980.00       9\n",
              "2.00          8\n",
              "99.00         2\n",
              "3.00          2\n",
              "500.00        1\n",
              "64.00         1\n",
              "4.00          1\n",
              "Name: year_of_release, dtype: int64"
            ]
          },
          "metadata": {
            "tags": []
          },
          "execution_count": 9
        }
      ]
    },
    {
      "cell_type": "code",
      "metadata": {
        "scrolled": true,
        "id": "1sYq1eECkVI7",
        "outputId": "ff07a75d-0af7-4819-a856-1b27f8076406"
      },
      "source": [
        "# Ошибки чистки данных\n",
        "display(df[df['year_of_release'] == 2])\n",
        "display(df[df['year_of_release'] == 99])\n",
        "display(df[df['year_of_release'] == 3])\n",
        "display(df[df['year_of_release'] == 500])\n",
        "display(df[df['year_of_release'] == 64])\n",
        "display(df[df['year_of_release'] == 4])\n",
        "# моего внимания заслужил только TDU2 and Yakuza 4,\n",
        "# у них заменим года из интернета, остальные вернем в NaN\n"
      ],
      "execution_count": null,
      "outputs": [
        {
          "output_type": "display_data",
          "data": {
            "text/html": [
              "<div>\n",
              "<style scoped>\n",
              "    .dataframe tbody tr th:only-of-type {\n",
              "        vertical-align: middle;\n",
              "    }\n",
              "\n",
              "    .dataframe tbody tr th {\n",
              "        vertical-align: top;\n",
              "    }\n",
              "\n",
              "    .dataframe thead th {\n",
              "        text-align: right;\n",
              "    }\n",
              "</style>\n",
              "<table border=\"1\" class=\"dataframe\">\n",
              "  <thead>\n",
              "    <tr style=\"text-align: right;\">\n",
              "      <th></th>\n",
              "      <th>name</th>\n",
              "      <th>platform</th>\n",
              "      <th>year_of_release</th>\n",
              "      <th>genre</th>\n",
              "      <th>na_sales</th>\n",
              "      <th>eu_sales</th>\n",
              "      <th>jp_sales</th>\n",
              "      <th>other_sales</th>\n",
              "      <th>critic_score</th>\n",
              "      <th>user_score</th>\n",
              "      <th>rating</th>\n",
              "    </tr>\n",
              "  </thead>\n",
              "  <tbody>\n",
              "    <tr>\n",
              "      <td>2969</td>\n",
              "      <td>Test Drive Unlimited 2</td>\n",
              "      <td>X360</td>\n",
              "      <td>2.00</td>\n",
              "      <td>Racing</td>\n",
              "      <td>0.30</td>\n",
              "      <td>0.31</td>\n",
              "      <td>0.00</td>\n",
              "      <td>0.07</td>\n",
              "      <td>68.00</td>\n",
              "      <td>6.4</td>\n",
              "      <td>T</td>\n",
              "    </tr>\n",
              "    <tr>\n",
              "      <td>3187</td>\n",
              "      <td>Monster Hunter 2</td>\n",
              "      <td>PS2</td>\n",
              "      <td>2.00</td>\n",
              "      <td>Role-Playing</td>\n",
              "      <td>0.00</td>\n",
              "      <td>0.00</td>\n",
              "      <td>0.63</td>\n",
              "      <td>0.00</td>\n",
              "      <td>nan</td>\n",
              "      <td>NaN</td>\n",
              "      <td>NaN</td>\n",
              "    </tr>\n",
              "    <tr>\n",
              "      <td>3233</td>\n",
              "      <td>Test Drive Unlimited 2</td>\n",
              "      <td>PS3</td>\n",
              "      <td>2.00</td>\n",
              "      <td>Racing</td>\n",
              "      <td>0.16</td>\n",
              "      <td>0.34</td>\n",
              "      <td>0.01</td>\n",
              "      <td>0.12</td>\n",
              "      <td>70.00</td>\n",
              "      <td>6.1</td>\n",
              "      <td>T</td>\n",
              "    </tr>\n",
              "    <tr>\n",
              "      <td>5294</td>\n",
              "      <td>Dragon Ball Z: Budokai Tenkaichi 2 (JP sales)</td>\n",
              "      <td>Wii</td>\n",
              "      <td>2.00</td>\n",
              "      <td>Action</td>\n",
              "      <td>0.15</td>\n",
              "      <td>0.05</td>\n",
              "      <td>0.14</td>\n",
              "      <td>0.01</td>\n",
              "      <td>nan</td>\n",
              "      <td>NaN</td>\n",
              "      <td>NaN</td>\n",
              "    </tr>\n",
              "    <tr>\n",
              "      <td>7108</td>\n",
              "      <td>Big Beach Sports 2</td>\n",
              "      <td>Wii</td>\n",
              "      <td>2.00</td>\n",
              "      <td>Sports</td>\n",
              "      <td>0.09</td>\n",
              "      <td>0.11</td>\n",
              "      <td>0.00</td>\n",
              "      <td>0.02</td>\n",
              "      <td>nan</td>\n",
              "      <td>tbd</td>\n",
              "      <td>E</td>\n",
              "    </tr>\n",
              "    <tr>\n",
              "      <td>7735</td>\n",
              "      <td>Test Drive Unlimited 2</td>\n",
              "      <td>PC</td>\n",
              "      <td>2.00</td>\n",
              "      <td>Racing</td>\n",
              "      <td>0.05</td>\n",
              "      <td>0.11</td>\n",
              "      <td>0.00</td>\n",
              "      <td>0.03</td>\n",
              "      <td>72.00</td>\n",
              "      <td>5.7</td>\n",
              "      <td>T</td>\n",
              "    </tr>\n",
              "    <tr>\n",
              "      <td>10764</td>\n",
              "      <td>Luminous Arc 2 (JP sales)</td>\n",
              "      <td>DS</td>\n",
              "      <td>2.00</td>\n",
              "      <td>Role-Playing</td>\n",
              "      <td>0.00</td>\n",
              "      <td>0.00</td>\n",
              "      <td>0.10</td>\n",
              "      <td>0.00</td>\n",
              "      <td>nan</td>\n",
              "      <td>NaN</td>\n",
              "      <td>NaN</td>\n",
              "    </tr>\n",
              "    <tr>\n",
              "      <td>14105</td>\n",
              "      <td>Half-Minute Hero 2</td>\n",
              "      <td>PSP</td>\n",
              "      <td>2.00</td>\n",
              "      <td>Role-Playing</td>\n",
              "      <td>0.00</td>\n",
              "      <td>0.00</td>\n",
              "      <td>0.04</td>\n",
              "      <td>0.00</td>\n",
              "      <td>nan</td>\n",
              "      <td>NaN</td>\n",
              "      <td>NaN</td>\n",
              "    </tr>\n",
              "  </tbody>\n",
              "</table>\n",
              "</div>"
            ],
            "text/plain": [
              "                                                name platform  \\\n",
              "2969                          Test Drive Unlimited 2     X360   \n",
              "3187                                Monster Hunter 2      PS2   \n",
              "3233                          Test Drive Unlimited 2      PS3   \n",
              "5294   Dragon Ball Z: Budokai Tenkaichi 2 (JP sales)      Wii   \n",
              "7108                              Big Beach Sports 2      Wii   \n",
              "7735                          Test Drive Unlimited 2       PC   \n",
              "10764                      Luminous Arc 2 (JP sales)       DS   \n",
              "14105                             Half-Minute Hero 2      PSP   \n",
              "\n",
              "       year_of_release         genre  na_sales  eu_sales  jp_sales  \\\n",
              "2969              2.00        Racing      0.30      0.31      0.00   \n",
              "3187              2.00  Role-Playing      0.00      0.00      0.63   \n",
              "3233              2.00        Racing      0.16      0.34      0.01   \n",
              "5294              2.00        Action      0.15      0.05      0.14   \n",
              "7108              2.00        Sports      0.09      0.11      0.00   \n",
              "7735              2.00        Racing      0.05      0.11      0.00   \n",
              "10764             2.00  Role-Playing      0.00      0.00      0.10   \n",
              "14105             2.00  Role-Playing      0.00      0.00      0.04   \n",
              "\n",
              "       other_sales  critic_score user_score rating  \n",
              "2969          0.07         68.00        6.4      T  \n",
              "3187          0.00           nan        NaN    NaN  \n",
              "3233          0.12         70.00        6.1      T  \n",
              "5294          0.01           nan        NaN    NaN  \n",
              "7108          0.02           nan        tbd      E  \n",
              "7735          0.03         72.00        5.7      T  \n",
              "10764         0.00           nan        NaN    NaN  \n",
              "14105         0.00           nan        NaN    NaN  "
            ]
          },
          "metadata": {
            "tags": []
          }
        },
        {
          "output_type": "display_data",
          "data": {
            "text/html": [
              "<div>\n",
              "<style scoped>\n",
              "    .dataframe tbody tr th:only-of-type {\n",
              "        vertical-align: middle;\n",
              "    }\n",
              "\n",
              "    .dataframe tbody tr th {\n",
              "        vertical-align: top;\n",
              "    }\n",
              "\n",
              "    .dataframe thead th {\n",
              "        text-align: right;\n",
              "    }\n",
              "</style>\n",
              "<table border=\"1\" class=\"dataframe\">\n",
              "  <thead>\n",
              "    <tr style=\"text-align: right;\">\n",
              "      <th></th>\n",
              "      <th>name</th>\n",
              "      <th>platform</th>\n",
              "      <th>year_of_release</th>\n",
              "      <th>genre</th>\n",
              "      <th>na_sales</th>\n",
              "      <th>eu_sales</th>\n",
              "      <th>jp_sales</th>\n",
              "      <th>other_sales</th>\n",
              "      <th>critic_score</th>\n",
              "      <th>user_score</th>\n",
              "      <th>rating</th>\n",
              "    </tr>\n",
              "  </thead>\n",
              "  <tbody>\n",
              "    <tr>\n",
              "      <td>1301</td>\n",
              "      <td>Triple Play 99</td>\n",
              "      <td>PS</td>\n",
              "      <td>99.00</td>\n",
              "      <td>Sports</td>\n",
              "      <td>0.81</td>\n",
              "      <td>0.55</td>\n",
              "      <td>0.00</td>\n",
              "      <td>0.10</td>\n",
              "      <td>nan</td>\n",
              "      <td>NaN</td>\n",
              "      <td>NaN</td>\n",
              "    </tr>\n",
              "    <tr>\n",
              "      <td>12046</td>\n",
              "      <td>Drake of the 99 Dragons</td>\n",
              "      <td>XB</td>\n",
              "      <td>99.00</td>\n",
              "      <td>Shooter</td>\n",
              "      <td>0.05</td>\n",
              "      <td>0.01</td>\n",
              "      <td>0.00</td>\n",
              "      <td>0.00</td>\n",
              "      <td>22.00</td>\n",
              "      <td>1.8</td>\n",
              "      <td>T</td>\n",
              "    </tr>\n",
              "  </tbody>\n",
              "</table>\n",
              "</div>"
            ],
            "text/plain": [
              "                          name platform  year_of_release    genre  na_sales  \\\n",
              "1301            Triple Play 99       PS            99.00   Sports      0.81   \n",
              "12046  Drake of the 99 Dragons       XB            99.00  Shooter      0.05   \n",
              "\n",
              "       eu_sales  jp_sales  other_sales  critic_score user_score rating  \n",
              "1301       0.55      0.00         0.10           nan        NaN    NaN  \n",
              "12046      0.01      0.00         0.00         22.00        1.8      T  "
            ]
          },
          "metadata": {
            "tags": []
          }
        },
        {
          "output_type": "display_data",
          "data": {
            "text/html": [
              "<div>\n",
              "<style scoped>\n",
              "    .dataframe tbody tr th:only-of-type {\n",
              "        vertical-align: middle;\n",
              "    }\n",
              "\n",
              "    .dataframe tbody tr th {\n",
              "        vertical-align: top;\n",
              "    }\n",
              "\n",
              "    .dataframe thead th {\n",
              "        text-align: right;\n",
              "    }\n",
              "</style>\n",
              "<table border=\"1\" class=\"dataframe\">\n",
              "  <thead>\n",
              "    <tr style=\"text-align: right;\">\n",
              "      <th></th>\n",
              "      <th>name</th>\n",
              "      <th>platform</th>\n",
              "      <th>year_of_release</th>\n",
              "      <th>genre</th>\n",
              "      <th>na_sales</th>\n",
              "      <th>eu_sales</th>\n",
              "      <th>jp_sales</th>\n",
              "      <th>other_sales</th>\n",
              "      <th>critic_score</th>\n",
              "      <th>user_score</th>\n",
              "      <th>rating</th>\n",
              "    </tr>\n",
              "  </thead>\n",
              "  <tbody>\n",
              "    <tr>\n",
              "      <td>11925</td>\n",
              "      <td>Port Royale 3</td>\n",
              "      <td>PS3</td>\n",
              "      <td>3.00</td>\n",
              "      <td>Simulation</td>\n",
              "      <td>0.06</td>\n",
              "      <td>0.00</td>\n",
              "      <td>0.00</td>\n",
              "      <td>0.01</td>\n",
              "      <td>nan</td>\n",
              "      <td>8.9</td>\n",
              "      <td>T</td>\n",
              "    </tr>\n",
              "    <tr>\n",
              "      <td>12221</td>\n",
              "      <td>Port Royale 3</td>\n",
              "      <td>X360</td>\n",
              "      <td>3.00</td>\n",
              "      <td>Simulation</td>\n",
              "      <td>0.06</td>\n",
              "      <td>0.00</td>\n",
              "      <td>0.00</td>\n",
              "      <td>0.01</td>\n",
              "      <td>56.00</td>\n",
              "      <td>4.5</td>\n",
              "      <td>T</td>\n",
              "    </tr>\n",
              "  </tbody>\n",
              "</table>\n",
              "</div>"
            ],
            "text/plain": [
              "                name platform  year_of_release       genre  na_sales  \\\n",
              "11925  Port Royale 3      PS3             3.00  Simulation      0.06   \n",
              "12221  Port Royale 3     X360             3.00  Simulation      0.06   \n",
              "\n",
              "       eu_sales  jp_sales  other_sales  critic_score user_score rating  \n",
              "11925      0.00      0.00         0.01           nan        8.9      T  \n",
              "12221      0.00      0.00         0.01         56.00        4.5      T  "
            ]
          },
          "metadata": {
            "tags": []
          }
        },
        {
          "output_type": "display_data",
          "data": {
            "text/html": [
              "<div>\n",
              "<style scoped>\n",
              "    .dataframe tbody tr th:only-of-type {\n",
              "        vertical-align: middle;\n",
              "    }\n",
              "\n",
              "    .dataframe tbody tr th {\n",
              "        vertical-align: top;\n",
              "    }\n",
              "\n",
              "    .dataframe thead th {\n",
              "        text-align: right;\n",
              "    }\n",
              "</style>\n",
              "<table border=\"1\" class=\"dataframe\">\n",
              "  <thead>\n",
              "    <tr style=\"text-align: right;\">\n",
              "      <th></th>\n",
              "      <th>name</th>\n",
              "      <th>platform</th>\n",
              "      <th>year_of_release</th>\n",
              "      <th>genre</th>\n",
              "      <th>na_sales</th>\n",
              "      <th>eu_sales</th>\n",
              "      <th>jp_sales</th>\n",
              "      <th>other_sales</th>\n",
              "      <th>critic_score</th>\n",
              "      <th>user_score</th>\n",
              "      <th>rating</th>\n",
              "    </tr>\n",
              "  </thead>\n",
              "  <tbody>\n",
              "    <tr>\n",
              "      <td>6266</td>\n",
              "      <td>Indy 500</td>\n",
              "      <td>2600</td>\n",
              "      <td>500.00</td>\n",
              "      <td>Racing</td>\n",
              "      <td>0.26</td>\n",
              "      <td>0.01</td>\n",
              "      <td>0.00</td>\n",
              "      <td>0.00</td>\n",
              "      <td>nan</td>\n",
              "      <td>NaN</td>\n",
              "      <td>NaN</td>\n",
              "    </tr>\n",
              "  </tbody>\n",
              "</table>\n",
              "</div>"
            ],
            "text/plain": [
              "          name platform  year_of_release   genre  na_sales  eu_sales  \\\n",
              "6266  Indy 500     2600           500.00  Racing      0.26      0.01   \n",
              "\n",
              "      jp_sales  other_sales  critic_score user_score rating  \n",
              "6266      0.00         0.00           nan        NaN    NaN  "
            ]
          },
          "metadata": {
            "tags": []
          }
        },
        {
          "output_type": "display_data",
          "data": {
            "text/html": [
              "<div>\n",
              "<style scoped>\n",
              "    .dataframe tbody tr th:only-of-type {\n",
              "        vertical-align: middle;\n",
              "    }\n",
              "\n",
              "    .dataframe tbody tr th {\n",
              "        vertical-align: top;\n",
              "    }\n",
              "\n",
              "    .dataframe thead th {\n",
              "        text-align: right;\n",
              "    }\n",
              "</style>\n",
              "<table border=\"1\" class=\"dataframe\">\n",
              "  <thead>\n",
              "    <tr style=\"text-align: right;\">\n",
              "      <th></th>\n",
              "      <th>name</th>\n",
              "      <th>platform</th>\n",
              "      <th>year_of_release</th>\n",
              "      <th>genre</th>\n",
              "      <th>na_sales</th>\n",
              "      <th>eu_sales</th>\n",
              "      <th>jp_sales</th>\n",
              "      <th>other_sales</th>\n",
              "      <th>critic_score</th>\n",
              "      <th>user_score</th>\n",
              "      <th>rating</th>\n",
              "    </tr>\n",
              "  </thead>\n",
              "  <tbody>\n",
              "    <tr>\n",
              "      <td>7605</td>\n",
              "      <td>Famista 64</td>\n",
              "      <td>N64</td>\n",
              "      <td>64.00</td>\n",
              "      <td>Sports</td>\n",
              "      <td>0.00</td>\n",
              "      <td>0.00</td>\n",
              "      <td>0.17</td>\n",
              "      <td>0.03</td>\n",
              "      <td>nan</td>\n",
              "      <td>NaN</td>\n",
              "      <td>NaN</td>\n",
              "    </tr>\n",
              "  </tbody>\n",
              "</table>\n",
              "</div>"
            ],
            "text/plain": [
              "            name platform  year_of_release   genre  na_sales  eu_sales  \\\n",
              "7605  Famista 64      N64            64.00  Sports      0.00      0.00   \n",
              "\n",
              "      jp_sales  other_sales  critic_score user_score rating  \n",
              "7605      0.17         0.03           nan        NaN    NaN  "
            ]
          },
          "metadata": {
            "tags": []
          }
        },
        {
          "output_type": "display_data",
          "data": {
            "text/html": [
              "<div>\n",
              "<style scoped>\n",
              "    .dataframe tbody tr th:only-of-type {\n",
              "        vertical-align: middle;\n",
              "    }\n",
              "\n",
              "    .dataframe tbody tr th {\n",
              "        vertical-align: top;\n",
              "    }\n",
              "\n",
              "    .dataframe thead th {\n",
              "        text-align: right;\n",
              "    }\n",
              "</style>\n",
              "<table border=\"1\" class=\"dataframe\">\n",
              "  <thead>\n",
              "    <tr style=\"text-align: right;\">\n",
              "      <th></th>\n",
              "      <th>name</th>\n",
              "      <th>platform</th>\n",
              "      <th>year_of_release</th>\n",
              "      <th>genre</th>\n",
              "      <th>na_sales</th>\n",
              "      <th>eu_sales</th>\n",
              "      <th>jp_sales</th>\n",
              "      <th>other_sales</th>\n",
              "      <th>critic_score</th>\n",
              "      <th>user_score</th>\n",
              "      <th>rating</th>\n",
              "    </tr>\n",
              "  </thead>\n",
              "  <tbody>\n",
              "    <tr>\n",
              "      <td>2169</td>\n",
              "      <td>Yakuza 4</td>\n",
              "      <td>PS3</td>\n",
              "      <td>4.00</td>\n",
              "      <td>Action</td>\n",
              "      <td>0.15</td>\n",
              "      <td>0.13</td>\n",
              "      <td>0.63</td>\n",
              "      <td>0.05</td>\n",
              "      <td>78.00</td>\n",
              "      <td>8</td>\n",
              "      <td>M</td>\n",
              "    </tr>\n",
              "  </tbody>\n",
              "</table>\n",
              "</div>"
            ],
            "text/plain": [
              "          name platform  year_of_release   genre  na_sales  eu_sales  \\\n",
              "2169  Yakuza 4      PS3             4.00  Action      0.15      0.13   \n",
              "\n",
              "      jp_sales  other_sales  critic_score user_score rating  \n",
              "2169      0.63         0.05         78.00          8      M  "
            ]
          },
          "metadata": {
            "tags": []
          }
        }
      ]
    },
    {
      "cell_type": "code",
      "metadata": {
        "id": "4vAEgkR-kVI7"
      },
      "source": [
        "def tdu2(row):\n",
        "    if row['name'] == 'Test Drive Unlimited 2':\n",
        "        return 2011\n",
        "    if row['name'] == 'Yakuza 4':\n",
        "        return 2010\n",
        "    return row['year_of_release']\n",
        "df['year_of_release'] = df.apply(tdu2, axis=1)\n",
        "# display(df[df['year_of_release'] == 2])\n",
        "df['year_of_release'] = df['year_of_release'].replace(2, np.nan)\n",
        "df['year_of_release'] = df['year_of_release'].replace(99, np.nan)\n",
        "df['year_of_release'] = df['year_of_release'].replace(3, np.nan)\n",
        "df['year_of_release'] = df['year_of_release'].replace(500, np.nan)\n",
        "df['year_of_release'] = df['year_of_release'].replace(64, np.nan)\n",
        "df['year_of_release'] = df['year_of_release'].replace(4, np.nan)\n",
        "# display(df[df['year_of_release'] == 2])"
      ],
      "execution_count": null,
      "outputs": []
    },
    {
      "cell_type": "code",
      "metadata": {
        "id": "o-m7szu0kVI7"
      },
      "source": [
        "# Определим суммарные продажи, и заменим ручками года у \"легендарных игр\" \n",
        "df['total_sales'] = df['na_sales'] + df['eu_sales'] + df['jp_sales'] + df['other_sales']"
      ],
      "execution_count": null,
      "outputs": []
    },
    {
      "cell_type": "code",
      "metadata": {
        "scrolled": true,
        "id": "PVVAtbEMkVI8",
        "outputId": "7f4c1dc3-03c2-4bfa-dd1d-841a2aaea01d"
      },
      "source": [
        "df[(df['year_of_release'].isna()) & (df['total_sales'] >= 1)].head(10)\n",
        "# ради интереса посмотрим, что затерялось без года, может, что-то легендарное:\n",
        "# и мы видим Adventure на Atary2600 - в далеком 1979 году была выпущена.\n",
        "# ну и Рокбанд заменим на 2007"
      ],
      "execution_count": null,
      "outputs": [
        {
          "output_type": "execute_result",
          "data": {
            "text/html": [
              "<div>\n",
              "<style scoped>\n",
              "    .dataframe tbody tr th:only-of-type {\n",
              "        vertical-align: middle;\n",
              "    }\n",
              "\n",
              "    .dataframe tbody tr th {\n",
              "        vertical-align: top;\n",
              "    }\n",
              "\n",
              "    .dataframe thead th {\n",
              "        text-align: right;\n",
              "    }\n",
              "</style>\n",
              "<table border=\"1\" class=\"dataframe\">\n",
              "  <thead>\n",
              "    <tr style=\"text-align: right;\">\n",
              "      <th></th>\n",
              "      <th>name</th>\n",
              "      <th>platform</th>\n",
              "      <th>year_of_release</th>\n",
              "      <th>genre</th>\n",
              "      <th>na_sales</th>\n",
              "      <th>eu_sales</th>\n",
              "      <th>jp_sales</th>\n",
              "      <th>other_sales</th>\n",
              "      <th>critic_score</th>\n",
              "      <th>user_score</th>\n",
              "      <th>rating</th>\n",
              "      <th>total_sales</th>\n",
              "    </tr>\n",
              "  </thead>\n",
              "  <tbody>\n",
              "    <tr>\n",
              "      <td>627</td>\n",
              "      <td>Rock Band</td>\n",
              "      <td>X360</td>\n",
              "      <td>nan</td>\n",
              "      <td>Misc</td>\n",
              "      <td>1.93</td>\n",
              "      <td>0.33</td>\n",
              "      <td>0.00</td>\n",
              "      <td>0.21</td>\n",
              "      <td>92.00</td>\n",
              "      <td>8.2</td>\n",
              "      <td>T</td>\n",
              "      <td>2.47</td>\n",
              "    </tr>\n",
              "    <tr>\n",
              "      <td>657</td>\n",
              "      <td>Frogger's Adventures: Temple of the Frog</td>\n",
              "      <td>GBA</td>\n",
              "      <td>nan</td>\n",
              "      <td>Adventure</td>\n",
              "      <td>2.15</td>\n",
              "      <td>0.18</td>\n",
              "      <td>0.00</td>\n",
              "      <td>0.07</td>\n",
              "      <td>73.00</td>\n",
              "      <td>tbd</td>\n",
              "      <td>E</td>\n",
              "      <td>2.40</td>\n",
              "    </tr>\n",
              "    <tr>\n",
              "      <td>805</td>\n",
              "      <td>Rock Band</td>\n",
              "      <td>Wii</td>\n",
              "      <td>nan</td>\n",
              "      <td>Misc</td>\n",
              "      <td>1.33</td>\n",
              "      <td>0.56</td>\n",
              "      <td>0.00</td>\n",
              "      <td>0.20</td>\n",
              "      <td>80.00</td>\n",
              "      <td>6.3</td>\n",
              "      <td>T</td>\n",
              "      <td>2.09</td>\n",
              "    </tr>\n",
              "    <tr>\n",
              "      <td>1142</td>\n",
              "      <td>Rock Band</td>\n",
              "      <td>PS3</td>\n",
              "      <td>nan</td>\n",
              "      <td>Misc</td>\n",
              "      <td>0.99</td>\n",
              "      <td>0.41</td>\n",
              "      <td>0.00</td>\n",
              "      <td>0.22</td>\n",
              "      <td>92.00</td>\n",
              "      <td>8.4</td>\n",
              "      <td>T</td>\n",
              "      <td>1.62</td>\n",
              "    </tr>\n",
              "    <tr>\n",
              "      <td>1301</td>\n",
              "      <td>Triple Play 99</td>\n",
              "      <td>PS</td>\n",
              "      <td>nan</td>\n",
              "      <td>Sports</td>\n",
              "      <td>0.81</td>\n",
              "      <td>0.55</td>\n",
              "      <td>0.00</td>\n",
              "      <td>0.10</td>\n",
              "      <td>nan</td>\n",
              "      <td>NaN</td>\n",
              "      <td>NaN</td>\n",
              "      <td>1.46</td>\n",
              "    </tr>\n",
              "    <tr>\n",
              "      <td>1506</td>\n",
              "      <td>Adventure</td>\n",
              "      <td>2600</td>\n",
              "      <td>nan</td>\n",
              "      <td>Adventure</td>\n",
              "      <td>1.21</td>\n",
              "      <td>0.08</td>\n",
              "      <td>0.00</td>\n",
              "      <td>0.01</td>\n",
              "      <td>nan</td>\n",
              "      <td>NaN</td>\n",
              "      <td>NaN</td>\n",
              "      <td>1.30</td>\n",
              "    </tr>\n",
              "    <tr>\n",
              "      <td>1585</td>\n",
              "      <td>Combat</td>\n",
              "      <td>2600</td>\n",
              "      <td>nan</td>\n",
              "      <td>Action</td>\n",
              "      <td>1.17</td>\n",
              "      <td>0.07</td>\n",
              "      <td>0.00</td>\n",
              "      <td>0.01</td>\n",
              "      <td>nan</td>\n",
              "      <td>NaN</td>\n",
              "      <td>NaN</td>\n",
              "      <td>1.25</td>\n",
              "    </tr>\n",
              "    <tr>\n",
              "      <td>1840</td>\n",
              "      <td>Rock Band</td>\n",
              "      <td>PS2</td>\n",
              "      <td>nan</td>\n",
              "      <td>Misc</td>\n",
              "      <td>0.71</td>\n",
              "      <td>0.06</td>\n",
              "      <td>0.00</td>\n",
              "      <td>0.35</td>\n",
              "      <td>82.00</td>\n",
              "      <td>6.8</td>\n",
              "      <td>T</td>\n",
              "      <td>1.12</td>\n",
              "    </tr>\n",
              "    <tr>\n",
              "      <td>1984</td>\n",
              "      <td>Legacy of Kain: Soul Reaver</td>\n",
              "      <td>PS</td>\n",
              "      <td>nan</td>\n",
              "      <td>Action</td>\n",
              "      <td>0.58</td>\n",
              "      <td>0.40</td>\n",
              "      <td>0.00</td>\n",
              "      <td>0.07</td>\n",
              "      <td>91.00</td>\n",
              "      <td>9</td>\n",
              "      <td>T</td>\n",
              "      <td>1.05</td>\n",
              "    </tr>\n",
              "    <tr>\n",
              "      <td>2010</td>\n",
              "      <td>Donkey Kong Land III</td>\n",
              "      <td>GB</td>\n",
              "      <td>nan</td>\n",
              "      <td>Platform</td>\n",
              "      <td>0.68</td>\n",
              "      <td>0.31</td>\n",
              "      <td>0.00</td>\n",
              "      <td>0.04</td>\n",
              "      <td>nan</td>\n",
              "      <td>NaN</td>\n",
              "      <td>NaN</td>\n",
              "      <td>1.03</td>\n",
              "    </tr>\n",
              "  </tbody>\n",
              "</table>\n",
              "</div>"
            ],
            "text/plain": [
              "                                          name platform  year_of_release  \\\n",
              "627                                  Rock Band     X360              nan   \n",
              "657   Frogger's Adventures: Temple of the Frog      GBA              nan   \n",
              "805                                  Rock Band      Wii              nan   \n",
              "1142                                 Rock Band      PS3              nan   \n",
              "1301                            Triple Play 99       PS              nan   \n",
              "1506                                 Adventure     2600              nan   \n",
              "1585                                    Combat     2600              nan   \n",
              "1840                                 Rock Band      PS2              nan   \n",
              "1984               Legacy of Kain: Soul Reaver       PS              nan   \n",
              "2010                      Donkey Kong Land III       GB              nan   \n",
              "\n",
              "          genre  na_sales  eu_sales  jp_sales  other_sales  critic_score  \\\n",
              "627        Misc      1.93      0.33      0.00         0.21         92.00   \n",
              "657   Adventure      2.15      0.18      0.00         0.07         73.00   \n",
              "805        Misc      1.33      0.56      0.00         0.20         80.00   \n",
              "1142       Misc      0.99      0.41      0.00         0.22         92.00   \n",
              "1301     Sports      0.81      0.55      0.00         0.10           nan   \n",
              "1506  Adventure      1.21      0.08      0.00         0.01           nan   \n",
              "1585     Action      1.17      0.07      0.00         0.01           nan   \n",
              "1840       Misc      0.71      0.06      0.00         0.35         82.00   \n",
              "1984     Action      0.58      0.40      0.00         0.07         91.00   \n",
              "2010   Platform      0.68      0.31      0.00         0.04           nan   \n",
              "\n",
              "     user_score rating  total_sales  \n",
              "627         8.2      T         2.47  \n",
              "657         tbd      E         2.40  \n",
              "805         6.3      T         2.09  \n",
              "1142        8.4      T         1.62  \n",
              "1301        NaN    NaN         1.46  \n",
              "1506        NaN    NaN         1.30  \n",
              "1585        NaN    NaN         1.25  \n",
              "1840        6.8      T         1.12  \n",
              "1984          9      T         1.05  \n",
              "2010        NaN    NaN         1.03  "
            ]
          },
          "metadata": {
            "tags": []
          },
          "execution_count": 13
        }
      ]
    },
    {
      "cell_type": "code",
      "metadata": {
        "id": "KevHrsx9kVI8",
        "outputId": "80bfbdd7-b68c-43dc-8756-bc45cc5180e0"
      },
      "source": [
        "def Atary2600(row):\n",
        "    if np.isnan(row['year_of_release']):\n",
        "        if row['name'] == 'Rock Band':\n",
        "            return 2007\n",
        "        if row['name'] == 'Adventure':\n",
        "            return 1979\n",
        "    return row['year_of_release']\n",
        "df['year_of_release'] = df.apply(Atary2600, axis=1)\n",
        "# df[df['name'] == 'Adventure'].head()\n",
        "df['year_of_release'].isna().sum()"
      ],
      "execution_count": null,
      "outputs": [
        {
          "output_type": "execute_result",
          "data": {
            "text/plain": [
              "130"
            ]
          },
          "metadata": {
            "tags": []
          },
          "execution_count": 14
        }
      ]
    },
    {
      "cell_type": "markdown",
      "metadata": {
        "id": "q16F57AukVI8"
      },
      "source": [
        "- Осталось 130 пропусков, которые мы трогать не будем, они малым образом повлияют на наше исследование."
      ]
    },
    {
      "cell_type": "markdown",
      "metadata": {
        "id": "izHSD5IvkVI8"
      },
      "source": [
        "3. Проверим на пропуски и артефакты `genre`, all `_sales`"
      ]
    },
    {
      "cell_type": "code",
      "metadata": {
        "id": "oF5xKURRkVI9",
        "outputId": "79f338e5-cd14-42d7-e53e-f9da10b47d34"
      },
      "source": [
        "# genre\n",
        "display(df['genre'].isna().sum())\n",
        "display(df[df['genre'] == 0])\n",
        "df['genre'].value_counts()"
      ],
      "execution_count": null,
      "outputs": [
        {
          "output_type": "display_data",
          "data": {
            "text/plain": [
              "0"
            ]
          },
          "metadata": {
            "tags": []
          }
        },
        {
          "output_type": "display_data",
          "data": {
            "text/html": [
              "<div>\n",
              "<style scoped>\n",
              "    .dataframe tbody tr th:only-of-type {\n",
              "        vertical-align: middle;\n",
              "    }\n",
              "\n",
              "    .dataframe tbody tr th {\n",
              "        vertical-align: top;\n",
              "    }\n",
              "\n",
              "    .dataframe thead th {\n",
              "        text-align: right;\n",
              "    }\n",
              "</style>\n",
              "<table border=\"1\" class=\"dataframe\">\n",
              "  <thead>\n",
              "    <tr style=\"text-align: right;\">\n",
              "      <th></th>\n",
              "      <th>name</th>\n",
              "      <th>platform</th>\n",
              "      <th>year_of_release</th>\n",
              "      <th>genre</th>\n",
              "      <th>na_sales</th>\n",
              "      <th>eu_sales</th>\n",
              "      <th>jp_sales</th>\n",
              "      <th>other_sales</th>\n",
              "      <th>critic_score</th>\n",
              "      <th>user_score</th>\n",
              "      <th>rating</th>\n",
              "      <th>total_sales</th>\n",
              "    </tr>\n",
              "  </thead>\n",
              "  <tbody>\n",
              "  </tbody>\n",
              "</table>\n",
              "</div>"
            ],
            "text/plain": [
              "Empty DataFrame\n",
              "Columns: [name, platform, year_of_release, genre, na_sales, eu_sales, jp_sales, other_sales, critic_score, user_score, rating, total_sales]\n",
              "Index: []"
            ]
          },
          "metadata": {
            "tags": []
          }
        },
        {
          "output_type": "execute_result",
          "data": {
            "text/plain": [
              "Action          3369\n",
              "Sports          2348\n",
              "Misc            1750\n",
              "Role-Playing    1498\n",
              "Shooter         1323\n",
              "Adventure       1303\n",
              "Racing          1249\n",
              "Platform         888\n",
              "Simulation       873\n",
              "Fighting         849\n",
              "Strategy         683\n",
              "Puzzle           580\n",
              "Name: genre, dtype: int64"
            ]
          },
          "metadata": {
            "tags": []
          },
          "execution_count": 15
        }
      ]
    },
    {
      "cell_type": "code",
      "metadata": {
        "scrolled": true,
        "id": "ZVCDFV_VkVI9",
        "outputId": "05dcbf17-7584-4ff7-8266-dadd12cd6b92"
      },
      "source": [
        "display(df['na_sales'].isna().sum())\n",
        "df[df['na_sales'] == 0].head()\n",
        "# в большей части выборки - это игры для японских геймеров, во многих отсутствует рейтинги,\n",
        "# скорее всего искать информацию на японском языке - то еще занятие."
      ],
      "execution_count": null,
      "outputs": [
        {
          "output_type": "display_data",
          "data": {
            "text/plain": [
              "0"
            ]
          },
          "metadata": {
            "tags": []
          }
        },
        {
          "output_type": "execute_result",
          "data": {
            "text/html": [
              "<div>\n",
              "<style scoped>\n",
              "    .dataframe tbody tr th:only-of-type {\n",
              "        vertical-align: middle;\n",
              "    }\n",
              "\n",
              "    .dataframe tbody tr th {\n",
              "        vertical-align: top;\n",
              "    }\n",
              "\n",
              "    .dataframe thead th {\n",
              "        text-align: right;\n",
              "    }\n",
              "</style>\n",
              "<table border=\"1\" class=\"dataframe\">\n",
              "  <thead>\n",
              "    <tr style=\"text-align: right;\">\n",
              "      <th></th>\n",
              "      <th>name</th>\n",
              "      <th>platform</th>\n",
              "      <th>year_of_release</th>\n",
              "      <th>genre</th>\n",
              "      <th>na_sales</th>\n",
              "      <th>eu_sales</th>\n",
              "      <th>jp_sales</th>\n",
              "      <th>other_sales</th>\n",
              "      <th>critic_score</th>\n",
              "      <th>user_score</th>\n",
              "      <th>rating</th>\n",
              "      <th>total_sales</th>\n",
              "    </tr>\n",
              "  </thead>\n",
              "  <tbody>\n",
              "    <tr>\n",
              "      <td>215</td>\n",
              "      <td>Monster Hunter Freedom 3</td>\n",
              "      <td>PSP</td>\n",
              "      <td>2010.00</td>\n",
              "      <td>Role-Playing</td>\n",
              "      <td>0.00</td>\n",
              "      <td>0.00</td>\n",
              "      <td>4.87</td>\n",
              "      <td>0.00</td>\n",
              "      <td>nan</td>\n",
              "      <td>NaN</td>\n",
              "      <td>NaN</td>\n",
              "      <td>4.87</td>\n",
              "    </tr>\n",
              "    <tr>\n",
              "      <td>340</td>\n",
              "      <td>Friend Collection</td>\n",
              "      <td>DS</td>\n",
              "      <td>2009.00</td>\n",
              "      <td>Misc</td>\n",
              "      <td>0.00</td>\n",
              "      <td>0.00</td>\n",
              "      <td>3.67</td>\n",
              "      <td>0.00</td>\n",
              "      <td>nan</td>\n",
              "      <td>NaN</td>\n",
              "      <td>NaN</td>\n",
              "      <td>3.67</td>\n",
              "    </tr>\n",
              "    <tr>\n",
              "      <td>385</td>\n",
              "      <td>Monster Hunter 4</td>\n",
              "      <td>3DS</td>\n",
              "      <td>2013.00</td>\n",
              "      <td>Role-Playing</td>\n",
              "      <td>0.00</td>\n",
              "      <td>0.00</td>\n",
              "      <td>3.44</td>\n",
              "      <td>0.00</td>\n",
              "      <td>nan</td>\n",
              "      <td>NaN</td>\n",
              "      <td>NaN</td>\n",
              "      <td>3.44</td>\n",
              "    </tr>\n",
              "    <tr>\n",
              "      <td>403</td>\n",
              "      <td>English Training: Have Fun Improving Your Skills!</td>\n",
              "      <td>DS</td>\n",
              "      <td>2006.00</td>\n",
              "      <td>Misc</td>\n",
              "      <td>0.00</td>\n",
              "      <td>0.99</td>\n",
              "      <td>2.32</td>\n",
              "      <td>0.02</td>\n",
              "      <td>nan</td>\n",
              "      <td>NaN</td>\n",
              "      <td>NaN</td>\n",
              "      <td>3.33</td>\n",
              "    </tr>\n",
              "    <tr>\n",
              "      <td>428</td>\n",
              "      <td>Dragon Quest VI: Maboroshi no Daichi</td>\n",
              "      <td>SNES</td>\n",
              "      <td>1995.00</td>\n",
              "      <td>Role-Playing</td>\n",
              "      <td>0.00</td>\n",
              "      <td>0.00</td>\n",
              "      <td>3.19</td>\n",
              "      <td>0.00</td>\n",
              "      <td>nan</td>\n",
              "      <td>NaN</td>\n",
              "      <td>NaN</td>\n",
              "      <td>3.19</td>\n",
              "    </tr>\n",
              "  </tbody>\n",
              "</table>\n",
              "</div>"
            ],
            "text/plain": [
              "                                                  name platform  \\\n",
              "215                           Monster Hunter Freedom 3      PSP   \n",
              "340                                  Friend Collection       DS   \n",
              "385                                   Monster Hunter 4      3DS   \n",
              "403  English Training: Have Fun Improving Your Skills!       DS   \n",
              "428               Dragon Quest VI: Maboroshi no Daichi     SNES   \n",
              "\n",
              "     year_of_release         genre  na_sales  eu_sales  jp_sales  other_sales  \\\n",
              "215          2010.00  Role-Playing      0.00      0.00      4.87         0.00   \n",
              "340          2009.00          Misc      0.00      0.00      3.67         0.00   \n",
              "385          2013.00  Role-Playing      0.00      0.00      3.44         0.00   \n",
              "403          2006.00          Misc      0.00      0.99      2.32         0.02   \n",
              "428          1995.00  Role-Playing      0.00      0.00      3.19         0.00   \n",
              "\n",
              "     critic_score user_score rating  total_sales  \n",
              "215           nan        NaN    NaN         4.87  \n",
              "340           nan        NaN    NaN         3.67  \n",
              "385           nan        NaN    NaN         3.44  \n",
              "403           nan        NaN    NaN         3.33  \n",
              "428           nan        NaN    NaN         3.19  "
            ]
          },
          "metadata": {
            "tags": []
          },
          "execution_count": 16
        }
      ]
    },
    {
      "cell_type": "code",
      "metadata": {
        "scrolled": false,
        "id": "Ra8JaD22kVI9",
        "outputId": "3293612a-59fb-4297-fb5b-8c09eaeb3d01"
      },
      "source": [
        "df[df['eu_sales'] == 0].head()\n",
        "# Странная статистика, скорее всего в РФ все было пиратским:) \n",
        "# в Half-Life на PC мне кажется и моя бабушка играла, только вышел он в 1998 году:)"
      ],
      "execution_count": null,
      "outputs": [
        {
          "output_type": "execute_result",
          "data": {
            "text/html": [
              "<div>\n",
              "<style scoped>\n",
              "    .dataframe tbody tr th:only-of-type {\n",
              "        vertical-align: middle;\n",
              "    }\n",
              "\n",
              "    .dataframe tbody tr th {\n",
              "        vertical-align: top;\n",
              "    }\n",
              "\n",
              "    .dataframe thead th {\n",
              "        text-align: right;\n",
              "    }\n",
              "</style>\n",
              "<table border=\"1\" class=\"dataframe\">\n",
              "  <thead>\n",
              "    <tr style=\"text-align: right;\">\n",
              "      <th></th>\n",
              "      <th>name</th>\n",
              "      <th>platform</th>\n",
              "      <th>year_of_release</th>\n",
              "      <th>genre</th>\n",
              "      <th>na_sales</th>\n",
              "      <th>eu_sales</th>\n",
              "      <th>jp_sales</th>\n",
              "      <th>other_sales</th>\n",
              "      <th>critic_score</th>\n",
              "      <th>user_score</th>\n",
              "      <th>rating</th>\n",
              "      <th>total_sales</th>\n",
              "    </tr>\n",
              "  </thead>\n",
              "  <tbody>\n",
              "    <tr>\n",
              "      <td>148</td>\n",
              "      <td>Final Fantasy XII</td>\n",
              "      <td>PS2</td>\n",
              "      <td>2006.00</td>\n",
              "      <td>Role-Playing</td>\n",
              "      <td>1.88</td>\n",
              "      <td>0.00</td>\n",
              "      <td>2.33</td>\n",
              "      <td>1.74</td>\n",
              "      <td>92.00</td>\n",
              "      <td>7.6</td>\n",
              "      <td>T</td>\n",
              "      <td>5.95</td>\n",
              "    </tr>\n",
              "    <tr>\n",
              "      <td>215</td>\n",
              "      <td>Monster Hunter Freedom 3</td>\n",
              "      <td>PSP</td>\n",
              "      <td>2010.00</td>\n",
              "      <td>Role-Playing</td>\n",
              "      <td>0.00</td>\n",
              "      <td>0.00</td>\n",
              "      <td>4.87</td>\n",
              "      <td>0.00</td>\n",
              "      <td>nan</td>\n",
              "      <td>NaN</td>\n",
              "      <td>NaN</td>\n",
              "      <td>4.87</td>\n",
              "    </tr>\n",
              "    <tr>\n",
              "      <td>268</td>\n",
              "      <td>Metal Gear Solid 3: Snake Eater</td>\n",
              "      <td>PS2</td>\n",
              "      <td>2004.00</td>\n",
              "      <td>Action</td>\n",
              "      <td>1.46</td>\n",
              "      <td>0.00</td>\n",
              "      <td>0.83</td>\n",
              "      <td>1.93</td>\n",
              "      <td>91.00</td>\n",
              "      <td>9.3</td>\n",
              "      <td>M</td>\n",
              "      <td>4.22</td>\n",
              "    </tr>\n",
              "    <tr>\n",
              "      <td>284</td>\n",
              "      <td>Half-Life</td>\n",
              "      <td>PC</td>\n",
              "      <td>1997.00</td>\n",
              "      <td>Shooter</td>\n",
              "      <td>4.03</td>\n",
              "      <td>0.00</td>\n",
              "      <td>0.09</td>\n",
              "      <td>0.00</td>\n",
              "      <td>96.00</td>\n",
              "      <td>9.1</td>\n",
              "      <td>M</td>\n",
              "      <td>4.12</td>\n",
              "    </tr>\n",
              "    <tr>\n",
              "      <td>316</td>\n",
              "      <td>Dragon Warrior III</td>\n",
              "      <td>NES</td>\n",
              "      <td>1988.00</td>\n",
              "      <td>Role-Playing</td>\n",
              "      <td>0.10</td>\n",
              "      <td>0.00</td>\n",
              "      <td>3.77</td>\n",
              "      <td>0.00</td>\n",
              "      <td>nan</td>\n",
              "      <td>NaN</td>\n",
              "      <td>NaN</td>\n",
              "      <td>3.87</td>\n",
              "    </tr>\n",
              "  </tbody>\n",
              "</table>\n",
              "</div>"
            ],
            "text/plain": [
              "                                name platform  year_of_release         genre  \\\n",
              "148                Final Fantasy XII      PS2          2006.00  Role-Playing   \n",
              "215         Monster Hunter Freedom 3      PSP          2010.00  Role-Playing   \n",
              "268  Metal Gear Solid 3: Snake Eater      PS2          2004.00        Action   \n",
              "284                        Half-Life       PC          1997.00       Shooter   \n",
              "316               Dragon Warrior III      NES          1988.00  Role-Playing   \n",
              "\n",
              "     na_sales  eu_sales  jp_sales  other_sales  critic_score user_score  \\\n",
              "148      1.88      0.00      2.33         1.74         92.00        7.6   \n",
              "215      0.00      0.00      4.87         0.00           nan        NaN   \n",
              "268      1.46      0.00      0.83         1.93         91.00        9.3   \n",
              "284      4.03      0.00      0.09         0.00         96.00        9.1   \n",
              "316      0.10      0.00      3.77         0.00           nan        NaN   \n",
              "\n",
              "    rating  total_sales  \n",
              "148      T         5.95  \n",
              "215    NaN         4.87  \n",
              "268      M         4.22  \n",
              "284      M         4.12  \n",
              "316    NaN         3.87  "
            ]
          },
          "metadata": {
            "tags": []
          },
          "execution_count": 17
        }
      ]
    },
    {
      "cell_type": "code",
      "metadata": {
        "scrolled": true,
        "id": "BW1v912akVI-",
        "outputId": "94d0a304-9305-474e-cc45-2e3842297a9b"
      },
      "source": [
        "df[df['jp_sales'] == 0].head(10)\n",
        "# Японцы не играют в Sims 3, CoD, WOW, GTA 5!\n",
        "# Надеюсь они просто не любят Xbox, но Sims 3 & WOW... How?\n",
        "# Ох, уж эта Азия."
      ],
      "execution_count": null,
      "outputs": [
        {
          "output_type": "execute_result",
          "data": {
            "text/html": [
              "<div>\n",
              "<style scoped>\n",
              "    .dataframe tbody tr th:only-of-type {\n",
              "        vertical-align: middle;\n",
              "    }\n",
              "\n",
              "    .dataframe tbody tr th {\n",
              "        vertical-align: top;\n",
              "    }\n",
              "\n",
              "    .dataframe thead th {\n",
              "        text-align: right;\n",
              "    }\n",
              "</style>\n",
              "<table border=\"1\" class=\"dataframe\">\n",
              "  <thead>\n",
              "    <tr style=\"text-align: right;\">\n",
              "      <th></th>\n",
              "      <th>name</th>\n",
              "      <th>platform</th>\n",
              "      <th>year_of_release</th>\n",
              "      <th>genre</th>\n",
              "      <th>na_sales</th>\n",
              "      <th>eu_sales</th>\n",
              "      <th>jp_sales</th>\n",
              "      <th>other_sales</th>\n",
              "      <th>critic_score</th>\n",
              "      <th>user_score</th>\n",
              "      <th>rating</th>\n",
              "      <th>total_sales</th>\n",
              "    </tr>\n",
              "  </thead>\n",
              "  <tbody>\n",
              "    <tr>\n",
              "      <td>61</td>\n",
              "      <td>Just Dance 3</td>\n",
              "      <td>Wii</td>\n",
              "      <td>2011.00</td>\n",
              "      <td>Misc</td>\n",
              "      <td>5.95</td>\n",
              "      <td>3.11</td>\n",
              "      <td>0.00</td>\n",
              "      <td>1.06</td>\n",
              "      <td>74.00</td>\n",
              "      <td>7.8</td>\n",
              "      <td>E10+</td>\n",
              "      <td>10.12</td>\n",
              "    </tr>\n",
              "    <tr>\n",
              "      <td>85</td>\n",
              "      <td>The Sims 3</td>\n",
              "      <td>PC</td>\n",
              "      <td>2009.00</td>\n",
              "      <td>Simulation</td>\n",
              "      <td>0.99</td>\n",
              "      <td>6.42</td>\n",
              "      <td>0.00</td>\n",
              "      <td>0.60</td>\n",
              "      <td>86.00</td>\n",
              "      <td>7.6</td>\n",
              "      <td>T</td>\n",
              "      <td>8.01</td>\n",
              "    </tr>\n",
              "    <tr>\n",
              "      <td>89</td>\n",
              "      <td>Pac-Man</td>\n",
              "      <td>2600</td>\n",
              "      <td>1982.00</td>\n",
              "      <td>Puzzle</td>\n",
              "      <td>7.28</td>\n",
              "      <td>0.45</td>\n",
              "      <td>0.00</td>\n",
              "      <td>0.08</td>\n",
              "      <td>nan</td>\n",
              "      <td>NaN</td>\n",
              "      <td>NaN</td>\n",
              "      <td>7.81</td>\n",
              "    </tr>\n",
              "    <tr>\n",
              "      <td>100</td>\n",
              "      <td>Call of Duty: World at War</td>\n",
              "      <td>X360</td>\n",
              "      <td>2008.00</td>\n",
              "      <td>Shooter</td>\n",
              "      <td>4.81</td>\n",
              "      <td>1.88</td>\n",
              "      <td>0.00</td>\n",
              "      <td>0.69</td>\n",
              "      <td>84.00</td>\n",
              "      <td>7.6</td>\n",
              "      <td>M</td>\n",
              "      <td>7.38</td>\n",
              "    </tr>\n",
              "    <tr>\n",
              "      <td>103</td>\n",
              "      <td>Just Dance</td>\n",
              "      <td>Wii</td>\n",
              "      <td>2009.00</td>\n",
              "      <td>Misc</td>\n",
              "      <td>3.48</td>\n",
              "      <td>2.99</td>\n",
              "      <td>0.00</td>\n",
              "      <td>0.73</td>\n",
              "      <td>49.00</td>\n",
              "      <td>8</td>\n",
              "      <td>E10+</td>\n",
              "      <td>7.20</td>\n",
              "    </tr>\n",
              "    <tr>\n",
              "      <td>116</td>\n",
              "      <td>Just Dance 4</td>\n",
              "      <td>Wii</td>\n",
              "      <td>2012.00</td>\n",
              "      <td>Misc</td>\n",
              "      <td>4.05</td>\n",
              "      <td>2.16</td>\n",
              "      <td>0.00</td>\n",
              "      <td>0.55</td>\n",
              "      <td>74.00</td>\n",
              "      <td>7.3</td>\n",
              "      <td>E10+</td>\n",
              "      <td>6.76</td>\n",
              "    </tr>\n",
              "    <tr>\n",
              "      <td>119</td>\n",
              "      <td>Zumba Fitness</td>\n",
              "      <td>Wii</td>\n",
              "      <td>2010.00</td>\n",
              "      <td>Sports</td>\n",
              "      <td>3.45</td>\n",
              "      <td>2.59</td>\n",
              "      <td>0.00</td>\n",
              "      <td>0.66</td>\n",
              "      <td>nan</td>\n",
              "      <td>tbd</td>\n",
              "      <td>E</td>\n",
              "      <td>6.70</td>\n",
              "    </tr>\n",
              "    <tr>\n",
              "      <td>138</td>\n",
              "      <td>World of Warcraft</td>\n",
              "      <td>PC</td>\n",
              "      <td>2004.00</td>\n",
              "      <td>Role-Playing</td>\n",
              "      <td>0.08</td>\n",
              "      <td>6.21</td>\n",
              "      <td>0.00</td>\n",
              "      <td>0.00</td>\n",
              "      <td>93.00</td>\n",
              "      <td>7.3</td>\n",
              "      <td>T</td>\n",
              "      <td>6.29</td>\n",
              "    </tr>\n",
              "    <tr>\n",
              "      <td>155</td>\n",
              "      <td>LEGO Star Wars: The Complete Saga</td>\n",
              "      <td>Wii</td>\n",
              "      <td>2007.00</td>\n",
              "      <td>Action</td>\n",
              "      <td>3.57</td>\n",
              "      <td>1.55</td>\n",
              "      <td>0.00</td>\n",
              "      <td>0.51</td>\n",
              "      <td>80.00</td>\n",
              "      <td>8.9</td>\n",
              "      <td>E10+</td>\n",
              "      <td>5.63</td>\n",
              "    </tr>\n",
              "    <tr>\n",
              "      <td>165</td>\n",
              "      <td>Grand Theft Auto V</td>\n",
              "      <td>XOne</td>\n",
              "      <td>2014.00</td>\n",
              "      <td>Action</td>\n",
              "      <td>2.81</td>\n",
              "      <td>2.19</td>\n",
              "      <td>0.00</td>\n",
              "      <td>0.47</td>\n",
              "      <td>97.00</td>\n",
              "      <td>7.9</td>\n",
              "      <td>M</td>\n",
              "      <td>5.47</td>\n",
              "    </tr>\n",
              "  </tbody>\n",
              "</table>\n",
              "</div>"
            ],
            "text/plain": [
              "                                  name platform  year_of_release  \\\n",
              "61                        Just Dance 3      Wii          2011.00   \n",
              "85                          The Sims 3       PC          2009.00   \n",
              "89                             Pac-Man     2600          1982.00   \n",
              "100         Call of Duty: World at War     X360          2008.00   \n",
              "103                         Just Dance      Wii          2009.00   \n",
              "116                       Just Dance 4      Wii          2012.00   \n",
              "119                      Zumba Fitness      Wii          2010.00   \n",
              "138                  World of Warcraft       PC          2004.00   \n",
              "155  LEGO Star Wars: The Complete Saga      Wii          2007.00   \n",
              "165                 Grand Theft Auto V     XOne          2014.00   \n",
              "\n",
              "            genre  na_sales  eu_sales  jp_sales  other_sales  critic_score  \\\n",
              "61           Misc      5.95      3.11      0.00         1.06         74.00   \n",
              "85     Simulation      0.99      6.42      0.00         0.60         86.00   \n",
              "89         Puzzle      7.28      0.45      0.00         0.08           nan   \n",
              "100       Shooter      4.81      1.88      0.00         0.69         84.00   \n",
              "103          Misc      3.48      2.99      0.00         0.73         49.00   \n",
              "116          Misc      4.05      2.16      0.00         0.55         74.00   \n",
              "119        Sports      3.45      2.59      0.00         0.66           nan   \n",
              "138  Role-Playing      0.08      6.21      0.00         0.00         93.00   \n",
              "155        Action      3.57      1.55      0.00         0.51         80.00   \n",
              "165        Action      2.81      2.19      0.00         0.47         97.00   \n",
              "\n",
              "    user_score rating  total_sales  \n",
              "61         7.8   E10+        10.12  \n",
              "85         7.6      T         8.01  \n",
              "89         NaN    NaN         7.81  \n",
              "100        7.6      M         7.38  \n",
              "103          8   E10+         7.20  \n",
              "116        7.3   E10+         6.76  \n",
              "119        tbd      E         6.70  \n",
              "138        7.3      T         6.29  \n",
              "155        8.9   E10+         5.63  \n",
              "165        7.9      M         5.47  "
            ]
          },
          "metadata": {
            "tags": []
          },
          "execution_count": 18
        }
      ]
    },
    {
      "cell_type": "markdown",
      "metadata": {
        "id": "brYycKr4kVI-"
      },
      "source": [
        "4. Предобработка `critic_score`"
      ]
    },
    {
      "cell_type": "code",
      "metadata": {
        "scrolled": true,
        "id": "6mcV7-s7kVI-",
        "outputId": "019b9e63-9402-4db8-d0f3-bc9a0519a135"
      },
      "source": [
        "# critic_score\n",
        "df[df['critic_score'].isna()]\n",
        "# отсутствие отзывов критиков у самых продаваемых игр, насторажживает,\n",
        "# но мы можем увидеть года и платформы, скорее всего их просто нет"
      ],
      "execution_count": null,
      "outputs": [
        {
          "output_type": "execute_result",
          "data": {
            "text/html": [
              "<div>\n",
              "<style scoped>\n",
              "    .dataframe tbody tr th:only-of-type {\n",
              "        vertical-align: middle;\n",
              "    }\n",
              "\n",
              "    .dataframe tbody tr th {\n",
              "        vertical-align: top;\n",
              "    }\n",
              "\n",
              "    .dataframe thead th {\n",
              "        text-align: right;\n",
              "    }\n",
              "</style>\n",
              "<table border=\"1\" class=\"dataframe\">\n",
              "  <thead>\n",
              "    <tr style=\"text-align: right;\">\n",
              "      <th></th>\n",
              "      <th>name</th>\n",
              "      <th>platform</th>\n",
              "      <th>year_of_release</th>\n",
              "      <th>genre</th>\n",
              "      <th>na_sales</th>\n",
              "      <th>eu_sales</th>\n",
              "      <th>jp_sales</th>\n",
              "      <th>other_sales</th>\n",
              "      <th>critic_score</th>\n",
              "      <th>user_score</th>\n",
              "      <th>rating</th>\n",
              "      <th>total_sales</th>\n",
              "    </tr>\n",
              "  </thead>\n",
              "  <tbody>\n",
              "    <tr>\n",
              "      <td>1</td>\n",
              "      <td>Super Mario Bros.</td>\n",
              "      <td>NES</td>\n",
              "      <td>1985.00</td>\n",
              "      <td>Platform</td>\n",
              "      <td>29.08</td>\n",
              "      <td>3.58</td>\n",
              "      <td>6.81</td>\n",
              "      <td>0.77</td>\n",
              "      <td>nan</td>\n",
              "      <td>NaN</td>\n",
              "      <td>NaN</td>\n",
              "      <td>40.24</td>\n",
              "    </tr>\n",
              "    <tr>\n",
              "      <td>4</td>\n",
              "      <td>Pokemon Red/Pokemon Blue</td>\n",
              "      <td>GB</td>\n",
              "      <td>1996.00</td>\n",
              "      <td>Role-Playing</td>\n",
              "      <td>11.27</td>\n",
              "      <td>8.89</td>\n",
              "      <td>10.22</td>\n",
              "      <td>1.00</td>\n",
              "      <td>nan</td>\n",
              "      <td>NaN</td>\n",
              "      <td>NaN</td>\n",
              "      <td>31.38</td>\n",
              "    </tr>\n",
              "    <tr>\n",
              "      <td>5</td>\n",
              "      <td>Tetris</td>\n",
              "      <td>GB</td>\n",
              "      <td>1989.00</td>\n",
              "      <td>Puzzle</td>\n",
              "      <td>23.20</td>\n",
              "      <td>2.26</td>\n",
              "      <td>4.22</td>\n",
              "      <td>0.58</td>\n",
              "      <td>nan</td>\n",
              "      <td>NaN</td>\n",
              "      <td>NaN</td>\n",
              "      <td>30.26</td>\n",
              "    </tr>\n",
              "    <tr>\n",
              "      <td>9</td>\n",
              "      <td>Duck Hunt</td>\n",
              "      <td>NES</td>\n",
              "      <td>1984.00</td>\n",
              "      <td>Shooter</td>\n",
              "      <td>26.93</td>\n",
              "      <td>0.63</td>\n",
              "      <td>0.28</td>\n",
              "      <td>0.47</td>\n",
              "      <td>nan</td>\n",
              "      <td>NaN</td>\n",
              "      <td>NaN</td>\n",
              "      <td>28.31</td>\n",
              "    </tr>\n",
              "    <tr>\n",
              "      <td>10</td>\n",
              "      <td>Nintendogs</td>\n",
              "      <td>DS</td>\n",
              "      <td>2005.00</td>\n",
              "      <td>Simulation</td>\n",
              "      <td>9.05</td>\n",
              "      <td>10.95</td>\n",
              "      <td>1.93</td>\n",
              "      <td>2.74</td>\n",
              "      <td>nan</td>\n",
              "      <td>NaN</td>\n",
              "      <td>NaN</td>\n",
              "      <td>24.67</td>\n",
              "    </tr>\n",
              "    <tr>\n",
              "      <td>...</td>\n",
              "      <td>...</td>\n",
              "      <td>...</td>\n",
              "      <td>...</td>\n",
              "      <td>...</td>\n",
              "      <td>...</td>\n",
              "      <td>...</td>\n",
              "      <td>...</td>\n",
              "      <td>...</td>\n",
              "      <td>...</td>\n",
              "      <td>...</td>\n",
              "      <td>...</td>\n",
              "      <td>...</td>\n",
              "    </tr>\n",
              "    <tr>\n",
              "      <td>16710</td>\n",
              "      <td>Samurai Warriors: Sanada Maru</td>\n",
              "      <td>PS3</td>\n",
              "      <td>2016.00</td>\n",
              "      <td>Action</td>\n",
              "      <td>0.00</td>\n",
              "      <td>0.00</td>\n",
              "      <td>0.01</td>\n",
              "      <td>0.00</td>\n",
              "      <td>nan</td>\n",
              "      <td>NaN</td>\n",
              "      <td>NaN</td>\n",
              "      <td>0.01</td>\n",
              "    </tr>\n",
              "    <tr>\n",
              "      <td>16711</td>\n",
              "      <td>LMA Manager 2007</td>\n",
              "      <td>X360</td>\n",
              "      <td>2006.00</td>\n",
              "      <td>Sports</td>\n",
              "      <td>0.00</td>\n",
              "      <td>0.01</td>\n",
              "      <td>0.00</td>\n",
              "      <td>0.00</td>\n",
              "      <td>nan</td>\n",
              "      <td>NaN</td>\n",
              "      <td>NaN</td>\n",
              "      <td>0.01</td>\n",
              "    </tr>\n",
              "    <tr>\n",
              "      <td>16712</td>\n",
              "      <td>Haitaka no Psychedelica</td>\n",
              "      <td>PSV</td>\n",
              "      <td>2016.00</td>\n",
              "      <td>Adventure</td>\n",
              "      <td>0.00</td>\n",
              "      <td>0.00</td>\n",
              "      <td>0.01</td>\n",
              "      <td>0.00</td>\n",
              "      <td>nan</td>\n",
              "      <td>NaN</td>\n",
              "      <td>NaN</td>\n",
              "      <td>0.01</td>\n",
              "    </tr>\n",
              "    <tr>\n",
              "      <td>16713</td>\n",
              "      <td>Spirits &amp; Spells</td>\n",
              "      <td>GBA</td>\n",
              "      <td>2003.00</td>\n",
              "      <td>Platform</td>\n",
              "      <td>0.01</td>\n",
              "      <td>0.00</td>\n",
              "      <td>0.00</td>\n",
              "      <td>0.00</td>\n",
              "      <td>nan</td>\n",
              "      <td>NaN</td>\n",
              "      <td>NaN</td>\n",
              "      <td>0.01</td>\n",
              "    </tr>\n",
              "    <tr>\n",
              "      <td>16714</td>\n",
              "      <td>Winning Post 8 2016</td>\n",
              "      <td>PSV</td>\n",
              "      <td>2016.00</td>\n",
              "      <td>Simulation</td>\n",
              "      <td>0.00</td>\n",
              "      <td>0.00</td>\n",
              "      <td>0.01</td>\n",
              "      <td>0.00</td>\n",
              "      <td>nan</td>\n",
              "      <td>NaN</td>\n",
              "      <td>NaN</td>\n",
              "      <td>0.01</td>\n",
              "    </tr>\n",
              "  </tbody>\n",
              "</table>\n",
              "<p>8576 rows × 12 columns</p>\n",
              "</div>"
            ],
            "text/plain": [
              "                                name platform  year_of_release         genre  \\\n",
              "1                  Super Mario Bros.      NES          1985.00      Platform   \n",
              "4           Pokemon Red/Pokemon Blue       GB          1996.00  Role-Playing   \n",
              "5                             Tetris       GB          1989.00        Puzzle   \n",
              "9                          Duck Hunt      NES          1984.00       Shooter   \n",
              "10                        Nintendogs       DS          2005.00    Simulation   \n",
              "...                              ...      ...              ...           ...   \n",
              "16710  Samurai Warriors: Sanada Maru      PS3          2016.00        Action   \n",
              "16711               LMA Manager 2007     X360          2006.00        Sports   \n",
              "16712        Haitaka no Psychedelica      PSV          2016.00     Adventure   \n",
              "16713               Spirits & Spells      GBA          2003.00      Platform   \n",
              "16714            Winning Post 8 2016      PSV          2016.00    Simulation   \n",
              "\n",
              "       na_sales  eu_sales  jp_sales  other_sales  critic_score user_score  \\\n",
              "1         29.08      3.58      6.81         0.77           nan        NaN   \n",
              "4         11.27      8.89     10.22         1.00           nan        NaN   \n",
              "5         23.20      2.26      4.22         0.58           nan        NaN   \n",
              "9         26.93      0.63      0.28         0.47           nan        NaN   \n",
              "10         9.05     10.95      1.93         2.74           nan        NaN   \n",
              "...         ...       ...       ...          ...           ...        ...   \n",
              "16710      0.00      0.00      0.01         0.00           nan        NaN   \n",
              "16711      0.00      0.01      0.00         0.00           nan        NaN   \n",
              "16712      0.00      0.00      0.01         0.00           nan        NaN   \n",
              "16713      0.01      0.00      0.00         0.00           nan        NaN   \n",
              "16714      0.00      0.00      0.01         0.00           nan        NaN   \n",
              "\n",
              "      rating  total_sales  \n",
              "1        NaN        40.24  \n",
              "4        NaN        31.38  \n",
              "5        NaN        30.26  \n",
              "9        NaN        28.31  \n",
              "10       NaN        24.67  \n",
              "...      ...          ...  \n",
              "16710    NaN         0.01  \n",
              "16711    NaN         0.01  \n",
              "16712    NaN         0.01  \n",
              "16713    NaN         0.01  \n",
              "16714    NaN         0.01  \n",
              "\n",
              "[8576 rows x 12 columns]"
            ]
          },
          "metadata": {
            "tags": []
          },
          "execution_count": 19
        }
      ]
    },
    {
      "cell_type": "markdown",
      "metadata": {
        "id": "cOsVdcXAkVI_"
      },
      "source": [
        "- <font color='purple'>Чтобы не исказить данные, оставим пропуски в столбце отзывы критиков без обработки.</font>"
      ]
    },
    {
      "cell_type": "markdown",
      "metadata": {
        "id": "bemaIhBHkVI_"
      },
      "source": [
        "5. Предобработка `user_score`"
      ]
    },
    {
      "cell_type": "code",
      "metadata": {
        "id": "zKmuDnPPkVI_",
        "outputId": "e3ceff3d-324a-479d-a5d1-73ec4c008c2b"
      },
      "source": [
        "# Чтобы проводить дальнейшие операции нужно что-то решить с TBD\n",
        "# (to be determined - \"будет определено позже\")\n",
        "# в данный момент мы имеем то, что имеем. И заменим tbd на NaN, \n",
        "# чтобы проводить дальнейшие операции\n",
        "display(df[df['user_score'] == 'tbd'])\n",
        "df['user_score'] = df['user_score'].replace('tbd', np.nan)\n",
        "# заменим тип данных с объектного\n",
        "df['user_score'] = df['user_score'].astype('float64')"
      ],
      "execution_count": null,
      "outputs": [
        {
          "output_type": "display_data",
          "data": {
            "text/html": [
              "<div>\n",
              "<style scoped>\n",
              "    .dataframe tbody tr th:only-of-type {\n",
              "        vertical-align: middle;\n",
              "    }\n",
              "\n",
              "    .dataframe tbody tr th {\n",
              "        vertical-align: top;\n",
              "    }\n",
              "\n",
              "    .dataframe thead th {\n",
              "        text-align: right;\n",
              "    }\n",
              "</style>\n",
              "<table border=\"1\" class=\"dataframe\">\n",
              "  <thead>\n",
              "    <tr style=\"text-align: right;\">\n",
              "      <th></th>\n",
              "      <th>name</th>\n",
              "      <th>platform</th>\n",
              "      <th>year_of_release</th>\n",
              "      <th>genre</th>\n",
              "      <th>na_sales</th>\n",
              "      <th>eu_sales</th>\n",
              "      <th>jp_sales</th>\n",
              "      <th>other_sales</th>\n",
              "      <th>critic_score</th>\n",
              "      <th>user_score</th>\n",
              "      <th>rating</th>\n",
              "      <th>total_sales</th>\n",
              "    </tr>\n",
              "  </thead>\n",
              "  <tbody>\n",
              "    <tr>\n",
              "      <td>119</td>\n",
              "      <td>Zumba Fitness</td>\n",
              "      <td>Wii</td>\n",
              "      <td>2010.00</td>\n",
              "      <td>Sports</td>\n",
              "      <td>3.45</td>\n",
              "      <td>2.59</td>\n",
              "      <td>0.00</td>\n",
              "      <td>0.66</td>\n",
              "      <td>nan</td>\n",
              "      <td>tbd</td>\n",
              "      <td>E</td>\n",
              "      <td>6.70</td>\n",
              "    </tr>\n",
              "    <tr>\n",
              "      <td>301</td>\n",
              "      <td>Namco Museum: 50th Anniversary</td>\n",
              "      <td>PS2</td>\n",
              "      <td>2005.00</td>\n",
              "      <td>Misc</td>\n",
              "      <td>2.08</td>\n",
              "      <td>1.35</td>\n",
              "      <td>0.00</td>\n",
              "      <td>0.54</td>\n",
              "      <td>61.00</td>\n",
              "      <td>tbd</td>\n",
              "      <td>E10+</td>\n",
              "      <td>3.97</td>\n",
              "    </tr>\n",
              "    <tr>\n",
              "      <td>520</td>\n",
              "      <td>Zumba Fitness 2</td>\n",
              "      <td>Wii</td>\n",
              "      <td>2011.00</td>\n",
              "      <td>Sports</td>\n",
              "      <td>1.51</td>\n",
              "      <td>1.03</td>\n",
              "      <td>0.00</td>\n",
              "      <td>0.27</td>\n",
              "      <td>nan</td>\n",
              "      <td>tbd</td>\n",
              "      <td>T</td>\n",
              "      <td>2.81</td>\n",
              "    </tr>\n",
              "    <tr>\n",
              "      <td>645</td>\n",
              "      <td>uDraw Studio</td>\n",
              "      <td>Wii</td>\n",
              "      <td>2010.00</td>\n",
              "      <td>Misc</td>\n",
              "      <td>1.65</td>\n",
              "      <td>0.57</td>\n",
              "      <td>0.00</td>\n",
              "      <td>0.20</td>\n",
              "      <td>71.00</td>\n",
              "      <td>tbd</td>\n",
              "      <td>E</td>\n",
              "      <td>2.42</td>\n",
              "    </tr>\n",
              "    <tr>\n",
              "      <td>657</td>\n",
              "      <td>Frogger's Adventures: Temple of the Frog</td>\n",
              "      <td>GBA</td>\n",
              "      <td>nan</td>\n",
              "      <td>Adventure</td>\n",
              "      <td>2.15</td>\n",
              "      <td>0.18</td>\n",
              "      <td>0.00</td>\n",
              "      <td>0.07</td>\n",
              "      <td>73.00</td>\n",
              "      <td>tbd</td>\n",
              "      <td>E</td>\n",
              "      <td>2.40</td>\n",
              "    </tr>\n",
              "    <tr>\n",
              "      <td>...</td>\n",
              "      <td>...</td>\n",
              "      <td>...</td>\n",
              "      <td>...</td>\n",
              "      <td>...</td>\n",
              "      <td>...</td>\n",
              "      <td>...</td>\n",
              "      <td>...</td>\n",
              "      <td>...</td>\n",
              "      <td>...</td>\n",
              "      <td>...</td>\n",
              "      <td>...</td>\n",
              "      <td>...</td>\n",
              "    </tr>\n",
              "    <tr>\n",
              "      <td>16695</td>\n",
              "      <td>Planet Monsters</td>\n",
              "      <td>GBA</td>\n",
              "      <td>2001.00</td>\n",
              "      <td>Action</td>\n",
              "      <td>0.01</td>\n",
              "      <td>0.00</td>\n",
              "      <td>0.00</td>\n",
              "      <td>0.00</td>\n",
              "      <td>67.00</td>\n",
              "      <td>tbd</td>\n",
              "      <td>E</td>\n",
              "      <td>0.01</td>\n",
              "    </tr>\n",
              "    <tr>\n",
              "      <td>16697</td>\n",
              "      <td>Bust-A-Move 3000</td>\n",
              "      <td>GC</td>\n",
              "      <td>2003.00</td>\n",
              "      <td>Puzzle</td>\n",
              "      <td>0.01</td>\n",
              "      <td>0.00</td>\n",
              "      <td>0.00</td>\n",
              "      <td>0.00</td>\n",
              "      <td>53.00</td>\n",
              "      <td>tbd</td>\n",
              "      <td>E</td>\n",
              "      <td>0.01</td>\n",
              "    </tr>\n",
              "    <tr>\n",
              "      <td>16698</td>\n",
              "      <td>Mega Brain Boost</td>\n",
              "      <td>DS</td>\n",
              "      <td>2008.00</td>\n",
              "      <td>Puzzle</td>\n",
              "      <td>0.01</td>\n",
              "      <td>0.00</td>\n",
              "      <td>0.00</td>\n",
              "      <td>0.00</td>\n",
              "      <td>48.00</td>\n",
              "      <td>tbd</td>\n",
              "      <td>E</td>\n",
              "      <td>0.01</td>\n",
              "    </tr>\n",
              "    <tr>\n",
              "      <td>16704</td>\n",
              "      <td>Plushees</td>\n",
              "      <td>DS</td>\n",
              "      <td>2008.00</td>\n",
              "      <td>Simulation</td>\n",
              "      <td>0.01</td>\n",
              "      <td>0.00</td>\n",
              "      <td>0.00</td>\n",
              "      <td>0.00</td>\n",
              "      <td>nan</td>\n",
              "      <td>tbd</td>\n",
              "      <td>E</td>\n",
              "      <td>0.01</td>\n",
              "    </tr>\n",
              "    <tr>\n",
              "      <td>16706</td>\n",
              "      <td>Men in Black II: Alien Escape</td>\n",
              "      <td>GC</td>\n",
              "      <td>2003.00</td>\n",
              "      <td>Shooter</td>\n",
              "      <td>0.01</td>\n",
              "      <td>0.00</td>\n",
              "      <td>0.00</td>\n",
              "      <td>0.00</td>\n",
              "      <td>nan</td>\n",
              "      <td>tbd</td>\n",
              "      <td>T</td>\n",
              "      <td>0.01</td>\n",
              "    </tr>\n",
              "  </tbody>\n",
              "</table>\n",
              "<p>2424 rows × 12 columns</p>\n",
              "</div>"
            ],
            "text/plain": [
              "                                           name platform  year_of_release  \\\n",
              "119                               Zumba Fitness      Wii          2010.00   \n",
              "301              Namco Museum: 50th Anniversary      PS2          2005.00   \n",
              "520                             Zumba Fitness 2      Wii          2011.00   \n",
              "645                                uDraw Studio      Wii          2010.00   \n",
              "657    Frogger's Adventures: Temple of the Frog      GBA              nan   \n",
              "...                                         ...      ...              ...   \n",
              "16695                           Planet Monsters      GBA          2001.00   \n",
              "16697                          Bust-A-Move 3000       GC          2003.00   \n",
              "16698                          Mega Brain Boost       DS          2008.00   \n",
              "16704                                  Plushees       DS          2008.00   \n",
              "16706             Men in Black II: Alien Escape       GC          2003.00   \n",
              "\n",
              "            genre  na_sales  eu_sales  jp_sales  other_sales  critic_score  \\\n",
              "119        Sports      3.45      2.59      0.00         0.66           nan   \n",
              "301          Misc      2.08      1.35      0.00         0.54         61.00   \n",
              "520        Sports      1.51      1.03      0.00         0.27           nan   \n",
              "645          Misc      1.65      0.57      0.00         0.20         71.00   \n",
              "657     Adventure      2.15      0.18      0.00         0.07         73.00   \n",
              "...           ...       ...       ...       ...          ...           ...   \n",
              "16695      Action      0.01      0.00      0.00         0.00         67.00   \n",
              "16697      Puzzle      0.01      0.00      0.00         0.00         53.00   \n",
              "16698      Puzzle      0.01      0.00      0.00         0.00         48.00   \n",
              "16704  Simulation      0.01      0.00      0.00         0.00           nan   \n",
              "16706     Shooter      0.01      0.00      0.00         0.00           nan   \n",
              "\n",
              "      user_score rating  total_sales  \n",
              "119          tbd      E         6.70  \n",
              "301          tbd   E10+         3.97  \n",
              "520          tbd      T         2.81  \n",
              "645          tbd      E         2.42  \n",
              "657          tbd      E         2.40  \n",
              "...          ...    ...          ...  \n",
              "16695        tbd      E         0.01  \n",
              "16697        tbd      E         0.01  \n",
              "16698        tbd      E         0.01  \n",
              "16704        tbd      E         0.01  \n",
              "16706        tbd      T         0.01  \n",
              "\n",
              "[2424 rows x 12 columns]"
            ]
          },
          "metadata": {
            "tags": []
          }
        }
      ]
    },
    {
      "cell_type": "code",
      "metadata": {
        "id": "ypWa-fYekVJA",
        "outputId": "6c312ebb-1e06-4c32-944b-b2e57ce2a62e"
      },
      "source": [
        "# Посчитаем пропуски\n",
        "df['user_score'].isna().sum()"
      ],
      "execution_count": null,
      "outputs": [
        {
          "output_type": "execute_result",
          "data": {
            "text/plain": [
              "9123"
            ]
          },
          "metadata": {
            "tags": []
          },
          "execution_count": 21
        }
      ]
    },
    {
      "cell_type": "markdown",
      "metadata": {
        "id": "nJDBxBZekVJA"
      },
      "source": [
        "- <font color='purple'>Чтобы не исказить данные, оставим пропуски в столбце отзывы пользователей без доработки</font>"
      ]
    },
    {
      "cell_type": "markdown",
      "metadata": {
        "id": "zJvT-24QkVJA"
      },
      "source": [
        "6. Предобработка `rating`"
      ]
    },
    {
      "cell_type": "code",
      "metadata": {
        "id": "enlb2iaOkVJA",
        "outputId": "4c87d8c9-0efc-4626-b589-8904f8ccccff"
      },
      "source": [
        "df['rating'].isna().sum()"
      ],
      "execution_count": null,
      "outputs": [
        {
          "output_type": "execute_result",
          "data": {
            "text/plain": [
              "6764"
            ]
          },
          "metadata": {
            "tags": []
          },
          "execution_count": 22
        }
      ]
    },
    {
      "cell_type": "code",
      "metadata": {
        "id": "ZUkCD8X2kVJB",
        "outputId": "ba6876de-4d3b-4a0d-887a-b26bf106b3f3"
      },
      "source": [
        "# обработаем предыдущим спопосбом и rating \n",
        "mapper = df.groupby(\"name\")['rating'].first().to_dict()\n",
        " \n",
        "def rating(row):\n",
        "    if pd.isna(row['rating']):\n",
        "        return mapper.get((row[\"name\"]))\n",
        "    return row['rating']\n",
        " \n",
        "df['rating'] = df.apply(rating, axis=1)\n",
        "df['rating'].isna().sum()\n",
        "# чуток подзаполнили, далее заполнить не можем."
      ],
      "execution_count": null,
      "outputs": [
        {
          "output_type": "execute_result",
          "data": {
            "text/plain": [
              "6327"
            ]
          },
          "metadata": {
            "tags": []
          },
          "execution_count": 23
        }
      ]
    },
    {
      "cell_type": "markdown",
      "metadata": {
        "id": "9leHU4_okVJB"
      },
      "source": [
        "<font color='purple'>Заменим пропуски на 'unknow' для отражения в статистике.</font>"
      ]
    },
    {
      "cell_type": "code",
      "metadata": {
        "id": "knMZGX-hkVJB"
      },
      "source": [
        "df['rating'] = df['rating'].fillna('unknow')"
      ],
      "execution_count": null,
      "outputs": []
    },
    {
      "cell_type": "code",
      "metadata": {
        "scrolled": true,
        "id": "tC8mscPOkVJC",
        "outputId": "93c865a4-b16a-4048-93ea-6b44899577c3"
      },
      "source": [
        "df['total_sales'].describe()\n",
        "# очень  большой разброс от 0 до 82,54 млн копий, \n",
        "# а среднее значение и медиана 0,53 и 0,17\n",
        "# Популярные игры выше 3 квартиля - т.е. продажи 0,5 млн копий или даже выше 1 млн"
      ],
      "execution_count": null,
      "outputs": [
        {
          "output_type": "execute_result",
          "data": {
            "text/plain": [
              "count   16713.00\n",
              "mean        0.53\n",
              "std         1.55\n",
              "min         0.00\n",
              "25%         0.06\n",
              "50%         0.17\n",
              "75%         0.47\n",
              "max        82.54\n",
              "Name: total_sales, dtype: float64"
            ]
          },
          "metadata": {
            "tags": []
          },
          "execution_count": 25
        }
      ]
    },
    {
      "cell_type": "markdown",
      "metadata": {
        "id": "b45VYpoykVJC"
      },
      "source": [
        "### Вывод\n",
        "- Провели предобработку для дальнейшего анализа;\n",
        "- По общим продажам видим какие разбросы в продажах игр, какие-то игры - хиты, а большинство - нет."
      ]
    },
    {
      "cell_type": "markdown",
      "metadata": {
        "id": "zArOkOC7kVJC"
      },
      "source": [
        "## Исследовательский анализ данных"
      ]
    },
    {
      "cell_type": "markdown",
      "metadata": {
        "id": "gF2xm-p-kVJC"
      },
      "source": [
        "- Построим зависимость кол-ва игр и продаж по годам"
      ]
    },
    {
      "cell_type": "code",
      "metadata": {
        "id": "w5Tg0MFfkVJD",
        "outputId": "d269a64f-4676-4c29-98c3-14dd3f42936d"
      },
      "source": [
        "df_count=df.groupby('year_of_release').agg({'name':['count']})\n",
        "df_sale=df.groupby('year_of_release').agg({'total_sales':['sum']})\n",
        "ax=df_count.plot(kind='line', label='game_count')\n",
        "df_sale.plot(kind='line', label='sum_sales', ax=ax, grid=True, legend=True, figsize=(16,9))\n",
        "plt.title('Определение актуального периода данных')\n",
        "plt.show()"
      ],
      "execution_count": null,
      "outputs": [
        {
          "output_type": "display_data",
          "data": {
            "image/png": "[encoded data removed]",
            "text/plain": [
              "<Figure size 1152x648 with 1 Axes>"
            ]
          },
          "metadata": {
            "tags": [],
            "needs_background": "light"
          }
        }
      ]
    },
    {
      "cell_type": "markdown",
      "metadata": {
        "id": "AZZLwU73kVJD"
      },
      "source": [
        "- Сам был заядлым геймером на PC, когда-то в 2002 начинал с Героев 3 и Казаков, в период с 2006 по 2011 вышло много замечательных игр, всех и не перечислишь особенно 2008-2010 года были богатыми на хиты (Devil May Cry 4, GTA 4, Assassin's Creed, Mass Effect и многое другое, \"я же не хотел перечислять\"...).\n",
        "- C 2012 мы видим отрицательную динамику, это связано с популярностью ММОРПГ таких как L2, WOW, WOT, LoL, Dota, а в последнее время все переходят на мобильный гейминг, и большинство компаний делают ставку именно на смартфоны.\n",
        "- По выборке видим, что важны данные с 2002, т.к. идет всплеск выпуска новых игр и динамика продаж увеличивается, по выборке с 2002 по 2016 мы сможем найти закономерности делающих игры успешными"
      ]
    },
    {
      "cell_type": "markdown",
      "metadata": {
        "id": "f-IYZje-kVJE"
      },
      "source": [
        "### Продажи по платформам"
      ]
    },
    {
      "cell_type": "code",
      "metadata": {
        "scrolled": false,
        "id": "7I3ECAm5kVJE",
        "outputId": "140d15a2-5ec5-4817-feb5-94442e46ffdb"
      },
      "source": [
        "# выберем ТОП-18 платформ (в них входит родной PC и относительно новые PS4 & XbOne)\n",
        "play_year = df.groupby('platform').agg({'total_sales':['sum']}).sort_values(by=('total_sales', 'sum'), ascending=False)\n",
        "play_year.plot(kind='bar', legend=False, figsize=(10,5))\n",
        "plt.ylabel('sum_sales')\n",
        "plt.title('Top-18 platform')\n",
        "plt.show()\n",
        "# посмотрим 18 платформ, и их жизненный цикл, на следующих шагах отберем современные\n",
        "our_18 = play_year.loc[:,['platform']].head(18)"
      ],
      "execution_count": null,
      "outputs": [
        {
          "output_type": "display_data",
          "data": {
            "image/png": "[encoded data removed]",
            "text/plain": [
              "<Figure size 720x360 with 1 Axes>"
            ]
          },
          "metadata": {
            "tags": [],
            "needs_background": "light"
          }
        }
      ]
    },
    {
      "cell_type": "markdown",
      "metadata": {
        "id": "AywYkc_zkVJF"
      },
      "source": [
        "- XB One еще имеет скудные продажи, в 2 раза, чем главный конкурент PS4.\n",
        "- На PC продажи идут скромнее, чем на приставках, скорее всего это связано с пиратством:)\n",
        "- Взяли 18, чтобы захватить XB One и сравнить все известные платформы"
      ]
    },
    {
      "cell_type": "markdown",
      "metadata": {
        "id": "sL92nxxskVJF"
      },
      "source": [
        "### ТОП платформ с наибольшими суммарными продажами"
      ]
    },
    {
      "cell_type": "code",
      "metadata": {
        "id": "JrE_KYkSkVJF",
        "outputId": "e0f5653a-5ae4-4d1b-b3a8-6d53eae797ac"
      },
      "source": [
        "top18_pl = df.query(\"platform in @our_18.index\")\n",
        "top18_pl['platform'].value_counts()"
      ],
      "execution_count": null,
      "outputs": [
        {
          "output_type": "execute_result",
          "data": {
            "text/plain": [
              "PS2     2161\n",
              "DS      2151\n",
              "PS3     1331\n",
              "Wii     1320\n",
              "X360    1262\n",
              "PSP     1209\n",
              "PS      1197\n",
              "PC       974\n",
              "XB       824\n",
              "GBA      822\n",
              "GC       556\n",
              "3DS      520\n",
              "PS4      392\n",
              "N64      319\n",
              "XOne     247\n",
              "SNES     239\n",
              "GB        98\n",
              "NES       98\n",
              "Name: platform, dtype: int64"
            ]
          },
          "metadata": {
            "tags": []
          },
          "execution_count": 28
        }
      ]
    },
    {
      "cell_type": "code",
      "metadata": {
        "id": "kK1G4yDZkVJF",
        "outputId": "c8d943c7-de5a-4153-9865-69ff3136b1f3"
      },
      "source": [
        "# Уберем все что меньше 2002 года\n",
        "top18_pl = top18_pl.query(\"year_of_release >= 2002\")\n",
        "top18_pl['platform'].value_counts()\n",
        "# PC and N64 - не рассматриваем"
      ],
      "execution_count": null,
      "outputs": [
        {
          "output_type": "execute_result",
          "data": {
            "text/plain": [
              "DS      2128\n",
              "PS2     1877\n",
              "PS3     1322\n",
              "Wii     1302\n",
              "X360    1254\n",
              "PSP     1203\n",
              "PC       909\n",
              "XB       781\n",
              "GBA      705\n",
              "GC       529\n",
              "3DS      514\n",
              "PS4      392\n",
              "XOne     247\n",
              "PS        23\n",
              "N64        2\n",
              "Name: platform, dtype: int64"
            ]
          },
          "metadata": {
            "tags": []
          },
          "execution_count": 29
        }
      ]
    },
    {
      "cell_type": "code",
      "metadata": {
        "scrolled": true,
        "id": "UQ0pJunUkVJG",
        "outputId": "77bb61d5-f249-4fbc-cdbd-e35b7db710b9"
      },
      "source": [
        "f, ax= plt.subplots(figsize=(10, 5))\n",
        "plt.title('Продажи по годам')\n",
        "sns.heatmap(top18_pl.pivot_table(index='year_of_release', columns = 'platform', values='total_sales', aggfunc = 'sum'), annot=True, fmt='.0f',linewidths=.5, ax=ax)"
      ],
      "execution_count": null,
      "outputs": [
        {
          "output_type": "execute_result",
          "data": {
            "text/plain": [
              "<matplotlib.axes._subplots.AxesSubplot at 0x7fa950221190>"
            ]
          },
          "metadata": {
            "tags": []
          },
          "execution_count": 31
        },
        {
          "output_type": "display_data",
          "data": {
            "image/png": "[encoded data removed]",
            "text/plain": [
              "<Figure size 720x360 with 2 Axes>"
            ]
          },
          "metadata": {
            "tags": [],
            "needs_background": "light"
          }
        }
      ]
    },
    {
      "cell_type": "markdown",
      "metadata": {
        "id": "1u7joD87kVJG"
      },
      "source": [
        "Актуальные платформ:\n",
        "- Nindendo 3DS - портативная платформа, ее обновленные версии покоряют 2020 год;\n",
        "- PC - бессмертный потенциальный приноситель прибыли, в нынешнее время от ММОРПГ игр, жизненный цикл - это постоянно обновляемое железо;\n",
        "- PS4, XB One - актуальные платформы, жизненный цикл начат в 2013 году, закончиться примерно в 2023 году, а в РФ наверно и до 2030 будут играть с таким курсом доллара.\n",
        "\n",
        "Самые прибыльные:\n",
        "- Х360, PS3, Wii что естественно ввиду постоянной конкурениции, но жизненный цикл уже окончен."
      ]
    },
    {
      "cell_type": "markdown",
      "metadata": {
        "id": "PmbJ27qpkVJG"
      },
      "source": [
        "### Жизненный цикл платформ"
      ]
    },
    {
      "cell_type": "markdown",
      "metadata": {
        "id": "I6C3Ng0ukVJG"
      },
      "source": [
        "- не будем отражать распределения следующих платформ, в связи с окончанием цикла и малых продаж: PS, N64, GBA, GC, XB"
      ]
    },
    {
      "cell_type": "code",
      "metadata": {
        "id": "IFZdl2zvkVJH"
      },
      "source": [
        "pv1=top18_pl.pivot_table(index='year_of_release', columns = 'platform', values='total_sales', aggfunc = 'sum')"
      ],
      "execution_count": null,
      "outputs": []
    },
    {
      "cell_type": "code",
      "metadata": {
        "scrolled": false,
        "id": "uhp319CTkVJH",
        "outputId": "6e9bb699-6d65-4126-efa7-908b67e38e6c"
      },
      "source": [
        "pv1.loc[:,['3DS']].plot(kind='line')\n",
        "plt.title('3DS')\n",
        "plt.show()\n",
        "pv1.loc[:,['PC']].plot(kind='line')\n",
        "plt.title('PC')\n",
        "plt.show()\n",
        "pv1.loc[:,['PS2']].plot(kind='line')\n",
        "plt.title('PS2')\n",
        "plt.show()\n",
        "pv1.loc[:,['PS3']].plot(kind='line')\n",
        "plt.title('PS3')\n",
        "plt.show()\n",
        "pv1.loc[:,['PS4']].plot(kind='line')\n",
        "plt.title('PS4')\n",
        "plt.show()\n",
        "pv1.loc[:,['PSP']].plot(kind='line')\n",
        "plt.title('PSP')\n",
        "plt.show()\n",
        "pv1.loc[:,['Wii']].plot(kind='line')\n",
        "plt.title('Wii')\n",
        "plt.show()\n",
        "pv1.loc[:,['X360']].plot(kind='line')\n",
        "plt.title('x360')\n",
        "plt.show()\n",
        "pv1.loc[:,['XOne']].plot(kind='line')\n",
        "plt.title('XOne')\n",
        "plt.show()"
      ],
      "execution_count": null,
      "outputs": [
        {
          "output_type": "display_data",
          "data": {
            "image/png": "[encoded data removed]",
            "text/plain": [
              "<Figure size 432x288 with 1 Axes>"
            ]
          },
          "metadata": {
            "tags": [],
            "needs_background": "light"
          }
        },
        {
          "output_type": "display_data",
          "data": {
            "image/png": "[encoded data removed]",
            "text/plain": [
              "<Figure size 432x288 with 1 Axes>"
            ]
          },
          "metadata": {
            "tags": [],
            "needs_background": "light"
          }
        },
        {
          "output_type": "display_data",
          "data": {
            "image/png": "[encoded data removed]",
            "text/plain": [
              "<Figure size 432x288 with 1 Axes>"
            ]
          },
          "metadata": {
            "tags": [],
            "needs_background": "light"
          }
        },
        {
          "output_type": "display_data",
          "data": {
            "image/png": "[encoded data removed]",
            "text/plain": [
              "<Figure size 432x288 with 1 Axes>"
            ]
          },
          "metadata": {
            "tags": [],
            "needs_background": "light"
          }
        },
        {
          "output_type": "display_data",
          "data": {
            "image/png": "[encoded data removed]",
            "text/plain": [
              "<Figure size 432x288 with 1 Axes>"
            ]
          },
          "metadata": {
            "tags": [],
            "needs_background": "light"
          }
        },
        {
          "output_type": "display_data",
          "data": {
            "image/png": "[encoded data removed]",
            "text/plain": [
              "<Figure size 432x288 with 1 Axes>"
            ]
          },
          "metadata": {
            "tags": [],
            "needs_background": "light"
          }
        },
        {
          "output_type": "display_data",
          "data": {
            "image/png": "[encoded data removed]",
            "text/plain": [
              "<Figure size 432x288 with 1 Axes>"
            ]
          },
          "metadata": {
            "tags": [],
            "needs_background": "light"
          }
        },
        {
          "output_type": "display_data",
          "data": {
            "image/png": "[encoded data removed]",
            "text/plain": [
              "<Figure size 432x288 with 1 Axes>"
            ]
          },
          "metadata": {
            "tags": [],
            "needs_background": "light"
          }
        },
        {
          "output_type": "display_data",
          "data": {
            "image/png": "[encoded data removed]",
            "text/plain": [
              "<Figure size 432x288 with 1 Axes>"
            ]
          },
          "metadata": {
            "tags": [],
            "needs_background": "light"
          }
        }
      ]
    },
    {
      "cell_type": "markdown",
      "metadata": {
        "id": "iHCy3PYvkVJH"
      },
      "source": [
        "### Вывод:\n",
        "- Просмотрели платформы, видим, что средний срок жизни платформы 10 лет;\n",
        "- Только PC живет долго, но не все игры на нем выходят, пик продаж в 2011 году, к 2016 году продажи снизились, во всем виноваты \"Танки и смартфоны, мощней, чем мой ноутбук:)\";\n",
        "- 3DS - начало в 2011 году, но продажи резко снижаются, с обновлением модели, вероятно, дела пошли лучше;\n",
        "- PS2 - жизненный цикл окончен, самая прибыльная платформа - эх, плоечка!;\n",
        "- PS3 - лидер продаж, жизненный цикл окончен (9-10 лет), пик был в середине, нормальное распределение;\n",
        "- PS4 - в начале жизн.цикла, прибыль ожидаем в будущих периодах, примерно до 2023;\n",
        "- Wii - жиз.цикл окончен, одна из прибыльных платформ, давала лучшие результаты, чем PS3 в течении 4 лет жизни, но потом резко сдала, скорее всего не выдержала конкуренцию Xb360 и PS3 - цикл окончен на 8 годах;\n",
        "- X360 - цикл 11 лет, лидер продаж, нормальное распределение;\n",
        "- XOne - в начале жизнен. цикла, как и PS4."
      ]
    },
    {
      "cell_type": "markdown",
      "metadata": {
        "id": "AjQlUZCQkVJI"
      },
      "source": [
        "### Опеделение актуального периода для прогноза на 2017 год и потенциально прибыльных платформ**"
      ]
    },
    {
      "cell_type": "markdown",
      "metadata": {
        "id": "6Gz5sLEtkVJI"
      },
      "source": [
        "- <font color='purple'>Возьмем актуальный период с 2014 года, исходя из жизненного цикла платформы, и жизненного цикла игр. PS4, XOne, имеют достаточную выборку для решения задачи, а влияние X360 and PS3 спадает.</font>"
      ]
    },
    {
      "cell_type": "code",
      "metadata": {
        "id": "AHRsUZgrkVJJ",
        "outputId": "4c4ce9fb-52de-47c7-d752-56cab1b6460f"
      },
      "source": [
        "# Уберем данные ниже 2014 года, выделим Топ-5\n",
        "df_1 = top18_pl.query(\"year_of_release >= 2014\")\n",
        "pv2 = df_1.groupby('platform').agg({'total_sales':['sum']}).sort_values(by=('total_sales', 'sum'), ascending=False)\n",
        "pv2.head(5) # Top 5"
      ],
      "execution_count": null,
      "outputs": [
        {
          "output_type": "execute_result",
          "data": {
            "text/html": [
              "<div>\n",
              "<style scoped>\n",
              "    .dataframe tbody tr th:only-of-type {\n",
              "        vertical-align: middle;\n",
              "    }\n",
              "\n",
              "    .dataframe tbody tr th {\n",
              "        vertical-align: top;\n",
              "    }\n",
              "\n",
              "    .dataframe thead tr th {\n",
              "        text-align: left;\n",
              "    }\n",
              "\n",
              "    .dataframe thead tr:last-of-type th {\n",
              "        text-align: right;\n",
              "    }\n",
              "</style>\n",
              "<table border=\"1\" class=\"dataframe\">\n",
              "  <thead>\n",
              "    <tr>\n",
              "      <th></th>\n",
              "      <th>total_sales</th>\n",
              "    </tr>\n",
              "    <tr>\n",
              "      <th></th>\n",
              "      <th>sum</th>\n",
              "    </tr>\n",
              "    <tr>\n",
              "      <th>platform</th>\n",
              "      <th></th>\n",
              "    </tr>\n",
              "  </thead>\n",
              "  <tbody>\n",
              "    <tr>\n",
              "      <td>PS4</td>\n",
              "      <td>288.15</td>\n",
              "    </tr>\n",
              "    <tr>\n",
              "      <td>XOne</td>\n",
              "      <td>140.36</td>\n",
              "    </tr>\n",
              "    <tr>\n",
              "      <td>3DS</td>\n",
              "      <td>86.68</td>\n",
              "    </tr>\n",
              "    <tr>\n",
              "      <td>PS3</td>\n",
              "      <td>68.18</td>\n",
              "    </tr>\n",
              "    <tr>\n",
              "      <td>X360</td>\n",
              "      <td>48.22</td>\n",
              "    </tr>\n",
              "  </tbody>\n",
              "</table>\n",
              "</div>"
            ],
            "text/plain": [
              "         total_sales\n",
              "                 sum\n",
              "platform            \n",
              "PS4           288.15\n",
              "XOne          140.36\n",
              "3DS            86.68\n",
              "PS3            68.18\n",
              "X360           48.22"
            ]
          },
          "metadata": {
            "tags": []
          },
          "execution_count": 34
        }
      ]
    },
    {
      "cell_type": "code",
      "metadata": {
        "id": "aPUzUIlJkVJJ"
      },
      "source": [
        "top_5 = pv2.loc[:,['platform']].head(5)\n",
        "top_pl = df_1.query(\"platform in @top_5.index\")"
      ],
      "execution_count": null,
      "outputs": []
    },
    {
      "cell_type": "markdown",
      "metadata": {
        "id": "u516XcGekVJJ"
      },
      "source": [
        "- <font color='purple'>Потенциально прибыльные PS4, XOne, 3DS. PC не является прибыльным для Singl Player, все ушли в \"танки играть\"..., но зато стабильно идут продажи у компьютера - у него нет жизненного цикла - PC Forever!<font>"
      ]
    },
    {
      "cell_type": "code",
      "metadata": {
        "id": "pEqSBasfkVJJ",
        "outputId": "a78765cd-bc05-4157-a771-066638bcac32"
      },
      "source": [
        "# Построим ящик с усами\n",
        "import warnings\n",
        "warnings.filterwarnings('ignore')\n",
        "boxplot = top_pl.loc[:,['platform', 'total_sales']] \n",
        "boxplot.boxplot(by='platform')\n",
        "plt.ylim(0,5)\n",
        "plt.title('Разброс продаж')\n",
        "plt.show()"
      ],
      "execution_count": null,
      "outputs": [
        {
          "output_type": "display_data",
          "data": {
            "image/png": "[encoded data removed]",
            "text/plain": [
              "<Figure size 432x288 with 1 Axes>"
            ]
          },
          "metadata": {
            "tags": [],
            "needs_background": "light"
          }
        }
      ]
    },
    {
      "cell_type": "markdown",
      "metadata": {
        "id": "GehzuSRfkVJK"
      },
      "source": [
        "### Вывод\n",
        "- Игр выходит много, среднее и медиана продаж около 0, 75% игр - до 1 млн копий, а вот популярных и хитовых меньше, они и приносят основную прибыль.\n",
        "- Из них и нужно выбирать, что продавать на следующий год, а также учесть жизненный цикл платформы, если платформе 3-4 года, то следующие года будут потенциально прибыльными. "
      ]
    },
    {
      "cell_type": "markdown",
      "metadata": {
        "id": "HeQynvhekVJK"
      },
      "source": [
        "- <font color='purple'>Для анализа выбора игр необходимо выбирать из игры с продажей больше 1.5 млн копий и на актуальных платформах, они являются выбросами из общего распределения.<font>"
      ]
    },
    {
      "cell_type": "code",
      "metadata": {
        "id": "KMwG7U9ekVJK",
        "outputId": "0f08b6fb-1b17-44a5-d799-167e88a488d5"
      },
      "source": [
        "choice_game=top_pl.query('total_sales >= 1.5')\n",
        "choice_game.head(10)\n",
        "# из этого списка и из актуальных платформ нужно выбирать игры."
      ],
      "execution_count": null,
      "outputs": [
        {
          "output_type": "execute_result",
          "data": {
            "text/html": [
              "<div>\n",
              "<style scoped>\n",
              "    .dataframe tbody tr th:only-of-type {\n",
              "        vertical-align: middle;\n",
              "    }\n",
              "\n",
              "    .dataframe tbody tr th {\n",
              "        vertical-align: top;\n",
              "    }\n",
              "\n",
              "    .dataframe thead th {\n",
              "        text-align: right;\n",
              "    }\n",
              "</style>\n",
              "<table border=\"1\" class=\"dataframe\">\n",
              "  <thead>\n",
              "    <tr style=\"text-align: right;\">\n",
              "      <th></th>\n",
              "      <th>name</th>\n",
              "      <th>platform</th>\n",
              "      <th>year_of_release</th>\n",
              "      <th>genre</th>\n",
              "      <th>na_sales</th>\n",
              "      <th>eu_sales</th>\n",
              "      <th>jp_sales</th>\n",
              "      <th>other_sales</th>\n",
              "      <th>critic_score</th>\n",
              "      <th>user_score</th>\n",
              "      <th>rating</th>\n",
              "      <th>total_sales</th>\n",
              "    </tr>\n",
              "  </thead>\n",
              "  <tbody>\n",
              "    <tr>\n",
              "      <td>31</td>\n",
              "      <td>Call of Duty: Black Ops 3</td>\n",
              "      <td>PS4</td>\n",
              "      <td>2015.00</td>\n",
              "      <td>Shooter</td>\n",
              "      <td>6.03</td>\n",
              "      <td>5.86</td>\n",
              "      <td>0.36</td>\n",
              "      <td>2.38</td>\n",
              "      <td>nan</td>\n",
              "      <td>nan</td>\n",
              "      <td>unknow</td>\n",
              "      <td>14.63</td>\n",
              "    </tr>\n",
              "    <tr>\n",
              "      <td>42</td>\n",
              "      <td>Grand Theft Auto V</td>\n",
              "      <td>PS4</td>\n",
              "      <td>2014.00</td>\n",
              "      <td>Action</td>\n",
              "      <td>3.96</td>\n",
              "      <td>6.31</td>\n",
              "      <td>0.38</td>\n",
              "      <td>1.97</td>\n",
              "      <td>97.00</td>\n",
              "      <td>8.30</td>\n",
              "      <td>M</td>\n",
              "      <td>12.62</td>\n",
              "    </tr>\n",
              "    <tr>\n",
              "      <td>47</td>\n",
              "      <td>Pokemon Omega Ruby/Pokemon Alpha Sapphire</td>\n",
              "      <td>3DS</td>\n",
              "      <td>2014.00</td>\n",
              "      <td>Role-Playing</td>\n",
              "      <td>4.35</td>\n",
              "      <td>3.49</td>\n",
              "      <td>3.10</td>\n",
              "      <td>0.74</td>\n",
              "      <td>nan</td>\n",
              "      <td>nan</td>\n",
              "      <td>unknow</td>\n",
              "      <td>11.68</td>\n",
              "    </tr>\n",
              "    <tr>\n",
              "      <td>77</td>\n",
              "      <td>FIFA 16</td>\n",
              "      <td>PS4</td>\n",
              "      <td>2015.00</td>\n",
              "      <td>Sports</td>\n",
              "      <td>1.12</td>\n",
              "      <td>6.12</td>\n",
              "      <td>0.06</td>\n",
              "      <td>1.28</td>\n",
              "      <td>82.00</td>\n",
              "      <td>4.30</td>\n",
              "      <td>E</td>\n",
              "      <td>8.58</td>\n",
              "    </tr>\n",
              "    <tr>\n",
              "      <td>87</td>\n",
              "      <td>Star Wars Battlefront (2015)</td>\n",
              "      <td>PS4</td>\n",
              "      <td>2015.00</td>\n",
              "      <td>Shooter</td>\n",
              "      <td>2.99</td>\n",
              "      <td>3.49</td>\n",
              "      <td>0.22</td>\n",
              "      <td>1.28</td>\n",
              "      <td>nan</td>\n",
              "      <td>nan</td>\n",
              "      <td>unknow</td>\n",
              "      <td>7.98</td>\n",
              "    </tr>\n",
              "    <tr>\n",
              "      <td>92</td>\n",
              "      <td>Call of Duty: Advanced Warfare</td>\n",
              "      <td>PS4</td>\n",
              "      <td>2014.00</td>\n",
              "      <td>Shooter</td>\n",
              "      <td>2.81</td>\n",
              "      <td>3.48</td>\n",
              "      <td>0.14</td>\n",
              "      <td>1.23</td>\n",
              "      <td>83.00</td>\n",
              "      <td>5.70</td>\n",
              "      <td>M</td>\n",
              "      <td>7.66</td>\n",
              "    </tr>\n",
              "    <tr>\n",
              "      <td>94</td>\n",
              "      <td>FIFA 17</td>\n",
              "      <td>PS4</td>\n",
              "      <td>2016.00</td>\n",
              "      <td>Sports</td>\n",
              "      <td>0.66</td>\n",
              "      <td>5.75</td>\n",
              "      <td>0.08</td>\n",
              "      <td>1.11</td>\n",
              "      <td>85.00</td>\n",
              "      <td>5.00</td>\n",
              "      <td>E</td>\n",
              "      <td>7.60</td>\n",
              "    </tr>\n",
              "    <tr>\n",
              "      <td>96</td>\n",
              "      <td>Super Smash Bros. for Wii U and 3DS</td>\n",
              "      <td>3DS</td>\n",
              "      <td>2014.00</td>\n",
              "      <td>Fighting</td>\n",
              "      <td>3.27</td>\n",
              "      <td>1.37</td>\n",
              "      <td>2.43</td>\n",
              "      <td>0.48</td>\n",
              "      <td>nan</td>\n",
              "      <td>nan</td>\n",
              "      <td>unknow</td>\n",
              "      <td>7.55</td>\n",
              "    </tr>\n",
              "    <tr>\n",
              "      <td>99</td>\n",
              "      <td>Call of Duty: Black Ops 3</td>\n",
              "      <td>XOne</td>\n",
              "      <td>2015.00</td>\n",
              "      <td>Shooter</td>\n",
              "      <td>4.59</td>\n",
              "      <td>2.11</td>\n",
              "      <td>0.01</td>\n",
              "      <td>0.68</td>\n",
              "      <td>nan</td>\n",
              "      <td>nan</td>\n",
              "      <td>unknow</td>\n",
              "      <td>7.39</td>\n",
              "    </tr>\n",
              "    <tr>\n",
              "      <td>105</td>\n",
              "      <td>Fallout 4</td>\n",
              "      <td>PS4</td>\n",
              "      <td>2015.00</td>\n",
              "      <td>Role-Playing</td>\n",
              "      <td>2.53</td>\n",
              "      <td>3.27</td>\n",
              "      <td>0.24</td>\n",
              "      <td>1.13</td>\n",
              "      <td>87.00</td>\n",
              "      <td>6.50</td>\n",
              "      <td>M</td>\n",
              "      <td>7.17</td>\n",
              "    </tr>\n",
              "  </tbody>\n",
              "</table>\n",
              "</div>"
            ],
            "text/plain": [
              "                                          name platform  year_of_release  \\\n",
              "31                   Call of Duty: Black Ops 3      PS4          2015.00   \n",
              "42                          Grand Theft Auto V      PS4          2014.00   \n",
              "47   Pokemon Omega Ruby/Pokemon Alpha Sapphire      3DS          2014.00   \n",
              "77                                     FIFA 16      PS4          2015.00   \n",
              "87                Star Wars Battlefront (2015)      PS4          2015.00   \n",
              "92              Call of Duty: Advanced Warfare      PS4          2014.00   \n",
              "94                                     FIFA 17      PS4          2016.00   \n",
              "96         Super Smash Bros. for Wii U and 3DS      3DS          2014.00   \n",
              "99                   Call of Duty: Black Ops 3     XOne          2015.00   \n",
              "105                                  Fallout 4      PS4          2015.00   \n",
              "\n",
              "            genre  na_sales  eu_sales  jp_sales  other_sales  critic_score  \\\n",
              "31        Shooter      6.03      5.86      0.36         2.38           nan   \n",
              "42         Action      3.96      6.31      0.38         1.97         97.00   \n",
              "47   Role-Playing      4.35      3.49      3.10         0.74           nan   \n",
              "77         Sports      1.12      6.12      0.06         1.28         82.00   \n",
              "87        Shooter      2.99      3.49      0.22         1.28           nan   \n",
              "92        Shooter      2.81      3.48      0.14         1.23         83.00   \n",
              "94         Sports      0.66      5.75      0.08         1.11         85.00   \n",
              "96       Fighting      3.27      1.37      2.43         0.48           nan   \n",
              "99        Shooter      4.59      2.11      0.01         0.68           nan   \n",
              "105  Role-Playing      2.53      3.27      0.24         1.13         87.00   \n",
              "\n",
              "     user_score  rating  total_sales  \n",
              "31          nan  unknow        14.63  \n",
              "42         8.30       M        12.62  \n",
              "47          nan  unknow        11.68  \n",
              "77         4.30       E         8.58  \n",
              "87          nan  unknow         7.98  \n",
              "92         5.70       M         7.66  \n",
              "94         5.00       E         7.60  \n",
              "96          nan  unknow         7.55  \n",
              "99          nan  unknow         7.39  \n",
              "105        6.50       M         7.17  "
            ]
          },
          "metadata": {
            "tags": []
          },
          "execution_count": 37
        }
      ]
    },
    {
      "cell_type": "code",
      "metadata": {
        "scrolled": true,
        "id": "xImZZgaKkVJK",
        "outputId": "9132467b-9b3c-40d7-e355-1c89fd13368c"
      },
      "source": [
        "choice_game.boxplot(column='total_sales',by='platform')"
      ],
      "execution_count": null,
      "outputs": [
        {
          "output_type": "execute_result",
          "data": {
            "text/plain": [
              "<matplotlib.axes._subplots.AxesSubplot at 0x7f480f1fc090>"
            ]
          },
          "metadata": {
            "tags": []
          },
          "execution_count": 38
        },
        {
          "output_type": "display_data",
          "data": {
            "image/png": "[encoded data removed]",
            "text/plain": [
              "<Figure size 432x288 with 1 Axes>"
            ]
          },
          "metadata": {
            "tags": [],
            "needs_background": "light"
          }
        }
      ]
    },
    {
      "cell_type": "markdown",
      "metadata": {
        "id": "UN6phU_LkVJL"
      },
      "source": [
        "### Влияние отзывов на продажи внутри платформы"
      ]
    },
    {
      "cell_type": "markdown",
      "metadata": {
        "id": "nYlYc4CSkVJL"
      },
      "source": [
        "- <font color='purple'>Подготовим данные для определения взаимосвязи.<font>"
      ]
    },
    {
      "cell_type": "code",
      "metadata": {
        "id": "TFXDRlmYkVJL"
      },
      "source": [
        "x1=top_pl.query(\"platform == 'XOne'\")\n",
        "x1=x1.loc[:,['critic_score', 'user_score', 'total_sales']]\n",
        "ps4=top_pl.query(\"platform == 'PS4'\")\n",
        "ps4=ps4.loc[:,['critic_score', 'user_score', 'total_sales']]\n",
        "N3ds=top_pl.query(\"platform == '3DS'\")\n",
        "N3ds=N3ds.loc[:,['critic_score', 'user_score', 'total_sales']]"
      ],
      "execution_count": null,
      "outputs": []
    },
    {
      "cell_type": "code",
      "metadata": {
        "id": "NHB5utEDkVJL",
        "outputId": "654d631a-defc-48ab-c235-6828cc01f265"
      },
      "source": [
        "# Проверим корреляцию\n",
        "scatter = [x1, ps4, N3ds]\n",
        "for i in scatter:\n",
        "    pd.plotting.scatter_matrix(i, figsize=(16, 9), alpha=1)\n",
        "    plt.show()"
      ],
      "execution_count": null,
      "outputs": [
        {
          "output_type": "display_data",
          "data": {
            "image/png": "[encoded data removed]",
            "text/plain": [
              "<Figure size 1152x648 with 9 Axes>"
            ]
          },
          "metadata": {
            "tags": [],
            "needs_background": "light"
          }
        },
        {
          "output_type": "display_data",
          "data": {
            "image/png": "[encoded data removed]",
            "text/plain": [
              "<Figure size 1152x648 with 9 Axes>"
            ]
          },
          "metadata": {
            "tags": [],
            "needs_background": "light"
          }
        },
        {
          "output_type": "display_data",
          "data": {
            "image/png": "[encoded data removed]",
            "text/plain": [
              "<Figure size 1152x648 with 9 Axes>"
            ]
          },
          "metadata": {
            "tags": [],
            "needs_background": "light"
          }
        }
      ]
    },
    {
      "cell_type": "code",
      "metadata": {
        "id": "nlil0i9_kVJM",
        "outputId": "b37dbbca-9204-48a0-b6f4-6af1b322222a"
      },
      "source": [
        "for i in scatter:\n",
        "    display(i.corr())"
      ],
      "execution_count": null,
      "outputs": [
        {
          "output_type": "display_data",
          "data": {
            "text/html": [
              "<div>\n",
              "<style scoped>\n",
              "    .dataframe tbody tr th:only-of-type {\n",
              "        vertical-align: middle;\n",
              "    }\n",
              "\n",
              "    .dataframe tbody tr th {\n",
              "        vertical-align: top;\n",
              "    }\n",
              "\n",
              "    .dataframe thead th {\n",
              "        text-align: right;\n",
              "    }\n",
              "</style>\n",
              "<table border=\"1\" class=\"dataframe\">\n",
              "  <thead>\n",
              "    <tr style=\"text-align: right;\">\n",
              "      <th></th>\n",
              "      <th>critic_score</th>\n",
              "      <th>user_score</th>\n",
              "      <th>total_sales</th>\n",
              "    </tr>\n",
              "  </thead>\n",
              "  <tbody>\n",
              "    <tr>\n",
              "      <td>critic_score</td>\n",
              "      <td>1.00</td>\n",
              "      <td>0.44</td>\n",
              "      <td>0.43</td>\n",
              "    </tr>\n",
              "    <tr>\n",
              "      <td>user_score</td>\n",
              "      <td>0.44</td>\n",
              "      <td>1.00</td>\n",
              "      <td>-0.07</td>\n",
              "    </tr>\n",
              "    <tr>\n",
              "      <td>total_sales</td>\n",
              "      <td>0.43</td>\n",
              "      <td>-0.07</td>\n",
              "      <td>1.00</td>\n",
              "    </tr>\n",
              "  </tbody>\n",
              "</table>\n",
              "</div>"
            ],
            "text/plain": [
              "              critic_score  user_score  total_sales\n",
              "critic_score          1.00        0.44         0.43\n",
              "user_score            0.44        1.00        -0.07\n",
              "total_sales           0.43       -0.07         1.00"
            ]
          },
          "metadata": {
            "tags": []
          }
        },
        {
          "output_type": "display_data",
          "data": {
            "text/html": [
              "<div>\n",
              "<style scoped>\n",
              "    .dataframe tbody tr th:only-of-type {\n",
              "        vertical-align: middle;\n",
              "    }\n",
              "\n",
              "    .dataframe tbody tr th {\n",
              "        vertical-align: top;\n",
              "    }\n",
              "\n",
              "    .dataframe thead th {\n",
              "        text-align: right;\n",
              "    }\n",
              "</style>\n",
              "<table border=\"1\" class=\"dataframe\">\n",
              "  <thead>\n",
              "    <tr style=\"text-align: right;\">\n",
              "      <th></th>\n",
              "      <th>critic_score</th>\n",
              "      <th>user_score</th>\n",
              "      <th>total_sales</th>\n",
              "    </tr>\n",
              "  </thead>\n",
              "  <tbody>\n",
              "    <tr>\n",
              "      <td>critic_score</td>\n",
              "      <td>1.00</td>\n",
              "      <td>0.55</td>\n",
              "      <td>0.40</td>\n",
              "    </tr>\n",
              "    <tr>\n",
              "      <td>user_score</td>\n",
              "      <td>0.55</td>\n",
              "      <td>1.00</td>\n",
              "      <td>-0.04</td>\n",
              "    </tr>\n",
              "    <tr>\n",
              "      <td>total_sales</td>\n",
              "      <td>0.40</td>\n",
              "      <td>-0.04</td>\n",
              "      <td>1.00</td>\n",
              "    </tr>\n",
              "  </tbody>\n",
              "</table>\n",
              "</div>"
            ],
            "text/plain": [
              "              critic_score  user_score  total_sales\n",
              "critic_score          1.00        0.55         0.40\n",
              "user_score            0.55        1.00        -0.04\n",
              "total_sales           0.40       -0.04         1.00"
            ]
          },
          "metadata": {
            "tags": []
          }
        },
        {
          "output_type": "display_data",
          "data": {
            "text/html": [
              "<div>\n",
              "<style scoped>\n",
              "    .dataframe tbody tr th:only-of-type {\n",
              "        vertical-align: middle;\n",
              "    }\n",
              "\n",
              "    .dataframe tbody tr th {\n",
              "        vertical-align: top;\n",
              "    }\n",
              "\n",
              "    .dataframe thead th {\n",
              "        text-align: right;\n",
              "    }\n",
              "</style>\n",
              "<table border=\"1\" class=\"dataframe\">\n",
              "  <thead>\n",
              "    <tr style=\"text-align: right;\">\n",
              "      <th></th>\n",
              "      <th>critic_score</th>\n",
              "      <th>user_score</th>\n",
              "      <th>total_sales</th>\n",
              "    </tr>\n",
              "  </thead>\n",
              "  <tbody>\n",
              "    <tr>\n",
              "      <td>critic_score</td>\n",
              "      <td>1.00</td>\n",
              "      <td>0.86</td>\n",
              "      <td>0.31</td>\n",
              "    </tr>\n",
              "    <tr>\n",
              "      <td>user_score</td>\n",
              "      <td>0.86</td>\n",
              "      <td>1.00</td>\n",
              "      <td>0.22</td>\n",
              "    </tr>\n",
              "    <tr>\n",
              "      <td>total_sales</td>\n",
              "      <td>0.31</td>\n",
              "      <td>0.22</td>\n",
              "      <td>1.00</td>\n",
              "    </tr>\n",
              "  </tbody>\n",
              "</table>\n",
              "</div>"
            ],
            "text/plain": [
              "              critic_score  user_score  total_sales\n",
              "critic_score          1.00        0.86         0.31\n",
              "user_score            0.86        1.00         0.22\n",
              "total_sales           0.31        0.22         1.00"
            ]
          },
          "metadata": {
            "tags": []
          }
        }
      ]
    },
    {
      "cell_type": "markdown",
      "metadata": {
        "id": "XLlQpv6PkVJM"
      },
      "source": [
        "**Вывод**\n",
        "- Есть прямая взаимосвязь между отзывами критиков и пользователей;\n",
        "- Взаимосвязь между отзывами и продажами низкая, т.к. основная выборка имеет продажи меньше 1 млн. копий, много игр имеет небольшое кол-во продаж, но высокие оценки;\n",
        "- Но практически все игры, имеющие высокие продажи, имеют высокие оценки критиков;\n",
        "- На других платформах взаимосвязь примерно такая же, на Nindendo ниже."
      ]
    },
    {
      "cell_type": "markdown",
      "metadata": {
        "id": "cZBXvG8tkVJM"
      },
      "source": [
        "### Распределение жанров по продажам"
      ]
    },
    {
      "cell_type": "code",
      "metadata": {
        "id": "zraz-eWrkVJN",
        "outputId": "5371ad0b-50d7-448b-e776-678079c8e703"
      },
      "source": [
        "top_pl.groupby('genre').agg({'total_sales':['sum','mean']}).sort_values(by=('total_sales','mean'), ascending=False)"
      ],
      "execution_count": null,
      "outputs": [
        {
          "output_type": "execute_result",
          "data": {
            "text/html": [
              "<div>\n",
              "<style scoped>\n",
              "    .dataframe tbody tr th:only-of-type {\n",
              "        vertical-align: middle;\n",
              "    }\n",
              "\n",
              "    .dataframe tbody tr th {\n",
              "        vertical-align: top;\n",
              "    }\n",
              "\n",
              "    .dataframe thead tr th {\n",
              "        text-align: left;\n",
              "    }\n",
              "\n",
              "    .dataframe thead tr:last-of-type th {\n",
              "        text-align: right;\n",
              "    }\n",
              "</style>\n",
              "<table border=\"1\" class=\"dataframe\">\n",
              "  <thead>\n",
              "    <tr>\n",
              "      <th></th>\n",
              "      <th colspan=\"2\" halign=\"left\">total_sales</th>\n",
              "    </tr>\n",
              "    <tr>\n",
              "      <th></th>\n",
              "      <th>sum</th>\n",
              "      <th>mean</th>\n",
              "    </tr>\n",
              "    <tr>\n",
              "      <th>genre</th>\n",
              "      <th></th>\n",
              "      <th></th>\n",
              "    </tr>\n",
              "  </thead>\n",
              "  <tbody>\n",
              "    <tr>\n",
              "      <td>Shooter</td>\n",
              "      <td>159.68</td>\n",
              "      <td>1.55</td>\n",
              "    </tr>\n",
              "    <tr>\n",
              "      <td>Sports</td>\n",
              "      <td>105.88</td>\n",
              "      <td>0.78</td>\n",
              "    </tr>\n",
              "    <tr>\n",
              "      <td>Role-Playing</td>\n",
              "      <td>88.95</td>\n",
              "      <td>0.64</td>\n",
              "    </tr>\n",
              "    <tr>\n",
              "      <td>Fighting</td>\n",
              "      <td>21.55</td>\n",
              "      <td>0.44</td>\n",
              "    </tr>\n",
              "    <tr>\n",
              "      <td>Platform</td>\n",
              "      <td>10.97</td>\n",
              "      <td>0.42</td>\n",
              "    </tr>\n",
              "    <tr>\n",
              "      <td>Action</td>\n",
              "      <td>175.17</td>\n",
              "      <td>0.42</td>\n",
              "    </tr>\n",
              "    <tr>\n",
              "      <td>Racing</td>\n",
              "      <td>19.69</td>\n",
              "      <td>0.38</td>\n",
              "    </tr>\n",
              "    <tr>\n",
              "      <td>Misc</td>\n",
              "      <td>26.32</td>\n",
              "      <td>0.35</td>\n",
              "    </tr>\n",
              "    <tr>\n",
              "      <td>Simulation</td>\n",
              "      <td>6.49</td>\n",
              "      <td>0.28</td>\n",
              "    </tr>\n",
              "    <tr>\n",
              "      <td>Adventure</td>\n",
              "      <td>14.47</td>\n",
              "      <td>0.15</td>\n",
              "    </tr>\n",
              "    <tr>\n",
              "      <td>Puzzle</td>\n",
              "      <td>0.93</td>\n",
              "      <td>0.10</td>\n",
              "    </tr>\n",
              "    <tr>\n",
              "      <td>Strategy</td>\n",
              "      <td>1.49</td>\n",
              "      <td>0.09</td>\n",
              "    </tr>\n",
              "  </tbody>\n",
              "</table>\n",
              "</div>"
            ],
            "text/plain": [
              "             total_sales     \n",
              "                     sum mean\n",
              "genre                        \n",
              "Shooter           159.68 1.55\n",
              "Sports            105.88 0.78\n",
              "Role-Playing       88.95 0.64\n",
              "Fighting           21.55 0.44\n",
              "Platform           10.97 0.42\n",
              "Action            175.17 0.42\n",
              "Racing             19.69 0.38\n",
              "Misc               26.32 0.35\n",
              "Simulation          6.49 0.28\n",
              "Adventure          14.47 0.15\n",
              "Puzzle              0.93 0.10\n",
              "Strategy            1.49 0.09"
            ]
          },
          "metadata": {
            "tags": []
          },
          "execution_count": 42
        }
      ]
    },
    {
      "cell_type": "markdown",
      "metadata": {
        "id": "2emyl4t5kVJN"
      },
      "source": [
        "**Выводы**\n",
        "- Акшены и шутеры в первых рядах, спорт (наверняка PES, FIFA, NHL), а вот стратегии на самом последнем месте (незаслужено, я фанат Героев 3 и СтарКрафта2), RPG один из популярных жанров в РФ только на 5 месте в Мире.\n",
        "- <font color='purple'>Средний чек по играм распределил фаворитов по другим местам: шутер и спорт переместились на ступеньку повыше, экшен упал на 6 место, стратегии, к сожалению, не поднялись выше.</font>"
      ]
    },
    {
      "cell_type": "markdown",
      "metadata": {
        "id": "7WgMVbagkVJO"
      },
      "source": [
        "## Портрет пользователя каждого региона\n",
        "1. Определим для пользователя каждого региона (NA, EU, JP):\n",
        "    - Самые популярные платформы (топ-5);\n",
        "    - Самые популярные жанры (топ-5);"
      ]
    },
    {
      "cell_type": "code",
      "metadata": {
        "scrolled": true,
        "id": "dAJihaXUkVJO",
        "outputId": "94a9f100-adcf-4474-ee13-c2bf3ef58376"
      },
      "source": [
        "na_s=top_pl.pivot_table(index='platform', values = 'na_sales', aggfunc = 'sum').sort_values(by=('na_sales'), ascending=False).head()\n",
        "display(na_s / na_s.sum())"
      ],
      "execution_count": null,
      "outputs": [
        {
          "output_type": "display_data",
          "data": {
            "text/html": [
              "<div>\n",
              "<style scoped>\n",
              "    .dataframe tbody tr th:only-of-type {\n",
              "        vertical-align: middle;\n",
              "    }\n",
              "\n",
              "    .dataframe tbody tr th {\n",
              "        vertical-align: top;\n",
              "    }\n",
              "\n",
              "    .dataframe thead th {\n",
              "        text-align: right;\n",
              "    }\n",
              "</style>\n",
              "<table border=\"1\" class=\"dataframe\">\n",
              "  <thead>\n",
              "    <tr style=\"text-align: right;\">\n",
              "      <th></th>\n",
              "      <th>na_sales</th>\n",
              "    </tr>\n",
              "    <tr>\n",
              "      <th>platform</th>\n",
              "      <th></th>\n",
              "    </tr>\n",
              "  </thead>\n",
              "  <tbody>\n",
              "    <tr>\n",
              "      <td>PS4</td>\n",
              "      <td>0.39</td>\n",
              "    </tr>\n",
              "    <tr>\n",
              "      <td>XOne</td>\n",
              "      <td>0.32</td>\n",
              "    </tr>\n",
              "    <tr>\n",
              "      <td>X360</td>\n",
              "      <td>0.11</td>\n",
              "    </tr>\n",
              "    <tr>\n",
              "      <td>3DS</td>\n",
              "      <td>0.09</td>\n",
              "    </tr>\n",
              "    <tr>\n",
              "      <td>PS3</td>\n",
              "      <td>0.09</td>\n",
              "    </tr>\n",
              "  </tbody>\n",
              "</table>\n",
              "</div>"
            ],
            "text/plain": [
              "          na_sales\n",
              "platform          \n",
              "PS4           0.39\n",
              "XOne          0.32\n",
              "X360          0.11\n",
              "3DS           0.09\n",
              "PS3           0.09"
            ]
          },
          "metadata": {
            "tags": []
          }
        }
      ]
    },
    {
      "cell_type": "code",
      "metadata": {
        "id": "vGc51KqnkVJP",
        "outputId": "7957b035-7f75-403f-fbcb-4ab848ae7910"
      },
      "source": [
        "na_s.plot.pie\n",
        "labels = ['PS4','XOne','3DS','X360','PS3']\n",
        "values = [39,32,9,11,9]\n",
        "colors = ['green','red','blue','yellow','brown']\n",
        "explode = [0.3,0,0,0,0]\n",
        "plt.title('Топ-5 платформ в Северной Америке')\n",
        "plt.pie(values,labels=labels,colors=colors,explode=explode,autopct='%1.0f%%',startangle=90)\n",
        "plt.axis('equal')\n",
        "plt.show()"
      ],
      "execution_count": null,
      "outputs": [
        {
          "output_type": "display_data",
          "data": {
            "image/png": "[encoded data removed]",
            "text/plain": [
              "<Figure size 432x288 with 1 Axes>"
            ]
          },
          "metadata": {
            "tags": []
          }
        }
      ]
    },
    {
      "cell_type": "code",
      "metadata": {
        "id": "KfxIQskkkVJP",
        "outputId": "1196d0e5-2bd9-4605-eb1a-bb083caf3348"
      },
      "source": [
        "eu_s=top_pl.pivot_table(index='platform', values = 'eu_sales', aggfunc = 'sum').sort_values(by=('eu_sales'), ascending=False).head()\n",
        "display(eu_s / eu_s.sum())"
      ],
      "execution_count": null,
      "outputs": [
        {
          "output_type": "display_data",
          "data": {
            "text/html": [
              "<div>\n",
              "<style scoped>\n",
              "    .dataframe tbody tr th:only-of-type {\n",
              "        vertical-align: middle;\n",
              "    }\n",
              "\n",
              "    .dataframe tbody tr th {\n",
              "        vertical-align: top;\n",
              "    }\n",
              "\n",
              "    .dataframe thead th {\n",
              "        text-align: right;\n",
              "    }\n",
              "</style>\n",
              "<table border=\"1\" class=\"dataframe\">\n",
              "  <thead>\n",
              "    <tr style=\"text-align: right;\">\n",
              "      <th></th>\n",
              "      <th>eu_sales</th>\n",
              "    </tr>\n",
              "    <tr>\n",
              "      <th>platform</th>\n",
              "      <th></th>\n",
              "    </tr>\n",
              "  </thead>\n",
              "  <tbody>\n",
              "    <tr>\n",
              "      <td>PS4</td>\n",
              "      <td>0.56</td>\n",
              "    </tr>\n",
              "    <tr>\n",
              "      <td>XOne</td>\n",
              "      <td>0.20</td>\n",
              "    </tr>\n",
              "    <tr>\n",
              "      <td>PS3</td>\n",
              "      <td>0.11</td>\n",
              "    </tr>\n",
              "    <tr>\n",
              "      <td>3DS</td>\n",
              "      <td>0.07</td>\n",
              "    </tr>\n",
              "    <tr>\n",
              "      <td>X360</td>\n",
              "      <td>0.07</td>\n",
              "    </tr>\n",
              "  </tbody>\n",
              "</table>\n",
              "</div>"
            ],
            "text/plain": [
              "          eu_sales\n",
              "platform          \n",
              "PS4           0.56\n",
              "XOne          0.20\n",
              "PS3           0.11\n",
              "3DS           0.07\n",
              "X360          0.07"
            ]
          },
          "metadata": {
            "tags": []
          }
        }
      ]
    },
    {
      "cell_type": "code",
      "metadata": {
        "id": "89k2F_Y_kVJP",
        "outputId": "1778de7c-10e7-4944-c120-dd1be05ce0e6"
      },
      "source": [
        "eu_s.plot.pie\n",
        "labels = ['PS4','XOne','3DS','X360','PS3']\n",
        "values = [56,20,7,7,11]\n",
        "colors = ['green','red','blue','yellow','brown']\n",
        "explode = [0.3,0,0,0,0]\n",
        "plt.title('Топ-5 платформ в Европе')\n",
        "plt.pie(values,labels=labels,colors=colors,explode=explode,autopct='%1.0f%%',startangle=90)\n",
        "plt.axis('equal')\n",
        "plt.show()"
      ],
      "execution_count": null,
      "outputs": [
        {
          "output_type": "display_data",
          "data": {
            "image/png": "[encoded data removed]",
            "text/plain": [
              "<Figure size 432x288 with 1 Axes>"
            ]
          },
          "metadata": {
            "tags": []
          }
        }
      ]
    },
    {
      "cell_type": "code",
      "metadata": {
        "id": "2f5jPvMtkVJQ",
        "outputId": "cbbe7500-23ef-4b0a-f54e-927fd84c8172"
      },
      "source": [
        "jp_s=top_pl.pivot_table(index='platform', values = 'jp_sales', aggfunc = 'sum').sort_values(by=('jp_sales'), ascending=False).head()\n",
        "display(jp_s / jp_s.sum())"
      ],
      "execution_count": null,
      "outputs": [
        {
          "output_type": "display_data",
          "data": {
            "text/html": [
              "<div>\n",
              "<style scoped>\n",
              "    .dataframe tbody tr th:only-of-type {\n",
              "        vertical-align: middle;\n",
              "    }\n",
              "\n",
              "    .dataframe tbody tr th {\n",
              "        vertical-align: top;\n",
              "    }\n",
              "\n",
              "    .dataframe thead th {\n",
              "        text-align: right;\n",
              "    }\n",
              "</style>\n",
              "<table border=\"1\" class=\"dataframe\">\n",
              "  <thead>\n",
              "    <tr style=\"text-align: right;\">\n",
              "      <th></th>\n",
              "      <th>jp_sales</th>\n",
              "    </tr>\n",
              "    <tr>\n",
              "      <th>platform</th>\n",
              "      <th></th>\n",
              "    </tr>\n",
              "  </thead>\n",
              "  <tbody>\n",
              "    <tr>\n",
              "      <td>3DS</td>\n",
              "      <td>0.62</td>\n",
              "    </tr>\n",
              "    <tr>\n",
              "      <td>PS4</td>\n",
              "      <td>0.21</td>\n",
              "    </tr>\n",
              "    <tr>\n",
              "      <td>PS3</td>\n",
              "      <td>0.16</td>\n",
              "    </tr>\n",
              "    <tr>\n",
              "      <td>XOne</td>\n",
              "      <td>0.00</td>\n",
              "    </tr>\n",
              "    <tr>\n",
              "      <td>X360</td>\n",
              "      <td>0.00</td>\n",
              "    </tr>\n",
              "  </tbody>\n",
              "</table>\n",
              "</div>"
            ],
            "text/plain": [
              "          jp_sales\n",
              "platform          \n",
              "3DS           0.62\n",
              "PS4           0.21\n",
              "PS3           0.16\n",
              "XOne          0.00\n",
              "X360          0.00"
            ]
          },
          "metadata": {
            "tags": []
          }
        }
      ]
    },
    {
      "cell_type": "code",
      "metadata": {
        "id": "vl6v3vLckVJQ",
        "outputId": "2daeb946-6bc6-4280-c692-b855c2847637"
      },
      "source": [
        "jp_s.plot.pie\n",
        "labels = ['PS4','XOne','3DS','X360','PS3']\n",
        "values = [21,0,62,0,16]\n",
        "colors = ['green','red','blue','yellow','brown']\n",
        "explode = [0,0,0.3,0,0]\n",
        "plt.title('Топ-5 платформ в Японии')\n",
        "plt.pie(values,labels=labels,colors=colors,explode=explode,autopct='%1.0f%%',startangle=180)\n",
        "plt.axis('equal')\n",
        "plt.show()"
      ],
      "execution_count": null,
      "outputs": [
        {
          "output_type": "display_data",
          "data": {
            "image/png": "[encoded data removed]",
            "text/plain": [
              "<Figure size 432x288 with 1 Axes>"
            ]
          },
          "metadata": {
            "tags": []
          }
        }
      ]
    },
    {
      "cell_type": "markdown",
      "metadata": {
        "id": "jG1ee5-NkVJQ"
      },
      "source": [
        "**Выводы**\n",
        "- <font color='purple'>Хотя платформы вышли в один год, но пальму первенства в Европе и в Америке занимает PS4, даже в США продукт Micsrosoft уступает;</font>\n",
        "- Япония удивляет своим подходом, я думал PS4, а оказалось Nindendo, а также в лидерах портативные платформы.\n",
        "- По оценкам экспертов 3DS в последнее время стала делать достойные продукты в 3D без стереоочков, она портативна, т.к. многие переходят на игры в смартфонах.\n",
        "- И Япония начисто недолюбливает Xbox, зачем покупать импорт, если отечественный производитель выпускает лучше!"
      ]
    },
    {
      "cell_type": "code",
      "metadata": {
        "id": "ZRJFvEx-kVJR",
        "outputId": "a31eaacb-e990-48dc-899f-9dfebff3c3ee"
      },
      "source": [
        "top_pl.pivot_table(index='genre', values = 'na_sales', aggfunc = 'sum').sort_values(by=('na_sales'), ascending=False).head().plot(kind='bar')\n",
        "plt.title('Топ-5 жанров в Северной Америке')\n",
        "plt.show()\n",
        "top_pl.pivot_table(index='genre', values = 'eu_sales', aggfunc = 'sum').sort_values(by=('eu_sales'), ascending=False).head().plot(kind='bar')\n",
        "plt.title('Топ-5 жанров в Европе')\n",
        "plt.show()\n",
        "top_pl.pivot_table(index='genre', values = 'jp_sales', aggfunc = 'sum').sort_values(by=('jp_sales'), ascending=False).head().plot(kind='bar')\n",
        "plt.title('Топ-5 жанров в Японии')\n",
        "plt.show()"
      ],
      "execution_count": null,
      "outputs": [
        {
          "output_type": "display_data",
          "data": {
            "image/png": "[encoded data removed]",
            "text/plain": [
              "<Figure size 432x288 with 1 Axes>"
            ]
          },
          "metadata": {
            "tags": [],
            "needs_background": "light"
          }
        },
        {
          "output_type": "display_data",
          "data": {
            "image/png": "[encoded data removed]",
            "text/plain": [
              "<Figure size 432x288 with 1 Axes>"
            ]
          },
          "metadata": {
            "tags": [],
            "needs_background": "light"
          }
        },
        {
          "output_type": "display_data",
          "data": {
            "image/png": "[encoded data removed]",
            "text/plain": [
              "<Figure size 432x288 with 1 Axes>"
            ]
          },
          "metadata": {
            "tags": [],
            "needs_background": "light"
          }
        }
      ]
    },
    {
      "cell_type": "markdown",
      "metadata": {
        "id": "B2Y8fpaFkVJR"
      },
      "source": [
        "**Выводы**\n",
        "- Японцы молодцы, РПГ на 1 месте, конечно же, много РПГ с мировым именем созданы в Азии, а вот шуттеров вообще нет в Топ-5;\n",
        "- Видим какая разница в интересах, Европа и Америка любители экшена, спорта и шуттеров, также европейцы - любители погонят, скорее всего немцы;\n",
        "- Стратегий тут нет:( - не каждый захочет часами сидеть, чтобы победить противника, всем хочется зайти, получить эмоции и выйти, вот почему сейчас так популярны мобильные игры на смартфонах, как раз Экшен и Шутер PUBG & Fortnite. "
      ]
    },
    {
      "cell_type": "markdown",
      "metadata": {
        "id": "zArA7YkQkVJR"
      },
      "source": [
        "2. Влияние рейтинг ESRB на продажи в регионе<a id=\"esrb\"></a>"
      ]
    },
    {
      "cell_type": "code",
      "metadata": {
        "scrolled": true,
        "id": "KJl8QQcikVJS",
        "outputId": "502d1820-eed0-4b60-bc55-702515b0fe06"
      },
      "source": [
        "x=top_pl.pivot_table(index='rating', values = 'na_sales', aggfunc = 'sum').sort_values(by=('na_sales'), ascending=False)\n",
        "y=top_pl.pivot_table(index='rating', values = 'eu_sales', aggfunc = 'sum')\n",
        "z=top_pl.pivot_table(index='rating', values = 'jp_sales', aggfunc = 'sum')\n",
        "ESRB = x.merge(y, on='rating', how = 'outer')\n",
        "\n",
        "ESRB=ESRB.merge(z, on='rating', how = 'outer')\n",
        "display(ESRB)"
      ],
      "execution_count": null,
      "outputs": [
        {
          "output_type": "display_data",
          "data": {
            "text/html": [
              "<div>\n",
              "<style scoped>\n",
              "    .dataframe tbody tr th:only-of-type {\n",
              "        vertical-align: middle;\n",
              "    }\n",
              "\n",
              "    .dataframe tbody tr th {\n",
              "        vertical-align: top;\n",
              "    }\n",
              "\n",
              "    .dataframe thead th {\n",
              "        text-align: right;\n",
              "    }\n",
              "</style>\n",
              "<table border=\"1\" class=\"dataframe\">\n",
              "  <thead>\n",
              "    <tr style=\"text-align: right;\">\n",
              "      <th></th>\n",
              "      <th>na_sales</th>\n",
              "      <th>eu_sales</th>\n",
              "      <th>jp_sales</th>\n",
              "    </tr>\n",
              "    <tr>\n",
              "      <th>rating</th>\n",
              "      <th></th>\n",
              "      <th></th>\n",
              "      <th></th>\n",
              "    </tr>\n",
              "  </thead>\n",
              "  <tbody>\n",
              "    <tr>\n",
              "      <td>M</td>\n",
              "      <td>98.66</td>\n",
              "      <td>93.43</td>\n",
              "      <td>7.63</td>\n",
              "    </tr>\n",
              "    <tr>\n",
              "      <td>unknow</td>\n",
              "      <td>49.51</td>\n",
              "      <td>41.73</td>\n",
              "      <td>43.56</td>\n",
              "    </tr>\n",
              "    <tr>\n",
              "      <td>E</td>\n",
              "      <td>42.42</td>\n",
              "      <td>49.64</td>\n",
              "      <td>5.51</td>\n",
              "    </tr>\n",
              "    <tr>\n",
              "      <td>T</td>\n",
              "      <td>35.69</td>\n",
              "      <td>29.29</td>\n",
              "      <td>11.50</td>\n",
              "    </tr>\n",
              "    <tr>\n",
              "      <td>E10+</td>\n",
              "      <td>26.59</td>\n",
              "      <td>19.35</td>\n",
              "      <td>2.68</td>\n",
              "    </tr>\n",
              "  </tbody>\n",
              "</table>\n",
              "</div>"
            ],
            "text/plain": [
              "        na_sales  eu_sales  jp_sales\n",
              "rating                              \n",
              "M          98.66     93.43      7.63\n",
              "unknow     49.51     41.73     43.56\n",
              "E          42.42     49.64      5.51\n",
              "T          35.69     29.29     11.50\n",
              "E10+       26.59     19.35      2.68"
            ]
          },
          "metadata": {
            "tags": []
          }
        }
      ]
    },
    {
      "cell_type": "code",
      "metadata": {
        "id": "u-qZYEV6kVJS",
        "outputId": "22433ba5-445e-4cbe-c6d4-44c356ccc754"
      },
      "source": [
        "# метод корреляции spearman\n",
        "top_pl['na_sales'].corr(top_pl['rating'], method='spearman')"
      ],
      "execution_count": null,
      "outputs": [
        {
          "output_type": "execute_result",
          "data": {
            "text/plain": [
              "-0.37170466605009905"
            ]
          },
          "metadata": {
            "tags": []
          },
          "execution_count": 51
        }
      ]
    },
    {
      "cell_type": "code",
      "metadata": {
        "id": "5-M64zVvkVJT",
        "outputId": "e30c90e0-76b7-4fbb-e893-854030657af6"
      },
      "source": [
        "top_pl['eu_sales'].corr(top_pl['rating'], method='spearman')"
      ],
      "execution_count": null,
      "outputs": [
        {
          "output_type": "execute_result",
          "data": {
            "text/plain": [
              "-0.3902471857519776"
            ]
          },
          "metadata": {
            "tags": []
          },
          "execution_count": 52
        }
      ]
    },
    {
      "cell_type": "code",
      "metadata": {
        "id": "8zADrOh_kVJT",
        "outputId": "5e6bfce9-a589-499c-e22f-180ffd798ae7"
      },
      "source": [
        "top_pl['jp_sales'].corr(top_pl['rating'], method='spearman')"
      ],
      "execution_count": null,
      "outputs": [
        {
          "output_type": "execute_result",
          "data": {
            "text/plain": [
              "0.34957189005615724"
            ]
          },
          "metadata": {
            "tags": []
          },
          "execution_count": 53
        }
      ]
    },
    {
      "cell_type": "markdown",
      "metadata": {
        "id": "iC3PXYKXkVJT"
      },
      "source": [
        "### Вывод\n",
        "- <font color='purple'>Рынок Америки самый емкий: основная доля игры для взрослых, но и большая доля игр для всех, далее идет молодеж;\n",
        "- Рынок Европы имеет меньше продаж, но интересы те же;\n",
        "- Рынок Японии - имеет самую большую взаимосвязь с возрастным рейтингом: Игры больше ориентировны на молодежь, а потом уже на взрослых и игры для всех;\n",
        "- Европа и америка ориентирована на взрослых, Япония на молодеж и мобильный гейминг.</font>"
      ]
    },
    {
      "cell_type": "markdown",
      "metadata": {
        "id": "AuAUxsbgkVJT"
      },
      "source": [
        "## Проверьте гипотезы"
      ]
    },
    {
      "cell_type": "markdown",
      "metadata": {
        "id": "UhTV750wkVJU"
      },
      "source": [
        "***Первая гипотеза***, которую нужно проверить:\n",
        "\n",
        "Формулировка двухсторонних гипотез заключается в том, что нулевая гипотеза должна иметь знак равенства:\n",
        "- H₀: Средние пользовательские рейтинги платформ Xbox One и PC равны.\n",
        "- H₁: Средние пользовательские рейтинги платформ Xbox One и PC различаются;\n",
        "\n",
        "Чтобы проверить гипотезу о равенстве/неравенстве среднего двух выборок применим метод scipy.stats.ttest_ind (array1, array2, equal_var) ."
      ]
    },
    {
      "cell_type": "markdown",
      "metadata": {
        "id": "hQM8zqznkVJU"
      },
      "source": [
        "<font color='purple'>Подготовим данные<font>"
      ]
    },
    {
      "cell_type": "code",
      "metadata": {
        "id": "tBqLHHZhkVJU"
      },
      "source": [
        "df_1['user_score'] = df_1['user_score'].fillna(0) # Тест Левене не идет без удаление Нан\n",
        "df_x1 = df_1.query(\"platform == 'XOne'\")\n",
        "df_pc = df_1.query(\"platform == 'PC'\")"
      ],
      "execution_count": null,
      "outputs": []
    },
    {
      "cell_type": "code",
      "metadata": {
        "id": "rau1YgQOkVJU",
        "outputId": "63910f26-8132-483c-f54d-6ad592738758"
      },
      "source": [
        "# сравним дисперсии методом Левене, чтобы понять какой параметр equal_var указывать\n",
        "sample_1=df_x1['user_score'].tolist()\n",
        "sample_2=df_pc['user_score'].tolist()\n",
        "stat, p = levene(sample_1, sample_2)\n",
        "p"
      ],
      "execution_count": null,
      "outputs": [
        {
          "output_type": "execute_result",
          "data": {
            "text/plain": [
              "0.30666684786878545"
            ]
          },
          "metadata": {
            "tags": []
          },
          "execution_count": 55
        }
      ]
    },
    {
      "cell_type": "code",
      "metadata": {
        "id": "JXEbf3avkVJV",
        "outputId": "cd8262cf-4c77-44dd-832d-318237cd86ee"
      },
      "source": [
        "# Дополнительно сравним дисперсии\n",
        "[np.var(x, ddof=1) for x in [df_x1['user_score'], df_pc['user_score']]]"
      ],
      "execution_count": null,
      "outputs": [
        {
          "output_type": "execute_result",
          "data": {
            "text/plain": [
              "[10.100598771156967, 8.536739072847682]"
            ]
          },
          "metadata": {
            "tags": []
          },
          "execution_count": 56
        }
      ]
    },
    {
      "cell_type": "markdown",
      "metadata": {
        "id": "B2LsZsN6kVJV"
      },
      "source": [
        "- Выборки неоднородны примем equal = False"
      ]
    },
    {
      "cell_type": "code",
      "metadata": {
        "id": "63KW-3B4kVJV",
        "outputId": "49ce80e8-6f0e-4480-cc18-24d55dd9ac72"
      },
      "source": [
        "alpha = .05 # критический уровень статистической значимости\n",
        "            # если p-value окажется меньше него - отвергнем нулевую гипотезу\n",
        "results = st.ttest_ind(sample_1, sample_2, equal_var=False)\n",
        "\n",
        "print('p-значение:', results.pvalue)\n",
        "\n",
        "if (results.pvalue < alpha):\n",
        "    print(\"Отвергаем нулевую гипотезу\")\n",
        "else:\n",
        "    print(\"Не получилось отвергнуть нулевую гипотезу\")"
      ],
      "execution_count": null,
      "outputs": [
        {
          "output_type": "stream",
          "text": [
            "p-значение: 0.31981092459798116\n",
            "Не получилось отвергнуть нулевую гипотезу\n"
          ],
          "name": "stdout"
        }
      ]
    },
    {
      "cell_type": "markdown",
      "metadata": {
        "id": "dDj8oXSOkVJW"
      },
      "source": [
        "### Вывод\n",
        "- Полученное значение p-value не отвергает нулевую гипотезу и говорит о том, что с вероятностью в почти <font color='purple'>31%<font> такое или большее различие можно получить случайно. Это явно слишком большая вероятность, чтобы делать вывод о значимом различии между средними."
      ]
    },
    {
      "cell_type": "markdown",
      "metadata": {
        "id": "7JW2Qo1GkVJW"
      },
      "source": [
        "***Вторая гипотеза***, которую нужно проверить:\n",
        "\n",
        "Формулировка двухсторонних гипотез заключается в том, что нулевая гипотеза должна иметь знак равенства:\n",
        "- H₀: Средние пользовательские рейтинги жанров Action (англ. «действие», экшен-игры) и Sports (англ. «спортивные соревнования») равны.\n",
        "- H₁: Средние пользовательские рейтинги жанров Action (англ. «действие», экшен-игры) и Sports (англ. «спортивные соревнования») разные;\n",
        "\n",
        "Чтобы проверить гипотезу о равенстве/неравенстве среднего двух выборок применим метод scipy.stats.ttest_ind (array1, array2, equal_var)."
      ]
    },
    {
      "cell_type": "code",
      "metadata": {
        "id": "jAmTGCWBkVJW",
        "outputId": "9c48b902-423d-430b-943e-f40e9f3baf3c"
      },
      "source": [
        "# Подготовим данные по жанрам\n",
        "df_act=df_1.query(\"genre == 'Action'\")\n",
        "df_sp=df_1.query(\"genre == 'Sports'\")\n",
        "# сравним дисперсии методом Левене, чтобы понять какой параметр equal_var указывать\n",
        "from scipy.stats import levene\n",
        "sample1=df_act['user_score'].tolist()\n",
        "sample2=df_sp['user_score'].tolist()\n",
        "stat, p = levene(sample1, sample2)\n",
        "p"
      ],
      "execution_count": null,
      "outputs": [
        {
          "output_type": "execute_result",
          "data": {
            "text/plain": [
              "5.0201250626260846e-29"
            ]
          },
          "metadata": {
            "tags": []
          },
          "execution_count": 58
        }
      ]
    },
    {
      "cell_type": "code",
      "metadata": {
        "id": "zlAXmHGEkVJW",
        "outputId": "66d50683-479c-4c8d-9bfd-ccb6c7de909f"
      },
      "source": [
        "# Дополнительно сравним дисперсии\n",
        "[np.var(x, ddof=1) for x in [df_act['user_score'], df_sp['user_score']]]"
      ],
      "execution_count": null,
      "outputs": [
        {
          "output_type": "execute_result",
          "data": {
            "text/plain": [
              "[12.09533244347296, 6.787348993288591]"
            ]
          },
          "metadata": {
            "tags": []
          },
          "execution_count": 59
        }
      ]
    },
    {
      "cell_type": "markdown",
      "metadata": {
        "id": "PFJ_N-CmkVJX"
      },
      "source": [
        "<font color='purple'>Дисперсии выборок не равны, возьмем equal_val=False<font>"
      ]
    },
    {
      "cell_type": "code",
      "metadata": {
        "id": "ni-62uhKkVJX",
        "outputId": "40a228e3-69af-4496-c47b-b16a61fa4edf"
      },
      "source": [
        "alpha = .05 # критический уровень статистической значимости\n",
        "            # если p-value окажется меньше него - отвергнем нулевую гипотезу\n",
        "results = st.ttest_ind(sample1, sample2, equal_var=False)\n",
        "\n",
        "print('p-значение:', results.pvalue)\n",
        "\n",
        "if (results.pvalue < alpha):\n",
        "    print(\"Отвергаем нулевую гипотезу\")\n",
        "else:\n",
        "    print(\"Не получилось отвергнуть нулевую гипотезу\")"
      ],
      "execution_count": null,
      "outputs": [
        {
          "output_type": "stream",
          "text": [
            "p-значение: 0.0038830239075224714\n",
            "Отвергаем нулевую гипотезу\n"
          ],
          "name": "stdout"
        }
      ]
    },
    {
      "cell_type": "markdown",
      "metadata": {
        "id": "ZlGQG4SkkVJX"
      },
      "source": [
        "### Вывод\n",
        "- Полученное значение p-value отвергает нулевую гипотезу H₀. Это говорит о том, что средние отзывы жанров с большой вероятностью различны и нельзя сказать о их равенстве."
      ]
    },
    {
      "cell_type": "markdown",
      "metadata": {
        "id": "P6zyKqPzkVJY"
      },
      "source": [
        "## Общий вывод"
      ]
    },
    {
      "cell_type": "markdown",
      "metadata": {
        "id": "PFJEplSjkVJY"
      },
      "source": [
        "- Основной всплеск компьютерных игр начался с 2002 года, с 2012 мы видим отрицательную динамику, это связано с популярностью ММОРПГ, а в последнее время все переходят на мобильный гейминг, и большинство компаний делают ставку именно на смартфоны;\n",
        "- Средний срок жизни платформы 10 лет;\n",
        "\n",
        "Актуальные платформ:\n",
        "- Nindendo 3DS;\n",
        "- PC - бессмертный потенциальный приноситель прибыли, в нынешнее время от ММОРПГ игр;\n",
        "- PS4, XB One - актуальные платформы, жизненный цикл начат в 2013 году, закончиться примерно в 2023 году, а в РФ наверно и до 2030 будут играть с таким курсом доллара;\n",
        "\n",
        "Самые прибыльные:\n",
        "- Х360, PS3, Wii что естественно ввиду постоянной конкурениции, но жизненный цикл уже окончен.\n",
        "\n",
        "Динамика продаж:\n",
        "- Возьмем за базу Х360 и PS3 - это лидеры, также лидер Wii (но жизненный цикл приставок подошел к концу и продажи игр снизились до минимальных значений, либо уже их нет);\n",
        "- А как потенциально прибыльные PS4, XOne, 3DS. PC не является прибыльным для Singl Player, все ушли в \"танки играть\"..., но зато стабильно идут продажи у компьютера - у него нет жизненного цикла - PC Forever!\n",
        "\n",
        "Общее резюме по играм:\n",
        "- Игр выходит много, 75% игр - с продажами до 1 млн копий, а вот популярных и хитовых меньше, они и приносят основную прибыль.\n",
        "- Из игр, которые являются выбросами на диаграмме размаха и нужно выбирать потенциально прибыльные игры, либо их продолжения, также учесть жизненный цикл платформы, если платформе 3-4 года, то следующие года будут потенциально прибыльными.\n",
        "- Взаимосвязь между отзывами и продажами низкая, т.к. основная выборка имеет продажи меньше 1 млн. копий, много игр имеет небольшое кол-во продаж, но высокие оценки;\n",
        "- Но практически все игры, имеющие высокие продажи, имеют высокие оценки критиков;\n",
        "\n",
        "Жанры:\n",
        "- В мире: Акшены, спорт, шутеры в первых рядах, а вот стратегии на самом последнем месте, RPG один из популярных жанров в РФ только на 5 месте в Мире;\n",
        "- В Японии, РПГ на 1 месте, конечно же, много РПГ с мировым именем созданы в Азии, а вот шуттеров вообще нет в Топ-5 (пацифисты);\n",
        "- Видим какая разница в интересах, Европа и Америка любители экшена, спорта и шуттеров, также европейцы - любители погонят, скорее всего немцы;\n",
        "- Стратегий тут нет:( - не каждый захочет часами сидеть, чтобы победить противника, всем хочется зайти, получить эмоции и выйти, вот почему сейчас так популярны мобильные игры на смартфонах, как раз Экшен и Шутер PUBG & Fortnite.\n",
        "\n",
        "<font color='purple'>Распределение платформ:\n",
        "- В США и в Европе - пальму первенства занимает PS4, в Японии - портативная Nindendo 3DS, PS4 и PS3 идут следом, а вот продукция Microsoft в Японии не ценится;\n",
        "\n",
        "Возрастной рейтинг:\n",
        "- Рынок Америки самый емкий: основная доля игры для взрослых, но и большая доля игр для всех, далее идет молодеж;\n",
        "- Рынок Европы имеет меньше продаж, но интересы те же;\n",
        "- Рынок Японии - имеет самую большую взаимосвязь с возрастным рейтингом: Игры больше ориентировны на молодежь, а потом уже на взрослых и игры для всех;\n",
        "- Европа и америка ориентирована на взрослых, Япония на молодеж и мобильный гейминг.<font>"
      ]
    }
  ]
}